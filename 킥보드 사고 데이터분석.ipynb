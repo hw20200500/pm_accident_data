{
 "cells": [
  {
   "cell_type": "code",
   "execution_count": 10,
   "id": "711a171d",
   "metadata": {},
   "outputs": [],
   "source": [
    "import pandas as pd\n",
    "import numpy as np\n",
    "import pymysql\n",
    "import MySQLdb\n",
    "from sqlalchemy import create_engine"
   ]
  },
  {
   "cell_type": "code",
   "execution_count": 2,
   "id": "5e98ac53",
   "metadata": {},
   "outputs": [],
   "source": [
    "pymysql.install_as_MySQLdb()"
   ]
  },
  {
   "cell_type": "code",
   "execution_count": 89,
   "id": "7c530df7",
   "metadata": {},
   "outputs": [
    {
     "data": {
      "text/html": [
       "<div>\n",
       "<style scoped>\n",
       "    .dataframe tbody tr th:only-of-type {\n",
       "        vertical-align: middle;\n",
       "    }\n",
       "\n",
       "    .dataframe tbody tr th {\n",
       "        vertical-align: top;\n",
       "    }\n",
       "\n",
       "    .dataframe thead th {\n",
       "        text-align: right;\n",
       "    }\n",
       "</style>\n",
       "<table border=\"1\" class=\"dataframe\">\n",
       "  <thead>\n",
       "    <tr style=\"text-align: right;\">\n",
       "      <th></th>\n",
       "      <th>연도</th>\n",
       "      <th>대상사고 구분명</th>\n",
       "      <th>법정동코드</th>\n",
       "      <th>사고건수</th>\n",
       "      <th>사고건수 구성비</th>\n",
       "      <th>사망자수</th>\n",
       "      <th>사망자수 구성비</th>\n",
       "      <th>치사율</th>\n",
       "      <th>부상자수</th>\n",
       "      <th>부상자수 구성비</th>\n",
       "      <th>...</th>\n",
       "      <th>중앙선 침범</th>\n",
       "      <th>신호위반</th>\n",
       "      <th>안전거리 미확보</th>\n",
       "      <th>안전운전 의무 불이행</th>\n",
       "      <th>보행자 보호의무 위반</th>\n",
       "      <th>기타</th>\n",
       "      <th>차대사람</th>\n",
       "      <th>차대차</th>\n",
       "      <th>차량단독</th>\n",
       "      <th>철길건널목</th>\n",
       "    </tr>\n",
       "  </thead>\n",
       "  <tbody>\n",
       "    <tr>\n",
       "      <th>0</th>\n",
       "      <td>2010</td>\n",
       "      <td>전체</td>\n",
       "      <td>1100</td>\n",
       "      <td>41662</td>\n",
       "      <td>18.36</td>\n",
       "      <td>429</td>\n",
       "      <td>7.79</td>\n",
       "      <td>1.03</td>\n",
       "      <td>59718</td>\n",
       "      <td>16.94</td>\n",
       "      <td>...</td>\n",
       "      <td>1576.0</td>\n",
       "      <td>5202.0</td>\n",
       "      <td>6619.0</td>\n",
       "      <td>22088.0</td>\n",
       "      <td>2079.0</td>\n",
       "      <td>2908.0</td>\n",
       "      <td>10783.0</td>\n",
       "      <td>29579.0</td>\n",
       "      <td>1300.0</td>\n",
       "      <td>0.0</td>\n",
       "    </tr>\n",
       "    <tr>\n",
       "      <th>1</th>\n",
       "      <td>2010</td>\n",
       "      <td>어린이사고</td>\n",
       "      <td>1100</td>\n",
       "      <td>1930</td>\n",
       "      <td>13.69</td>\n",
       "      <td>14</td>\n",
       "      <td>11.11</td>\n",
       "      <td>0.73</td>\n",
       "      <td>2154</td>\n",
       "      <td>12.54</td>\n",
       "      <td>...</td>\n",
       "      <td>NaN</td>\n",
       "      <td>NaN</td>\n",
       "      <td>NaN</td>\n",
       "      <td>NaN</td>\n",
       "      <td>NaN</td>\n",
       "      <td>NaN</td>\n",
       "      <td>NaN</td>\n",
       "      <td>NaN</td>\n",
       "      <td>NaN</td>\n",
       "      <td>NaN</td>\n",
       "    </tr>\n",
       "    <tr>\n",
       "      <th>2</th>\n",
       "      <td>2010</td>\n",
       "      <td>노인사고</td>\n",
       "      <td>1100</td>\n",
       "      <td>3528</td>\n",
       "      <td>13.67</td>\n",
       "      <td>125</td>\n",
       "      <td>7.13</td>\n",
       "      <td>3.54</td>\n",
       "      <td>3584</td>\n",
       "      <td>13.08</td>\n",
       "      <td>...</td>\n",
       "      <td>NaN</td>\n",
       "      <td>NaN</td>\n",
       "      <td>NaN</td>\n",
       "      <td>NaN</td>\n",
       "      <td>NaN</td>\n",
       "      <td>NaN</td>\n",
       "      <td>NaN</td>\n",
       "      <td>NaN</td>\n",
       "      <td>NaN</td>\n",
       "      <td>NaN</td>\n",
       "    </tr>\n",
       "    <tr>\n",
       "      <th>3</th>\n",
       "      <td>2010</td>\n",
       "      <td>보행자사고</td>\n",
       "      <td>1100</td>\n",
       "      <td>10946</td>\n",
       "      <td>21.70</td>\n",
       "      <td>228</td>\n",
       "      <td>10.95</td>\n",
       "      <td>2.08</td>\n",
       "      <td>11233</td>\n",
       "      <td>22.07</td>\n",
       "      <td>...</td>\n",
       "      <td>NaN</td>\n",
       "      <td>NaN</td>\n",
       "      <td>NaN</td>\n",
       "      <td>NaN</td>\n",
       "      <td>NaN</td>\n",
       "      <td>NaN</td>\n",
       "      <td>NaN</td>\n",
       "      <td>NaN</td>\n",
       "      <td>NaN</td>\n",
       "      <td>NaN</td>\n",
       "    </tr>\n",
       "    <tr>\n",
       "      <th>4</th>\n",
       "      <td>2010</td>\n",
       "      <td>자전거사고</td>\n",
       "      <td>1100</td>\n",
       "      <td>998</td>\n",
       "      <td>37.48</td>\n",
       "      <td>12</td>\n",
       "      <td>16.44</td>\n",
       "      <td>1.20</td>\n",
       "      <td>1036</td>\n",
       "      <td>37.93</td>\n",
       "      <td>...</td>\n",
       "      <td>NaN</td>\n",
       "      <td>NaN</td>\n",
       "      <td>NaN</td>\n",
       "      <td>NaN</td>\n",
       "      <td>NaN</td>\n",
       "      <td>NaN</td>\n",
       "      <td>NaN</td>\n",
       "      <td>NaN</td>\n",
       "      <td>NaN</td>\n",
       "      <td>NaN</td>\n",
       "    </tr>\n",
       "    <tr>\n",
       "      <th>...</th>\n",
       "      <td>...</td>\n",
       "      <td>...</td>\n",
       "      <td>...</td>\n",
       "      <td>...</td>\n",
       "      <td>...</td>\n",
       "      <td>...</td>\n",
       "      <td>...</td>\n",
       "      <td>...</td>\n",
       "      <td>...</td>\n",
       "      <td>...</td>\n",
       "      <td>...</td>\n",
       "      <td>...</td>\n",
       "      <td>...</td>\n",
       "      <td>...</td>\n",
       "      <td>...</td>\n",
       "      <td>...</td>\n",
       "      <td>...</td>\n",
       "      <td>...</td>\n",
       "      <td>...</td>\n",
       "      <td>...</td>\n",
       "      <td>...</td>\n",
       "    </tr>\n",
       "    <tr>\n",
       "      <th>37784</th>\n",
       "      <td>2022</td>\n",
       "      <td>고령운전사고</td>\n",
       "      <td>2701</td>\n",
       "      <td>119</td>\n",
       "      <td>0.34</td>\n",
       "      <td>4</td>\n",
       "      <td>0.54</td>\n",
       "      <td>3.36</td>\n",
       "      <td>170</td>\n",
       "      <td>0.34</td>\n",
       "      <td>...</td>\n",
       "      <td>NaN</td>\n",
       "      <td>NaN</td>\n",
       "      <td>NaN</td>\n",
       "      <td>NaN</td>\n",
       "      <td>NaN</td>\n",
       "      <td>NaN</td>\n",
       "      <td>NaN</td>\n",
       "      <td>NaN</td>\n",
       "      <td>NaN</td>\n",
       "      <td>NaN</td>\n",
       "    </tr>\n",
       "    <tr>\n",
       "      <th>37785</th>\n",
       "      <td>2022</td>\n",
       "      <td>고령보행사고</td>\n",
       "      <td>2701</td>\n",
       "      <td>33</td>\n",
       "      <td>0.32</td>\n",
       "      <td>3</td>\n",
       "      <td>0.54</td>\n",
       "      <td>9.09</td>\n",
       "      <td>30</td>\n",
       "      <td>0.30</td>\n",
       "      <td>...</td>\n",
       "      <td>NaN</td>\n",
       "      <td>NaN</td>\n",
       "      <td>NaN</td>\n",
       "      <td>NaN</td>\n",
       "      <td>NaN</td>\n",
       "      <td>NaN</td>\n",
       "      <td>NaN</td>\n",
       "      <td>NaN</td>\n",
       "      <td>NaN</td>\n",
       "      <td>NaN</td>\n",
       "    </tr>\n",
       "    <tr>\n",
       "      <th>37786</th>\n",
       "      <td>2022</td>\n",
       "      <td>PM사고</td>\n",
       "      <td>2701</td>\n",
       "      <td>35</td>\n",
       "      <td>1.47</td>\n",
       "      <td>1</td>\n",
       "      <td>3.85</td>\n",
       "      <td>2.86</td>\n",
       "      <td>42</td>\n",
       "      <td>1.56</td>\n",
       "      <td>...</td>\n",
       "      <td>NaN</td>\n",
       "      <td>NaN</td>\n",
       "      <td>NaN</td>\n",
       "      <td>NaN</td>\n",
       "      <td>NaN</td>\n",
       "      <td>NaN</td>\n",
       "      <td>NaN</td>\n",
       "      <td>NaN</td>\n",
       "      <td>NaN</td>\n",
       "      <td>NaN</td>\n",
       "    </tr>\n",
       "    <tr>\n",
       "      <th>37787</th>\n",
       "      <td>2022</td>\n",
       "      <td>뺑소니사고</td>\n",
       "      <td>2701</td>\n",
       "      <td>28</td>\n",
       "      <td>0.41</td>\n",
       "      <td>0</td>\n",
       "      <td>0.00</td>\n",
       "      <td>0.00</td>\n",
       "      <td>38</td>\n",
       "      <td>0.40</td>\n",
       "      <td>...</td>\n",
       "      <td>NaN</td>\n",
       "      <td>NaN</td>\n",
       "      <td>NaN</td>\n",
       "      <td>NaN</td>\n",
       "      <td>NaN</td>\n",
       "      <td>NaN</td>\n",
       "      <td>NaN</td>\n",
       "      <td>NaN</td>\n",
       "      <td>NaN</td>\n",
       "      <td>NaN</td>\n",
       "    </tr>\n",
       "    <tr>\n",
       "      <th>37788</th>\n",
       "      <td>2022</td>\n",
       "      <td>무면허사고</td>\n",
       "      <td>2701</td>\n",
       "      <td>44</td>\n",
       "      <td>0.87</td>\n",
       "      <td>1</td>\n",
       "      <td>0.83</td>\n",
       "      <td>2.27</td>\n",
       "      <td>53</td>\n",
       "      <td>0.78</td>\n",
       "      <td>...</td>\n",
       "      <td>NaN</td>\n",
       "      <td>NaN</td>\n",
       "      <td>NaN</td>\n",
       "      <td>NaN</td>\n",
       "      <td>NaN</td>\n",
       "      <td>NaN</td>\n",
       "      <td>NaN</td>\n",
       "      <td>NaN</td>\n",
       "      <td>NaN</td>\n",
       "      <td>NaN</td>\n",
       "    </tr>\n",
       "  </tbody>\n",
       "</table>\n",
       "<p>37789 rows × 23 columns</p>\n",
       "</div>"
      ],
      "text/plain": [
       "         연도 대상사고 구분명  법정동코드   사고건수  사고건수 구성비  사망자수  사망자수 구성비   치사율   부상자수  \\\n",
       "0      2010       전체   1100  41662     18.36   429      7.79  1.03  59718   \n",
       "1      2010    어린이사고   1100   1930     13.69    14     11.11  0.73   2154   \n",
       "2      2010     노인사고   1100   3528     13.67   125      7.13  3.54   3584   \n",
       "3      2010    보행자사고   1100  10946     21.70   228     10.95  2.08  11233   \n",
       "4      2010    자전거사고   1100    998     37.48    12     16.44  1.20   1036   \n",
       "...     ...      ...    ...    ...       ...   ...       ...   ...    ...   \n",
       "37784  2022   고령운전사고   2701    119      0.34     4      0.54  3.36    170   \n",
       "37785  2022   고령보행사고   2701     33      0.32     3      0.54  9.09     30   \n",
       "37786  2022     PM사고   2701     35      1.47     1      3.85  2.86     42   \n",
       "37787  2022    뺑소니사고   2701     28      0.41     0      0.00  0.00     38   \n",
       "37788  2022    무면허사고   2701     44      0.87     1      0.83  2.27     53   \n",
       "\n",
       "       부상자수 구성비  ...  중앙선 침범    신호위반  안전거리 미확보  안전운전 의무 불이행  보행자 보호의무 위반  \\\n",
       "0         16.94  ...  1576.0  5202.0    6619.0      22088.0       2079.0   \n",
       "1         12.54  ...     NaN     NaN       NaN          NaN          NaN   \n",
       "2         13.08  ...     NaN     NaN       NaN          NaN          NaN   \n",
       "3         22.07  ...     NaN     NaN       NaN          NaN          NaN   \n",
       "4         37.93  ...     NaN     NaN       NaN          NaN          NaN   \n",
       "...         ...  ...     ...     ...       ...          ...          ...   \n",
       "37784      0.34  ...     NaN     NaN       NaN          NaN          NaN   \n",
       "37785      0.30  ...     NaN     NaN       NaN          NaN          NaN   \n",
       "37786      1.56  ...     NaN     NaN       NaN          NaN          NaN   \n",
       "37787      0.40  ...     NaN     NaN       NaN          NaN          NaN   \n",
       "37788      0.78  ...     NaN     NaN       NaN          NaN          NaN   \n",
       "\n",
       "           기타     차대사람      차대차    차량단독  철길건널목  \n",
       "0      2908.0  10783.0  29579.0  1300.0    0.0  \n",
       "1         NaN      NaN      NaN     NaN    NaN  \n",
       "2         NaN      NaN      NaN     NaN    NaN  \n",
       "3         NaN      NaN      NaN     NaN    NaN  \n",
       "4         NaN      NaN      NaN     NaN    NaN  \n",
       "...       ...      ...      ...     ...    ...  \n",
       "37784     NaN      NaN      NaN     NaN    NaN  \n",
       "37785     NaN      NaN      NaN     NaN    NaN  \n",
       "37786     NaN      NaN      NaN     NaN    NaN  \n",
       "37787     NaN      NaN      NaN     NaN    NaN  \n",
       "37788     NaN      NaN      NaN     NaN    NaN  \n",
       "\n",
       "[37789 rows x 23 columns]"
      ]
     },
     "execution_count": 89,
     "metadata": {},
     "output_type": "execute_result"
    }
   ],
   "source": [
    "data_file = r'C:\\Users\\user\\Downloads\\10_22_stt.csv'\n",
    "accident_data = pd.read_csv(data_file)\n",
    "accident_data"
   ]
  },
  {
   "cell_type": "code",
   "execution_count": 90,
   "id": "c7da1760",
   "metadata": {},
   "outputs": [],
   "source": [
    "PM_accident = accident_data.loc[accident_data['대상사고 구분명']=='PM사고',:]"
   ]
  },
  {
   "cell_type": "code",
   "execution_count": 91,
   "id": "7cdfbb89",
   "metadata": {},
   "outputs": [],
   "source": [
    "PM_accident.to_csv('PM 사고 통계.csv')"
   ]
  },
  {
   "cell_type": "code",
   "execution_count": 92,
   "id": "2b47f976",
   "metadata": {},
   "outputs": [
    {
     "data": {
      "text/html": [
       "<div>\n",
       "<style scoped>\n",
       "    .dataframe tbody tr th:only-of-type {\n",
       "        vertical-align: middle;\n",
       "    }\n",
       "\n",
       "    .dataframe tbody tr th {\n",
       "        vertical-align: top;\n",
       "    }\n",
       "\n",
       "    .dataframe thead th {\n",
       "        text-align: right;\n",
       "    }\n",
       "</style>\n",
       "<table border=\"1\" class=\"dataframe\">\n",
       "  <thead>\n",
       "    <tr style=\"text-align: right;\">\n",
       "      <th></th>\n",
       "      <th>사고유형대분류</th>\n",
       "      <th>사고유형중분류</th>\n",
       "      <th>사고년도</th>\n",
       "      <th>승용차</th>\n",
       "      <th>승합차</th>\n",
       "      <th>화물차</th>\n",
       "      <th>특수차</th>\n",
       "      <th>이륜차</th>\n",
       "      <th>사륜오토바이(ATV)</th>\n",
       "      <th>원동기장치자전거</th>\n",
       "      <th>자전거</th>\n",
       "      <th>개인형이동장치(PM)</th>\n",
       "      <th>건설기계</th>\n",
       "      <th>농기계</th>\n",
       "      <th>기타</th>\n",
       "      <th>불명</th>\n",
       "    </tr>\n",
       "  </thead>\n",
       "  <tbody>\n",
       "    <tr>\n",
       "      <th>0</th>\n",
       "      <td>차대사람</td>\n",
       "      <td>횡단중</td>\n",
       "      <td>사고건수[건]</td>\n",
       "      <td>8,773</td>\n",
       "      <td>687</td>\n",
       "      <td>1,529</td>\n",
       "      <td>35</td>\n",
       "      <td>1,398</td>\n",
       "      <td>7</td>\n",
       "      <td>138</td>\n",
       "      <td>221</td>\n",
       "      <td>153</td>\n",
       "      <td>62</td>\n",
       "      <td>-</td>\n",
       "      <td>4</td>\n",
       "      <td>217</td>\n",
       "    </tr>\n",
       "    <tr>\n",
       "      <th>1</th>\n",
       "      <td>차대사람</td>\n",
       "      <td>횡단중</td>\n",
       "      <td>사망자수[명]</td>\n",
       "      <td>245</td>\n",
       "      <td>43</td>\n",
       "      <td>91</td>\n",
       "      <td>7</td>\n",
       "      <td>28</td>\n",
       "      <td>1</td>\n",
       "      <td>3</td>\n",
       "      <td>0</td>\n",
       "      <td>0</td>\n",
       "      <td>14</td>\n",
       "      <td>-</td>\n",
       "      <td>0</td>\n",
       "      <td>0</td>\n",
       "    </tr>\n",
       "    <tr>\n",
       "      <th>2</th>\n",
       "      <td>차대사람</td>\n",
       "      <td>횡단중</td>\n",
       "      <td>부상자수[명]</td>\n",
       "      <td>8,935</td>\n",
       "      <td>678</td>\n",
       "      <td>1,493</td>\n",
       "      <td>28</td>\n",
       "      <td>1,603</td>\n",
       "      <td>6</td>\n",
       "      <td>147</td>\n",
       "      <td>249</td>\n",
       "      <td>167</td>\n",
       "      <td>50</td>\n",
       "      <td>-</td>\n",
       "      <td>4</td>\n",
       "      <td>218</td>\n",
       "    </tr>\n",
       "    <tr>\n",
       "      <th>3</th>\n",
       "      <td>차대사람</td>\n",
       "      <td>차도통행중</td>\n",
       "      <td>사고건수[건]</td>\n",
       "      <td>3,040</td>\n",
       "      <td>196</td>\n",
       "      <td>571</td>\n",
       "      <td>11</td>\n",
       "      <td>289</td>\n",
       "      <td>2</td>\n",
       "      <td>36</td>\n",
       "      <td>90</td>\n",
       "      <td>75</td>\n",
       "      <td>21</td>\n",
       "      <td>1</td>\n",
       "      <td>3</td>\n",
       "      <td>66</td>\n",
       "    </tr>\n",
       "    <tr>\n",
       "      <th>4</th>\n",
       "      <td>차대사람</td>\n",
       "      <td>차도통행중</td>\n",
       "      <td>사망자수[명]</td>\n",
       "      <td>89</td>\n",
       "      <td>12</td>\n",
       "      <td>39</td>\n",
       "      <td>1</td>\n",
       "      <td>3</td>\n",
       "      <td>0</td>\n",
       "      <td>1</td>\n",
       "      <td>0</td>\n",
       "      <td>1</td>\n",
       "      <td>2</td>\n",
       "      <td>0</td>\n",
       "      <td>0</td>\n",
       "      <td>0</td>\n",
       "    </tr>\n",
       "    <tr>\n",
       "      <th>5</th>\n",
       "      <td>차대사람</td>\n",
       "      <td>차도통행중</td>\n",
       "      <td>부상자수[명]</td>\n",
       "      <td>3,034</td>\n",
       "      <td>195</td>\n",
       "      <td>548</td>\n",
       "      <td>11</td>\n",
       "      <td>314</td>\n",
       "      <td>2</td>\n",
       "      <td>36</td>\n",
       "      <td>98</td>\n",
       "      <td>79</td>\n",
       "      <td>19</td>\n",
       "      <td>1</td>\n",
       "      <td>3</td>\n",
       "      <td>66</td>\n",
       "    </tr>\n",
       "    <tr>\n",
       "      <th>6</th>\n",
       "      <td>차대사람</td>\n",
       "      <td>길가장자리구역통행중</td>\n",
       "      <td>사고건수[건]</td>\n",
       "      <td>1,513</td>\n",
       "      <td>66</td>\n",
       "      <td>279</td>\n",
       "      <td>3</td>\n",
       "      <td>82</td>\n",
       "      <td>-</td>\n",
       "      <td>13</td>\n",
       "      <td>32</td>\n",
       "      <td>22</td>\n",
       "      <td>12</td>\n",
       "      <td>1</td>\n",
       "      <td>1</td>\n",
       "      <td>76</td>\n",
       "    </tr>\n",
       "    <tr>\n",
       "      <th>7</th>\n",
       "      <td>차대사람</td>\n",
       "      <td>길가장자리구역통행중</td>\n",
       "      <td>사망자수[명]</td>\n",
       "      <td>21</td>\n",
       "      <td>3</td>\n",
       "      <td>14</td>\n",
       "      <td>0</td>\n",
       "      <td>0</td>\n",
       "      <td>-</td>\n",
       "      <td>0</td>\n",
       "      <td>1</td>\n",
       "      <td>0</td>\n",
       "      <td>2</td>\n",
       "      <td>0</td>\n",
       "      <td>0</td>\n",
       "      <td>0</td>\n",
       "    </tr>\n",
       "    <tr>\n",
       "      <th>8</th>\n",
       "      <td>차대사람</td>\n",
       "      <td>길가장자리구역통행중</td>\n",
       "      <td>부상자수[명]</td>\n",
       "      <td>1,536</td>\n",
       "      <td>66</td>\n",
       "      <td>274</td>\n",
       "      <td>3</td>\n",
       "      <td>93</td>\n",
       "      <td>-</td>\n",
       "      <td>15</td>\n",
       "      <td>33</td>\n",
       "      <td>25</td>\n",
       "      <td>11</td>\n",
       "      <td>1</td>\n",
       "      <td>2</td>\n",
       "      <td>76</td>\n",
       "    </tr>\n",
       "    <tr>\n",
       "      <th>9</th>\n",
       "      <td>차대사람</td>\n",
       "      <td>보도통행중</td>\n",
       "      <td>사고건수[건]</td>\n",
       "      <td>1,118</td>\n",
       "      <td>74</td>\n",
       "      <td>259</td>\n",
       "      <td>7</td>\n",
       "      <td>253</td>\n",
       "      <td>4</td>\n",
       "      <td>46</td>\n",
       "      <td>340</td>\n",
       "      <td>374</td>\n",
       "      <td>9</td>\n",
       "      <td>-</td>\n",
       "      <td>2</td>\n",
       "      <td>103</td>\n",
       "    </tr>\n",
       "    <tr>\n",
       "      <th>10</th>\n",
       "      <td>차대사람</td>\n",
       "      <td>보도통행중</td>\n",
       "      <td>사망자수[명]</td>\n",
       "      <td>16</td>\n",
       "      <td>1</td>\n",
       "      <td>4</td>\n",
       "      <td>0</td>\n",
       "      <td>1</td>\n",
       "      <td>0</td>\n",
       "      <td>0</td>\n",
       "      <td>0</td>\n",
       "      <td>0</td>\n",
       "      <td>2</td>\n",
       "      <td>-</td>\n",
       "      <td>0</td>\n",
       "      <td>0</td>\n",
       "    </tr>\n",
       "    <tr>\n",
       "      <th>11</th>\n",
       "      <td>차대사람</td>\n",
       "      <td>보도통행중</td>\n",
       "      <td>부상자수[명]</td>\n",
       "      <td>1,180</td>\n",
       "      <td>75</td>\n",
       "      <td>279</td>\n",
       "      <td>7</td>\n",
       "      <td>270</td>\n",
       "      <td>4</td>\n",
       "      <td>46</td>\n",
       "      <td>366</td>\n",
       "      <td>385</td>\n",
       "      <td>7</td>\n",
       "      <td>-</td>\n",
       "      <td>3</td>\n",
       "      <td>104</td>\n",
       "    </tr>\n",
       "    <tr>\n",
       "      <th>12</th>\n",
       "      <td>차대사람</td>\n",
       "      <td>기타</td>\n",
       "      <td>사고건수[건]</td>\n",
       "      <td>9,021</td>\n",
       "      <td>1,449</td>\n",
       "      <td>1,772</td>\n",
       "      <td>35</td>\n",
       "      <td>809</td>\n",
       "      <td>7</td>\n",
       "      <td>146</td>\n",
       "      <td>654</td>\n",
       "      <td>418</td>\n",
       "      <td>89</td>\n",
       "      <td>11</td>\n",
       "      <td>31</td>\n",
       "      <td>529</td>\n",
       "    </tr>\n",
       "    <tr>\n",
       "      <th>13</th>\n",
       "      <td>차대사람</td>\n",
       "      <td>기타</td>\n",
       "      <td>사망자수[명]</td>\n",
       "      <td>151</td>\n",
       "      <td>23</td>\n",
       "      <td>65</td>\n",
       "      <td>4</td>\n",
       "      <td>7</td>\n",
       "      <td>0</td>\n",
       "      <td>0</td>\n",
       "      <td>1</td>\n",
       "      <td>1</td>\n",
       "      <td>4</td>\n",
       "      <td>0</td>\n",
       "      <td>0</td>\n",
       "      <td>0</td>\n",
       "    </tr>\n",
       "    <tr>\n",
       "      <th>14</th>\n",
       "      <td>차대사람</td>\n",
       "      <td>기타</td>\n",
       "      <td>부상자수[명]</td>\n",
       "      <td>9,320</td>\n",
       "      <td>1,506</td>\n",
       "      <td>1,777</td>\n",
       "      <td>31</td>\n",
       "      <td>901</td>\n",
       "      <td>7</td>\n",
       "      <td>159</td>\n",
       "      <td>705</td>\n",
       "      <td>446</td>\n",
       "      <td>87</td>\n",
       "      <td>11</td>\n",
       "      <td>31</td>\n",
       "      <td>536</td>\n",
       "    </tr>\n",
       "    <tr>\n",
       "      <th>15</th>\n",
       "      <td>차대차</td>\n",
       "      <td>정면충돌</td>\n",
       "      <td>사고건수[건]</td>\n",
       "      <td>5,275</td>\n",
       "      <td>221</td>\n",
       "      <td>898</td>\n",
       "      <td>24</td>\n",
       "      <td>711</td>\n",
       "      <td>9</td>\n",
       "      <td>74</td>\n",
       "      <td>309</td>\n",
       "      <td>94</td>\n",
       "      <td>44</td>\n",
       "      <td>19</td>\n",
       "      <td>7</td>\n",
       "      <td>22</td>\n",
       "    </tr>\n",
       "    <tr>\n",
       "      <th>16</th>\n",
       "      <td>차대차</td>\n",
       "      <td>정면충돌</td>\n",
       "      <td>사망자수[명]</td>\n",
       "      <td>98</td>\n",
       "      <td>10</td>\n",
       "      <td>37</td>\n",
       "      <td>2</td>\n",
       "      <td>29</td>\n",
       "      <td>1</td>\n",
       "      <td>2</td>\n",
       "      <td>6</td>\n",
       "      <td>1</td>\n",
       "      <td>0</td>\n",
       "      <td>2</td>\n",
       "      <td>0</td>\n",
       "      <td>0</td>\n",
       "    </tr>\n",
       "    <tr>\n",
       "      <th>17</th>\n",
       "      <td>차대차</td>\n",
       "      <td>정면충돌</td>\n",
       "      <td>부상자수[명]</td>\n",
       "      <td>9,256</td>\n",
       "      <td>407</td>\n",
       "      <td>1,459</td>\n",
       "      <td>42</td>\n",
       "      <td>1,014</td>\n",
       "      <td>12</td>\n",
       "      <td>111</td>\n",
       "      <td>365</td>\n",
       "      <td>120</td>\n",
       "      <td>71</td>\n",
       "      <td>25</td>\n",
       "      <td>8</td>\n",
       "      <td>28</td>\n",
       "    </tr>\n",
       "    <tr>\n",
       "      <th>18</th>\n",
       "      <td>차대차</td>\n",
       "      <td>측면충돌</td>\n",
       "      <td>사고건수[건]</td>\n",
       "      <td>44,525</td>\n",
       "      <td>2,700</td>\n",
       "      <td>7,918</td>\n",
       "      <td>464</td>\n",
       "      <td>5,285</td>\n",
       "      <td>72</td>\n",
       "      <td>666</td>\n",
       "      <td>1,746</td>\n",
       "      <td>493</td>\n",
       "      <td>927</td>\n",
       "      <td>101</td>\n",
       "      <td>24</td>\n",
       "      <td>300</td>\n",
       "    </tr>\n",
       "    <tr>\n",
       "      <th>19</th>\n",
       "      <td>차대차</td>\n",
       "      <td>측면충돌</td>\n",
       "      <td>사망자수[명]</td>\n",
       "      <td>156</td>\n",
       "      <td>19</td>\n",
       "      <td>59</td>\n",
       "      <td>5</td>\n",
       "      <td>87</td>\n",
       "      <td>7</td>\n",
       "      <td>13</td>\n",
       "      <td>30</td>\n",
       "      <td>6</td>\n",
       "      <td>10</td>\n",
       "      <td>4</td>\n",
       "      <td>0</td>\n",
       "      <td>0</td>\n",
       "    </tr>\n",
       "    <tr>\n",
       "      <th>20</th>\n",
       "      <td>차대차</td>\n",
       "      <td>측면충돌</td>\n",
       "      <td>부상자수[명]</td>\n",
       "      <td>69,057</td>\n",
       "      <td>4,209</td>\n",
       "      <td>11,572</td>\n",
       "      <td>653</td>\n",
       "      <td>7,507</td>\n",
       "      <td>75</td>\n",
       "      <td>926</td>\n",
       "      <td>1,899</td>\n",
       "      <td>594</td>\n",
       "      <td>1,286</td>\n",
       "      <td>145</td>\n",
       "      <td>34</td>\n",
       "      <td>374</td>\n",
       "    </tr>\n",
       "    <tr>\n",
       "      <th>21</th>\n",
       "      <td>차대차</td>\n",
       "      <td>추돌</td>\n",
       "      <td>사고건수[건]</td>\n",
       "      <td>21,989</td>\n",
       "      <td>1,294</td>\n",
       "      <td>4,706</td>\n",
       "      <td>221</td>\n",
       "      <td>1,894</td>\n",
       "      <td>15</td>\n",
       "      <td>233</td>\n",
       "      <td>241</td>\n",
       "      <td>68</td>\n",
       "      <td>380</td>\n",
       "      <td>15</td>\n",
       "      <td>8</td>\n",
       "      <td>140</td>\n",
       "    </tr>\n",
       "    <tr>\n",
       "      <th>22</th>\n",
       "      <td>차대차</td>\n",
       "      <td>추돌</td>\n",
       "      <td>사망자수[명]</td>\n",
       "      <td>121</td>\n",
       "      <td>10</td>\n",
       "      <td>143</td>\n",
       "      <td>7</td>\n",
       "      <td>30</td>\n",
       "      <td>1</td>\n",
       "      <td>7</td>\n",
       "      <td>3</td>\n",
       "      <td>1</td>\n",
       "      <td>5</td>\n",
       "      <td>1</td>\n",
       "      <td>0</td>\n",
       "      <td>0</td>\n",
       "    </tr>\n",
       "    <tr>\n",
       "      <th>23</th>\n",
       "      <td>차대차</td>\n",
       "      <td>추돌</td>\n",
       "      <td>부상자수[명]</td>\n",
       "      <td>38,752</td>\n",
       "      <td>3,065</td>\n",
       "      <td>8,733</td>\n",
       "      <td>432</td>\n",
       "      <td>2,641</td>\n",
       "      <td>24</td>\n",
       "      <td>317</td>\n",
       "      <td>269</td>\n",
       "      <td>80</td>\n",
       "      <td>683</td>\n",
       "      <td>22</td>\n",
       "      <td>12</td>\n",
       "      <td>163</td>\n",
       "    </tr>\n",
       "    <tr>\n",
       "      <th>24</th>\n",
       "      <td>차대차</td>\n",
       "      <td>기타</td>\n",
       "      <td>사고건수[건]</td>\n",
       "      <td>29,018</td>\n",
       "      <td>1,906</td>\n",
       "      <td>4,908</td>\n",
       "      <td>291</td>\n",
       "      <td>3,766</td>\n",
       "      <td>38</td>\n",
       "      <td>518</td>\n",
       "      <td>1,513</td>\n",
       "      <td>425</td>\n",
       "      <td>555</td>\n",
       "      <td>43</td>\n",
       "      <td>48</td>\n",
       "      <td>886</td>\n",
       "    </tr>\n",
       "    <tr>\n",
       "      <th>25</th>\n",
       "      <td>차대차</td>\n",
       "      <td>기타</td>\n",
       "      <td>사망자수[명]</td>\n",
       "      <td>100</td>\n",
       "      <td>13</td>\n",
       "      <td>57</td>\n",
       "      <td>5</td>\n",
       "      <td>41</td>\n",
       "      <td>1</td>\n",
       "      <td>4</td>\n",
       "      <td>10</td>\n",
       "      <td>6</td>\n",
       "      <td>15</td>\n",
       "      <td>0</td>\n",
       "      <td>0</td>\n",
       "      <td>0</td>\n",
       "    </tr>\n",
       "    <tr>\n",
       "      <th>26</th>\n",
       "      <td>차대차</td>\n",
       "      <td>기타</td>\n",
       "      <td>부상자수[명]</td>\n",
       "      <td>43,065</td>\n",
       "      <td>2,996</td>\n",
       "      <td>7,161</td>\n",
       "      <td>443</td>\n",
       "      <td>4,860</td>\n",
       "      <td>42</td>\n",
       "      <td>662</td>\n",
       "      <td>1,665</td>\n",
       "      <td>526</td>\n",
       "      <td>789</td>\n",
       "      <td>58</td>\n",
       "      <td>57</td>\n",
       "      <td>1,049</td>\n",
       "    </tr>\n",
       "    <tr>\n",
       "      <th>27</th>\n",
       "      <td>차대차</td>\n",
       "      <td>후진중충돌</td>\n",
       "      <td>사고건수[건]</td>\n",
       "      <td>2,666</td>\n",
       "      <td>138</td>\n",
       "      <td>718</td>\n",
       "      <td>26</td>\n",
       "      <td>21</td>\n",
       "      <td>2</td>\n",
       "      <td>1</td>\n",
       "      <td>2</td>\n",
       "      <td>2</td>\n",
       "      <td>34</td>\n",
       "      <td>10</td>\n",
       "      <td>1</td>\n",
       "      <td>8</td>\n",
       "    </tr>\n",
       "    <tr>\n",
       "      <th>28</th>\n",
       "      <td>차대차</td>\n",
       "      <td>후진중충돌</td>\n",
       "      <td>사망자수[명]</td>\n",
       "      <td>1</td>\n",
       "      <td>0</td>\n",
       "      <td>2</td>\n",
       "      <td>1</td>\n",
       "      <td>0</td>\n",
       "      <td>0</td>\n",
       "      <td>0</td>\n",
       "      <td>0</td>\n",
       "      <td>0</td>\n",
       "      <td>1</td>\n",
       "      <td>1</td>\n",
       "      <td>0</td>\n",
       "      <td>0</td>\n",
       "    </tr>\n",
       "    <tr>\n",
       "      <th>29</th>\n",
       "      <td>차대차</td>\n",
       "      <td>후진중충돌</td>\n",
       "      <td>부상자수[명]</td>\n",
       "      <td>3,650</td>\n",
       "      <td>200</td>\n",
       "      <td>927</td>\n",
       "      <td>37</td>\n",
       "      <td>24</td>\n",
       "      <td>2</td>\n",
       "      <td>1</td>\n",
       "      <td>2</td>\n",
       "      <td>3</td>\n",
       "      <td>38</td>\n",
       "      <td>10</td>\n",
       "      <td>1</td>\n",
       "      <td>12</td>\n",
       "    </tr>\n",
       "    <tr>\n",
       "      <th>30</th>\n",
       "      <td>차량단독</td>\n",
       "      <td>공작물충돌</td>\n",
       "      <td>사고건수[건]</td>\n",
       "      <td>1,668</td>\n",
       "      <td>108</td>\n",
       "      <td>392</td>\n",
       "      <td>14</td>\n",
       "      <td>378</td>\n",
       "      <td>17</td>\n",
       "      <td>49</td>\n",
       "      <td>21</td>\n",
       "      <td>23</td>\n",
       "      <td>5</td>\n",
       "      <td>19</td>\n",
       "      <td>2</td>\n",
       "      <td>1</td>\n",
       "    </tr>\n",
       "    <tr>\n",
       "      <th>31</th>\n",
       "      <td>차량단독</td>\n",
       "      <td>공작물충돌</td>\n",
       "      <td>사망자수[명]</td>\n",
       "      <td>137</td>\n",
       "      <td>5</td>\n",
       "      <td>72</td>\n",
       "      <td>4</td>\n",
       "      <td>81</td>\n",
       "      <td>3</td>\n",
       "      <td>9</td>\n",
       "      <td>3</td>\n",
       "      <td>2</td>\n",
       "      <td>1</td>\n",
       "      <td>5</td>\n",
       "      <td>0</td>\n",
       "      <td>0</td>\n",
       "    </tr>\n",
       "    <tr>\n",
       "      <th>32</th>\n",
       "      <td>차량단독</td>\n",
       "      <td>공작물충돌</td>\n",
       "      <td>부상자수[명]</td>\n",
       "      <td>2,036</td>\n",
       "      <td>291</td>\n",
       "      <td>397</td>\n",
       "      <td>12</td>\n",
       "      <td>322</td>\n",
       "      <td>16</td>\n",
       "      <td>44</td>\n",
       "      <td>18</td>\n",
       "      <td>21</td>\n",
       "      <td>4</td>\n",
       "      <td>15</td>\n",
       "      <td>2</td>\n",
       "      <td>1</td>\n",
       "    </tr>\n",
       "    <tr>\n",
       "      <th>33</th>\n",
       "      <td>차량단독</td>\n",
       "      <td>주/정차차량 충돌</td>\n",
       "      <td>사고건수[건]</td>\n",
       "      <td>21</td>\n",
       "      <td>4</td>\n",
       "      <td>4</td>\n",
       "      <td>-</td>\n",
       "      <td>3</td>\n",
       "      <td>-</td>\n",
       "      <td>1</td>\n",
       "      <td>1</td>\n",
       "      <td>1</td>\n",
       "      <td>-</td>\n",
       "      <td>-</td>\n",
       "      <td>-</td>\n",
       "      <td>-</td>\n",
       "    </tr>\n",
       "    <tr>\n",
       "      <th>34</th>\n",
       "      <td>차량단독</td>\n",
       "      <td>주/정차차량 충돌</td>\n",
       "      <td>사망자수[명]</td>\n",
       "      <td>1</td>\n",
       "      <td>0</td>\n",
       "      <td>0</td>\n",
       "      <td>-</td>\n",
       "      <td>1</td>\n",
       "      <td>-</td>\n",
       "      <td>1</td>\n",
       "      <td>1</td>\n",
       "      <td>0</td>\n",
       "      <td>-</td>\n",
       "      <td>-</td>\n",
       "      <td>-</td>\n",
       "      <td>-</td>\n",
       "    </tr>\n",
       "    <tr>\n",
       "      <th>35</th>\n",
       "      <td>차량단독</td>\n",
       "      <td>주/정차차량 충돌</td>\n",
       "      <td>부상자수[명]</td>\n",
       "      <td>23</td>\n",
       "      <td>5</td>\n",
       "      <td>4</td>\n",
       "      <td>-</td>\n",
       "      <td>2</td>\n",
       "      <td>-</td>\n",
       "      <td>0</td>\n",
       "      <td>0</td>\n",
       "      <td>2</td>\n",
       "      <td>-</td>\n",
       "      <td>-</td>\n",
       "      <td>-</td>\n",
       "      <td>-</td>\n",
       "    </tr>\n",
       "    <tr>\n",
       "      <th>36</th>\n",
       "      <td>차량단독</td>\n",
       "      <td>도로이탈</td>\n",
       "      <td>사고건수[건]</td>\n",
       "      <td>210</td>\n",
       "      <td>14</td>\n",
       "      <td>109</td>\n",
       "      <td>1</td>\n",
       "      <td>72</td>\n",
       "      <td>21</td>\n",
       "      <td>16</td>\n",
       "      <td>14</td>\n",
       "      <td>2</td>\n",
       "      <td>19</td>\n",
       "      <td>44</td>\n",
       "      <td>3</td>\n",
       "      <td>-</td>\n",
       "    </tr>\n",
       "    <tr>\n",
       "      <th>37</th>\n",
       "      <td>차량단독</td>\n",
       "      <td>도로이탈</td>\n",
       "      <td>사망자수[명]</td>\n",
       "      <td>20</td>\n",
       "      <td>1</td>\n",
       "      <td>25</td>\n",
       "      <td>0</td>\n",
       "      <td>15</td>\n",
       "      <td>5</td>\n",
       "      <td>6</td>\n",
       "      <td>7</td>\n",
       "      <td>0</td>\n",
       "      <td>4</td>\n",
       "      <td>18</td>\n",
       "      <td>0</td>\n",
       "      <td>-</td>\n",
       "    </tr>\n",
       "    <tr>\n",
       "      <th>38</th>\n",
       "      <td>차량단독</td>\n",
       "      <td>도로이탈</td>\n",
       "      <td>부상자수[명]</td>\n",
       "      <td>278</td>\n",
       "      <td>25</td>\n",
       "      <td>126</td>\n",
       "      <td>1</td>\n",
       "      <td>61</td>\n",
       "      <td>19</td>\n",
       "      <td>10</td>\n",
       "      <td>7</td>\n",
       "      <td>2</td>\n",
       "      <td>15</td>\n",
       "      <td>33</td>\n",
       "      <td>7</td>\n",
       "      <td>-</td>\n",
       "    </tr>\n",
       "    <tr>\n",
       "      <th>39</th>\n",
       "      <td>차량단독</td>\n",
       "      <td>기타</td>\n",
       "      <td>사고건수[건]</td>\n",
       "      <td>706</td>\n",
       "      <td>1,784</td>\n",
       "      <td>96</td>\n",
       "      <td>3</td>\n",
       "      <td>496</td>\n",
       "      <td>33</td>\n",
       "      <td>72</td>\n",
       "      <td>117</td>\n",
       "      <td>150</td>\n",
       "      <td>6</td>\n",
       "      <td>33</td>\n",
       "      <td>2</td>\n",
       "      <td>13</td>\n",
       "    </tr>\n",
       "    <tr>\n",
       "      <th>40</th>\n",
       "      <td>차량단독</td>\n",
       "      <td>기타</td>\n",
       "      <td>사망자수[명]</td>\n",
       "      <td>24</td>\n",
       "      <td>4</td>\n",
       "      <td>12</td>\n",
       "      <td>0</td>\n",
       "      <td>49</td>\n",
       "      <td>2</td>\n",
       "      <td>5</td>\n",
       "      <td>18</td>\n",
       "      <td>5</td>\n",
       "      <td>2</td>\n",
       "      <td>13</td>\n",
       "      <td>0</td>\n",
       "      <td>0</td>\n",
       "    </tr>\n",
       "    <tr>\n",
       "      <th>41</th>\n",
       "      <td>차량단독</td>\n",
       "      <td>기타</td>\n",
       "      <td>부상자수[명]</td>\n",
       "      <td>866</td>\n",
       "      <td>1,922</td>\n",
       "      <td>91</td>\n",
       "      <td>4</td>\n",
       "      <td>474</td>\n",
       "      <td>34</td>\n",
       "      <td>74</td>\n",
       "      <td>99</td>\n",
       "      <td>149</td>\n",
       "      <td>5</td>\n",
       "      <td>20</td>\n",
       "      <td>3</td>\n",
       "      <td>14</td>\n",
       "    </tr>\n",
       "    <tr>\n",
       "      <th>42</th>\n",
       "      <td>차량단독</td>\n",
       "      <td>전도</td>\n",
       "      <td>사고건수[건]</td>\n",
       "      <td>84</td>\n",
       "      <td>21</td>\n",
       "      <td>51</td>\n",
       "      <td>12</td>\n",
       "      <td>469</td>\n",
       "      <td>35</td>\n",
       "      <td>86</td>\n",
       "      <td>87</td>\n",
       "      <td>82</td>\n",
       "      <td>10</td>\n",
       "      <td>29</td>\n",
       "      <td>6</td>\n",
       "      <td>-</td>\n",
       "    </tr>\n",
       "    <tr>\n",
       "      <th>43</th>\n",
       "      <td>차량단독</td>\n",
       "      <td>전도</td>\n",
       "      <td>사망자수[명]</td>\n",
       "      <td>10</td>\n",
       "      <td>0</td>\n",
       "      <td>5</td>\n",
       "      <td>2</td>\n",
       "      <td>28</td>\n",
       "      <td>5</td>\n",
       "      <td>4</td>\n",
       "      <td>9</td>\n",
       "      <td>3</td>\n",
       "      <td>1</td>\n",
       "      <td>14</td>\n",
       "      <td>2</td>\n",
       "      <td>-</td>\n",
       "    </tr>\n",
       "    <tr>\n",
       "      <th>44</th>\n",
       "      <td>차량단독</td>\n",
       "      <td>전도</td>\n",
       "      <td>부상자수[명]</td>\n",
       "      <td>96</td>\n",
       "      <td>66</td>\n",
       "      <td>57</td>\n",
       "      <td>10</td>\n",
       "      <td>462</td>\n",
       "      <td>34</td>\n",
       "      <td>87</td>\n",
       "      <td>78</td>\n",
       "      <td>81</td>\n",
       "      <td>9</td>\n",
       "      <td>19</td>\n",
       "      <td>7</td>\n",
       "      <td>-</td>\n",
       "    </tr>\n",
       "    <tr>\n",
       "      <th>45</th>\n",
       "      <td>차량단독</td>\n",
       "      <td>전복</td>\n",
       "      <td>사고건수[건]</td>\n",
       "      <td>80</td>\n",
       "      <td>2</td>\n",
       "      <td>21</td>\n",
       "      <td>1</td>\n",
       "      <td>6</td>\n",
       "      <td>4</td>\n",
       "      <td>2</td>\n",
       "      <td>5</td>\n",
       "      <td>4</td>\n",
       "      <td>2</td>\n",
       "      <td>4</td>\n",
       "      <td>-</td>\n",
       "      <td>-</td>\n",
       "    </tr>\n",
       "    <tr>\n",
       "      <th>46</th>\n",
       "      <td>차량단독</td>\n",
       "      <td>전복</td>\n",
       "      <td>사망자수[명]</td>\n",
       "      <td>8</td>\n",
       "      <td>0</td>\n",
       "      <td>3</td>\n",
       "      <td>0</td>\n",
       "      <td>2</td>\n",
       "      <td>1</td>\n",
       "      <td>0</td>\n",
       "      <td>2</td>\n",
       "      <td>0</td>\n",
       "      <td>0</td>\n",
       "      <td>0</td>\n",
       "      <td>-</td>\n",
       "      <td>-</td>\n",
       "    </tr>\n",
       "    <tr>\n",
       "      <th>47</th>\n",
       "      <td>차량단독</td>\n",
       "      <td>전복</td>\n",
       "      <td>부상자수[명]</td>\n",
       "      <td>101</td>\n",
       "      <td>5</td>\n",
       "      <td>23</td>\n",
       "      <td>1</td>\n",
       "      <td>4</td>\n",
       "      <td>3</td>\n",
       "      <td>2</td>\n",
       "      <td>3</td>\n",
       "      <td>4</td>\n",
       "      <td>2</td>\n",
       "      <td>6</td>\n",
       "      <td>-</td>\n",
       "      <td>-</td>\n",
       "    </tr>\n",
       "    <tr>\n",
       "      <th>48</th>\n",
       "      <td>철길건널목</td>\n",
       "      <td>철길건널목</td>\n",
       "      <td>사고건수[건]</td>\n",
       "      <td>2</td>\n",
       "      <td>-</td>\n",
       "      <td>2</td>\n",
       "      <td>-</td>\n",
       "      <td>-</td>\n",
       "      <td>-</td>\n",
       "      <td>-</td>\n",
       "      <td>-</td>\n",
       "      <td>-</td>\n",
       "      <td>-</td>\n",
       "      <td>-</td>\n",
       "      <td>-</td>\n",
       "      <td>-</td>\n",
       "    </tr>\n",
       "    <tr>\n",
       "      <th>49</th>\n",
       "      <td>철길건널목</td>\n",
       "      <td>철길건널목</td>\n",
       "      <td>사망자수[명]</td>\n",
       "      <td>1</td>\n",
       "      <td>-</td>\n",
       "      <td>2</td>\n",
       "      <td>-</td>\n",
       "      <td>-</td>\n",
       "      <td>-</td>\n",
       "      <td>-</td>\n",
       "      <td>-</td>\n",
       "      <td>-</td>\n",
       "      <td>-</td>\n",
       "      <td>-</td>\n",
       "      <td>-</td>\n",
       "      <td>-</td>\n",
       "    </tr>\n",
       "    <tr>\n",
       "      <th>50</th>\n",
       "      <td>철길건널목</td>\n",
       "      <td>철길건널목</td>\n",
       "      <td>부상자수[명]</td>\n",
       "      <td>4</td>\n",
       "      <td>-</td>\n",
       "      <td>1</td>\n",
       "      <td>-</td>\n",
       "      <td>-</td>\n",
       "      <td>-</td>\n",
       "      <td>-</td>\n",
       "      <td>-</td>\n",
       "      <td>-</td>\n",
       "      <td>-</td>\n",
       "      <td>-</td>\n",
       "      <td>-</td>\n",
       "      <td>-</td>\n",
       "    </tr>\n",
       "    <tr>\n",
       "      <th>51</th>\n",
       "      <td>출처) 도로교통공단.</td>\n",
       "      <td>NaN</td>\n",
       "      <td>NaN</td>\n",
       "      <td>NaN</td>\n",
       "      <td>NaN</td>\n",
       "      <td>NaN</td>\n",
       "      <td>NaN</td>\n",
       "      <td>NaN</td>\n",
       "      <td>NaN</td>\n",
       "      <td>NaN</td>\n",
       "      <td>NaN</td>\n",
       "      <td>NaN</td>\n",
       "      <td>NaN</td>\n",
       "      <td>NaN</td>\n",
       "      <td>NaN</td>\n",
       "      <td>NaN</td>\n",
       "    </tr>\n",
       "  </tbody>\n",
       "</table>\n",
       "</div>"
      ],
      "text/plain": [
       "        사고유형대분류     사고유형중분류     사고년도     승용차    승합차     화물차  특수차    이륜차  \\\n",
       "0          차대사람         횡단중  사고건수[건]   8,773    687   1,529   35  1,398   \n",
       "1          차대사람         횡단중  사망자수[명]     245     43      91    7     28   \n",
       "2          차대사람         횡단중  부상자수[명]   8,935    678   1,493   28  1,603   \n",
       "3          차대사람       차도통행중  사고건수[건]   3,040    196     571   11    289   \n",
       "4          차대사람       차도통행중  사망자수[명]      89     12      39    1      3   \n",
       "5          차대사람       차도통행중  부상자수[명]   3,034    195     548   11    314   \n",
       "6          차대사람  길가장자리구역통행중  사고건수[건]   1,513     66     279    3     82   \n",
       "7          차대사람  길가장자리구역통행중  사망자수[명]      21      3      14    0      0   \n",
       "8          차대사람  길가장자리구역통행중  부상자수[명]   1,536     66     274    3     93   \n",
       "9          차대사람       보도통행중  사고건수[건]   1,118     74     259    7    253   \n",
       "10         차대사람       보도통행중  사망자수[명]      16      1       4    0      1   \n",
       "11         차대사람       보도통행중  부상자수[명]   1,180     75     279    7    270   \n",
       "12         차대사람          기타  사고건수[건]   9,021  1,449   1,772   35    809   \n",
       "13         차대사람          기타  사망자수[명]     151     23      65    4      7   \n",
       "14         차대사람          기타  부상자수[명]   9,320  1,506   1,777   31    901   \n",
       "15          차대차        정면충돌  사고건수[건]   5,275    221     898   24    711   \n",
       "16          차대차        정면충돌  사망자수[명]      98     10      37    2     29   \n",
       "17          차대차        정면충돌  부상자수[명]   9,256    407   1,459   42  1,014   \n",
       "18          차대차        측면충돌  사고건수[건]  44,525  2,700   7,918  464  5,285   \n",
       "19          차대차        측면충돌  사망자수[명]     156     19      59    5     87   \n",
       "20          차대차        측면충돌  부상자수[명]  69,057  4,209  11,572  653  7,507   \n",
       "21          차대차          추돌  사고건수[건]  21,989  1,294   4,706  221  1,894   \n",
       "22          차대차          추돌  사망자수[명]     121     10     143    7     30   \n",
       "23          차대차          추돌  부상자수[명]  38,752  3,065   8,733  432  2,641   \n",
       "24          차대차          기타  사고건수[건]  29,018  1,906   4,908  291  3,766   \n",
       "25          차대차          기타  사망자수[명]     100     13      57    5     41   \n",
       "26          차대차          기타  부상자수[명]  43,065  2,996   7,161  443  4,860   \n",
       "27          차대차       후진중충돌  사고건수[건]   2,666    138     718   26     21   \n",
       "28          차대차       후진중충돌  사망자수[명]       1      0       2    1      0   \n",
       "29          차대차       후진중충돌  부상자수[명]   3,650    200     927   37     24   \n",
       "30         차량단독       공작물충돌  사고건수[건]   1,668    108     392   14    378   \n",
       "31         차량단독       공작물충돌  사망자수[명]     137      5      72    4     81   \n",
       "32         차량단독       공작물충돌  부상자수[명]   2,036    291     397   12    322   \n",
       "33         차량단독   주/정차차량 충돌  사고건수[건]      21      4       4    -      3   \n",
       "34         차량단독   주/정차차량 충돌  사망자수[명]       1      0       0    -      1   \n",
       "35         차량단독   주/정차차량 충돌  부상자수[명]      23      5       4    -      2   \n",
       "36         차량단독        도로이탈  사고건수[건]     210     14     109    1     72   \n",
       "37         차량단독        도로이탈  사망자수[명]      20      1      25    0     15   \n",
       "38         차량단독        도로이탈  부상자수[명]     278     25     126    1     61   \n",
       "39         차량단독          기타  사고건수[건]     706  1,784      96    3    496   \n",
       "40         차량단독          기타  사망자수[명]      24      4      12    0     49   \n",
       "41         차량단독          기타  부상자수[명]     866  1,922      91    4    474   \n",
       "42         차량단독          전도  사고건수[건]      84     21      51   12    469   \n",
       "43         차량단독          전도  사망자수[명]      10      0       5    2     28   \n",
       "44         차량단독          전도  부상자수[명]      96     66      57   10    462   \n",
       "45         차량단독          전복  사고건수[건]      80      2      21    1      6   \n",
       "46         차량단독          전복  사망자수[명]       8      0       3    0      2   \n",
       "47         차량단독          전복  부상자수[명]     101      5      23    1      4   \n",
       "48        철길건널목       철길건널목  사고건수[건]       2      -       2    -      -   \n",
       "49        철길건널목       철길건널목  사망자수[명]       1      -       2    -      -   \n",
       "50        철길건널목       철길건널목  부상자수[명]       4      -       1    -      -   \n",
       "51  출처) 도로교통공단.         NaN      NaN     NaN    NaN     NaN  NaN    NaN   \n",
       "\n",
       "   사륜오토바이(ATV) 원동기장치자전거    자전거 개인형이동장치(PM)   건설기계  농기계   기타     불명  \n",
       "0            7      138    221         153     62    -    4    217  \n",
       "1            1        3      0           0     14    -    0      0  \n",
       "2            6      147    249         167     50    -    4    218  \n",
       "3            2       36     90          75     21    1    3     66  \n",
       "4            0        1      0           1      2    0    0      0  \n",
       "5            2       36     98          79     19    1    3     66  \n",
       "6            -       13     32          22     12    1    1     76  \n",
       "7            -        0      1           0      2    0    0      0  \n",
       "8            -       15     33          25     11    1    2     76  \n",
       "9            4       46    340         374      9    -    2    103  \n",
       "10           0        0      0           0      2    -    0      0  \n",
       "11           4       46    366         385      7    -    3    104  \n",
       "12           7      146    654         418     89   11   31    529  \n",
       "13           0        0      1           1      4    0    0      0  \n",
       "14           7      159    705         446     87   11   31    536  \n",
       "15           9       74    309          94     44   19    7     22  \n",
       "16           1        2      6           1      0    2    0      0  \n",
       "17          12      111    365         120     71   25    8     28  \n",
       "18          72      666  1,746         493    927  101   24    300  \n",
       "19           7       13     30           6     10    4    0      0  \n",
       "20          75      926  1,899         594  1,286  145   34    374  \n",
       "21          15      233    241          68    380   15    8    140  \n",
       "22           1        7      3           1      5    1    0      0  \n",
       "23          24      317    269          80    683   22   12    163  \n",
       "24          38      518  1,513         425    555   43   48    886  \n",
       "25           1        4     10           6     15    0    0      0  \n",
       "26          42      662  1,665         526    789   58   57  1,049  \n",
       "27           2        1      2           2     34   10    1      8  \n",
       "28           0        0      0           0      1    1    0      0  \n",
       "29           2        1      2           3     38   10    1     12  \n",
       "30          17       49     21          23      5   19    2      1  \n",
       "31           3        9      3           2      1    5    0      0  \n",
       "32          16       44     18          21      4   15    2      1  \n",
       "33           -        1      1           1      -    -    -      -  \n",
       "34           -        1      1           0      -    -    -      -  \n",
       "35           -        0      0           2      -    -    -      -  \n",
       "36          21       16     14           2     19   44    3      -  \n",
       "37           5        6      7           0      4   18    0      -  \n",
       "38          19       10      7           2     15   33    7      -  \n",
       "39          33       72    117         150      6   33    2     13  \n",
       "40           2        5     18           5      2   13    0      0  \n",
       "41          34       74     99         149      5   20    3     14  \n",
       "42          35       86     87          82     10   29    6      -  \n",
       "43           5        4      9           3      1   14    2      -  \n",
       "44          34       87     78          81      9   19    7      -  \n",
       "45           4        2      5           4      2    4    -      -  \n",
       "46           1        0      2           0      0    0    -      -  \n",
       "47           3        2      3           4      2    6    -      -  \n",
       "48           -        -      -           -      -    -    -      -  \n",
       "49           -        -      -           -      -    -    -      -  \n",
       "50           -        -      -           -      -    -    -      -  \n",
       "51         NaN      NaN    NaN         NaN    NaN  NaN  NaN    NaN  "
      ]
     },
     "execution_count": 92,
     "metadata": {},
     "output_type": "execute_result"
    }
   ],
   "source": [
    "data_file = r'C:\\Users\\user\\Downloads\\Report_2022.csv'\n",
    "accident_data = pd.read_csv(data_file, encoding = 'cp949')\n",
    "accident_data"
   ]
  },
  {
   "cell_type": "code",
   "execution_count": 93,
   "id": "0c724a57",
   "metadata": {},
   "outputs": [
    {
     "data": {
      "text/html": [
       "<div>\n",
       "<style scoped>\n",
       "    .dataframe tbody tr th:only-of-type {\n",
       "        vertical-align: middle;\n",
       "    }\n",
       "\n",
       "    .dataframe tbody tr th {\n",
       "        vertical-align: top;\n",
       "    }\n",
       "\n",
       "    .dataframe thead th {\n",
       "        text-align: right;\n",
       "    }\n",
       "</style>\n",
       "<table border=\"1\" class=\"dataframe\">\n",
       "  <thead>\n",
       "    <tr style=\"text-align: right;\">\n",
       "      <th></th>\n",
       "      <th>사고유형대분류</th>\n",
       "      <th>사고유형중분류</th>\n",
       "      <th>사고년도</th>\n",
       "      <th>개인형이동장치(PM)</th>\n",
       "    </tr>\n",
       "  </thead>\n",
       "  <tbody>\n",
       "    <tr>\n",
       "      <th>0</th>\n",
       "      <td>차대사람</td>\n",
       "      <td>횡단중</td>\n",
       "      <td>사고건수[건]</td>\n",
       "      <td>153</td>\n",
       "    </tr>\n",
       "    <tr>\n",
       "      <th>1</th>\n",
       "      <td>차대사람</td>\n",
       "      <td>횡단중</td>\n",
       "      <td>사망자수[명]</td>\n",
       "      <td>0</td>\n",
       "    </tr>\n",
       "    <tr>\n",
       "      <th>2</th>\n",
       "      <td>차대사람</td>\n",
       "      <td>횡단중</td>\n",
       "      <td>부상자수[명]</td>\n",
       "      <td>167</td>\n",
       "    </tr>\n",
       "    <tr>\n",
       "      <th>3</th>\n",
       "      <td>차대사람</td>\n",
       "      <td>차도통행중</td>\n",
       "      <td>사고건수[건]</td>\n",
       "      <td>75</td>\n",
       "    </tr>\n",
       "    <tr>\n",
       "      <th>4</th>\n",
       "      <td>차대사람</td>\n",
       "      <td>차도통행중</td>\n",
       "      <td>사망자수[명]</td>\n",
       "      <td>1</td>\n",
       "    </tr>\n",
       "    <tr>\n",
       "      <th>5</th>\n",
       "      <td>차대사람</td>\n",
       "      <td>차도통행중</td>\n",
       "      <td>부상자수[명]</td>\n",
       "      <td>79</td>\n",
       "    </tr>\n",
       "    <tr>\n",
       "      <th>6</th>\n",
       "      <td>차대사람</td>\n",
       "      <td>길가장자리구역통행중</td>\n",
       "      <td>사고건수[건]</td>\n",
       "      <td>22</td>\n",
       "    </tr>\n",
       "    <tr>\n",
       "      <th>7</th>\n",
       "      <td>차대사람</td>\n",
       "      <td>길가장자리구역통행중</td>\n",
       "      <td>사망자수[명]</td>\n",
       "      <td>0</td>\n",
       "    </tr>\n",
       "    <tr>\n",
       "      <th>8</th>\n",
       "      <td>차대사람</td>\n",
       "      <td>길가장자리구역통행중</td>\n",
       "      <td>부상자수[명]</td>\n",
       "      <td>25</td>\n",
       "    </tr>\n",
       "    <tr>\n",
       "      <th>9</th>\n",
       "      <td>차대사람</td>\n",
       "      <td>보도통행중</td>\n",
       "      <td>사고건수[건]</td>\n",
       "      <td>374</td>\n",
       "    </tr>\n",
       "    <tr>\n",
       "      <th>10</th>\n",
       "      <td>차대사람</td>\n",
       "      <td>보도통행중</td>\n",
       "      <td>사망자수[명]</td>\n",
       "      <td>0</td>\n",
       "    </tr>\n",
       "    <tr>\n",
       "      <th>11</th>\n",
       "      <td>차대사람</td>\n",
       "      <td>보도통행중</td>\n",
       "      <td>부상자수[명]</td>\n",
       "      <td>385</td>\n",
       "    </tr>\n",
       "    <tr>\n",
       "      <th>12</th>\n",
       "      <td>차대사람</td>\n",
       "      <td>기타</td>\n",
       "      <td>사고건수[건]</td>\n",
       "      <td>418</td>\n",
       "    </tr>\n",
       "    <tr>\n",
       "      <th>13</th>\n",
       "      <td>차대사람</td>\n",
       "      <td>기타</td>\n",
       "      <td>사망자수[명]</td>\n",
       "      <td>1</td>\n",
       "    </tr>\n",
       "    <tr>\n",
       "      <th>14</th>\n",
       "      <td>차대사람</td>\n",
       "      <td>기타</td>\n",
       "      <td>부상자수[명]</td>\n",
       "      <td>446</td>\n",
       "    </tr>\n",
       "    <tr>\n",
       "      <th>15</th>\n",
       "      <td>차대차</td>\n",
       "      <td>정면충돌</td>\n",
       "      <td>사고건수[건]</td>\n",
       "      <td>94</td>\n",
       "    </tr>\n",
       "    <tr>\n",
       "      <th>16</th>\n",
       "      <td>차대차</td>\n",
       "      <td>정면충돌</td>\n",
       "      <td>사망자수[명]</td>\n",
       "      <td>1</td>\n",
       "    </tr>\n",
       "    <tr>\n",
       "      <th>17</th>\n",
       "      <td>차대차</td>\n",
       "      <td>정면충돌</td>\n",
       "      <td>부상자수[명]</td>\n",
       "      <td>120</td>\n",
       "    </tr>\n",
       "    <tr>\n",
       "      <th>18</th>\n",
       "      <td>차대차</td>\n",
       "      <td>측면충돌</td>\n",
       "      <td>사고건수[건]</td>\n",
       "      <td>493</td>\n",
       "    </tr>\n",
       "    <tr>\n",
       "      <th>19</th>\n",
       "      <td>차대차</td>\n",
       "      <td>측면충돌</td>\n",
       "      <td>사망자수[명]</td>\n",
       "      <td>6</td>\n",
       "    </tr>\n",
       "    <tr>\n",
       "      <th>20</th>\n",
       "      <td>차대차</td>\n",
       "      <td>측면충돌</td>\n",
       "      <td>부상자수[명]</td>\n",
       "      <td>594</td>\n",
       "    </tr>\n",
       "    <tr>\n",
       "      <th>21</th>\n",
       "      <td>차대차</td>\n",
       "      <td>추돌</td>\n",
       "      <td>사고건수[건]</td>\n",
       "      <td>68</td>\n",
       "    </tr>\n",
       "    <tr>\n",
       "      <th>22</th>\n",
       "      <td>차대차</td>\n",
       "      <td>추돌</td>\n",
       "      <td>사망자수[명]</td>\n",
       "      <td>1</td>\n",
       "    </tr>\n",
       "    <tr>\n",
       "      <th>23</th>\n",
       "      <td>차대차</td>\n",
       "      <td>추돌</td>\n",
       "      <td>부상자수[명]</td>\n",
       "      <td>80</td>\n",
       "    </tr>\n",
       "    <tr>\n",
       "      <th>24</th>\n",
       "      <td>차대차</td>\n",
       "      <td>기타</td>\n",
       "      <td>사고건수[건]</td>\n",
       "      <td>425</td>\n",
       "    </tr>\n",
       "    <tr>\n",
       "      <th>25</th>\n",
       "      <td>차대차</td>\n",
       "      <td>기타</td>\n",
       "      <td>사망자수[명]</td>\n",
       "      <td>6</td>\n",
       "    </tr>\n",
       "    <tr>\n",
       "      <th>26</th>\n",
       "      <td>차대차</td>\n",
       "      <td>기타</td>\n",
       "      <td>부상자수[명]</td>\n",
       "      <td>526</td>\n",
       "    </tr>\n",
       "    <tr>\n",
       "      <th>27</th>\n",
       "      <td>차대차</td>\n",
       "      <td>후진중충돌</td>\n",
       "      <td>사고건수[건]</td>\n",
       "      <td>2</td>\n",
       "    </tr>\n",
       "    <tr>\n",
       "      <th>28</th>\n",
       "      <td>차대차</td>\n",
       "      <td>후진중충돌</td>\n",
       "      <td>사망자수[명]</td>\n",
       "      <td>0</td>\n",
       "    </tr>\n",
       "    <tr>\n",
       "      <th>29</th>\n",
       "      <td>차대차</td>\n",
       "      <td>후진중충돌</td>\n",
       "      <td>부상자수[명]</td>\n",
       "      <td>3</td>\n",
       "    </tr>\n",
       "    <tr>\n",
       "      <th>30</th>\n",
       "      <td>차량단독</td>\n",
       "      <td>공작물충돌</td>\n",
       "      <td>사고건수[건]</td>\n",
       "      <td>23</td>\n",
       "    </tr>\n",
       "    <tr>\n",
       "      <th>31</th>\n",
       "      <td>차량단독</td>\n",
       "      <td>공작물충돌</td>\n",
       "      <td>사망자수[명]</td>\n",
       "      <td>2</td>\n",
       "    </tr>\n",
       "    <tr>\n",
       "      <th>32</th>\n",
       "      <td>차량단독</td>\n",
       "      <td>공작물충돌</td>\n",
       "      <td>부상자수[명]</td>\n",
       "      <td>21</td>\n",
       "    </tr>\n",
       "    <tr>\n",
       "      <th>33</th>\n",
       "      <td>차량단독</td>\n",
       "      <td>주/정차차량 충돌</td>\n",
       "      <td>사고건수[건]</td>\n",
       "      <td>1</td>\n",
       "    </tr>\n",
       "    <tr>\n",
       "      <th>34</th>\n",
       "      <td>차량단독</td>\n",
       "      <td>주/정차차량 충돌</td>\n",
       "      <td>사망자수[명]</td>\n",
       "      <td>0</td>\n",
       "    </tr>\n",
       "    <tr>\n",
       "      <th>35</th>\n",
       "      <td>차량단독</td>\n",
       "      <td>주/정차차량 충돌</td>\n",
       "      <td>부상자수[명]</td>\n",
       "      <td>2</td>\n",
       "    </tr>\n",
       "    <tr>\n",
       "      <th>36</th>\n",
       "      <td>차량단독</td>\n",
       "      <td>도로이탈</td>\n",
       "      <td>사고건수[건]</td>\n",
       "      <td>2</td>\n",
       "    </tr>\n",
       "    <tr>\n",
       "      <th>37</th>\n",
       "      <td>차량단독</td>\n",
       "      <td>도로이탈</td>\n",
       "      <td>사망자수[명]</td>\n",
       "      <td>0</td>\n",
       "    </tr>\n",
       "    <tr>\n",
       "      <th>38</th>\n",
       "      <td>차량단독</td>\n",
       "      <td>도로이탈</td>\n",
       "      <td>부상자수[명]</td>\n",
       "      <td>2</td>\n",
       "    </tr>\n",
       "    <tr>\n",
       "      <th>39</th>\n",
       "      <td>차량단독</td>\n",
       "      <td>기타</td>\n",
       "      <td>사고건수[건]</td>\n",
       "      <td>150</td>\n",
       "    </tr>\n",
       "    <tr>\n",
       "      <th>40</th>\n",
       "      <td>차량단독</td>\n",
       "      <td>기타</td>\n",
       "      <td>사망자수[명]</td>\n",
       "      <td>5</td>\n",
       "    </tr>\n",
       "    <tr>\n",
       "      <th>41</th>\n",
       "      <td>차량단독</td>\n",
       "      <td>기타</td>\n",
       "      <td>부상자수[명]</td>\n",
       "      <td>149</td>\n",
       "    </tr>\n",
       "    <tr>\n",
       "      <th>42</th>\n",
       "      <td>차량단독</td>\n",
       "      <td>전도</td>\n",
       "      <td>사고건수[건]</td>\n",
       "      <td>82</td>\n",
       "    </tr>\n",
       "    <tr>\n",
       "      <th>43</th>\n",
       "      <td>차량단독</td>\n",
       "      <td>전도</td>\n",
       "      <td>사망자수[명]</td>\n",
       "      <td>3</td>\n",
       "    </tr>\n",
       "    <tr>\n",
       "      <th>44</th>\n",
       "      <td>차량단독</td>\n",
       "      <td>전도</td>\n",
       "      <td>부상자수[명]</td>\n",
       "      <td>81</td>\n",
       "    </tr>\n",
       "    <tr>\n",
       "      <th>45</th>\n",
       "      <td>차량단독</td>\n",
       "      <td>전복</td>\n",
       "      <td>사고건수[건]</td>\n",
       "      <td>4</td>\n",
       "    </tr>\n",
       "    <tr>\n",
       "      <th>46</th>\n",
       "      <td>차량단독</td>\n",
       "      <td>전복</td>\n",
       "      <td>사망자수[명]</td>\n",
       "      <td>0</td>\n",
       "    </tr>\n",
       "    <tr>\n",
       "      <th>47</th>\n",
       "      <td>차량단독</td>\n",
       "      <td>전복</td>\n",
       "      <td>부상자수[명]</td>\n",
       "      <td>4</td>\n",
       "    </tr>\n",
       "    <tr>\n",
       "      <th>48</th>\n",
       "      <td>철길건널목</td>\n",
       "      <td>철길건널목</td>\n",
       "      <td>사고건수[건]</td>\n",
       "      <td>-</td>\n",
       "    </tr>\n",
       "    <tr>\n",
       "      <th>49</th>\n",
       "      <td>철길건널목</td>\n",
       "      <td>철길건널목</td>\n",
       "      <td>사망자수[명]</td>\n",
       "      <td>-</td>\n",
       "    </tr>\n",
       "    <tr>\n",
       "      <th>50</th>\n",
       "      <td>철길건널목</td>\n",
       "      <td>철길건널목</td>\n",
       "      <td>부상자수[명]</td>\n",
       "      <td>-</td>\n",
       "    </tr>\n",
       "    <tr>\n",
       "      <th>51</th>\n",
       "      <td>출처) 도로교통공단.</td>\n",
       "      <td>NaN</td>\n",
       "      <td>NaN</td>\n",
       "      <td>NaN</td>\n",
       "    </tr>\n",
       "  </tbody>\n",
       "</table>\n",
       "</div>"
      ],
      "text/plain": [
       "        사고유형대분류     사고유형중분류     사고년도 개인형이동장치(PM)\n",
       "0          차대사람         횡단중  사고건수[건]         153\n",
       "1          차대사람         횡단중  사망자수[명]           0\n",
       "2          차대사람         횡단중  부상자수[명]         167\n",
       "3          차대사람       차도통행중  사고건수[건]          75\n",
       "4          차대사람       차도통행중  사망자수[명]           1\n",
       "5          차대사람       차도통행중  부상자수[명]          79\n",
       "6          차대사람  길가장자리구역통행중  사고건수[건]          22\n",
       "7          차대사람  길가장자리구역통행중  사망자수[명]           0\n",
       "8          차대사람  길가장자리구역통행중  부상자수[명]          25\n",
       "9          차대사람       보도통행중  사고건수[건]         374\n",
       "10         차대사람       보도통행중  사망자수[명]           0\n",
       "11         차대사람       보도통행중  부상자수[명]         385\n",
       "12         차대사람          기타  사고건수[건]         418\n",
       "13         차대사람          기타  사망자수[명]           1\n",
       "14         차대사람          기타  부상자수[명]         446\n",
       "15          차대차        정면충돌  사고건수[건]          94\n",
       "16          차대차        정면충돌  사망자수[명]           1\n",
       "17          차대차        정면충돌  부상자수[명]         120\n",
       "18          차대차        측면충돌  사고건수[건]         493\n",
       "19          차대차        측면충돌  사망자수[명]           6\n",
       "20          차대차        측면충돌  부상자수[명]         594\n",
       "21          차대차          추돌  사고건수[건]          68\n",
       "22          차대차          추돌  사망자수[명]           1\n",
       "23          차대차          추돌  부상자수[명]          80\n",
       "24          차대차          기타  사고건수[건]         425\n",
       "25          차대차          기타  사망자수[명]           6\n",
       "26          차대차          기타  부상자수[명]         526\n",
       "27          차대차       후진중충돌  사고건수[건]           2\n",
       "28          차대차       후진중충돌  사망자수[명]           0\n",
       "29          차대차       후진중충돌  부상자수[명]           3\n",
       "30         차량단독       공작물충돌  사고건수[건]          23\n",
       "31         차량단독       공작물충돌  사망자수[명]           2\n",
       "32         차량단독       공작물충돌  부상자수[명]          21\n",
       "33         차량단독   주/정차차량 충돌  사고건수[건]           1\n",
       "34         차량단독   주/정차차량 충돌  사망자수[명]           0\n",
       "35         차량단독   주/정차차량 충돌  부상자수[명]           2\n",
       "36         차량단독        도로이탈  사고건수[건]           2\n",
       "37         차량단독        도로이탈  사망자수[명]           0\n",
       "38         차량단독        도로이탈  부상자수[명]           2\n",
       "39         차량단독          기타  사고건수[건]         150\n",
       "40         차량단독          기타  사망자수[명]           5\n",
       "41         차량단독          기타  부상자수[명]         149\n",
       "42         차량단독          전도  사고건수[건]          82\n",
       "43         차량단독          전도  사망자수[명]           3\n",
       "44         차량단독          전도  부상자수[명]          81\n",
       "45         차량단독          전복  사고건수[건]           4\n",
       "46         차량단독          전복  사망자수[명]           0\n",
       "47         차량단독          전복  부상자수[명]           4\n",
       "48        철길건널목       철길건널목  사고건수[건]           -\n",
       "49        철길건널목       철길건널목  사망자수[명]           -\n",
       "50        철길건널목       철길건널목  부상자수[명]           -\n",
       "51  출처) 도로교통공단.         NaN      NaN         NaN"
      ]
     },
     "execution_count": 93,
     "metadata": {},
     "output_type": "execute_result"
    }
   ],
   "source": [
    "PM_accident_2022 = accident_data.loc[:,['사고유형대분류', '사고유형중분류', '사고년도', '개인형이동장치(PM)']]\n",
    "PM_accident_2022"
   ]
  },
  {
   "cell_type": "code",
   "execution_count": 26,
   "id": "889e81a0",
   "metadata": {},
   "outputs": [],
   "source": [
    "PM_accident_2022.to_csv('킥보드 사고 세부 유형(2022).csv')"
   ]
  },
  {
   "cell_type": "code",
   "execution_count": 94,
   "id": "e88f8984",
   "metadata": {},
   "outputs": [],
   "source": [
    "PM_acc2022 = PM_accident_2022.loc[PM_accident_2022['사고년도']=='사고건수[건]',:]\n",
    "PM_acc2022 = PM_acc2022.loc[PM_acc2022['사고유형대분류']!='철길건널목']\n",
    "PM_acc2022['개인형이동장치(PM)']=PM_acc2022['개인형이동장치(PM)'].astype('Int64')"
   ]
  },
  {
   "cell_type": "code",
   "execution_count": 4,
   "id": "363c4967",
   "metadata": {},
   "outputs": [],
   "source": [
    "import plotly.express as px\n",
    "from matplotlib import pyplot as plt"
   ]
  },
  {
   "cell_type": "code",
   "execution_count": 5,
   "id": "74f2f1b6",
   "metadata": {},
   "outputs": [],
   "source": [
    "import plotly.io as pio"
   ]
  },
  {
   "cell_type": "code",
   "execution_count": 68,
   "id": "85e44bd5",
   "metadata": {},
   "outputs": [
    {
     "name": "stdout",
     "output_type": "stream",
     "text": [
      "Collecting kaleido\n",
      "  Downloading kaleido-0.2.1-py2.py3-none-win_amd64.whl (65.9 MB)\n",
      "                                              0.0/65.9 MB ? eta -:--:--\n",
      "                                              0.0/65.9 MB ? eta -:--:--\n",
      "                                             0.0/65.9 MB 393.8 kB/s eta 0:02:48\n",
      "                                              0.3/65.9 MB 1.7 MB/s eta 0:00:39\n",
      "                                              0.6/65.9 MB 2.8 MB/s eta 0:00:24\n",
      "                                              0.9/65.9 MB 3.4 MB/s eta 0:00:19\n",
      "                                              1.2/65.9 MB 4.1 MB/s eta 0:00:16\n",
      "                                              1.4/65.9 MB 4.1 MB/s eta 0:00:16\n",
      "     -                                        1.8/65.9 MB 4.4 MB/s eta 0:00:15\n",
      "     -                                        2.0/65.9 MB 4.5 MB/s eta 0:00:15\n",
      "     -                                        2.1/65.9 MB 4.4 MB/s eta 0:00:15\n",
      "     -                                        2.4/65.9 MB 4.6 MB/s eta 0:00:14\n",
      "     -                                        2.6/65.9 MB 4.6 MB/s eta 0:00:14\n",
      "     -                                        2.9/65.9 MB 4.7 MB/s eta 0:00:14\n",
      "     -                                        3.3/65.9 MB 4.8 MB/s eta 0:00:13\n",
      "     --                                       3.5/65.9 MB 4.9 MB/s eta 0:00:13\n",
      "     --                                       3.8/65.9 MB 4.9 MB/s eta 0:00:13\n",
      "     --                                       4.1/65.9 MB 5.1 MB/s eta 0:00:13\n",
      "     --                                       4.3/65.9 MB 5.0 MB/s eta 0:00:13\n",
      "     --                                       4.6/65.9 MB 5.1 MB/s eta 0:00:13\n",
      "     --                                       4.8/65.9 MB 5.0 MB/s eta 0:00:13\n",
      "     ---                                      5.0/65.9 MB 5.0 MB/s eta 0:00:13\n",
      "     ---                                      5.3/65.9 MB 5.0 MB/s eta 0:00:13\n",
      "     ---                                      5.5/65.9 MB 4.9 MB/s eta 0:00:13\n",
      "     ---                                      5.7/65.9 MB 5.0 MB/s eta 0:00:13\n",
      "     ---                                      6.0/65.9 MB 5.1 MB/s eta 0:00:12\n",
      "     ---                                      6.0/65.9 MB 5.1 MB/s eta 0:00:12\n",
      "     ---                                      6.4/65.9 MB 5.0 MB/s eta 0:00:12\n",
      "     ----                                     6.7/65.9 MB 5.0 MB/s eta 0:00:12\n",
      "     ----                                     7.0/65.9 MB 5.0 MB/s eta 0:00:12\n",
      "     ----                                     7.4/65.9 MB 5.1 MB/s eta 0:00:12\n",
      "     ----                                     7.7/65.9 MB 5.2 MB/s eta 0:00:12\n",
      "     ----                                     8.0/65.9 MB 5.2 MB/s eta 0:00:12\n",
      "     -----                                    8.3/65.9 MB 5.2 MB/s eta 0:00:11\n",
      "     -----                                    8.7/65.9 MB 5.3 MB/s eta 0:00:11\n",
      "     -----                                    9.0/65.9 MB 5.4 MB/s eta 0:00:11\n",
      "     -----                                    9.3/65.9 MB 5.4 MB/s eta 0:00:11\n",
      "     -----                                    9.7/65.9 MB 5.5 MB/s eta 0:00:11\n",
      "     ------                                   10.1/65.9 MB 5.5 MB/s eta 0:00:11\n",
      "     ------                                   10.3/65.9 MB 5.7 MB/s eta 0:00:10\n",
      "     ------                                   10.6/65.9 MB 6.0 MB/s eta 0:00:10\n",
      "     ------                                   11.0/65.9 MB 6.0 MB/s eta 0:00:10\n",
      "     ------                                   11.4/65.9 MB 6.0 MB/s eta 0:00:10\n",
      "     -------                                  11.6/65.9 MB 6.1 MB/s eta 0:00:09\n",
      "     -------                                  12.0/65.9 MB 6.1 MB/s eta 0:00:09\n",
      "     -------                                  12.4/65.9 MB 6.2 MB/s eta 0:00:09\n",
      "     -------                                  12.7/65.9 MB 6.3 MB/s eta 0:00:09\n",
      "     -------                                  13.1/65.9 MB 6.4 MB/s eta 0:00:09\n",
      "     --------                                 13.4/65.9 MB 6.4 MB/s eta 0:00:09\n",
      "     --------                                 13.8/65.9 MB 6.4 MB/s eta 0:00:09\n",
      "     --------                                 14.1/65.9 MB 6.4 MB/s eta 0:00:09\n",
      "     --------                                 14.4/65.9 MB 6.5 MB/s eta 0:00:08\n",
      "     --------                                 14.8/65.9 MB 6.4 MB/s eta 0:00:08\n",
      "     ---------                                15.1/65.9 MB 6.7 MB/s eta 0:00:08\n",
      "     ---------                                15.4/65.9 MB 6.6 MB/s eta 0:00:08\n",
      "     ---------                                15.7/65.9 MB 6.7 MB/s eta 0:00:08\n",
      "     ---------                                16.0/65.9 MB 6.7 MB/s eta 0:00:08\n",
      "     ---------                                16.4/65.9 MB 6.9 MB/s eta 0:00:08\n",
      "     ----------                               16.7/65.9 MB 6.9 MB/s eta 0:00:08\n",
      "     ----------                               16.9/65.9 MB 6.9 MB/s eta 0:00:08\n",
      "     ----------                               17.3/65.9 MB 7.0 MB/s eta 0:00:07\n",
      "     ----------                               17.4/65.9 MB 6.9 MB/s eta 0:00:08\n",
      "     ----------                               17.8/65.9 MB 7.0 MB/s eta 0:00:07\n",
      "     ----------                               18.1/65.9 MB 6.9 MB/s eta 0:00:07\n",
      "     -----------                              18.5/65.9 MB 7.0 MB/s eta 0:00:07\n",
      "     -----------                              18.8/65.9 MB 7.0 MB/s eta 0:00:07\n",
      "     -----------                              19.2/65.9 MB 7.0 MB/s eta 0:00:07\n",
      "     -----------                              19.5/65.9 MB 7.0 MB/s eta 0:00:07\n",
      "     -----------                              19.6/65.9 MB 6.8 MB/s eta 0:00:07\n",
      "     ------------                             19.9/65.9 MB 6.8 MB/s eta 0:00:07\n",
      "     ------------                             20.2/65.9 MB 6.7 MB/s eta 0:00:07\n",
      "     ------------                             20.5/65.9 MB 6.8 MB/s eta 0:00:07\n",
      "     ------------                             20.9/65.9 MB 6.7 MB/s eta 0:00:07\n",
      "     ------------                             21.1/65.9 MB 6.8 MB/s eta 0:00:07\n",
      "     -------------                            21.5/65.9 MB 6.7 MB/s eta 0:00:07\n",
      "     -------------                            21.9/65.9 MB 6.8 MB/s eta 0:00:07\n",
      "     -------------                            22.2/65.9 MB 6.8 MB/s eta 0:00:07\n",
      "     -------------                            22.6/65.9 MB 6.8 MB/s eta 0:00:07\n",
      "     -------------                            22.9/65.9 MB 6.7 MB/s eta 0:00:07\n",
      "     --------------                           23.2/65.9 MB 6.7 MB/s eta 0:00:07\n",
      "     --------------                           23.6/65.9 MB 6.7 MB/s eta 0:00:07\n",
      "     --------------                           23.9/65.9 MB 6.7 MB/s eta 0:00:07\n",
      "     --------------                           24.2/65.9 MB 6.7 MB/s eta 0:00:07\n",
      "     --------------                           24.6/65.9 MB 6.6 MB/s eta 0:00:07\n",
      "     ---------------                          24.9/65.9 MB 6.7 MB/s eta 0:00:07\n",
      "     ---------------                          25.3/65.9 MB 6.7 MB/s eta 0:00:07\n",
      "     ---------------                          25.6/65.9 MB 6.8 MB/s eta 0:00:06\n",
      "     ---------------                          26.0/65.9 MB 6.8 MB/s eta 0:00:06\n",
      "     ----------------                         26.4/65.9 MB 6.9 MB/s eta 0:00:06\n",
      "     ----------------                         26.6/65.9 MB 6.8 MB/s eta 0:00:06\n",
      "     ----------------                         26.9/65.9 MB 6.8 MB/s eta 0:00:06\n",
      "     ----------------                         27.2/65.9 MB 6.8 MB/s eta 0:00:06\n",
      "     ----------------                         27.4/65.9 MB 6.7 MB/s eta 0:00:06\n",
      "     ----------------                         27.7/65.9 MB 6.8 MB/s eta 0:00:06\n",
      "     ----------------                         27.9/65.9 MB 6.7 MB/s eta 0:00:06\n",
      "     -----------------                        28.1/65.9 MB 6.6 MB/s eta 0:00:06\n",
      "     -----------------                        28.5/65.9 MB 6.7 MB/s eta 0:00:06\n",
      "     -----------------                        28.8/65.9 MB 6.7 MB/s eta 0:00:06\n",
      "     -----------------                        29.2/65.9 MB 6.6 MB/s eta 0:00:06\n",
      "     -----------------                        29.7/65.9 MB 6.7 MB/s eta 0:00:06\n",
      "     ------------------                       30.1/65.9 MB 6.8 MB/s eta 0:00:06\n",
      "     ------------------                       30.4/65.9 MB 6.8 MB/s eta 0:00:06\n",
      "     ------------------                       30.7/65.9 MB 6.9 MB/s eta 0:00:06\n",
      "     ------------------                       31.0/65.9 MB 6.9 MB/s eta 0:00:06\n",
      "     -------------------                      31.4/65.9 MB 6.7 MB/s eta 0:00:06\n",
      "     -------------------                      31.7/65.9 MB 6.8 MB/s eta 0:00:06\n",
      "     -------------------                      31.9/65.9 MB 6.7 MB/s eta 0:00:06\n",
      "     -------------------                      32.2/65.9 MB 6.7 MB/s eta 0:00:06\n",
      "     -------------------                      32.5/65.9 MB 6.7 MB/s eta 0:00:06\n",
      "     -------------------                      32.9/65.9 MB 6.7 MB/s eta 0:00:05\n",
      "     --------------------                     33.3/65.9 MB 6.6 MB/s eta 0:00:05\n",
      "     --------------------                     33.8/65.9 MB 6.6 MB/s eta 0:00:05\n",
      "     --------------------                     34.2/65.9 MB 6.7 MB/s eta 0:00:05\n",
      "     --------------------                     34.5/65.9 MB 6.8 MB/s eta 0:00:05\n",
      "     ---------------------                    34.8/65.9 MB 6.7 MB/s eta 0:00:05\n",
      "     ---------------------                    35.1/65.9 MB 6.7 MB/s eta 0:00:05\n",
      "     ---------------------                    35.5/65.9 MB 6.7 MB/s eta 0:00:05\n",
      "     ---------------------                    35.8/65.9 MB 6.7 MB/s eta 0:00:05\n",
      "     ---------------------                    36.3/65.9 MB 6.7 MB/s eta 0:00:05\n",
      "     ----------------------                   36.7/65.9 MB 6.7 MB/s eta 0:00:05\n",
      "     ----------------------                   37.1/65.9 MB 6.8 MB/s eta 0:00:05\n",
      "     ----------------------                   37.5/65.9 MB 7.0 MB/s eta 0:00:05\n",
      "     ----------------------                   37.7/65.9 MB 7.0 MB/s eta 0:00:05\n",
      "     ----------------------                   37.7/65.9 MB 7.0 MB/s eta 0:00:05\n",
      "     ----------------------                   37.9/65.9 MB 6.6 MB/s eta 0:00:05\n",
      "     -----------------------                  38.3/65.9 MB 6.7 MB/s eta 0:00:05\n",
      "     -----------------------                  38.6/65.9 MB 6.8 MB/s eta 0:00:05\n",
      "     -----------------------                  39.0/65.9 MB 6.8 MB/s eta 0:00:04\n",
      "     -----------------------                  39.3/65.9 MB 6.8 MB/s eta 0:00:04\n",
      "     ------------------------                 39.9/65.9 MB 6.9 MB/s eta 0:00:04\n",
      "     ------------------------                 40.3/65.9 MB 7.0 MB/s eta 0:00:04\n",
      "     ------------------------                 40.7/65.9 MB 7.0 MB/s eta 0:00:04\n",
      "     -------------------------                41.2/65.9 MB 7.0 MB/s eta 0:00:04\n",
      "     -------------------------                41.7/65.9 MB 7.2 MB/s eta 0:00:04\n",
      "     -------------------------                41.9/65.9 MB 7.0 MB/s eta 0:00:04\n",
      "     -------------------------                42.3/65.9 MB 7.3 MB/s eta 0:00:04\n",
      "     -------------------------                42.7/65.9 MB 7.3 MB/s eta 0:00:04\n",
      "     --------------------------               43.1/65.9 MB 7.3 MB/s eta 0:00:04\n",
      "     --------------------------               43.6/65.9 MB 7.4 MB/s eta 0:00:04\n",
      "     --------------------------               44.0/65.9 MB 7.5 MB/s eta 0:00:03\n",
      "     --------------------------               44.4/65.9 MB 7.5 MB/s eta 0:00:03\n",
      "     ---------------------------              44.7/65.9 MB 7.5 MB/s eta 0:00:03\n",
      "     ---------------------------              45.1/65.9 MB 7.6 MB/s eta 0:00:03\n",
      "     ---------------------------              45.4/65.9 MB 7.7 MB/s eta 0:00:03\n",
      "     ---------------------------              45.8/65.9 MB 7.5 MB/s eta 0:00:03\n",
      "     ---------------------------              46.1/65.9 MB 7.6 MB/s eta 0:00:03\n",
      "     ----------------------------             46.6/65.9 MB 7.5 MB/s eta 0:00:03\n",
      "     ----------------------------             46.8/65.9 MB 7.4 MB/s eta 0:00:03\n",
      "     ----------------------------             47.4/65.9 MB 7.4 MB/s eta 0:00:03\n",
      "     -----------------------------            47.8/65.9 MB 7.5 MB/s eta 0:00:03\n",
      "     -----------------------------            48.1/65.9 MB 8.0 MB/s eta 0:00:03\n",
      "     -----------------------------            48.4/65.9 MB 7.9 MB/s eta 0:00:03\n",
      "     -----------------------------            48.7/65.9 MB 7.7 MB/s eta 0:00:03\n",
      "     -----------------------------            48.9/65.9 MB 7.7 MB/s eta 0:00:03\n",
      "     -----------------------------            49.3/65.9 MB 7.7 MB/s eta 0:00:03\n",
      "     ------------------------------           49.5/65.9 MB 7.5 MB/s eta 0:00:03\n",
      "     ------------------------------           49.9/65.9 MB 7.6 MB/s eta 0:00:03\n",
      "     ------------------------------           50.2/65.9 MB 7.5 MB/s eta 0:00:03\n",
      "     ------------------------------           50.6/65.9 MB 7.5 MB/s eta 0:00:03\n",
      "     ------------------------------           51.0/65.9 MB 7.6 MB/s eta 0:00:02\n",
      "     -------------------------------          51.3/65.9 MB 7.5 MB/s eta 0:00:02\n",
      "     -------------------------------          51.7/65.9 MB 7.5 MB/s eta 0:00:02\n",
      "     -------------------------------          52.1/65.9 MB 7.6 MB/s eta 0:00:02\n",
      "     -------------------------------          52.4/65.9 MB 7.5 MB/s eta 0:00:02\n",
      "     -------------------------------          52.6/65.9 MB 7.4 MB/s eta 0:00:02\n",
      "     --------------------------------         53.0/65.9 MB 7.4 MB/s eta 0:00:02\n",
      "     --------------------------------         53.3/65.9 MB 7.4 MB/s eta 0:00:02\n",
      "     --------------------------------         53.7/65.9 MB 7.3 MB/s eta 0:00:02\n",
      "     --------------------------------         54.0/65.9 MB 7.3 MB/s eta 0:00:02\n",
      "     ---------------------------------        54.4/65.9 MB 7.2 MB/s eta 0:00:02\n",
      "     ---------------------------------        54.8/65.9 MB 7.3 MB/s eta 0:00:02\n",
      "     ---------------------------------        55.3/65.9 MB 7.2 MB/s eta 0:00:02\n",
      "     ---------------------------------        55.5/65.9 MB 7.2 MB/s eta 0:00:02\n",
      "     ----------------------------------       56.1/65.9 MB 7.3 MB/s eta 0:00:02\n",
      "     ----------------------------------       56.7/65.9 MB 7.3 MB/s eta 0:00:02\n",
      "     ----------------------------------       57.2/65.9 MB 7.4 MB/s eta 0:00:02\n",
      "     ----------------------------------       57.5/65.9 MB 7.3 MB/s eta 0:00:02\n",
      "     -----------------------------------      58.0/65.9 MB 7.4 MB/s eta 0:00:02\n",
      "     -----------------------------------      58.3/65.9 MB 7.4 MB/s eta 0:00:02\n",
      "     -----------------------------------      58.6/65.9 MB 7.2 MB/s eta 0:00:02\n",
      "     -----------------------------------      58.8/65.9 MB 7.4 MB/s eta 0:00:01\n",
      "     -----------------------------------      59.0/65.9 MB 7.4 MB/s eta 0:00:01\n",
      "     -----------------------------------      59.3/65.9 MB 7.4 MB/s eta 0:00:01\n",
      "     ------------------------------------     59.7/65.9 MB 7.3 MB/s eta 0:00:01\n",
      "     ------------------------------------     59.9/65.9 MB 7.3 MB/s eta 0:00:01\n",
      "     ------------------------------------     60.1/65.9 MB 7.2 MB/s eta 0:00:01\n",
      "     ------------------------------------     60.5/65.9 MB 7.2 MB/s eta 0:00:01\n",
      "     ------------------------------------     60.8/65.9 MB 7.0 MB/s eta 0:00:01\n",
      "     -------------------------------------    61.1/65.9 MB 7.1 MB/s eta 0:00:01\n",
      "     -------------------------------------    61.3/65.9 MB 7.0 MB/s eta 0:00:01\n",
      "     -------------------------------------    61.7/65.9 MB 7.0 MB/s eta 0:00:01\n",
      "     -------------------------------------    62.0/65.9 MB 7.0 MB/s eta 0:00:01\n",
      "     -------------------------------------    62.2/65.9 MB 6.9 MB/s eta 0:00:01\n",
      "     -------------------------------------    62.4/65.9 MB 6.8 MB/s eta 0:00:01\n",
      "     --------------------------------------   62.7/65.9 MB 6.8 MB/s eta 0:00:01\n",
      "     --------------------------------------   62.8/65.9 MB 6.7 MB/s eta 0:00:01\n",
      "     --------------------------------------   63.2/65.9 MB 6.7 MB/s eta 0:00:01\n",
      "     --------------------------------------   63.5/65.9 MB 6.6 MB/s eta 0:00:01\n",
      "     --------------------------------------   63.8/65.9 MB 6.5 MB/s eta 0:00:01\n",
      "     --------------------------------------   64.1/65.9 MB 6.5 MB/s eta 0:00:01\n",
      "     ---------------------------------------  64.5/65.9 MB 6.5 MB/s eta 0:00:01\n",
      "     ---------------------------------------  64.7/65.9 MB 6.5 MB/s eta 0:00:01\n",
      "     ---------------------------------------  65.0/65.9 MB 6.4 MB/s eta 0:00:01\n",
      "     ---------------------------------------  65.0/65.9 MB 6.4 MB/s eta 0:00:01\n",
      "     ---------------------------------------  65.3/65.9 MB 6.2 MB/s eta 0:00:01\n",
      "     ---------------------------------------  65.6/65.9 MB 6.2 MB/s eta 0:00:01\n",
      "     ---------------------------------------  65.9/65.9 MB 6.2 MB/s eta 0:00:01\n",
      "     ---------------------------------------  65.9/65.9 MB 6.1 MB/s eta 0:00:01\n",
      "     ---------------------------------------  65.9/65.9 MB 6.1 MB/s eta 0:00:01\n",
      "     ---------------------------------------  65.9/65.9 MB 6.1 MB/s eta 0:00:01\n",
      "     ---------------------------------------  65.9/65.9 MB 6.1 MB/s eta 0:00:01\n",
      "     ---------------------------------------  65.9/65.9 MB 6.1 MB/s eta 0:00:01\n",
      "     ---------------------------------------- 65.9/65.9 MB 4.9 MB/s eta 0:00:00\n",
      "Installing collected packages: kaleido\n",
      "Successfully installed kaleido-0.2.1\n",
      "Note: you may need to restart the kernel to use updated packages.\n"
     ]
    }
   ],
   "source": [
    "pip install -U kaleido"
   ]
  },
  {
   "cell_type": "code",
   "execution_count": 95,
   "id": "a46a0a00",
   "metadata": {
    "scrolled": true
   },
   "outputs": [
    {
     "data": {
      "application/vnd.plotly.v1+json": {
       "config": {
        "plotlyServerURL": "https://plot.ly"
       },
       "data": [
        {
         "alignmentgroup": "True",
         "hovertemplate": "사고유형중분류=횡단중<br>사고유형대분류=%{x}<br>개인형이동장치(PM)=%{y}<extra></extra>",
         "legendgroup": "횡단중",
         "marker": {
          "color": "#636efa",
          "pattern": {
           "shape": ""
          }
         },
         "name": "횡단중",
         "offsetgroup": "횡단중",
         "orientation": "v",
         "showlegend": true,
         "textangle": 0,
         "textfont": {
          "size": 12
         },
         "textposition": "outside",
         "texttemplate": "%{y}",
         "type": "bar",
         "x": [
          "차대사람"
         ],
         "xaxis": "x",
         "y": [
          153
         ],
         "yaxis": "y"
        },
        {
         "alignmentgroup": "True",
         "hovertemplate": "사고유형중분류=차도통행중<br>사고유형대분류=%{x}<br>개인형이동장치(PM)=%{y}<extra></extra>",
         "legendgroup": "차도통행중",
         "marker": {
          "color": "#EF553B",
          "pattern": {
           "shape": ""
          }
         },
         "name": "차도통행중",
         "offsetgroup": "차도통행중",
         "orientation": "v",
         "showlegend": true,
         "textangle": 0,
         "textfont": {
          "size": 12
         },
         "textposition": "outside",
         "texttemplate": "%{y}",
         "type": "bar",
         "x": [
          "차대사람"
         ],
         "xaxis": "x",
         "y": [
          75
         ],
         "yaxis": "y"
        },
        {
         "alignmentgroup": "True",
         "hovertemplate": "사고유형중분류=길가장자리구역통행중<br>사고유형대분류=%{x}<br>개인형이동장치(PM)=%{y}<extra></extra>",
         "legendgroup": "길가장자리구역통행중",
         "marker": {
          "color": "#00cc96",
          "pattern": {
           "shape": ""
          }
         },
         "name": "길가장자리구역통행중",
         "offsetgroup": "길가장자리구역통행중",
         "orientation": "v",
         "showlegend": true,
         "textangle": 0,
         "textfont": {
          "size": 12
         },
         "textposition": "outside",
         "texttemplate": "%{y}",
         "type": "bar",
         "x": [
          "차대사람"
         ],
         "xaxis": "x",
         "y": [
          22
         ],
         "yaxis": "y"
        },
        {
         "alignmentgroup": "True",
         "hovertemplate": "사고유형중분류=보도통행중<br>사고유형대분류=%{x}<br>개인형이동장치(PM)=%{y}<extra></extra>",
         "legendgroup": "보도통행중",
         "marker": {
          "color": "#ab63fa",
          "pattern": {
           "shape": ""
          }
         },
         "name": "보도통행중",
         "offsetgroup": "보도통행중",
         "orientation": "v",
         "showlegend": true,
         "textangle": 0,
         "textfont": {
          "size": 12
         },
         "textposition": "outside",
         "texttemplate": "%{y}",
         "type": "bar",
         "x": [
          "차대사람"
         ],
         "xaxis": "x",
         "y": [
          374
         ],
         "yaxis": "y"
        },
        {
         "alignmentgroup": "True",
         "hovertemplate": "사고유형중분류=기타<br>사고유형대분류=%{x}<br>개인형이동장치(PM)=%{y}<extra></extra>",
         "legendgroup": "기타",
         "marker": {
          "color": "#FFA15A",
          "pattern": {
           "shape": ""
          }
         },
         "name": "기타",
         "offsetgroup": "기타",
         "orientation": "v",
         "showlegend": true,
         "textangle": 0,
         "textfont": {
          "size": 12
         },
         "textposition": "outside",
         "texttemplate": "%{y}",
         "type": "bar",
         "x": [
          "차대사람",
          "차대차",
          "차량단독"
         ],
         "xaxis": "x",
         "y": [
          418,
          425,
          150
         ],
         "yaxis": "y"
        },
        {
         "alignmentgroup": "True",
         "hovertemplate": "사고유형중분류=정면충돌<br>사고유형대분류=%{x}<br>개인형이동장치(PM)=%{y}<extra></extra>",
         "legendgroup": "정면충돌",
         "marker": {
          "color": "#19d3f3",
          "pattern": {
           "shape": ""
          }
         },
         "name": "정면충돌",
         "offsetgroup": "정면충돌",
         "orientation": "v",
         "showlegend": true,
         "textangle": 0,
         "textfont": {
          "size": 12
         },
         "textposition": "outside",
         "texttemplate": "%{y}",
         "type": "bar",
         "x": [
          "차대차"
         ],
         "xaxis": "x",
         "y": [
          94
         ],
         "yaxis": "y"
        },
        {
         "alignmentgroup": "True",
         "hovertemplate": "사고유형중분류=측면충돌<br>사고유형대분류=%{x}<br>개인형이동장치(PM)=%{y}<extra></extra>",
         "legendgroup": "측면충돌",
         "marker": {
          "color": "#FF6692",
          "pattern": {
           "shape": ""
          }
         },
         "name": "측면충돌",
         "offsetgroup": "측면충돌",
         "orientation": "v",
         "showlegend": true,
         "textangle": 0,
         "textfont": {
          "size": 12
         },
         "textposition": "outside",
         "texttemplate": "%{y}",
         "type": "bar",
         "x": [
          "차대차"
         ],
         "xaxis": "x",
         "y": [
          493
         ],
         "yaxis": "y"
        },
        {
         "alignmentgroup": "True",
         "hovertemplate": "사고유형중분류=추돌<br>사고유형대분류=%{x}<br>개인형이동장치(PM)=%{y}<extra></extra>",
         "legendgroup": "추돌",
         "marker": {
          "color": "#B6E880",
          "pattern": {
           "shape": ""
          }
         },
         "name": "추돌",
         "offsetgroup": "추돌",
         "orientation": "v",
         "showlegend": true,
         "textangle": 0,
         "textfont": {
          "size": 12
         },
         "textposition": "outside",
         "texttemplate": "%{y}",
         "type": "bar",
         "x": [
          "차대차"
         ],
         "xaxis": "x",
         "y": [
          68
         ],
         "yaxis": "y"
        },
        {
         "alignmentgroup": "True",
         "hovertemplate": "사고유형중분류=후진중충돌<br>사고유형대분류=%{x}<br>개인형이동장치(PM)=%{y}<extra></extra>",
         "legendgroup": "후진중충돌",
         "marker": {
          "color": "#FF97FF",
          "pattern": {
           "shape": ""
          }
         },
         "name": "후진중충돌",
         "offsetgroup": "후진중충돌",
         "orientation": "v",
         "showlegend": true,
         "textangle": 0,
         "textfont": {
          "size": 12
         },
         "textposition": "outside",
         "texttemplate": "%{y}",
         "type": "bar",
         "x": [
          "차대차"
         ],
         "xaxis": "x",
         "y": [
          2
         ],
         "yaxis": "y"
        },
        {
         "alignmentgroup": "True",
         "hovertemplate": "사고유형중분류=공작물충돌<br>사고유형대분류=%{x}<br>개인형이동장치(PM)=%{y}<extra></extra>",
         "legendgroup": "공작물충돌",
         "marker": {
          "color": "#FECB52",
          "pattern": {
           "shape": ""
          }
         },
         "name": "공작물충돌",
         "offsetgroup": "공작물충돌",
         "orientation": "v",
         "showlegend": true,
         "textangle": 0,
         "textfont": {
          "size": 12
         },
         "textposition": "outside",
         "texttemplate": "%{y}",
         "type": "bar",
         "x": [
          "차량단독"
         ],
         "xaxis": "x",
         "y": [
          23
         ],
         "yaxis": "y"
        },
        {
         "alignmentgroup": "True",
         "hovertemplate": "사고유형중분류=주/정차차량 충돌<br>사고유형대분류=%{x}<br>개인형이동장치(PM)=%{y}<extra></extra>",
         "legendgroup": "주/정차차량 충돌",
         "marker": {
          "color": "#636efa",
          "pattern": {
           "shape": ""
          }
         },
         "name": "주/정차차량 충돌",
         "offsetgroup": "주/정차차량 충돌",
         "orientation": "v",
         "showlegend": true,
         "textangle": 0,
         "textfont": {
          "size": 12
         },
         "textposition": "outside",
         "texttemplate": "%{y}",
         "type": "bar",
         "x": [
          "차량단독"
         ],
         "xaxis": "x",
         "y": [
          1
         ],
         "yaxis": "y"
        },
        {
         "alignmentgroup": "True",
         "hovertemplate": "사고유형중분류=도로이탈<br>사고유형대분류=%{x}<br>개인형이동장치(PM)=%{y}<extra></extra>",
         "legendgroup": "도로이탈",
         "marker": {
          "color": "#EF553B",
          "pattern": {
           "shape": ""
          }
         },
         "name": "도로이탈",
         "offsetgroup": "도로이탈",
         "orientation": "v",
         "showlegend": true,
         "textangle": 0,
         "textfont": {
          "size": 12
         },
         "textposition": "outside",
         "texttemplate": "%{y}",
         "type": "bar",
         "x": [
          "차량단독"
         ],
         "xaxis": "x",
         "y": [
          2
         ],
         "yaxis": "y"
        },
        {
         "alignmentgroup": "True",
         "hovertemplate": "사고유형중분류=전도<br>사고유형대분류=%{x}<br>개인형이동장치(PM)=%{y}<extra></extra>",
         "legendgroup": "전도",
         "marker": {
          "color": "#00cc96",
          "pattern": {
           "shape": ""
          }
         },
         "name": "전도",
         "offsetgroup": "전도",
         "orientation": "v",
         "showlegend": true,
         "textangle": 0,
         "textfont": {
          "size": 12
         },
         "textposition": "outside",
         "texttemplate": "%{y}",
         "type": "bar",
         "x": [
          "차량단독"
         ],
         "xaxis": "x",
         "y": [
          82
         ],
         "yaxis": "y"
        },
        {
         "alignmentgroup": "True",
         "hovertemplate": "사고유형중분류=전복<br>사고유형대분류=%{x}<br>개인형이동장치(PM)=%{y}<extra></extra>",
         "legendgroup": "전복",
         "marker": {
          "color": "#ab63fa",
          "pattern": {
           "shape": ""
          }
         },
         "name": "전복",
         "offsetgroup": "전복",
         "orientation": "v",
         "showlegend": true,
         "textangle": 0,
         "textfont": {
          "size": 12
         },
         "textposition": "outside",
         "texttemplate": "%{y}",
         "type": "bar",
         "x": [
          "차량단독"
         ],
         "xaxis": "x",
         "y": [
          4
         ],
         "yaxis": "y"
        }
       ],
       "layout": {
        "barmode": "group",
        "legend": {
         "title": {
          "text": "사고유형중분류"
         },
         "tracegroupgap": 0
        },
        "margin": {
         "t": 60
        },
        "template": {
         "data": {
          "bar": [
           {
            "error_x": {
             "color": "#2a3f5f"
            },
            "error_y": {
             "color": "#2a3f5f"
            },
            "marker": {
             "line": {
              "color": "#E5ECF6",
              "width": 0.5
             },
             "pattern": {
              "fillmode": "overlay",
              "size": 10,
              "solidity": 0.2
             }
            },
            "type": "bar"
           }
          ],
          "barpolar": [
           {
            "marker": {
             "line": {
              "color": "#E5ECF6",
              "width": 0.5
             },
             "pattern": {
              "fillmode": "overlay",
              "size": 10,
              "solidity": 0.2
             }
            },
            "type": "barpolar"
           }
          ],
          "carpet": [
           {
            "aaxis": {
             "endlinecolor": "#2a3f5f",
             "gridcolor": "white",
             "linecolor": "white",
             "minorgridcolor": "white",
             "startlinecolor": "#2a3f5f"
            },
            "baxis": {
             "endlinecolor": "#2a3f5f",
             "gridcolor": "white",
             "linecolor": "white",
             "minorgridcolor": "white",
             "startlinecolor": "#2a3f5f"
            },
            "type": "carpet"
           }
          ],
          "choropleth": [
           {
            "colorbar": {
             "outlinewidth": 0,
             "ticks": ""
            },
            "type": "choropleth"
           }
          ],
          "contour": [
           {
            "colorbar": {
             "outlinewidth": 0,
             "ticks": ""
            },
            "colorscale": [
             [
              0,
              "#0d0887"
             ],
             [
              0.1111111111111111,
              "#46039f"
             ],
             [
              0.2222222222222222,
              "#7201a8"
             ],
             [
              0.3333333333333333,
              "#9c179e"
             ],
             [
              0.4444444444444444,
              "#bd3786"
             ],
             [
              0.5555555555555556,
              "#d8576b"
             ],
             [
              0.6666666666666666,
              "#ed7953"
             ],
             [
              0.7777777777777778,
              "#fb9f3a"
             ],
             [
              0.8888888888888888,
              "#fdca26"
             ],
             [
              1,
              "#f0f921"
             ]
            ],
            "type": "contour"
           }
          ],
          "contourcarpet": [
           {
            "colorbar": {
             "outlinewidth": 0,
             "ticks": ""
            },
            "type": "contourcarpet"
           }
          ],
          "heatmap": [
           {
            "colorbar": {
             "outlinewidth": 0,
             "ticks": ""
            },
            "colorscale": [
             [
              0,
              "#0d0887"
             ],
             [
              0.1111111111111111,
              "#46039f"
             ],
             [
              0.2222222222222222,
              "#7201a8"
             ],
             [
              0.3333333333333333,
              "#9c179e"
             ],
             [
              0.4444444444444444,
              "#bd3786"
             ],
             [
              0.5555555555555556,
              "#d8576b"
             ],
             [
              0.6666666666666666,
              "#ed7953"
             ],
             [
              0.7777777777777778,
              "#fb9f3a"
             ],
             [
              0.8888888888888888,
              "#fdca26"
             ],
             [
              1,
              "#f0f921"
             ]
            ],
            "type": "heatmap"
           }
          ],
          "heatmapgl": [
           {
            "colorbar": {
             "outlinewidth": 0,
             "ticks": ""
            },
            "colorscale": [
             [
              0,
              "#0d0887"
             ],
             [
              0.1111111111111111,
              "#46039f"
             ],
             [
              0.2222222222222222,
              "#7201a8"
             ],
             [
              0.3333333333333333,
              "#9c179e"
             ],
             [
              0.4444444444444444,
              "#bd3786"
             ],
             [
              0.5555555555555556,
              "#d8576b"
             ],
             [
              0.6666666666666666,
              "#ed7953"
             ],
             [
              0.7777777777777778,
              "#fb9f3a"
             ],
             [
              0.8888888888888888,
              "#fdca26"
             ],
             [
              1,
              "#f0f921"
             ]
            ],
            "type": "heatmapgl"
           }
          ],
          "histogram": [
           {
            "marker": {
             "pattern": {
              "fillmode": "overlay",
              "size": 10,
              "solidity": 0.2
             }
            },
            "type": "histogram"
           }
          ],
          "histogram2d": [
           {
            "colorbar": {
             "outlinewidth": 0,
             "ticks": ""
            },
            "colorscale": [
             [
              0,
              "#0d0887"
             ],
             [
              0.1111111111111111,
              "#46039f"
             ],
             [
              0.2222222222222222,
              "#7201a8"
             ],
             [
              0.3333333333333333,
              "#9c179e"
             ],
             [
              0.4444444444444444,
              "#bd3786"
             ],
             [
              0.5555555555555556,
              "#d8576b"
             ],
             [
              0.6666666666666666,
              "#ed7953"
             ],
             [
              0.7777777777777778,
              "#fb9f3a"
             ],
             [
              0.8888888888888888,
              "#fdca26"
             ],
             [
              1,
              "#f0f921"
             ]
            ],
            "type": "histogram2d"
           }
          ],
          "histogram2dcontour": [
           {
            "colorbar": {
             "outlinewidth": 0,
             "ticks": ""
            },
            "colorscale": [
             [
              0,
              "#0d0887"
             ],
             [
              0.1111111111111111,
              "#46039f"
             ],
             [
              0.2222222222222222,
              "#7201a8"
             ],
             [
              0.3333333333333333,
              "#9c179e"
             ],
             [
              0.4444444444444444,
              "#bd3786"
             ],
             [
              0.5555555555555556,
              "#d8576b"
             ],
             [
              0.6666666666666666,
              "#ed7953"
             ],
             [
              0.7777777777777778,
              "#fb9f3a"
             ],
             [
              0.8888888888888888,
              "#fdca26"
             ],
             [
              1,
              "#f0f921"
             ]
            ],
            "type": "histogram2dcontour"
           }
          ],
          "mesh3d": [
           {
            "colorbar": {
             "outlinewidth": 0,
             "ticks": ""
            },
            "type": "mesh3d"
           }
          ],
          "parcoords": [
           {
            "line": {
             "colorbar": {
              "outlinewidth": 0,
              "ticks": ""
             }
            },
            "type": "parcoords"
           }
          ],
          "pie": [
           {
            "automargin": true,
            "type": "pie"
           }
          ],
          "scatter": [
           {
            "fillpattern": {
             "fillmode": "overlay",
             "size": 10,
             "solidity": 0.2
            },
            "type": "scatter"
           }
          ],
          "scatter3d": [
           {
            "line": {
             "colorbar": {
              "outlinewidth": 0,
              "ticks": ""
             }
            },
            "marker": {
             "colorbar": {
              "outlinewidth": 0,
              "ticks": ""
             }
            },
            "type": "scatter3d"
           }
          ],
          "scattercarpet": [
           {
            "marker": {
             "colorbar": {
              "outlinewidth": 0,
              "ticks": ""
             }
            },
            "type": "scattercarpet"
           }
          ],
          "scattergeo": [
           {
            "marker": {
             "colorbar": {
              "outlinewidth": 0,
              "ticks": ""
             }
            },
            "type": "scattergeo"
           }
          ],
          "scattergl": [
           {
            "marker": {
             "colorbar": {
              "outlinewidth": 0,
              "ticks": ""
             }
            },
            "type": "scattergl"
           }
          ],
          "scattermapbox": [
           {
            "marker": {
             "colorbar": {
              "outlinewidth": 0,
              "ticks": ""
             }
            },
            "type": "scattermapbox"
           }
          ],
          "scatterpolar": [
           {
            "marker": {
             "colorbar": {
              "outlinewidth": 0,
              "ticks": ""
             }
            },
            "type": "scatterpolar"
           }
          ],
          "scatterpolargl": [
           {
            "marker": {
             "colorbar": {
              "outlinewidth": 0,
              "ticks": ""
             }
            },
            "type": "scatterpolargl"
           }
          ],
          "scatterternary": [
           {
            "marker": {
             "colorbar": {
              "outlinewidth": 0,
              "ticks": ""
             }
            },
            "type": "scatterternary"
           }
          ],
          "surface": [
           {
            "colorbar": {
             "outlinewidth": 0,
             "ticks": ""
            },
            "colorscale": [
             [
              0,
              "#0d0887"
             ],
             [
              0.1111111111111111,
              "#46039f"
             ],
             [
              0.2222222222222222,
              "#7201a8"
             ],
             [
              0.3333333333333333,
              "#9c179e"
             ],
             [
              0.4444444444444444,
              "#bd3786"
             ],
             [
              0.5555555555555556,
              "#d8576b"
             ],
             [
              0.6666666666666666,
              "#ed7953"
             ],
             [
              0.7777777777777778,
              "#fb9f3a"
             ],
             [
              0.8888888888888888,
              "#fdca26"
             ],
             [
              1,
              "#f0f921"
             ]
            ],
            "type": "surface"
           }
          ],
          "table": [
           {
            "cells": {
             "fill": {
              "color": "#EBF0F8"
             },
             "line": {
              "color": "white"
             }
            },
            "header": {
             "fill": {
              "color": "#C8D4E3"
             },
             "line": {
              "color": "white"
             }
            },
            "type": "table"
           }
          ]
         },
         "layout": {
          "annotationdefaults": {
           "arrowcolor": "#2a3f5f",
           "arrowhead": 0,
           "arrowwidth": 1
          },
          "autotypenumbers": "strict",
          "coloraxis": {
           "colorbar": {
            "outlinewidth": 0,
            "ticks": ""
           }
          },
          "colorscale": {
           "diverging": [
            [
             0,
             "#8e0152"
            ],
            [
             0.1,
             "#c51b7d"
            ],
            [
             0.2,
             "#de77ae"
            ],
            [
             0.3,
             "#f1b6da"
            ],
            [
             0.4,
             "#fde0ef"
            ],
            [
             0.5,
             "#f7f7f7"
            ],
            [
             0.6,
             "#e6f5d0"
            ],
            [
             0.7,
             "#b8e186"
            ],
            [
             0.8,
             "#7fbc41"
            ],
            [
             0.9,
             "#4d9221"
            ],
            [
             1,
             "#276419"
            ]
           ],
           "sequential": [
            [
             0,
             "#0d0887"
            ],
            [
             0.1111111111111111,
             "#46039f"
            ],
            [
             0.2222222222222222,
             "#7201a8"
            ],
            [
             0.3333333333333333,
             "#9c179e"
            ],
            [
             0.4444444444444444,
             "#bd3786"
            ],
            [
             0.5555555555555556,
             "#d8576b"
            ],
            [
             0.6666666666666666,
             "#ed7953"
            ],
            [
             0.7777777777777778,
             "#fb9f3a"
            ],
            [
             0.8888888888888888,
             "#fdca26"
            ],
            [
             1,
             "#f0f921"
            ]
           ],
           "sequentialminus": [
            [
             0,
             "#0d0887"
            ],
            [
             0.1111111111111111,
             "#46039f"
            ],
            [
             0.2222222222222222,
             "#7201a8"
            ],
            [
             0.3333333333333333,
             "#9c179e"
            ],
            [
             0.4444444444444444,
             "#bd3786"
            ],
            [
             0.5555555555555556,
             "#d8576b"
            ],
            [
             0.6666666666666666,
             "#ed7953"
            ],
            [
             0.7777777777777778,
             "#fb9f3a"
            ],
            [
             0.8888888888888888,
             "#fdca26"
            ],
            [
             1,
             "#f0f921"
            ]
           ]
          },
          "colorway": [
           "#636efa",
           "#EF553B",
           "#00cc96",
           "#ab63fa",
           "#FFA15A",
           "#19d3f3",
           "#FF6692",
           "#B6E880",
           "#FF97FF",
           "#FECB52"
          ],
          "font": {
           "color": "#2a3f5f"
          },
          "geo": {
           "bgcolor": "white",
           "lakecolor": "white",
           "landcolor": "#E5ECF6",
           "showlakes": true,
           "showland": true,
           "subunitcolor": "white"
          },
          "hoverlabel": {
           "align": "left"
          },
          "hovermode": "closest",
          "mapbox": {
           "style": "light"
          },
          "paper_bgcolor": "white",
          "plot_bgcolor": "#E5ECF6",
          "polar": {
           "angularaxis": {
            "gridcolor": "white",
            "linecolor": "white",
            "ticks": ""
           },
           "bgcolor": "#E5ECF6",
           "radialaxis": {
            "gridcolor": "white",
            "linecolor": "white",
            "ticks": ""
           }
          },
          "scene": {
           "xaxis": {
            "backgroundcolor": "#E5ECF6",
            "gridcolor": "white",
            "gridwidth": 2,
            "linecolor": "white",
            "showbackground": true,
            "ticks": "",
            "zerolinecolor": "white"
           },
           "yaxis": {
            "backgroundcolor": "#E5ECF6",
            "gridcolor": "white",
            "gridwidth": 2,
            "linecolor": "white",
            "showbackground": true,
            "ticks": "",
            "zerolinecolor": "white"
           },
           "zaxis": {
            "backgroundcolor": "#E5ECF6",
            "gridcolor": "white",
            "gridwidth": 2,
            "linecolor": "white",
            "showbackground": true,
            "ticks": "",
            "zerolinecolor": "white"
           }
          },
          "shapedefaults": {
           "line": {
            "color": "#2a3f5f"
           }
          },
          "ternary": {
           "aaxis": {
            "gridcolor": "white",
            "linecolor": "white",
            "ticks": ""
           },
           "baxis": {
            "gridcolor": "white",
            "linecolor": "white",
            "ticks": ""
           },
           "bgcolor": "#E5ECF6",
           "caxis": {
            "gridcolor": "white",
            "linecolor": "white",
            "ticks": ""
           }
          },
          "title": {
           "x": 0.05
          },
          "xaxis": {
           "automargin": true,
           "gridcolor": "white",
           "linecolor": "white",
           "ticks": "",
           "title": {
            "standoff": 15
           },
           "zerolinecolor": "white",
           "zerolinewidth": 2
          },
          "yaxis": {
           "automargin": true,
           "gridcolor": "white",
           "linecolor": "white",
           "ticks": "",
           "title": {
            "standoff": 15
           },
           "zerolinecolor": "white",
           "zerolinewidth": 2
          }
         }
        },
        "title": {
         "font": {
          "size": 16
         },
         "text": "2022년 킥보드 사고 세부 유형"
        },
        "xaxis": {
         "anchor": "y",
         "domain": [
          0,
          1
         ],
         "title": {
          "text": "사고유형대분류"
         }
        },
        "yaxis": {
         "anchor": "x",
         "domain": [
          0,
          1
         ],
         "title": {
          "text": "개인형이동장치(PM)"
         }
        }
       }
      },
      "text/html": [
       "<div>                            <div id=\"46e6973e-4961-4f88-8605-0b0dd1c2cc75\" class=\"plotly-graph-div\" style=\"height:525px; width:100%;\"></div>            <script type=\"text/javascript\">                require([\"plotly\"], function(Plotly) {                    window.PLOTLYENV=window.PLOTLYENV || {};                                    if (document.getElementById(\"46e6973e-4961-4f88-8605-0b0dd1c2cc75\")) {                    Plotly.newPlot(                        \"46e6973e-4961-4f88-8605-0b0dd1c2cc75\",                        [{\"alignmentgroup\":\"True\",\"hovertemplate\":\"\\uc0ac\\uace0\\uc720\\ud615\\uc911\\ubd84\\ub958=\\ud6a1\\ub2e8\\uc911\\u003cbr\\u003e\\uc0ac\\uace0\\uc720\\ud615\\ub300\\ubd84\\ub958=%{x}\\u003cbr\\u003e\\uac1c\\uc778\\ud615\\uc774\\ub3d9\\uc7a5\\uce58(PM)=%{y}\\u003cextra\\u003e\\u003c\\u002fextra\\u003e\",\"legendgroup\":\"\\ud6a1\\ub2e8\\uc911\",\"marker\":{\"color\":\"#636efa\",\"pattern\":{\"shape\":\"\"}},\"name\":\"\\ud6a1\\ub2e8\\uc911\",\"offsetgroup\":\"\\ud6a1\\ub2e8\\uc911\",\"orientation\":\"v\",\"showlegend\":true,\"textposition\":\"outside\",\"texttemplate\":\"%{y}\",\"x\":[\"\\ucc28\\ub300\\uc0ac\\ub78c\"],\"xaxis\":\"x\",\"y\":[153],\"yaxis\":\"y\",\"type\":\"bar\",\"textfont\":{\"size\":12},\"textangle\":0},{\"alignmentgroup\":\"True\",\"hovertemplate\":\"\\uc0ac\\uace0\\uc720\\ud615\\uc911\\ubd84\\ub958=\\ucc28\\ub3c4\\ud1b5\\ud589\\uc911\\u003cbr\\u003e\\uc0ac\\uace0\\uc720\\ud615\\ub300\\ubd84\\ub958=%{x}\\u003cbr\\u003e\\uac1c\\uc778\\ud615\\uc774\\ub3d9\\uc7a5\\uce58(PM)=%{y}\\u003cextra\\u003e\\u003c\\u002fextra\\u003e\",\"legendgroup\":\"\\ucc28\\ub3c4\\ud1b5\\ud589\\uc911\",\"marker\":{\"color\":\"#EF553B\",\"pattern\":{\"shape\":\"\"}},\"name\":\"\\ucc28\\ub3c4\\ud1b5\\ud589\\uc911\",\"offsetgroup\":\"\\ucc28\\ub3c4\\ud1b5\\ud589\\uc911\",\"orientation\":\"v\",\"showlegend\":true,\"textposition\":\"outside\",\"texttemplate\":\"%{y}\",\"x\":[\"\\ucc28\\ub300\\uc0ac\\ub78c\"],\"xaxis\":\"x\",\"y\":[75],\"yaxis\":\"y\",\"type\":\"bar\",\"textfont\":{\"size\":12},\"textangle\":0},{\"alignmentgroup\":\"True\",\"hovertemplate\":\"\\uc0ac\\uace0\\uc720\\ud615\\uc911\\ubd84\\ub958=\\uae38\\uac00\\uc7a5\\uc790\\ub9ac\\uad6c\\uc5ed\\ud1b5\\ud589\\uc911\\u003cbr\\u003e\\uc0ac\\uace0\\uc720\\ud615\\ub300\\ubd84\\ub958=%{x}\\u003cbr\\u003e\\uac1c\\uc778\\ud615\\uc774\\ub3d9\\uc7a5\\uce58(PM)=%{y}\\u003cextra\\u003e\\u003c\\u002fextra\\u003e\",\"legendgroup\":\"\\uae38\\uac00\\uc7a5\\uc790\\ub9ac\\uad6c\\uc5ed\\ud1b5\\ud589\\uc911\",\"marker\":{\"color\":\"#00cc96\",\"pattern\":{\"shape\":\"\"}},\"name\":\"\\uae38\\uac00\\uc7a5\\uc790\\ub9ac\\uad6c\\uc5ed\\ud1b5\\ud589\\uc911\",\"offsetgroup\":\"\\uae38\\uac00\\uc7a5\\uc790\\ub9ac\\uad6c\\uc5ed\\ud1b5\\ud589\\uc911\",\"orientation\":\"v\",\"showlegend\":true,\"textposition\":\"outside\",\"texttemplate\":\"%{y}\",\"x\":[\"\\ucc28\\ub300\\uc0ac\\ub78c\"],\"xaxis\":\"x\",\"y\":[22],\"yaxis\":\"y\",\"type\":\"bar\",\"textfont\":{\"size\":12},\"textangle\":0},{\"alignmentgroup\":\"True\",\"hovertemplate\":\"\\uc0ac\\uace0\\uc720\\ud615\\uc911\\ubd84\\ub958=\\ubcf4\\ub3c4\\ud1b5\\ud589\\uc911\\u003cbr\\u003e\\uc0ac\\uace0\\uc720\\ud615\\ub300\\ubd84\\ub958=%{x}\\u003cbr\\u003e\\uac1c\\uc778\\ud615\\uc774\\ub3d9\\uc7a5\\uce58(PM)=%{y}\\u003cextra\\u003e\\u003c\\u002fextra\\u003e\",\"legendgroup\":\"\\ubcf4\\ub3c4\\ud1b5\\ud589\\uc911\",\"marker\":{\"color\":\"#ab63fa\",\"pattern\":{\"shape\":\"\"}},\"name\":\"\\ubcf4\\ub3c4\\ud1b5\\ud589\\uc911\",\"offsetgroup\":\"\\ubcf4\\ub3c4\\ud1b5\\ud589\\uc911\",\"orientation\":\"v\",\"showlegend\":true,\"textposition\":\"outside\",\"texttemplate\":\"%{y}\",\"x\":[\"\\ucc28\\ub300\\uc0ac\\ub78c\"],\"xaxis\":\"x\",\"y\":[374],\"yaxis\":\"y\",\"type\":\"bar\",\"textfont\":{\"size\":12},\"textangle\":0},{\"alignmentgroup\":\"True\",\"hovertemplate\":\"\\uc0ac\\uace0\\uc720\\ud615\\uc911\\ubd84\\ub958=\\uae30\\ud0c0\\u003cbr\\u003e\\uc0ac\\uace0\\uc720\\ud615\\ub300\\ubd84\\ub958=%{x}\\u003cbr\\u003e\\uac1c\\uc778\\ud615\\uc774\\ub3d9\\uc7a5\\uce58(PM)=%{y}\\u003cextra\\u003e\\u003c\\u002fextra\\u003e\",\"legendgroup\":\"\\uae30\\ud0c0\",\"marker\":{\"color\":\"#FFA15A\",\"pattern\":{\"shape\":\"\"}},\"name\":\"\\uae30\\ud0c0\",\"offsetgroup\":\"\\uae30\\ud0c0\",\"orientation\":\"v\",\"showlegend\":true,\"textposition\":\"outside\",\"texttemplate\":\"%{y}\",\"x\":[\"\\ucc28\\ub300\\uc0ac\\ub78c\",\"\\ucc28\\ub300\\ucc28\",\"\\ucc28\\ub7c9\\ub2e8\\ub3c5\"],\"xaxis\":\"x\",\"y\":[418,425,150],\"yaxis\":\"y\",\"type\":\"bar\",\"textfont\":{\"size\":12},\"textangle\":0},{\"alignmentgroup\":\"True\",\"hovertemplate\":\"\\uc0ac\\uace0\\uc720\\ud615\\uc911\\ubd84\\ub958=\\uc815\\uba74\\ucda9\\ub3cc\\u003cbr\\u003e\\uc0ac\\uace0\\uc720\\ud615\\ub300\\ubd84\\ub958=%{x}\\u003cbr\\u003e\\uac1c\\uc778\\ud615\\uc774\\ub3d9\\uc7a5\\uce58(PM)=%{y}\\u003cextra\\u003e\\u003c\\u002fextra\\u003e\",\"legendgroup\":\"\\uc815\\uba74\\ucda9\\ub3cc\",\"marker\":{\"color\":\"#19d3f3\",\"pattern\":{\"shape\":\"\"}},\"name\":\"\\uc815\\uba74\\ucda9\\ub3cc\",\"offsetgroup\":\"\\uc815\\uba74\\ucda9\\ub3cc\",\"orientation\":\"v\",\"showlegend\":true,\"textposition\":\"outside\",\"texttemplate\":\"%{y}\",\"x\":[\"\\ucc28\\ub300\\ucc28\"],\"xaxis\":\"x\",\"y\":[94],\"yaxis\":\"y\",\"type\":\"bar\",\"textfont\":{\"size\":12},\"textangle\":0},{\"alignmentgroup\":\"True\",\"hovertemplate\":\"\\uc0ac\\uace0\\uc720\\ud615\\uc911\\ubd84\\ub958=\\uce21\\uba74\\ucda9\\ub3cc\\u003cbr\\u003e\\uc0ac\\uace0\\uc720\\ud615\\ub300\\ubd84\\ub958=%{x}\\u003cbr\\u003e\\uac1c\\uc778\\ud615\\uc774\\ub3d9\\uc7a5\\uce58(PM)=%{y}\\u003cextra\\u003e\\u003c\\u002fextra\\u003e\",\"legendgroup\":\"\\uce21\\uba74\\ucda9\\ub3cc\",\"marker\":{\"color\":\"#FF6692\",\"pattern\":{\"shape\":\"\"}},\"name\":\"\\uce21\\uba74\\ucda9\\ub3cc\",\"offsetgroup\":\"\\uce21\\uba74\\ucda9\\ub3cc\",\"orientation\":\"v\",\"showlegend\":true,\"textposition\":\"outside\",\"texttemplate\":\"%{y}\",\"x\":[\"\\ucc28\\ub300\\ucc28\"],\"xaxis\":\"x\",\"y\":[493],\"yaxis\":\"y\",\"type\":\"bar\",\"textfont\":{\"size\":12},\"textangle\":0},{\"alignmentgroup\":\"True\",\"hovertemplate\":\"\\uc0ac\\uace0\\uc720\\ud615\\uc911\\ubd84\\ub958=\\ucd94\\ub3cc\\u003cbr\\u003e\\uc0ac\\uace0\\uc720\\ud615\\ub300\\ubd84\\ub958=%{x}\\u003cbr\\u003e\\uac1c\\uc778\\ud615\\uc774\\ub3d9\\uc7a5\\uce58(PM)=%{y}\\u003cextra\\u003e\\u003c\\u002fextra\\u003e\",\"legendgroup\":\"\\ucd94\\ub3cc\",\"marker\":{\"color\":\"#B6E880\",\"pattern\":{\"shape\":\"\"}},\"name\":\"\\ucd94\\ub3cc\",\"offsetgroup\":\"\\ucd94\\ub3cc\",\"orientation\":\"v\",\"showlegend\":true,\"textposition\":\"outside\",\"texttemplate\":\"%{y}\",\"x\":[\"\\ucc28\\ub300\\ucc28\"],\"xaxis\":\"x\",\"y\":[68],\"yaxis\":\"y\",\"type\":\"bar\",\"textfont\":{\"size\":12},\"textangle\":0},{\"alignmentgroup\":\"True\",\"hovertemplate\":\"\\uc0ac\\uace0\\uc720\\ud615\\uc911\\ubd84\\ub958=\\ud6c4\\uc9c4\\uc911\\ucda9\\ub3cc\\u003cbr\\u003e\\uc0ac\\uace0\\uc720\\ud615\\ub300\\ubd84\\ub958=%{x}\\u003cbr\\u003e\\uac1c\\uc778\\ud615\\uc774\\ub3d9\\uc7a5\\uce58(PM)=%{y}\\u003cextra\\u003e\\u003c\\u002fextra\\u003e\",\"legendgroup\":\"\\ud6c4\\uc9c4\\uc911\\ucda9\\ub3cc\",\"marker\":{\"color\":\"#FF97FF\",\"pattern\":{\"shape\":\"\"}},\"name\":\"\\ud6c4\\uc9c4\\uc911\\ucda9\\ub3cc\",\"offsetgroup\":\"\\ud6c4\\uc9c4\\uc911\\ucda9\\ub3cc\",\"orientation\":\"v\",\"showlegend\":true,\"textposition\":\"outside\",\"texttemplate\":\"%{y}\",\"x\":[\"\\ucc28\\ub300\\ucc28\"],\"xaxis\":\"x\",\"y\":[2],\"yaxis\":\"y\",\"type\":\"bar\",\"textfont\":{\"size\":12},\"textangle\":0},{\"alignmentgroup\":\"True\",\"hovertemplate\":\"\\uc0ac\\uace0\\uc720\\ud615\\uc911\\ubd84\\ub958=\\uacf5\\uc791\\ubb3c\\ucda9\\ub3cc\\u003cbr\\u003e\\uc0ac\\uace0\\uc720\\ud615\\ub300\\ubd84\\ub958=%{x}\\u003cbr\\u003e\\uac1c\\uc778\\ud615\\uc774\\ub3d9\\uc7a5\\uce58(PM)=%{y}\\u003cextra\\u003e\\u003c\\u002fextra\\u003e\",\"legendgroup\":\"\\uacf5\\uc791\\ubb3c\\ucda9\\ub3cc\",\"marker\":{\"color\":\"#FECB52\",\"pattern\":{\"shape\":\"\"}},\"name\":\"\\uacf5\\uc791\\ubb3c\\ucda9\\ub3cc\",\"offsetgroup\":\"\\uacf5\\uc791\\ubb3c\\ucda9\\ub3cc\",\"orientation\":\"v\",\"showlegend\":true,\"textposition\":\"outside\",\"texttemplate\":\"%{y}\",\"x\":[\"\\ucc28\\ub7c9\\ub2e8\\ub3c5\"],\"xaxis\":\"x\",\"y\":[23],\"yaxis\":\"y\",\"type\":\"bar\",\"textfont\":{\"size\":12},\"textangle\":0},{\"alignmentgroup\":\"True\",\"hovertemplate\":\"\\uc0ac\\uace0\\uc720\\ud615\\uc911\\ubd84\\ub958=\\uc8fc\\u002f\\uc815\\ucc28\\ucc28\\ub7c9 \\ucda9\\ub3cc\\u003cbr\\u003e\\uc0ac\\uace0\\uc720\\ud615\\ub300\\ubd84\\ub958=%{x}\\u003cbr\\u003e\\uac1c\\uc778\\ud615\\uc774\\ub3d9\\uc7a5\\uce58(PM)=%{y}\\u003cextra\\u003e\\u003c\\u002fextra\\u003e\",\"legendgroup\":\"\\uc8fc\\u002f\\uc815\\ucc28\\ucc28\\ub7c9 \\ucda9\\ub3cc\",\"marker\":{\"color\":\"#636efa\",\"pattern\":{\"shape\":\"\"}},\"name\":\"\\uc8fc\\u002f\\uc815\\ucc28\\ucc28\\ub7c9 \\ucda9\\ub3cc\",\"offsetgroup\":\"\\uc8fc\\u002f\\uc815\\ucc28\\ucc28\\ub7c9 \\ucda9\\ub3cc\",\"orientation\":\"v\",\"showlegend\":true,\"textposition\":\"outside\",\"texttemplate\":\"%{y}\",\"x\":[\"\\ucc28\\ub7c9\\ub2e8\\ub3c5\"],\"xaxis\":\"x\",\"y\":[1],\"yaxis\":\"y\",\"type\":\"bar\",\"textfont\":{\"size\":12},\"textangle\":0},{\"alignmentgroup\":\"True\",\"hovertemplate\":\"\\uc0ac\\uace0\\uc720\\ud615\\uc911\\ubd84\\ub958=\\ub3c4\\ub85c\\uc774\\ud0c8\\u003cbr\\u003e\\uc0ac\\uace0\\uc720\\ud615\\ub300\\ubd84\\ub958=%{x}\\u003cbr\\u003e\\uac1c\\uc778\\ud615\\uc774\\ub3d9\\uc7a5\\uce58(PM)=%{y}\\u003cextra\\u003e\\u003c\\u002fextra\\u003e\",\"legendgroup\":\"\\ub3c4\\ub85c\\uc774\\ud0c8\",\"marker\":{\"color\":\"#EF553B\",\"pattern\":{\"shape\":\"\"}},\"name\":\"\\ub3c4\\ub85c\\uc774\\ud0c8\",\"offsetgroup\":\"\\ub3c4\\ub85c\\uc774\\ud0c8\",\"orientation\":\"v\",\"showlegend\":true,\"textposition\":\"outside\",\"texttemplate\":\"%{y}\",\"x\":[\"\\ucc28\\ub7c9\\ub2e8\\ub3c5\"],\"xaxis\":\"x\",\"y\":[2],\"yaxis\":\"y\",\"type\":\"bar\",\"textfont\":{\"size\":12},\"textangle\":0},{\"alignmentgroup\":\"True\",\"hovertemplate\":\"\\uc0ac\\uace0\\uc720\\ud615\\uc911\\ubd84\\ub958=\\uc804\\ub3c4\\u003cbr\\u003e\\uc0ac\\uace0\\uc720\\ud615\\ub300\\ubd84\\ub958=%{x}\\u003cbr\\u003e\\uac1c\\uc778\\ud615\\uc774\\ub3d9\\uc7a5\\uce58(PM)=%{y}\\u003cextra\\u003e\\u003c\\u002fextra\\u003e\",\"legendgroup\":\"\\uc804\\ub3c4\",\"marker\":{\"color\":\"#00cc96\",\"pattern\":{\"shape\":\"\"}},\"name\":\"\\uc804\\ub3c4\",\"offsetgroup\":\"\\uc804\\ub3c4\",\"orientation\":\"v\",\"showlegend\":true,\"textposition\":\"outside\",\"texttemplate\":\"%{y}\",\"x\":[\"\\ucc28\\ub7c9\\ub2e8\\ub3c5\"],\"xaxis\":\"x\",\"y\":[82],\"yaxis\":\"y\",\"type\":\"bar\",\"textfont\":{\"size\":12},\"textangle\":0},{\"alignmentgroup\":\"True\",\"hovertemplate\":\"\\uc0ac\\uace0\\uc720\\ud615\\uc911\\ubd84\\ub958=\\uc804\\ubcf5\\u003cbr\\u003e\\uc0ac\\uace0\\uc720\\ud615\\ub300\\ubd84\\ub958=%{x}\\u003cbr\\u003e\\uac1c\\uc778\\ud615\\uc774\\ub3d9\\uc7a5\\uce58(PM)=%{y}\\u003cextra\\u003e\\u003c\\u002fextra\\u003e\",\"legendgroup\":\"\\uc804\\ubcf5\",\"marker\":{\"color\":\"#ab63fa\",\"pattern\":{\"shape\":\"\"}},\"name\":\"\\uc804\\ubcf5\",\"offsetgroup\":\"\\uc804\\ubcf5\",\"orientation\":\"v\",\"showlegend\":true,\"textposition\":\"outside\",\"texttemplate\":\"%{y}\",\"x\":[\"\\ucc28\\ub7c9\\ub2e8\\ub3c5\"],\"xaxis\":\"x\",\"y\":[4],\"yaxis\":\"y\",\"type\":\"bar\",\"textfont\":{\"size\":12},\"textangle\":0}],                        {\"template\":{\"data\":{\"histogram2dcontour\":[{\"type\":\"histogram2dcontour\",\"colorbar\":{\"outlinewidth\":0,\"ticks\":\"\"},\"colorscale\":[[0.0,\"#0d0887\"],[0.1111111111111111,\"#46039f\"],[0.2222222222222222,\"#7201a8\"],[0.3333333333333333,\"#9c179e\"],[0.4444444444444444,\"#bd3786\"],[0.5555555555555556,\"#d8576b\"],[0.6666666666666666,\"#ed7953\"],[0.7777777777777778,\"#fb9f3a\"],[0.8888888888888888,\"#fdca26\"],[1.0,\"#f0f921\"]]}],\"choropleth\":[{\"type\":\"choropleth\",\"colorbar\":{\"outlinewidth\":0,\"ticks\":\"\"}}],\"histogram2d\":[{\"type\":\"histogram2d\",\"colorbar\":{\"outlinewidth\":0,\"ticks\":\"\"},\"colorscale\":[[0.0,\"#0d0887\"],[0.1111111111111111,\"#46039f\"],[0.2222222222222222,\"#7201a8\"],[0.3333333333333333,\"#9c179e\"],[0.4444444444444444,\"#bd3786\"],[0.5555555555555556,\"#d8576b\"],[0.6666666666666666,\"#ed7953\"],[0.7777777777777778,\"#fb9f3a\"],[0.8888888888888888,\"#fdca26\"],[1.0,\"#f0f921\"]]}],\"heatmap\":[{\"type\":\"heatmap\",\"colorbar\":{\"outlinewidth\":0,\"ticks\":\"\"},\"colorscale\":[[0.0,\"#0d0887\"],[0.1111111111111111,\"#46039f\"],[0.2222222222222222,\"#7201a8\"],[0.3333333333333333,\"#9c179e\"],[0.4444444444444444,\"#bd3786\"],[0.5555555555555556,\"#d8576b\"],[0.6666666666666666,\"#ed7953\"],[0.7777777777777778,\"#fb9f3a\"],[0.8888888888888888,\"#fdca26\"],[1.0,\"#f0f921\"]]}],\"heatmapgl\":[{\"type\":\"heatmapgl\",\"colorbar\":{\"outlinewidth\":0,\"ticks\":\"\"},\"colorscale\":[[0.0,\"#0d0887\"],[0.1111111111111111,\"#46039f\"],[0.2222222222222222,\"#7201a8\"],[0.3333333333333333,\"#9c179e\"],[0.4444444444444444,\"#bd3786\"],[0.5555555555555556,\"#d8576b\"],[0.6666666666666666,\"#ed7953\"],[0.7777777777777778,\"#fb9f3a\"],[0.8888888888888888,\"#fdca26\"],[1.0,\"#f0f921\"]]}],\"contourcarpet\":[{\"type\":\"contourcarpet\",\"colorbar\":{\"outlinewidth\":0,\"ticks\":\"\"}}],\"contour\":[{\"type\":\"contour\",\"colorbar\":{\"outlinewidth\":0,\"ticks\":\"\"},\"colorscale\":[[0.0,\"#0d0887\"],[0.1111111111111111,\"#46039f\"],[0.2222222222222222,\"#7201a8\"],[0.3333333333333333,\"#9c179e\"],[0.4444444444444444,\"#bd3786\"],[0.5555555555555556,\"#d8576b\"],[0.6666666666666666,\"#ed7953\"],[0.7777777777777778,\"#fb9f3a\"],[0.8888888888888888,\"#fdca26\"],[1.0,\"#f0f921\"]]}],\"surface\":[{\"type\":\"surface\",\"colorbar\":{\"outlinewidth\":0,\"ticks\":\"\"},\"colorscale\":[[0.0,\"#0d0887\"],[0.1111111111111111,\"#46039f\"],[0.2222222222222222,\"#7201a8\"],[0.3333333333333333,\"#9c179e\"],[0.4444444444444444,\"#bd3786\"],[0.5555555555555556,\"#d8576b\"],[0.6666666666666666,\"#ed7953\"],[0.7777777777777778,\"#fb9f3a\"],[0.8888888888888888,\"#fdca26\"],[1.0,\"#f0f921\"]]}],\"mesh3d\":[{\"type\":\"mesh3d\",\"colorbar\":{\"outlinewidth\":0,\"ticks\":\"\"}}],\"scatter\":[{\"fillpattern\":{\"fillmode\":\"overlay\",\"size\":10,\"solidity\":0.2},\"type\":\"scatter\"}],\"parcoords\":[{\"type\":\"parcoords\",\"line\":{\"colorbar\":{\"outlinewidth\":0,\"ticks\":\"\"}}}],\"scatterpolargl\":[{\"type\":\"scatterpolargl\",\"marker\":{\"colorbar\":{\"outlinewidth\":0,\"ticks\":\"\"}}}],\"bar\":[{\"error_x\":{\"color\":\"#2a3f5f\"},\"error_y\":{\"color\":\"#2a3f5f\"},\"marker\":{\"line\":{\"color\":\"#E5ECF6\",\"width\":0.5},\"pattern\":{\"fillmode\":\"overlay\",\"size\":10,\"solidity\":0.2}},\"type\":\"bar\"}],\"scattergeo\":[{\"type\":\"scattergeo\",\"marker\":{\"colorbar\":{\"outlinewidth\":0,\"ticks\":\"\"}}}],\"scatterpolar\":[{\"type\":\"scatterpolar\",\"marker\":{\"colorbar\":{\"outlinewidth\":0,\"ticks\":\"\"}}}],\"histogram\":[{\"marker\":{\"pattern\":{\"fillmode\":\"overlay\",\"size\":10,\"solidity\":0.2}},\"type\":\"histogram\"}],\"scattergl\":[{\"type\":\"scattergl\",\"marker\":{\"colorbar\":{\"outlinewidth\":0,\"ticks\":\"\"}}}],\"scatter3d\":[{\"type\":\"scatter3d\",\"line\":{\"colorbar\":{\"outlinewidth\":0,\"ticks\":\"\"}},\"marker\":{\"colorbar\":{\"outlinewidth\":0,\"ticks\":\"\"}}}],\"scattermapbox\":[{\"type\":\"scattermapbox\",\"marker\":{\"colorbar\":{\"outlinewidth\":0,\"ticks\":\"\"}}}],\"scatterternary\":[{\"type\":\"scatterternary\",\"marker\":{\"colorbar\":{\"outlinewidth\":0,\"ticks\":\"\"}}}],\"scattercarpet\":[{\"type\":\"scattercarpet\",\"marker\":{\"colorbar\":{\"outlinewidth\":0,\"ticks\":\"\"}}}],\"carpet\":[{\"aaxis\":{\"endlinecolor\":\"#2a3f5f\",\"gridcolor\":\"white\",\"linecolor\":\"white\",\"minorgridcolor\":\"white\",\"startlinecolor\":\"#2a3f5f\"},\"baxis\":{\"endlinecolor\":\"#2a3f5f\",\"gridcolor\":\"white\",\"linecolor\":\"white\",\"minorgridcolor\":\"white\",\"startlinecolor\":\"#2a3f5f\"},\"type\":\"carpet\"}],\"table\":[{\"cells\":{\"fill\":{\"color\":\"#EBF0F8\"},\"line\":{\"color\":\"white\"}},\"header\":{\"fill\":{\"color\":\"#C8D4E3\"},\"line\":{\"color\":\"white\"}},\"type\":\"table\"}],\"barpolar\":[{\"marker\":{\"line\":{\"color\":\"#E5ECF6\",\"width\":0.5},\"pattern\":{\"fillmode\":\"overlay\",\"size\":10,\"solidity\":0.2}},\"type\":\"barpolar\"}],\"pie\":[{\"automargin\":true,\"type\":\"pie\"}]},\"layout\":{\"autotypenumbers\":\"strict\",\"colorway\":[\"#636efa\",\"#EF553B\",\"#00cc96\",\"#ab63fa\",\"#FFA15A\",\"#19d3f3\",\"#FF6692\",\"#B6E880\",\"#FF97FF\",\"#FECB52\"],\"font\":{\"color\":\"#2a3f5f\"},\"hovermode\":\"closest\",\"hoverlabel\":{\"align\":\"left\"},\"paper_bgcolor\":\"white\",\"plot_bgcolor\":\"#E5ECF6\",\"polar\":{\"bgcolor\":\"#E5ECF6\",\"angularaxis\":{\"gridcolor\":\"white\",\"linecolor\":\"white\",\"ticks\":\"\"},\"radialaxis\":{\"gridcolor\":\"white\",\"linecolor\":\"white\",\"ticks\":\"\"}},\"ternary\":{\"bgcolor\":\"#E5ECF6\",\"aaxis\":{\"gridcolor\":\"white\",\"linecolor\":\"white\",\"ticks\":\"\"},\"baxis\":{\"gridcolor\":\"white\",\"linecolor\":\"white\",\"ticks\":\"\"},\"caxis\":{\"gridcolor\":\"white\",\"linecolor\":\"white\",\"ticks\":\"\"}},\"coloraxis\":{\"colorbar\":{\"outlinewidth\":0,\"ticks\":\"\"}},\"colorscale\":{\"sequential\":[[0.0,\"#0d0887\"],[0.1111111111111111,\"#46039f\"],[0.2222222222222222,\"#7201a8\"],[0.3333333333333333,\"#9c179e\"],[0.4444444444444444,\"#bd3786\"],[0.5555555555555556,\"#d8576b\"],[0.6666666666666666,\"#ed7953\"],[0.7777777777777778,\"#fb9f3a\"],[0.8888888888888888,\"#fdca26\"],[1.0,\"#f0f921\"]],\"sequentialminus\":[[0.0,\"#0d0887\"],[0.1111111111111111,\"#46039f\"],[0.2222222222222222,\"#7201a8\"],[0.3333333333333333,\"#9c179e\"],[0.4444444444444444,\"#bd3786\"],[0.5555555555555556,\"#d8576b\"],[0.6666666666666666,\"#ed7953\"],[0.7777777777777778,\"#fb9f3a\"],[0.8888888888888888,\"#fdca26\"],[1.0,\"#f0f921\"]],\"diverging\":[[0,\"#8e0152\"],[0.1,\"#c51b7d\"],[0.2,\"#de77ae\"],[0.3,\"#f1b6da\"],[0.4,\"#fde0ef\"],[0.5,\"#f7f7f7\"],[0.6,\"#e6f5d0\"],[0.7,\"#b8e186\"],[0.8,\"#7fbc41\"],[0.9,\"#4d9221\"],[1,\"#276419\"]]},\"xaxis\":{\"gridcolor\":\"white\",\"linecolor\":\"white\",\"ticks\":\"\",\"title\":{\"standoff\":15},\"zerolinecolor\":\"white\",\"automargin\":true,\"zerolinewidth\":2},\"yaxis\":{\"gridcolor\":\"white\",\"linecolor\":\"white\",\"ticks\":\"\",\"title\":{\"standoff\":15},\"zerolinecolor\":\"white\",\"automargin\":true,\"zerolinewidth\":2},\"scene\":{\"xaxis\":{\"backgroundcolor\":\"#E5ECF6\",\"gridcolor\":\"white\",\"linecolor\":\"white\",\"showbackground\":true,\"ticks\":\"\",\"zerolinecolor\":\"white\",\"gridwidth\":2},\"yaxis\":{\"backgroundcolor\":\"#E5ECF6\",\"gridcolor\":\"white\",\"linecolor\":\"white\",\"showbackground\":true,\"ticks\":\"\",\"zerolinecolor\":\"white\",\"gridwidth\":2},\"zaxis\":{\"backgroundcolor\":\"#E5ECF6\",\"gridcolor\":\"white\",\"linecolor\":\"white\",\"showbackground\":true,\"ticks\":\"\",\"zerolinecolor\":\"white\",\"gridwidth\":2}},\"shapedefaults\":{\"line\":{\"color\":\"#2a3f5f\"}},\"annotationdefaults\":{\"arrowcolor\":\"#2a3f5f\",\"arrowhead\":0,\"arrowwidth\":1},\"geo\":{\"bgcolor\":\"white\",\"landcolor\":\"#E5ECF6\",\"subunitcolor\":\"white\",\"showland\":true,\"showlakes\":true,\"lakecolor\":\"white\"},\"title\":{\"x\":0.05},\"mapbox\":{\"style\":\"light\"}}},\"xaxis\":{\"anchor\":\"y\",\"domain\":[0.0,1.0],\"title\":{\"text\":\"\\uc0ac\\uace0\\uc720\\ud615\\ub300\\ubd84\\ub958\"}},\"yaxis\":{\"anchor\":\"x\",\"domain\":[0.0,1.0],\"title\":{\"text\":\"\\uac1c\\uc778\\ud615\\uc774\\ub3d9\\uc7a5\\uce58(PM)\"}},\"legend\":{\"title\":{\"text\":\"\\uc0ac\\uace0\\uc720\\ud615\\uc911\\ubd84\\ub958\"},\"tracegroupgap\":0},\"margin\":{\"t\":60},\"barmode\":\"group\",\"title\":{\"font\":{\"size\":16},\"text\":\"2022\\ub144 \\ud0a5\\ubcf4\\ub4dc \\uc0ac\\uace0 \\uc138\\ubd80 \\uc720\\ud615\"}},                        {\"responsive\": true}                    ).then(function(){\n",
       "                            \n",
       "var gd = document.getElementById('46e6973e-4961-4f88-8605-0b0dd1c2cc75');\n",
       "var x = new MutationObserver(function (mutations, observer) {{\n",
       "        var display = window.getComputedStyle(gd).display;\n",
       "        if (!display || display === 'none') {{\n",
       "            console.log([gd, 'removed!']);\n",
       "            Plotly.purge(gd);\n",
       "            observer.disconnect();\n",
       "        }}\n",
       "}});\n",
       "\n",
       "// Listen for the removal of the full notebook cells\n",
       "var notebookContainer = gd.closest('#notebook-container');\n",
       "if (notebookContainer) {{\n",
       "    x.observe(notebookContainer, {childList: true});\n",
       "}}\n",
       "\n",
       "// Listen for the clearing of the current output cell\n",
       "var outputEl = gd.closest('.output');\n",
       "if (outputEl) {{\n",
       "    x.observe(outputEl, {childList: true});\n",
       "}}\n",
       "\n",
       "                        })                };                });            </script>        </div>"
      ]
     },
     "metadata": {},
     "output_type": "display_data"
    }
   ],
   "source": [
    "### 막대그래프 - 그룹\n",
    "fig = px.bar(PM_acc2022, x = \"사고유형대분류\", y = \"개인형이동장치(PM)\", color = \"사고유형중분류\",\n",
    "             barmode='group', text_auto=True)\n",
    "fig.update_layout(title_text='2022년 킥보드 사고 세부 유형', titlefont_size=16)\n",
    "fig.update_traces(textfont_size=12, textangle=0, textposition=\"outside\")\n",
    "fig.show()"
   ]
  },
  {
   "cell_type": "code",
   "execution_count": 97,
   "id": "62735f83",
   "metadata": {},
   "outputs": [
    {
     "data": {
      "application/vnd.plotly.v1+json": {
       "config": {
        "plotlyServerURL": "https://plot.ly"
       },
       "data": [
        {
         "branchvalues": "total",
         "domain": {
          "x": [
           0,
           1
          ],
          "y": [
           0,
           1
          ]
         },
         "hovertemplate": "labels=%{label}<br>개인형이동장치(PM)=%{value}<br>parent=%{parent}<br>id=%{id}<extra></extra>",
         "ids": [
          "all/차량단독/공작물충돌",
          "all/차대사람/기타",
          "all/차대차/기타",
          "all/차량단독/기타",
          "all/차대사람/길가장자리구역통행중",
          "all/차량단독/도로이탈",
          "all/차대사람/보도통행중",
          "all/차량단독/전도",
          "all/차량단독/전복",
          "all/차대차/정면충돌",
          "all/차량단독/주/정차차량 충돌",
          "all/차대사람/차도통행중",
          "all/차대차/추돌",
          "all/차대차/측면충돌",
          "all/차대사람/횡단중",
          "all/차대차/후진중충돌",
          "all/차대사람",
          "all/차대차",
          "all/차량단독",
          "all"
         ],
         "labels": [
          "공작물충돌",
          "기타",
          "기타",
          "기타",
          "길가장자리구역통행중",
          "도로이탈",
          "보도통행중",
          "전도",
          "전복",
          "정면충돌",
          "주/정차차량 충돌",
          "차도통행중",
          "추돌",
          "측면충돌",
          "횡단중",
          "후진중충돌",
          "차대사람",
          "차대차",
          "차량단독",
          "all"
         ],
         "name": "",
         "parents": [
          "all/차량단독",
          "all/차대사람",
          "all/차대차",
          "all/차량단독",
          "all/차대사람",
          "all/차량단독",
          "all/차대사람",
          "all/차량단독",
          "all/차량단독",
          "all/차대차",
          "all/차량단독",
          "all/차대사람",
          "all/차대차",
          "all/차대차",
          "all/차대사람",
          "all/차대차",
          "all",
          "all",
          "all",
          ""
         ],
         "root": {
          "color": "lightgrey"
         },
         "type": "treemap",
         "values": [
          23,
          418,
          425,
          150,
          22,
          2,
          374,
          82,
          4,
          94,
          1,
          75,
          68,
          493,
          153,
          2,
          1042,
          1082,
          262,
          2386
         ]
        }
       ],
       "layout": {
        "legend": {
         "tracegroupgap": 0
        },
        "margin": {
         "t": 60
        },
        "template": {
         "data": {
          "bar": [
           {
            "error_x": {
             "color": "#2a3f5f"
            },
            "error_y": {
             "color": "#2a3f5f"
            },
            "marker": {
             "line": {
              "color": "#E5ECF6",
              "width": 0.5
             },
             "pattern": {
              "fillmode": "overlay",
              "size": 10,
              "solidity": 0.2
             }
            },
            "type": "bar"
           }
          ],
          "barpolar": [
           {
            "marker": {
             "line": {
              "color": "#E5ECF6",
              "width": 0.5
             },
             "pattern": {
              "fillmode": "overlay",
              "size": 10,
              "solidity": 0.2
             }
            },
            "type": "barpolar"
           }
          ],
          "carpet": [
           {
            "aaxis": {
             "endlinecolor": "#2a3f5f",
             "gridcolor": "white",
             "linecolor": "white",
             "minorgridcolor": "white",
             "startlinecolor": "#2a3f5f"
            },
            "baxis": {
             "endlinecolor": "#2a3f5f",
             "gridcolor": "white",
             "linecolor": "white",
             "minorgridcolor": "white",
             "startlinecolor": "#2a3f5f"
            },
            "type": "carpet"
           }
          ],
          "choropleth": [
           {
            "colorbar": {
             "outlinewidth": 0,
             "ticks": ""
            },
            "type": "choropleth"
           }
          ],
          "contour": [
           {
            "colorbar": {
             "outlinewidth": 0,
             "ticks": ""
            },
            "colorscale": [
             [
              0,
              "#0d0887"
             ],
             [
              0.1111111111111111,
              "#46039f"
             ],
             [
              0.2222222222222222,
              "#7201a8"
             ],
             [
              0.3333333333333333,
              "#9c179e"
             ],
             [
              0.4444444444444444,
              "#bd3786"
             ],
             [
              0.5555555555555556,
              "#d8576b"
             ],
             [
              0.6666666666666666,
              "#ed7953"
             ],
             [
              0.7777777777777778,
              "#fb9f3a"
             ],
             [
              0.8888888888888888,
              "#fdca26"
             ],
             [
              1,
              "#f0f921"
             ]
            ],
            "type": "contour"
           }
          ],
          "contourcarpet": [
           {
            "colorbar": {
             "outlinewidth": 0,
             "ticks": ""
            },
            "type": "contourcarpet"
           }
          ],
          "heatmap": [
           {
            "colorbar": {
             "outlinewidth": 0,
             "ticks": ""
            },
            "colorscale": [
             [
              0,
              "#0d0887"
             ],
             [
              0.1111111111111111,
              "#46039f"
             ],
             [
              0.2222222222222222,
              "#7201a8"
             ],
             [
              0.3333333333333333,
              "#9c179e"
             ],
             [
              0.4444444444444444,
              "#bd3786"
             ],
             [
              0.5555555555555556,
              "#d8576b"
             ],
             [
              0.6666666666666666,
              "#ed7953"
             ],
             [
              0.7777777777777778,
              "#fb9f3a"
             ],
             [
              0.8888888888888888,
              "#fdca26"
             ],
             [
              1,
              "#f0f921"
             ]
            ],
            "type": "heatmap"
           }
          ],
          "heatmapgl": [
           {
            "colorbar": {
             "outlinewidth": 0,
             "ticks": ""
            },
            "colorscale": [
             [
              0,
              "#0d0887"
             ],
             [
              0.1111111111111111,
              "#46039f"
             ],
             [
              0.2222222222222222,
              "#7201a8"
             ],
             [
              0.3333333333333333,
              "#9c179e"
             ],
             [
              0.4444444444444444,
              "#bd3786"
             ],
             [
              0.5555555555555556,
              "#d8576b"
             ],
             [
              0.6666666666666666,
              "#ed7953"
             ],
             [
              0.7777777777777778,
              "#fb9f3a"
             ],
             [
              0.8888888888888888,
              "#fdca26"
             ],
             [
              1,
              "#f0f921"
             ]
            ],
            "type": "heatmapgl"
           }
          ],
          "histogram": [
           {
            "marker": {
             "pattern": {
              "fillmode": "overlay",
              "size": 10,
              "solidity": 0.2
             }
            },
            "type": "histogram"
           }
          ],
          "histogram2d": [
           {
            "colorbar": {
             "outlinewidth": 0,
             "ticks": ""
            },
            "colorscale": [
             [
              0,
              "#0d0887"
             ],
             [
              0.1111111111111111,
              "#46039f"
             ],
             [
              0.2222222222222222,
              "#7201a8"
             ],
             [
              0.3333333333333333,
              "#9c179e"
             ],
             [
              0.4444444444444444,
              "#bd3786"
             ],
             [
              0.5555555555555556,
              "#d8576b"
             ],
             [
              0.6666666666666666,
              "#ed7953"
             ],
             [
              0.7777777777777778,
              "#fb9f3a"
             ],
             [
              0.8888888888888888,
              "#fdca26"
             ],
             [
              1,
              "#f0f921"
             ]
            ],
            "type": "histogram2d"
           }
          ],
          "histogram2dcontour": [
           {
            "colorbar": {
             "outlinewidth": 0,
             "ticks": ""
            },
            "colorscale": [
             [
              0,
              "#0d0887"
             ],
             [
              0.1111111111111111,
              "#46039f"
             ],
             [
              0.2222222222222222,
              "#7201a8"
             ],
             [
              0.3333333333333333,
              "#9c179e"
             ],
             [
              0.4444444444444444,
              "#bd3786"
             ],
             [
              0.5555555555555556,
              "#d8576b"
             ],
             [
              0.6666666666666666,
              "#ed7953"
             ],
             [
              0.7777777777777778,
              "#fb9f3a"
             ],
             [
              0.8888888888888888,
              "#fdca26"
             ],
             [
              1,
              "#f0f921"
             ]
            ],
            "type": "histogram2dcontour"
           }
          ],
          "mesh3d": [
           {
            "colorbar": {
             "outlinewidth": 0,
             "ticks": ""
            },
            "type": "mesh3d"
           }
          ],
          "parcoords": [
           {
            "line": {
             "colorbar": {
              "outlinewidth": 0,
              "ticks": ""
             }
            },
            "type": "parcoords"
           }
          ],
          "pie": [
           {
            "automargin": true,
            "type": "pie"
           }
          ],
          "scatter": [
           {
            "fillpattern": {
             "fillmode": "overlay",
             "size": 10,
             "solidity": 0.2
            },
            "type": "scatter"
           }
          ],
          "scatter3d": [
           {
            "line": {
             "colorbar": {
              "outlinewidth": 0,
              "ticks": ""
             }
            },
            "marker": {
             "colorbar": {
              "outlinewidth": 0,
              "ticks": ""
             }
            },
            "type": "scatter3d"
           }
          ],
          "scattercarpet": [
           {
            "marker": {
             "colorbar": {
              "outlinewidth": 0,
              "ticks": ""
             }
            },
            "type": "scattercarpet"
           }
          ],
          "scattergeo": [
           {
            "marker": {
             "colorbar": {
              "outlinewidth": 0,
              "ticks": ""
             }
            },
            "type": "scattergeo"
           }
          ],
          "scattergl": [
           {
            "marker": {
             "colorbar": {
              "outlinewidth": 0,
              "ticks": ""
             }
            },
            "type": "scattergl"
           }
          ],
          "scattermapbox": [
           {
            "marker": {
             "colorbar": {
              "outlinewidth": 0,
              "ticks": ""
             }
            },
            "type": "scattermapbox"
           }
          ],
          "scatterpolar": [
           {
            "marker": {
             "colorbar": {
              "outlinewidth": 0,
              "ticks": ""
             }
            },
            "type": "scatterpolar"
           }
          ],
          "scatterpolargl": [
           {
            "marker": {
             "colorbar": {
              "outlinewidth": 0,
              "ticks": ""
             }
            },
            "type": "scatterpolargl"
           }
          ],
          "scatterternary": [
           {
            "marker": {
             "colorbar": {
              "outlinewidth": 0,
              "ticks": ""
             }
            },
            "type": "scatterternary"
           }
          ],
          "surface": [
           {
            "colorbar": {
             "outlinewidth": 0,
             "ticks": ""
            },
            "colorscale": [
             [
              0,
              "#0d0887"
             ],
             [
              0.1111111111111111,
              "#46039f"
             ],
             [
              0.2222222222222222,
              "#7201a8"
             ],
             [
              0.3333333333333333,
              "#9c179e"
             ],
             [
              0.4444444444444444,
              "#bd3786"
             ],
             [
              0.5555555555555556,
              "#d8576b"
             ],
             [
              0.6666666666666666,
              "#ed7953"
             ],
             [
              0.7777777777777778,
              "#fb9f3a"
             ],
             [
              0.8888888888888888,
              "#fdca26"
             ],
             [
              1,
              "#f0f921"
             ]
            ],
            "type": "surface"
           }
          ],
          "table": [
           {
            "cells": {
             "fill": {
              "color": "#EBF0F8"
             },
             "line": {
              "color": "white"
             }
            },
            "header": {
             "fill": {
              "color": "#C8D4E3"
             },
             "line": {
              "color": "white"
             }
            },
            "type": "table"
           }
          ]
         },
         "layout": {
          "annotationdefaults": {
           "arrowcolor": "#2a3f5f",
           "arrowhead": 0,
           "arrowwidth": 1
          },
          "autotypenumbers": "strict",
          "coloraxis": {
           "colorbar": {
            "outlinewidth": 0,
            "ticks": ""
           }
          },
          "colorscale": {
           "diverging": [
            [
             0,
             "#8e0152"
            ],
            [
             0.1,
             "#c51b7d"
            ],
            [
             0.2,
             "#de77ae"
            ],
            [
             0.3,
             "#f1b6da"
            ],
            [
             0.4,
             "#fde0ef"
            ],
            [
             0.5,
             "#f7f7f7"
            ],
            [
             0.6,
             "#e6f5d0"
            ],
            [
             0.7,
             "#b8e186"
            ],
            [
             0.8,
             "#7fbc41"
            ],
            [
             0.9,
             "#4d9221"
            ],
            [
             1,
             "#276419"
            ]
           ],
           "sequential": [
            [
             0,
             "#0d0887"
            ],
            [
             0.1111111111111111,
             "#46039f"
            ],
            [
             0.2222222222222222,
             "#7201a8"
            ],
            [
             0.3333333333333333,
             "#9c179e"
            ],
            [
             0.4444444444444444,
             "#bd3786"
            ],
            [
             0.5555555555555556,
             "#d8576b"
            ],
            [
             0.6666666666666666,
             "#ed7953"
            ],
            [
             0.7777777777777778,
             "#fb9f3a"
            ],
            [
             0.8888888888888888,
             "#fdca26"
            ],
            [
             1,
             "#f0f921"
            ]
           ],
           "sequentialminus": [
            [
             0,
             "#0d0887"
            ],
            [
             0.1111111111111111,
             "#46039f"
            ],
            [
             0.2222222222222222,
             "#7201a8"
            ],
            [
             0.3333333333333333,
             "#9c179e"
            ],
            [
             0.4444444444444444,
             "#bd3786"
            ],
            [
             0.5555555555555556,
             "#d8576b"
            ],
            [
             0.6666666666666666,
             "#ed7953"
            ],
            [
             0.7777777777777778,
             "#fb9f3a"
            ],
            [
             0.8888888888888888,
             "#fdca26"
            ],
            [
             1,
             "#f0f921"
            ]
           ]
          },
          "colorway": [
           "#636efa",
           "#EF553B",
           "#00cc96",
           "#ab63fa",
           "#FFA15A",
           "#19d3f3",
           "#FF6692",
           "#B6E880",
           "#FF97FF",
           "#FECB52"
          ],
          "font": {
           "color": "#2a3f5f"
          },
          "geo": {
           "bgcolor": "white",
           "lakecolor": "white",
           "landcolor": "#E5ECF6",
           "showlakes": true,
           "showland": true,
           "subunitcolor": "white"
          },
          "hoverlabel": {
           "align": "left"
          },
          "hovermode": "closest",
          "mapbox": {
           "style": "light"
          },
          "paper_bgcolor": "white",
          "plot_bgcolor": "#E5ECF6",
          "polar": {
           "angularaxis": {
            "gridcolor": "white",
            "linecolor": "white",
            "ticks": ""
           },
           "bgcolor": "#E5ECF6",
           "radialaxis": {
            "gridcolor": "white",
            "linecolor": "white",
            "ticks": ""
           }
          },
          "scene": {
           "xaxis": {
            "backgroundcolor": "#E5ECF6",
            "gridcolor": "white",
            "gridwidth": 2,
            "linecolor": "white",
            "showbackground": true,
            "ticks": "",
            "zerolinecolor": "white"
           },
           "yaxis": {
            "backgroundcolor": "#E5ECF6",
            "gridcolor": "white",
            "gridwidth": 2,
            "linecolor": "white",
            "showbackground": true,
            "ticks": "",
            "zerolinecolor": "white"
           },
           "zaxis": {
            "backgroundcolor": "#E5ECF6",
            "gridcolor": "white",
            "gridwidth": 2,
            "linecolor": "white",
            "showbackground": true,
            "ticks": "",
            "zerolinecolor": "white"
           }
          },
          "shapedefaults": {
           "line": {
            "color": "#2a3f5f"
           }
          },
          "ternary": {
           "aaxis": {
            "gridcolor": "white",
            "linecolor": "white",
            "ticks": ""
           },
           "baxis": {
            "gridcolor": "white",
            "linecolor": "white",
            "ticks": ""
           },
           "bgcolor": "#E5ECF6",
           "caxis": {
            "gridcolor": "white",
            "linecolor": "white",
            "ticks": ""
           }
          },
          "title": {
           "x": 0.05
          },
          "xaxis": {
           "automargin": true,
           "gridcolor": "white",
           "linecolor": "white",
           "ticks": "",
           "title": {
            "standoff": 15
           },
           "zerolinecolor": "white",
           "zerolinewidth": 2
          },
          "yaxis": {
           "automargin": true,
           "gridcolor": "white",
           "linecolor": "white",
           "ticks": "",
           "title": {
            "standoff": 15
           },
           "zerolinecolor": "white",
           "zerolinewidth": 2
          }
         }
        }
       }
      },
      "text/html": [
       "<div>                            <div id=\"f7576f01-0a6e-4f06-90d1-3a535338dd12\" class=\"plotly-graph-div\" style=\"height:525px; width:100%;\"></div>            <script type=\"text/javascript\">                require([\"plotly\"], function(Plotly) {                    window.PLOTLYENV=window.PLOTLYENV || {};                                    if (document.getElementById(\"f7576f01-0a6e-4f06-90d1-3a535338dd12\")) {                    Plotly.newPlot(                        \"f7576f01-0a6e-4f06-90d1-3a535338dd12\",                        [{\"branchvalues\":\"total\",\"domain\":{\"x\":[0.0,1.0],\"y\":[0.0,1.0]},\"hovertemplate\":\"labels=%{label}\\u003cbr\\u003e\\uac1c\\uc778\\ud615\\uc774\\ub3d9\\uc7a5\\uce58(PM)=%{value}\\u003cbr\\u003eparent=%{parent}\\u003cbr\\u003eid=%{id}\\u003cextra\\u003e\\u003c\\u002fextra\\u003e\",\"ids\":[\"all\\u002f\\ucc28\\ub7c9\\ub2e8\\ub3c5\\u002f\\uacf5\\uc791\\ubb3c\\ucda9\\ub3cc\",\"all\\u002f\\ucc28\\ub300\\uc0ac\\ub78c\\u002f\\uae30\\ud0c0\",\"all\\u002f\\ucc28\\ub300\\ucc28\\u002f\\uae30\\ud0c0\",\"all\\u002f\\ucc28\\ub7c9\\ub2e8\\ub3c5\\u002f\\uae30\\ud0c0\",\"all\\u002f\\ucc28\\ub300\\uc0ac\\ub78c\\u002f\\uae38\\uac00\\uc7a5\\uc790\\ub9ac\\uad6c\\uc5ed\\ud1b5\\ud589\\uc911\",\"all\\u002f\\ucc28\\ub7c9\\ub2e8\\ub3c5\\u002f\\ub3c4\\ub85c\\uc774\\ud0c8\",\"all\\u002f\\ucc28\\ub300\\uc0ac\\ub78c\\u002f\\ubcf4\\ub3c4\\ud1b5\\ud589\\uc911\",\"all\\u002f\\ucc28\\ub7c9\\ub2e8\\ub3c5\\u002f\\uc804\\ub3c4\",\"all\\u002f\\ucc28\\ub7c9\\ub2e8\\ub3c5\\u002f\\uc804\\ubcf5\",\"all\\u002f\\ucc28\\ub300\\ucc28\\u002f\\uc815\\uba74\\ucda9\\ub3cc\",\"all\\u002f\\ucc28\\ub7c9\\ub2e8\\ub3c5\\u002f\\uc8fc\\u002f\\uc815\\ucc28\\ucc28\\ub7c9 \\ucda9\\ub3cc\",\"all\\u002f\\ucc28\\ub300\\uc0ac\\ub78c\\u002f\\ucc28\\ub3c4\\ud1b5\\ud589\\uc911\",\"all\\u002f\\ucc28\\ub300\\ucc28\\u002f\\ucd94\\ub3cc\",\"all\\u002f\\ucc28\\ub300\\ucc28\\u002f\\uce21\\uba74\\ucda9\\ub3cc\",\"all\\u002f\\ucc28\\ub300\\uc0ac\\ub78c\\u002f\\ud6a1\\ub2e8\\uc911\",\"all\\u002f\\ucc28\\ub300\\ucc28\\u002f\\ud6c4\\uc9c4\\uc911\\ucda9\\ub3cc\",\"all\\u002f\\ucc28\\ub300\\uc0ac\\ub78c\",\"all\\u002f\\ucc28\\ub300\\ucc28\",\"all\\u002f\\ucc28\\ub7c9\\ub2e8\\ub3c5\",\"all\"],\"labels\":[\"\\uacf5\\uc791\\ubb3c\\ucda9\\ub3cc\",\"\\uae30\\ud0c0\",\"\\uae30\\ud0c0\",\"\\uae30\\ud0c0\",\"\\uae38\\uac00\\uc7a5\\uc790\\ub9ac\\uad6c\\uc5ed\\ud1b5\\ud589\\uc911\",\"\\ub3c4\\ub85c\\uc774\\ud0c8\",\"\\ubcf4\\ub3c4\\ud1b5\\ud589\\uc911\",\"\\uc804\\ub3c4\",\"\\uc804\\ubcf5\",\"\\uc815\\uba74\\ucda9\\ub3cc\",\"\\uc8fc\\u002f\\uc815\\ucc28\\ucc28\\ub7c9 \\ucda9\\ub3cc\",\"\\ucc28\\ub3c4\\ud1b5\\ud589\\uc911\",\"\\ucd94\\ub3cc\",\"\\uce21\\uba74\\ucda9\\ub3cc\",\"\\ud6a1\\ub2e8\\uc911\",\"\\ud6c4\\uc9c4\\uc911\\ucda9\\ub3cc\",\"\\ucc28\\ub300\\uc0ac\\ub78c\",\"\\ucc28\\ub300\\ucc28\",\"\\ucc28\\ub7c9\\ub2e8\\ub3c5\",\"all\"],\"name\":\"\",\"parents\":[\"all\\u002f\\ucc28\\ub7c9\\ub2e8\\ub3c5\",\"all\\u002f\\ucc28\\ub300\\uc0ac\\ub78c\",\"all\\u002f\\ucc28\\ub300\\ucc28\",\"all\\u002f\\ucc28\\ub7c9\\ub2e8\\ub3c5\",\"all\\u002f\\ucc28\\ub300\\uc0ac\\ub78c\",\"all\\u002f\\ucc28\\ub7c9\\ub2e8\\ub3c5\",\"all\\u002f\\ucc28\\ub300\\uc0ac\\ub78c\",\"all\\u002f\\ucc28\\ub7c9\\ub2e8\\ub3c5\",\"all\\u002f\\ucc28\\ub7c9\\ub2e8\\ub3c5\",\"all\\u002f\\ucc28\\ub300\\ucc28\",\"all\\u002f\\ucc28\\ub7c9\\ub2e8\\ub3c5\",\"all\\u002f\\ucc28\\ub300\\uc0ac\\ub78c\",\"all\\u002f\\ucc28\\ub300\\ucc28\",\"all\\u002f\\ucc28\\ub300\\ucc28\",\"all\\u002f\\ucc28\\ub300\\uc0ac\\ub78c\",\"all\\u002f\\ucc28\\ub300\\ucc28\",\"all\",\"all\",\"all\",\"\"],\"values\":[23,418,425,150,22,2,374,82,4,94,1,75,68,493,153,2,1042,1082,262,2386],\"type\":\"treemap\",\"root\":{\"color\":\"lightgrey\"}}],                        {\"template\":{\"data\":{\"histogram2dcontour\":[{\"type\":\"histogram2dcontour\",\"colorbar\":{\"outlinewidth\":0,\"ticks\":\"\"},\"colorscale\":[[0.0,\"#0d0887\"],[0.1111111111111111,\"#46039f\"],[0.2222222222222222,\"#7201a8\"],[0.3333333333333333,\"#9c179e\"],[0.4444444444444444,\"#bd3786\"],[0.5555555555555556,\"#d8576b\"],[0.6666666666666666,\"#ed7953\"],[0.7777777777777778,\"#fb9f3a\"],[0.8888888888888888,\"#fdca26\"],[1.0,\"#f0f921\"]]}],\"choropleth\":[{\"type\":\"choropleth\",\"colorbar\":{\"outlinewidth\":0,\"ticks\":\"\"}}],\"histogram2d\":[{\"type\":\"histogram2d\",\"colorbar\":{\"outlinewidth\":0,\"ticks\":\"\"},\"colorscale\":[[0.0,\"#0d0887\"],[0.1111111111111111,\"#46039f\"],[0.2222222222222222,\"#7201a8\"],[0.3333333333333333,\"#9c179e\"],[0.4444444444444444,\"#bd3786\"],[0.5555555555555556,\"#d8576b\"],[0.6666666666666666,\"#ed7953\"],[0.7777777777777778,\"#fb9f3a\"],[0.8888888888888888,\"#fdca26\"],[1.0,\"#f0f921\"]]}],\"heatmap\":[{\"type\":\"heatmap\",\"colorbar\":{\"outlinewidth\":0,\"ticks\":\"\"},\"colorscale\":[[0.0,\"#0d0887\"],[0.1111111111111111,\"#46039f\"],[0.2222222222222222,\"#7201a8\"],[0.3333333333333333,\"#9c179e\"],[0.4444444444444444,\"#bd3786\"],[0.5555555555555556,\"#d8576b\"],[0.6666666666666666,\"#ed7953\"],[0.7777777777777778,\"#fb9f3a\"],[0.8888888888888888,\"#fdca26\"],[1.0,\"#f0f921\"]]}],\"heatmapgl\":[{\"type\":\"heatmapgl\",\"colorbar\":{\"outlinewidth\":0,\"ticks\":\"\"},\"colorscale\":[[0.0,\"#0d0887\"],[0.1111111111111111,\"#46039f\"],[0.2222222222222222,\"#7201a8\"],[0.3333333333333333,\"#9c179e\"],[0.4444444444444444,\"#bd3786\"],[0.5555555555555556,\"#d8576b\"],[0.6666666666666666,\"#ed7953\"],[0.7777777777777778,\"#fb9f3a\"],[0.8888888888888888,\"#fdca26\"],[1.0,\"#f0f921\"]]}],\"contourcarpet\":[{\"type\":\"contourcarpet\",\"colorbar\":{\"outlinewidth\":0,\"ticks\":\"\"}}],\"contour\":[{\"type\":\"contour\",\"colorbar\":{\"outlinewidth\":0,\"ticks\":\"\"},\"colorscale\":[[0.0,\"#0d0887\"],[0.1111111111111111,\"#46039f\"],[0.2222222222222222,\"#7201a8\"],[0.3333333333333333,\"#9c179e\"],[0.4444444444444444,\"#bd3786\"],[0.5555555555555556,\"#d8576b\"],[0.6666666666666666,\"#ed7953\"],[0.7777777777777778,\"#fb9f3a\"],[0.8888888888888888,\"#fdca26\"],[1.0,\"#f0f921\"]]}],\"surface\":[{\"type\":\"surface\",\"colorbar\":{\"outlinewidth\":0,\"ticks\":\"\"},\"colorscale\":[[0.0,\"#0d0887\"],[0.1111111111111111,\"#46039f\"],[0.2222222222222222,\"#7201a8\"],[0.3333333333333333,\"#9c179e\"],[0.4444444444444444,\"#bd3786\"],[0.5555555555555556,\"#d8576b\"],[0.6666666666666666,\"#ed7953\"],[0.7777777777777778,\"#fb9f3a\"],[0.8888888888888888,\"#fdca26\"],[1.0,\"#f0f921\"]]}],\"mesh3d\":[{\"type\":\"mesh3d\",\"colorbar\":{\"outlinewidth\":0,\"ticks\":\"\"}}],\"scatter\":[{\"fillpattern\":{\"fillmode\":\"overlay\",\"size\":10,\"solidity\":0.2},\"type\":\"scatter\"}],\"parcoords\":[{\"type\":\"parcoords\",\"line\":{\"colorbar\":{\"outlinewidth\":0,\"ticks\":\"\"}}}],\"scatterpolargl\":[{\"type\":\"scatterpolargl\",\"marker\":{\"colorbar\":{\"outlinewidth\":0,\"ticks\":\"\"}}}],\"bar\":[{\"error_x\":{\"color\":\"#2a3f5f\"},\"error_y\":{\"color\":\"#2a3f5f\"},\"marker\":{\"line\":{\"color\":\"#E5ECF6\",\"width\":0.5},\"pattern\":{\"fillmode\":\"overlay\",\"size\":10,\"solidity\":0.2}},\"type\":\"bar\"}],\"scattergeo\":[{\"type\":\"scattergeo\",\"marker\":{\"colorbar\":{\"outlinewidth\":0,\"ticks\":\"\"}}}],\"scatterpolar\":[{\"type\":\"scatterpolar\",\"marker\":{\"colorbar\":{\"outlinewidth\":0,\"ticks\":\"\"}}}],\"histogram\":[{\"marker\":{\"pattern\":{\"fillmode\":\"overlay\",\"size\":10,\"solidity\":0.2}},\"type\":\"histogram\"}],\"scattergl\":[{\"type\":\"scattergl\",\"marker\":{\"colorbar\":{\"outlinewidth\":0,\"ticks\":\"\"}}}],\"scatter3d\":[{\"type\":\"scatter3d\",\"line\":{\"colorbar\":{\"outlinewidth\":0,\"ticks\":\"\"}},\"marker\":{\"colorbar\":{\"outlinewidth\":0,\"ticks\":\"\"}}}],\"scattermapbox\":[{\"type\":\"scattermapbox\",\"marker\":{\"colorbar\":{\"outlinewidth\":0,\"ticks\":\"\"}}}],\"scatterternary\":[{\"type\":\"scatterternary\",\"marker\":{\"colorbar\":{\"outlinewidth\":0,\"ticks\":\"\"}}}],\"scattercarpet\":[{\"type\":\"scattercarpet\",\"marker\":{\"colorbar\":{\"outlinewidth\":0,\"ticks\":\"\"}}}],\"carpet\":[{\"aaxis\":{\"endlinecolor\":\"#2a3f5f\",\"gridcolor\":\"white\",\"linecolor\":\"white\",\"minorgridcolor\":\"white\",\"startlinecolor\":\"#2a3f5f\"},\"baxis\":{\"endlinecolor\":\"#2a3f5f\",\"gridcolor\":\"white\",\"linecolor\":\"white\",\"minorgridcolor\":\"white\",\"startlinecolor\":\"#2a3f5f\"},\"type\":\"carpet\"}],\"table\":[{\"cells\":{\"fill\":{\"color\":\"#EBF0F8\"},\"line\":{\"color\":\"white\"}},\"header\":{\"fill\":{\"color\":\"#C8D4E3\"},\"line\":{\"color\":\"white\"}},\"type\":\"table\"}],\"barpolar\":[{\"marker\":{\"line\":{\"color\":\"#E5ECF6\",\"width\":0.5},\"pattern\":{\"fillmode\":\"overlay\",\"size\":10,\"solidity\":0.2}},\"type\":\"barpolar\"}],\"pie\":[{\"automargin\":true,\"type\":\"pie\"}]},\"layout\":{\"autotypenumbers\":\"strict\",\"colorway\":[\"#636efa\",\"#EF553B\",\"#00cc96\",\"#ab63fa\",\"#FFA15A\",\"#19d3f3\",\"#FF6692\",\"#B6E880\",\"#FF97FF\",\"#FECB52\"],\"font\":{\"color\":\"#2a3f5f\"},\"hovermode\":\"closest\",\"hoverlabel\":{\"align\":\"left\"},\"paper_bgcolor\":\"white\",\"plot_bgcolor\":\"#E5ECF6\",\"polar\":{\"bgcolor\":\"#E5ECF6\",\"angularaxis\":{\"gridcolor\":\"white\",\"linecolor\":\"white\",\"ticks\":\"\"},\"radialaxis\":{\"gridcolor\":\"white\",\"linecolor\":\"white\",\"ticks\":\"\"}},\"ternary\":{\"bgcolor\":\"#E5ECF6\",\"aaxis\":{\"gridcolor\":\"white\",\"linecolor\":\"white\",\"ticks\":\"\"},\"baxis\":{\"gridcolor\":\"white\",\"linecolor\":\"white\",\"ticks\":\"\"},\"caxis\":{\"gridcolor\":\"white\",\"linecolor\":\"white\",\"ticks\":\"\"}},\"coloraxis\":{\"colorbar\":{\"outlinewidth\":0,\"ticks\":\"\"}},\"colorscale\":{\"sequential\":[[0.0,\"#0d0887\"],[0.1111111111111111,\"#46039f\"],[0.2222222222222222,\"#7201a8\"],[0.3333333333333333,\"#9c179e\"],[0.4444444444444444,\"#bd3786\"],[0.5555555555555556,\"#d8576b\"],[0.6666666666666666,\"#ed7953\"],[0.7777777777777778,\"#fb9f3a\"],[0.8888888888888888,\"#fdca26\"],[1.0,\"#f0f921\"]],\"sequentialminus\":[[0.0,\"#0d0887\"],[0.1111111111111111,\"#46039f\"],[0.2222222222222222,\"#7201a8\"],[0.3333333333333333,\"#9c179e\"],[0.4444444444444444,\"#bd3786\"],[0.5555555555555556,\"#d8576b\"],[0.6666666666666666,\"#ed7953\"],[0.7777777777777778,\"#fb9f3a\"],[0.8888888888888888,\"#fdca26\"],[1.0,\"#f0f921\"]],\"diverging\":[[0,\"#8e0152\"],[0.1,\"#c51b7d\"],[0.2,\"#de77ae\"],[0.3,\"#f1b6da\"],[0.4,\"#fde0ef\"],[0.5,\"#f7f7f7\"],[0.6,\"#e6f5d0\"],[0.7,\"#b8e186\"],[0.8,\"#7fbc41\"],[0.9,\"#4d9221\"],[1,\"#276419\"]]},\"xaxis\":{\"gridcolor\":\"white\",\"linecolor\":\"white\",\"ticks\":\"\",\"title\":{\"standoff\":15},\"zerolinecolor\":\"white\",\"automargin\":true,\"zerolinewidth\":2},\"yaxis\":{\"gridcolor\":\"white\",\"linecolor\":\"white\",\"ticks\":\"\",\"title\":{\"standoff\":15},\"zerolinecolor\":\"white\",\"automargin\":true,\"zerolinewidth\":2},\"scene\":{\"xaxis\":{\"backgroundcolor\":\"#E5ECF6\",\"gridcolor\":\"white\",\"linecolor\":\"white\",\"showbackground\":true,\"ticks\":\"\",\"zerolinecolor\":\"white\",\"gridwidth\":2},\"yaxis\":{\"backgroundcolor\":\"#E5ECF6\",\"gridcolor\":\"white\",\"linecolor\":\"white\",\"showbackground\":true,\"ticks\":\"\",\"zerolinecolor\":\"white\",\"gridwidth\":2},\"zaxis\":{\"backgroundcolor\":\"#E5ECF6\",\"gridcolor\":\"white\",\"linecolor\":\"white\",\"showbackground\":true,\"ticks\":\"\",\"zerolinecolor\":\"white\",\"gridwidth\":2}},\"shapedefaults\":{\"line\":{\"color\":\"#2a3f5f\"}},\"annotationdefaults\":{\"arrowcolor\":\"#2a3f5f\",\"arrowhead\":0,\"arrowwidth\":1},\"geo\":{\"bgcolor\":\"white\",\"landcolor\":\"#E5ECF6\",\"subunitcolor\":\"white\",\"showland\":true,\"showlakes\":true,\"lakecolor\":\"white\"},\"title\":{\"x\":0.05},\"mapbox\":{\"style\":\"light\"}}},\"legend\":{\"tracegroupgap\":0},\"margin\":{\"t\":60}},                        {\"responsive\": true}                    ).then(function(){\n",
       "                            \n",
       "var gd = document.getElementById('f7576f01-0a6e-4f06-90d1-3a535338dd12');\n",
       "var x = new MutationObserver(function (mutations, observer) {{\n",
       "        var display = window.getComputedStyle(gd).display;\n",
       "        if (!display || display === 'none') {{\n",
       "            console.log([gd, 'removed!']);\n",
       "            Plotly.purge(gd);\n",
       "            observer.disconnect();\n",
       "        }}\n",
       "}});\n",
       "\n",
       "// Listen for the removal of the full notebook cells\n",
       "var notebookContainer = gd.closest('#notebook-container');\n",
       "if (notebookContainer) {{\n",
       "    x.observe(notebookContainer, {childList: true});\n",
       "}}\n",
       "\n",
       "// Listen for the clearing of the current output cell\n",
       "var outputEl = gd.closest('.output');\n",
       "if (outputEl) {{\n",
       "    x.observe(outputEl, {childList: true});\n",
       "}}\n",
       "\n",
       "                        })                };                });            </script>        </div>"
      ]
     },
     "metadata": {},
     "output_type": "display_data"
    }
   ],
   "source": [
    "### 트리맵(treemap)\n",
    "fig_tree = px.treemap(PM_acc2022, path=[px.Constant(\"all\"), \"사고유형대분류\", \"사고유형중분류\"], values=\"개인형이동장치(PM)\")\n",
    "fig_tree.update_traces(root_color=\"lightgrey\")\n",
    "fig_tree.show()"
   ]
  },
  {
   "cell_type": "code",
   "execution_count": 100,
   "id": "0ee94103",
   "metadata": {},
   "outputs": [
    {
     "data": {
      "application/vnd.plotly.v1+json": {
       "config": {
        "plotlyServerURL": "https://plot.ly"
       },
       "data": [
        {
         "domain": {
          "x": [
           0,
           1
          ],
          "y": [
           0,
           1
          ]
         },
         "hovertemplate": "사고유형대분류=%{label}<br>개인형이동장치(PM)=%{value}<extra></extra>",
         "labels": [
          "차대사람",
          "차대사람",
          "차대사람",
          "차대사람",
          "차대사람",
          "차대차",
          "차대차",
          "차대차",
          "차대차",
          "차대차",
          "차량단독",
          "차량단독",
          "차량단독",
          "차량단독",
          "차량단독",
          "차량단독"
         ],
         "legendgroup": "",
         "name": "",
         "showlegend": true,
         "textinfo": "percent+label",
         "textposition": "inside",
         "type": "pie",
         "values": [
          153,
          75,
          22,
          374,
          418,
          94,
          493,
          68,
          425,
          2,
          23,
          1,
          2,
          150,
          82,
          4
         ]
        }
       ],
       "layout": {
        "legend": {
         "tracegroupgap": 0
        },
        "template": {
         "data": {
          "bar": [
           {
            "error_x": {
             "color": "#2a3f5f"
            },
            "error_y": {
             "color": "#2a3f5f"
            },
            "marker": {
             "line": {
              "color": "#E5ECF6",
              "width": 0.5
             },
             "pattern": {
              "fillmode": "overlay",
              "size": 10,
              "solidity": 0.2
             }
            },
            "type": "bar"
           }
          ],
          "barpolar": [
           {
            "marker": {
             "line": {
              "color": "#E5ECF6",
              "width": 0.5
             },
             "pattern": {
              "fillmode": "overlay",
              "size": 10,
              "solidity": 0.2
             }
            },
            "type": "barpolar"
           }
          ],
          "carpet": [
           {
            "aaxis": {
             "endlinecolor": "#2a3f5f",
             "gridcolor": "white",
             "linecolor": "white",
             "minorgridcolor": "white",
             "startlinecolor": "#2a3f5f"
            },
            "baxis": {
             "endlinecolor": "#2a3f5f",
             "gridcolor": "white",
             "linecolor": "white",
             "minorgridcolor": "white",
             "startlinecolor": "#2a3f5f"
            },
            "type": "carpet"
           }
          ],
          "choropleth": [
           {
            "colorbar": {
             "outlinewidth": 0,
             "ticks": ""
            },
            "type": "choropleth"
           }
          ],
          "contour": [
           {
            "colorbar": {
             "outlinewidth": 0,
             "ticks": ""
            },
            "colorscale": [
             [
              0,
              "#0d0887"
             ],
             [
              0.1111111111111111,
              "#46039f"
             ],
             [
              0.2222222222222222,
              "#7201a8"
             ],
             [
              0.3333333333333333,
              "#9c179e"
             ],
             [
              0.4444444444444444,
              "#bd3786"
             ],
             [
              0.5555555555555556,
              "#d8576b"
             ],
             [
              0.6666666666666666,
              "#ed7953"
             ],
             [
              0.7777777777777778,
              "#fb9f3a"
             ],
             [
              0.8888888888888888,
              "#fdca26"
             ],
             [
              1,
              "#f0f921"
             ]
            ],
            "type": "contour"
           }
          ],
          "contourcarpet": [
           {
            "colorbar": {
             "outlinewidth": 0,
             "ticks": ""
            },
            "type": "contourcarpet"
           }
          ],
          "heatmap": [
           {
            "colorbar": {
             "outlinewidth": 0,
             "ticks": ""
            },
            "colorscale": [
             [
              0,
              "#0d0887"
             ],
             [
              0.1111111111111111,
              "#46039f"
             ],
             [
              0.2222222222222222,
              "#7201a8"
             ],
             [
              0.3333333333333333,
              "#9c179e"
             ],
             [
              0.4444444444444444,
              "#bd3786"
             ],
             [
              0.5555555555555556,
              "#d8576b"
             ],
             [
              0.6666666666666666,
              "#ed7953"
             ],
             [
              0.7777777777777778,
              "#fb9f3a"
             ],
             [
              0.8888888888888888,
              "#fdca26"
             ],
             [
              1,
              "#f0f921"
             ]
            ],
            "type": "heatmap"
           }
          ],
          "heatmapgl": [
           {
            "colorbar": {
             "outlinewidth": 0,
             "ticks": ""
            },
            "colorscale": [
             [
              0,
              "#0d0887"
             ],
             [
              0.1111111111111111,
              "#46039f"
             ],
             [
              0.2222222222222222,
              "#7201a8"
             ],
             [
              0.3333333333333333,
              "#9c179e"
             ],
             [
              0.4444444444444444,
              "#bd3786"
             ],
             [
              0.5555555555555556,
              "#d8576b"
             ],
             [
              0.6666666666666666,
              "#ed7953"
             ],
             [
              0.7777777777777778,
              "#fb9f3a"
             ],
             [
              0.8888888888888888,
              "#fdca26"
             ],
             [
              1,
              "#f0f921"
             ]
            ],
            "type": "heatmapgl"
           }
          ],
          "histogram": [
           {
            "marker": {
             "pattern": {
              "fillmode": "overlay",
              "size": 10,
              "solidity": 0.2
             }
            },
            "type": "histogram"
           }
          ],
          "histogram2d": [
           {
            "colorbar": {
             "outlinewidth": 0,
             "ticks": ""
            },
            "colorscale": [
             [
              0,
              "#0d0887"
             ],
             [
              0.1111111111111111,
              "#46039f"
             ],
             [
              0.2222222222222222,
              "#7201a8"
             ],
             [
              0.3333333333333333,
              "#9c179e"
             ],
             [
              0.4444444444444444,
              "#bd3786"
             ],
             [
              0.5555555555555556,
              "#d8576b"
             ],
             [
              0.6666666666666666,
              "#ed7953"
             ],
             [
              0.7777777777777778,
              "#fb9f3a"
             ],
             [
              0.8888888888888888,
              "#fdca26"
             ],
             [
              1,
              "#f0f921"
             ]
            ],
            "type": "histogram2d"
           }
          ],
          "histogram2dcontour": [
           {
            "colorbar": {
             "outlinewidth": 0,
             "ticks": ""
            },
            "colorscale": [
             [
              0,
              "#0d0887"
             ],
             [
              0.1111111111111111,
              "#46039f"
             ],
             [
              0.2222222222222222,
              "#7201a8"
             ],
             [
              0.3333333333333333,
              "#9c179e"
             ],
             [
              0.4444444444444444,
              "#bd3786"
             ],
             [
              0.5555555555555556,
              "#d8576b"
             ],
             [
              0.6666666666666666,
              "#ed7953"
             ],
             [
              0.7777777777777778,
              "#fb9f3a"
             ],
             [
              0.8888888888888888,
              "#fdca26"
             ],
             [
              1,
              "#f0f921"
             ]
            ],
            "type": "histogram2dcontour"
           }
          ],
          "mesh3d": [
           {
            "colorbar": {
             "outlinewidth": 0,
             "ticks": ""
            },
            "type": "mesh3d"
           }
          ],
          "parcoords": [
           {
            "line": {
             "colorbar": {
              "outlinewidth": 0,
              "ticks": ""
             }
            },
            "type": "parcoords"
           }
          ],
          "pie": [
           {
            "automargin": true,
            "type": "pie"
           }
          ],
          "scatter": [
           {
            "fillpattern": {
             "fillmode": "overlay",
             "size": 10,
             "solidity": 0.2
            },
            "type": "scatter"
           }
          ],
          "scatter3d": [
           {
            "line": {
             "colorbar": {
              "outlinewidth": 0,
              "ticks": ""
             }
            },
            "marker": {
             "colorbar": {
              "outlinewidth": 0,
              "ticks": ""
             }
            },
            "type": "scatter3d"
           }
          ],
          "scattercarpet": [
           {
            "marker": {
             "colorbar": {
              "outlinewidth": 0,
              "ticks": ""
             }
            },
            "type": "scattercarpet"
           }
          ],
          "scattergeo": [
           {
            "marker": {
             "colorbar": {
              "outlinewidth": 0,
              "ticks": ""
             }
            },
            "type": "scattergeo"
           }
          ],
          "scattergl": [
           {
            "marker": {
             "colorbar": {
              "outlinewidth": 0,
              "ticks": ""
             }
            },
            "type": "scattergl"
           }
          ],
          "scattermapbox": [
           {
            "marker": {
             "colorbar": {
              "outlinewidth": 0,
              "ticks": ""
             }
            },
            "type": "scattermapbox"
           }
          ],
          "scatterpolar": [
           {
            "marker": {
             "colorbar": {
              "outlinewidth": 0,
              "ticks": ""
             }
            },
            "type": "scatterpolar"
           }
          ],
          "scatterpolargl": [
           {
            "marker": {
             "colorbar": {
              "outlinewidth": 0,
              "ticks": ""
             }
            },
            "type": "scatterpolargl"
           }
          ],
          "scatterternary": [
           {
            "marker": {
             "colorbar": {
              "outlinewidth": 0,
              "ticks": ""
             }
            },
            "type": "scatterternary"
           }
          ],
          "surface": [
           {
            "colorbar": {
             "outlinewidth": 0,
             "ticks": ""
            },
            "colorscale": [
             [
              0,
              "#0d0887"
             ],
             [
              0.1111111111111111,
              "#46039f"
             ],
             [
              0.2222222222222222,
              "#7201a8"
             ],
             [
              0.3333333333333333,
              "#9c179e"
             ],
             [
              0.4444444444444444,
              "#bd3786"
             ],
             [
              0.5555555555555556,
              "#d8576b"
             ],
             [
              0.6666666666666666,
              "#ed7953"
             ],
             [
              0.7777777777777778,
              "#fb9f3a"
             ],
             [
              0.8888888888888888,
              "#fdca26"
             ],
             [
              1,
              "#f0f921"
             ]
            ],
            "type": "surface"
           }
          ],
          "table": [
           {
            "cells": {
             "fill": {
              "color": "#EBF0F8"
             },
             "line": {
              "color": "white"
             }
            },
            "header": {
             "fill": {
              "color": "#C8D4E3"
             },
             "line": {
              "color": "white"
             }
            },
            "type": "table"
           }
          ]
         },
         "layout": {
          "annotationdefaults": {
           "arrowcolor": "#2a3f5f",
           "arrowhead": 0,
           "arrowwidth": 1
          },
          "autotypenumbers": "strict",
          "coloraxis": {
           "colorbar": {
            "outlinewidth": 0,
            "ticks": ""
           }
          },
          "colorscale": {
           "diverging": [
            [
             0,
             "#8e0152"
            ],
            [
             0.1,
             "#c51b7d"
            ],
            [
             0.2,
             "#de77ae"
            ],
            [
             0.3,
             "#f1b6da"
            ],
            [
             0.4,
             "#fde0ef"
            ],
            [
             0.5,
             "#f7f7f7"
            ],
            [
             0.6,
             "#e6f5d0"
            ],
            [
             0.7,
             "#b8e186"
            ],
            [
             0.8,
             "#7fbc41"
            ],
            [
             0.9,
             "#4d9221"
            ],
            [
             1,
             "#276419"
            ]
           ],
           "sequential": [
            [
             0,
             "#0d0887"
            ],
            [
             0.1111111111111111,
             "#46039f"
            ],
            [
             0.2222222222222222,
             "#7201a8"
            ],
            [
             0.3333333333333333,
             "#9c179e"
            ],
            [
             0.4444444444444444,
             "#bd3786"
            ],
            [
             0.5555555555555556,
             "#d8576b"
            ],
            [
             0.6666666666666666,
             "#ed7953"
            ],
            [
             0.7777777777777778,
             "#fb9f3a"
            ],
            [
             0.8888888888888888,
             "#fdca26"
            ],
            [
             1,
             "#f0f921"
            ]
           ],
           "sequentialminus": [
            [
             0,
             "#0d0887"
            ],
            [
             0.1111111111111111,
             "#46039f"
            ],
            [
             0.2222222222222222,
             "#7201a8"
            ],
            [
             0.3333333333333333,
             "#9c179e"
            ],
            [
             0.4444444444444444,
             "#bd3786"
            ],
            [
             0.5555555555555556,
             "#d8576b"
            ],
            [
             0.6666666666666666,
             "#ed7953"
            ],
            [
             0.7777777777777778,
             "#fb9f3a"
            ],
            [
             0.8888888888888888,
             "#fdca26"
            ],
            [
             1,
             "#f0f921"
            ]
           ]
          },
          "colorway": [
           "#636efa",
           "#EF553B",
           "#00cc96",
           "#ab63fa",
           "#FFA15A",
           "#19d3f3",
           "#FF6692",
           "#B6E880",
           "#FF97FF",
           "#FECB52"
          ],
          "font": {
           "color": "#2a3f5f"
          },
          "geo": {
           "bgcolor": "white",
           "lakecolor": "white",
           "landcolor": "#E5ECF6",
           "showlakes": true,
           "showland": true,
           "subunitcolor": "white"
          },
          "hoverlabel": {
           "align": "left"
          },
          "hovermode": "closest",
          "mapbox": {
           "style": "light"
          },
          "paper_bgcolor": "white",
          "plot_bgcolor": "#E5ECF6",
          "polar": {
           "angularaxis": {
            "gridcolor": "white",
            "linecolor": "white",
            "ticks": ""
           },
           "bgcolor": "#E5ECF6",
           "radialaxis": {
            "gridcolor": "white",
            "linecolor": "white",
            "ticks": ""
           }
          },
          "scene": {
           "xaxis": {
            "backgroundcolor": "#E5ECF6",
            "gridcolor": "white",
            "gridwidth": 2,
            "linecolor": "white",
            "showbackground": true,
            "ticks": "",
            "zerolinecolor": "white"
           },
           "yaxis": {
            "backgroundcolor": "#E5ECF6",
            "gridcolor": "white",
            "gridwidth": 2,
            "linecolor": "white",
            "showbackground": true,
            "ticks": "",
            "zerolinecolor": "white"
           },
           "zaxis": {
            "backgroundcolor": "#E5ECF6",
            "gridcolor": "white",
            "gridwidth": 2,
            "linecolor": "white",
            "showbackground": true,
            "ticks": "",
            "zerolinecolor": "white"
           }
          },
          "shapedefaults": {
           "line": {
            "color": "#2a3f5f"
           }
          },
          "ternary": {
           "aaxis": {
            "gridcolor": "white",
            "linecolor": "white",
            "ticks": ""
           },
           "baxis": {
            "gridcolor": "white",
            "linecolor": "white",
            "ticks": ""
           },
           "bgcolor": "#E5ECF6",
           "caxis": {
            "gridcolor": "white",
            "linecolor": "white",
            "ticks": ""
           }
          },
          "title": {
           "x": 0.05
          },
          "xaxis": {
           "automargin": true,
           "gridcolor": "white",
           "linecolor": "white",
           "ticks": "",
           "title": {
            "standoff": 15
           },
           "zerolinecolor": "white",
           "zerolinewidth": 2
          },
          "yaxis": {
           "automargin": true,
           "gridcolor": "white",
           "linecolor": "white",
           "ticks": "",
           "title": {
            "standoff": 15
           },
           "zerolinecolor": "white",
           "zerolinewidth": 2
          }
         }
        },
        "title": {
         "text": "2022년 개인형이동장치(PM) 사고 현황"
        }
       }
      },
      "text/html": [
       "<div>                            <div id=\"b501f665-0d7f-42f6-8d6b-11abd9443a7d\" class=\"plotly-graph-div\" style=\"height:525px; width:100%;\"></div>            <script type=\"text/javascript\">                require([\"plotly\"], function(Plotly) {                    window.PLOTLYENV=window.PLOTLYENV || {};                                    if (document.getElementById(\"b501f665-0d7f-42f6-8d6b-11abd9443a7d\")) {                    Plotly.newPlot(                        \"b501f665-0d7f-42f6-8d6b-11abd9443a7d\",                        [{\"domain\":{\"x\":[0.0,1.0],\"y\":[0.0,1.0]},\"hovertemplate\":\"\\uc0ac\\uace0\\uc720\\ud615\\ub300\\ubd84\\ub958=%{label}\\u003cbr\\u003e\\uac1c\\uc778\\ud615\\uc774\\ub3d9\\uc7a5\\uce58(PM)=%{value}\\u003cextra\\u003e\\u003c\\u002fextra\\u003e\",\"labels\":[\"\\ucc28\\ub300\\uc0ac\\ub78c\",\"\\ucc28\\ub300\\uc0ac\\ub78c\",\"\\ucc28\\ub300\\uc0ac\\ub78c\",\"\\ucc28\\ub300\\uc0ac\\ub78c\",\"\\ucc28\\ub300\\uc0ac\\ub78c\",\"\\ucc28\\ub300\\ucc28\",\"\\ucc28\\ub300\\ucc28\",\"\\ucc28\\ub300\\ucc28\",\"\\ucc28\\ub300\\ucc28\",\"\\ucc28\\ub300\\ucc28\",\"\\ucc28\\ub7c9\\ub2e8\\ub3c5\",\"\\ucc28\\ub7c9\\ub2e8\\ub3c5\",\"\\ucc28\\ub7c9\\ub2e8\\ub3c5\",\"\\ucc28\\ub7c9\\ub2e8\\ub3c5\",\"\\ucc28\\ub7c9\\ub2e8\\ub3c5\",\"\\ucc28\\ub7c9\\ub2e8\\ub3c5\"],\"legendgroup\":\"\",\"name\":\"\",\"showlegend\":true,\"values\":[153,75,22,374,418,94,493,68,425,2,23,1,2,150,82,4],\"type\":\"pie\",\"textinfo\":\"percent+label\",\"textposition\":\"inside\"}],                        {\"template\":{\"data\":{\"histogram2dcontour\":[{\"type\":\"histogram2dcontour\",\"colorbar\":{\"outlinewidth\":0,\"ticks\":\"\"},\"colorscale\":[[0.0,\"#0d0887\"],[0.1111111111111111,\"#46039f\"],[0.2222222222222222,\"#7201a8\"],[0.3333333333333333,\"#9c179e\"],[0.4444444444444444,\"#bd3786\"],[0.5555555555555556,\"#d8576b\"],[0.6666666666666666,\"#ed7953\"],[0.7777777777777778,\"#fb9f3a\"],[0.8888888888888888,\"#fdca26\"],[1.0,\"#f0f921\"]]}],\"choropleth\":[{\"type\":\"choropleth\",\"colorbar\":{\"outlinewidth\":0,\"ticks\":\"\"}}],\"histogram2d\":[{\"type\":\"histogram2d\",\"colorbar\":{\"outlinewidth\":0,\"ticks\":\"\"},\"colorscale\":[[0.0,\"#0d0887\"],[0.1111111111111111,\"#46039f\"],[0.2222222222222222,\"#7201a8\"],[0.3333333333333333,\"#9c179e\"],[0.4444444444444444,\"#bd3786\"],[0.5555555555555556,\"#d8576b\"],[0.6666666666666666,\"#ed7953\"],[0.7777777777777778,\"#fb9f3a\"],[0.8888888888888888,\"#fdca26\"],[1.0,\"#f0f921\"]]}],\"heatmap\":[{\"type\":\"heatmap\",\"colorbar\":{\"outlinewidth\":0,\"ticks\":\"\"},\"colorscale\":[[0.0,\"#0d0887\"],[0.1111111111111111,\"#46039f\"],[0.2222222222222222,\"#7201a8\"],[0.3333333333333333,\"#9c179e\"],[0.4444444444444444,\"#bd3786\"],[0.5555555555555556,\"#d8576b\"],[0.6666666666666666,\"#ed7953\"],[0.7777777777777778,\"#fb9f3a\"],[0.8888888888888888,\"#fdca26\"],[1.0,\"#f0f921\"]]}],\"heatmapgl\":[{\"type\":\"heatmapgl\",\"colorbar\":{\"outlinewidth\":0,\"ticks\":\"\"},\"colorscale\":[[0.0,\"#0d0887\"],[0.1111111111111111,\"#46039f\"],[0.2222222222222222,\"#7201a8\"],[0.3333333333333333,\"#9c179e\"],[0.4444444444444444,\"#bd3786\"],[0.5555555555555556,\"#d8576b\"],[0.6666666666666666,\"#ed7953\"],[0.7777777777777778,\"#fb9f3a\"],[0.8888888888888888,\"#fdca26\"],[1.0,\"#f0f921\"]]}],\"contourcarpet\":[{\"type\":\"contourcarpet\",\"colorbar\":{\"outlinewidth\":0,\"ticks\":\"\"}}],\"contour\":[{\"type\":\"contour\",\"colorbar\":{\"outlinewidth\":0,\"ticks\":\"\"},\"colorscale\":[[0.0,\"#0d0887\"],[0.1111111111111111,\"#46039f\"],[0.2222222222222222,\"#7201a8\"],[0.3333333333333333,\"#9c179e\"],[0.4444444444444444,\"#bd3786\"],[0.5555555555555556,\"#d8576b\"],[0.6666666666666666,\"#ed7953\"],[0.7777777777777778,\"#fb9f3a\"],[0.8888888888888888,\"#fdca26\"],[1.0,\"#f0f921\"]]}],\"surface\":[{\"type\":\"surface\",\"colorbar\":{\"outlinewidth\":0,\"ticks\":\"\"},\"colorscale\":[[0.0,\"#0d0887\"],[0.1111111111111111,\"#46039f\"],[0.2222222222222222,\"#7201a8\"],[0.3333333333333333,\"#9c179e\"],[0.4444444444444444,\"#bd3786\"],[0.5555555555555556,\"#d8576b\"],[0.6666666666666666,\"#ed7953\"],[0.7777777777777778,\"#fb9f3a\"],[0.8888888888888888,\"#fdca26\"],[1.0,\"#f0f921\"]]}],\"mesh3d\":[{\"type\":\"mesh3d\",\"colorbar\":{\"outlinewidth\":0,\"ticks\":\"\"}}],\"scatter\":[{\"fillpattern\":{\"fillmode\":\"overlay\",\"size\":10,\"solidity\":0.2},\"type\":\"scatter\"}],\"parcoords\":[{\"type\":\"parcoords\",\"line\":{\"colorbar\":{\"outlinewidth\":0,\"ticks\":\"\"}}}],\"scatterpolargl\":[{\"type\":\"scatterpolargl\",\"marker\":{\"colorbar\":{\"outlinewidth\":0,\"ticks\":\"\"}}}],\"bar\":[{\"error_x\":{\"color\":\"#2a3f5f\"},\"error_y\":{\"color\":\"#2a3f5f\"},\"marker\":{\"line\":{\"color\":\"#E5ECF6\",\"width\":0.5},\"pattern\":{\"fillmode\":\"overlay\",\"size\":10,\"solidity\":0.2}},\"type\":\"bar\"}],\"scattergeo\":[{\"type\":\"scattergeo\",\"marker\":{\"colorbar\":{\"outlinewidth\":0,\"ticks\":\"\"}}}],\"scatterpolar\":[{\"type\":\"scatterpolar\",\"marker\":{\"colorbar\":{\"outlinewidth\":0,\"ticks\":\"\"}}}],\"histogram\":[{\"marker\":{\"pattern\":{\"fillmode\":\"overlay\",\"size\":10,\"solidity\":0.2}},\"type\":\"histogram\"}],\"scattergl\":[{\"type\":\"scattergl\",\"marker\":{\"colorbar\":{\"outlinewidth\":0,\"ticks\":\"\"}}}],\"scatter3d\":[{\"type\":\"scatter3d\",\"line\":{\"colorbar\":{\"outlinewidth\":0,\"ticks\":\"\"}},\"marker\":{\"colorbar\":{\"outlinewidth\":0,\"ticks\":\"\"}}}],\"scattermapbox\":[{\"type\":\"scattermapbox\",\"marker\":{\"colorbar\":{\"outlinewidth\":0,\"ticks\":\"\"}}}],\"scatterternary\":[{\"type\":\"scatterternary\",\"marker\":{\"colorbar\":{\"outlinewidth\":0,\"ticks\":\"\"}}}],\"scattercarpet\":[{\"type\":\"scattercarpet\",\"marker\":{\"colorbar\":{\"outlinewidth\":0,\"ticks\":\"\"}}}],\"carpet\":[{\"aaxis\":{\"endlinecolor\":\"#2a3f5f\",\"gridcolor\":\"white\",\"linecolor\":\"white\",\"minorgridcolor\":\"white\",\"startlinecolor\":\"#2a3f5f\"},\"baxis\":{\"endlinecolor\":\"#2a3f5f\",\"gridcolor\":\"white\",\"linecolor\":\"white\",\"minorgridcolor\":\"white\",\"startlinecolor\":\"#2a3f5f\"},\"type\":\"carpet\"}],\"table\":[{\"cells\":{\"fill\":{\"color\":\"#EBF0F8\"},\"line\":{\"color\":\"white\"}},\"header\":{\"fill\":{\"color\":\"#C8D4E3\"},\"line\":{\"color\":\"white\"}},\"type\":\"table\"}],\"barpolar\":[{\"marker\":{\"line\":{\"color\":\"#E5ECF6\",\"width\":0.5},\"pattern\":{\"fillmode\":\"overlay\",\"size\":10,\"solidity\":0.2}},\"type\":\"barpolar\"}],\"pie\":[{\"automargin\":true,\"type\":\"pie\"}]},\"layout\":{\"autotypenumbers\":\"strict\",\"colorway\":[\"#636efa\",\"#EF553B\",\"#00cc96\",\"#ab63fa\",\"#FFA15A\",\"#19d3f3\",\"#FF6692\",\"#B6E880\",\"#FF97FF\",\"#FECB52\"],\"font\":{\"color\":\"#2a3f5f\"},\"hovermode\":\"closest\",\"hoverlabel\":{\"align\":\"left\"},\"paper_bgcolor\":\"white\",\"plot_bgcolor\":\"#E5ECF6\",\"polar\":{\"bgcolor\":\"#E5ECF6\",\"angularaxis\":{\"gridcolor\":\"white\",\"linecolor\":\"white\",\"ticks\":\"\"},\"radialaxis\":{\"gridcolor\":\"white\",\"linecolor\":\"white\",\"ticks\":\"\"}},\"ternary\":{\"bgcolor\":\"#E5ECF6\",\"aaxis\":{\"gridcolor\":\"white\",\"linecolor\":\"white\",\"ticks\":\"\"},\"baxis\":{\"gridcolor\":\"white\",\"linecolor\":\"white\",\"ticks\":\"\"},\"caxis\":{\"gridcolor\":\"white\",\"linecolor\":\"white\",\"ticks\":\"\"}},\"coloraxis\":{\"colorbar\":{\"outlinewidth\":0,\"ticks\":\"\"}},\"colorscale\":{\"sequential\":[[0.0,\"#0d0887\"],[0.1111111111111111,\"#46039f\"],[0.2222222222222222,\"#7201a8\"],[0.3333333333333333,\"#9c179e\"],[0.4444444444444444,\"#bd3786\"],[0.5555555555555556,\"#d8576b\"],[0.6666666666666666,\"#ed7953\"],[0.7777777777777778,\"#fb9f3a\"],[0.8888888888888888,\"#fdca26\"],[1.0,\"#f0f921\"]],\"sequentialminus\":[[0.0,\"#0d0887\"],[0.1111111111111111,\"#46039f\"],[0.2222222222222222,\"#7201a8\"],[0.3333333333333333,\"#9c179e\"],[0.4444444444444444,\"#bd3786\"],[0.5555555555555556,\"#d8576b\"],[0.6666666666666666,\"#ed7953\"],[0.7777777777777778,\"#fb9f3a\"],[0.8888888888888888,\"#fdca26\"],[1.0,\"#f0f921\"]],\"diverging\":[[0,\"#8e0152\"],[0.1,\"#c51b7d\"],[0.2,\"#de77ae\"],[0.3,\"#f1b6da\"],[0.4,\"#fde0ef\"],[0.5,\"#f7f7f7\"],[0.6,\"#e6f5d0\"],[0.7,\"#b8e186\"],[0.8,\"#7fbc41\"],[0.9,\"#4d9221\"],[1,\"#276419\"]]},\"xaxis\":{\"gridcolor\":\"white\",\"linecolor\":\"white\",\"ticks\":\"\",\"title\":{\"standoff\":15},\"zerolinecolor\":\"white\",\"automargin\":true,\"zerolinewidth\":2},\"yaxis\":{\"gridcolor\":\"white\",\"linecolor\":\"white\",\"ticks\":\"\",\"title\":{\"standoff\":15},\"zerolinecolor\":\"white\",\"automargin\":true,\"zerolinewidth\":2},\"scene\":{\"xaxis\":{\"backgroundcolor\":\"#E5ECF6\",\"gridcolor\":\"white\",\"linecolor\":\"white\",\"showbackground\":true,\"ticks\":\"\",\"zerolinecolor\":\"white\",\"gridwidth\":2},\"yaxis\":{\"backgroundcolor\":\"#E5ECF6\",\"gridcolor\":\"white\",\"linecolor\":\"white\",\"showbackground\":true,\"ticks\":\"\",\"zerolinecolor\":\"white\",\"gridwidth\":2},\"zaxis\":{\"backgroundcolor\":\"#E5ECF6\",\"gridcolor\":\"white\",\"linecolor\":\"white\",\"showbackground\":true,\"ticks\":\"\",\"zerolinecolor\":\"white\",\"gridwidth\":2}},\"shapedefaults\":{\"line\":{\"color\":\"#2a3f5f\"}},\"annotationdefaults\":{\"arrowcolor\":\"#2a3f5f\",\"arrowhead\":0,\"arrowwidth\":1},\"geo\":{\"bgcolor\":\"white\",\"landcolor\":\"#E5ECF6\",\"subunitcolor\":\"white\",\"showland\":true,\"showlakes\":true,\"lakecolor\":\"white\"},\"title\":{\"x\":0.05},\"mapbox\":{\"style\":\"light\"}}},\"legend\":{\"tracegroupgap\":0},\"title\":{\"text\":\"2022\\ub144 \\uac1c\\uc778\\ud615\\uc774\\ub3d9\\uc7a5\\uce58(PM) \\uc0ac\\uace0 \\ud604\\ud669\"}},                        {\"responsive\": true}                    ).then(function(){\n",
       "                            \n",
       "var gd = document.getElementById('b501f665-0d7f-42f6-8d6b-11abd9443a7d');\n",
       "var x = new MutationObserver(function (mutations, observer) {{\n",
       "        var display = window.getComputedStyle(gd).display;\n",
       "        if (!display || display === 'none') {{\n",
       "            console.log([gd, 'removed!']);\n",
       "            Plotly.purge(gd);\n",
       "            observer.disconnect();\n",
       "        }}\n",
       "}});\n",
       "\n",
       "// Listen for the removal of the full notebook cells\n",
       "var notebookContainer = gd.closest('#notebook-container');\n",
       "if (notebookContainer) {{\n",
       "    x.observe(notebookContainer, {childList: true});\n",
       "}}\n",
       "\n",
       "// Listen for the clearing of the current output cell\n",
       "var outputEl = gd.closest('.output');\n",
       "if (outputEl) {{\n",
       "    x.observe(outputEl, {childList: true});\n",
       "}}\n",
       "\n",
       "                        })                };                });            </script>        </div>"
      ]
     },
     "metadata": {},
     "output_type": "display_data"
    }
   ],
   "source": [
    "### 원그래프\n",
    "fig_cir=px.pie(PM_acc2022, values='개인형이동장치(PM)', names='사고유형대분류', title = '2022년 개인형이동장치(PM) 사고 현황')\n",
    "fig_cir.update_traces(textposition='inside', textinfo='percent+label')\n",
    "fig_cir.show()"
   ]
  },
  {
   "cell_type": "code",
   "execution_count": 101,
   "id": "2deaee68",
   "metadata": {},
   "outputs": [],
   "source": [
    "fig_cir.write_html('2022 킥보드 사고 세부 유형(circle map).html')"
   ]
  },
  {
   "cell_type": "code",
   "execution_count": 98,
   "id": "78c09837",
   "metadata": {},
   "outputs": [],
   "source": [
    "fig_tree.write_html(\"2022 킥보드 사고 세부 유형(tree map).html\")"
   ]
  },
  {
   "cell_type": "code",
   "execution_count": 48,
   "id": "246f2d14",
   "metadata": {},
   "outputs": [],
   "source": [
    "PM_acc2022=PM_acc2022.reset_index()\n",
    "del PM_acc2022['index']"
   ]
  },
  {
   "cell_type": "code",
   "execution_count": 49,
   "id": "55c8d955",
   "metadata": {},
   "outputs": [
    {
     "data": {
      "text/html": [
       "<div>\n",
       "<style scoped>\n",
       "    .dataframe tbody tr th:only-of-type {\n",
       "        vertical-align: middle;\n",
       "    }\n",
       "\n",
       "    .dataframe tbody tr th {\n",
       "        vertical-align: top;\n",
       "    }\n",
       "\n",
       "    .dataframe thead th {\n",
       "        text-align: right;\n",
       "    }\n",
       "</style>\n",
       "<table border=\"1\" class=\"dataframe\">\n",
       "  <thead>\n",
       "    <tr style=\"text-align: right;\">\n",
       "      <th></th>\n",
       "      <th>사고유형대분류</th>\n",
       "      <th>사고유형중분류</th>\n",
       "      <th>사고년도</th>\n",
       "      <th>개인형이동장치(PM)</th>\n",
       "    </tr>\n",
       "  </thead>\n",
       "  <tbody>\n",
       "    <tr>\n",
       "      <th>0</th>\n",
       "      <td>차대사람</td>\n",
       "      <td>횡단중</td>\n",
       "      <td>사고건수[건]</td>\n",
       "      <td>153</td>\n",
       "    </tr>\n",
       "    <tr>\n",
       "      <th>1</th>\n",
       "      <td>차대사람</td>\n",
       "      <td>차도통행중</td>\n",
       "      <td>사고건수[건]</td>\n",
       "      <td>75</td>\n",
       "    </tr>\n",
       "    <tr>\n",
       "      <th>2</th>\n",
       "      <td>차대사람</td>\n",
       "      <td>길가장자리구역통행중</td>\n",
       "      <td>사고건수[건]</td>\n",
       "      <td>22</td>\n",
       "    </tr>\n",
       "    <tr>\n",
       "      <th>3</th>\n",
       "      <td>차대사람</td>\n",
       "      <td>보도통행중</td>\n",
       "      <td>사고건수[건]</td>\n",
       "      <td>374</td>\n",
       "    </tr>\n",
       "    <tr>\n",
       "      <th>4</th>\n",
       "      <td>차대사람</td>\n",
       "      <td>기타</td>\n",
       "      <td>사고건수[건]</td>\n",
       "      <td>418</td>\n",
       "    </tr>\n",
       "    <tr>\n",
       "      <th>5</th>\n",
       "      <td>차대차</td>\n",
       "      <td>정면충돌</td>\n",
       "      <td>사고건수[건]</td>\n",
       "      <td>94</td>\n",
       "    </tr>\n",
       "    <tr>\n",
       "      <th>6</th>\n",
       "      <td>차대차</td>\n",
       "      <td>측면충돌</td>\n",
       "      <td>사고건수[건]</td>\n",
       "      <td>493</td>\n",
       "    </tr>\n",
       "    <tr>\n",
       "      <th>7</th>\n",
       "      <td>차대차</td>\n",
       "      <td>추돌</td>\n",
       "      <td>사고건수[건]</td>\n",
       "      <td>68</td>\n",
       "    </tr>\n",
       "    <tr>\n",
       "      <th>8</th>\n",
       "      <td>차대차</td>\n",
       "      <td>기타</td>\n",
       "      <td>사고건수[건]</td>\n",
       "      <td>425</td>\n",
       "    </tr>\n",
       "    <tr>\n",
       "      <th>9</th>\n",
       "      <td>차대차</td>\n",
       "      <td>후진중충돌</td>\n",
       "      <td>사고건수[건]</td>\n",
       "      <td>2</td>\n",
       "    </tr>\n",
       "    <tr>\n",
       "      <th>10</th>\n",
       "      <td>차량단독</td>\n",
       "      <td>공작물충돌</td>\n",
       "      <td>사고건수[건]</td>\n",
       "      <td>23</td>\n",
       "    </tr>\n",
       "    <tr>\n",
       "      <th>11</th>\n",
       "      <td>차량단독</td>\n",
       "      <td>주/정차차량 충돌</td>\n",
       "      <td>사고건수[건]</td>\n",
       "      <td>1</td>\n",
       "    </tr>\n",
       "    <tr>\n",
       "      <th>12</th>\n",
       "      <td>차량단독</td>\n",
       "      <td>도로이탈</td>\n",
       "      <td>사고건수[건]</td>\n",
       "      <td>2</td>\n",
       "    </tr>\n",
       "    <tr>\n",
       "      <th>13</th>\n",
       "      <td>차량단독</td>\n",
       "      <td>기타</td>\n",
       "      <td>사고건수[건]</td>\n",
       "      <td>150</td>\n",
       "    </tr>\n",
       "    <tr>\n",
       "      <th>14</th>\n",
       "      <td>차량단독</td>\n",
       "      <td>전도</td>\n",
       "      <td>사고건수[건]</td>\n",
       "      <td>82</td>\n",
       "    </tr>\n",
       "    <tr>\n",
       "      <th>15</th>\n",
       "      <td>차량단독</td>\n",
       "      <td>전복</td>\n",
       "      <td>사고건수[건]</td>\n",
       "      <td>4</td>\n",
       "    </tr>\n",
       "  </tbody>\n",
       "</table>\n",
       "</div>"
      ],
      "text/plain": [
       "   사고유형대분류     사고유형중분류     사고년도  개인형이동장치(PM)\n",
       "0     차대사람         횡단중  사고건수[건]          153\n",
       "1     차대사람       차도통행중  사고건수[건]           75\n",
       "2     차대사람  길가장자리구역통행중  사고건수[건]           22\n",
       "3     차대사람       보도통행중  사고건수[건]          374\n",
       "4     차대사람          기타  사고건수[건]          418\n",
       "5      차대차        정면충돌  사고건수[건]           94\n",
       "6      차대차        측면충돌  사고건수[건]          493\n",
       "7      차대차          추돌  사고건수[건]           68\n",
       "8      차대차          기타  사고건수[건]          425\n",
       "9      차대차       후진중충돌  사고건수[건]            2\n",
       "10    차량단독       공작물충돌  사고건수[건]           23\n",
       "11    차량단독   주/정차차량 충돌  사고건수[건]            1\n",
       "12    차량단독        도로이탈  사고건수[건]            2\n",
       "13    차량단독          기타  사고건수[건]          150\n",
       "14    차량단독          전도  사고건수[건]           82\n",
       "15    차량단독          전복  사고건수[건]            4"
      ]
     },
     "execution_count": 49,
     "metadata": {},
     "output_type": "execute_result"
    }
   ],
   "source": [
    "PM_acc2022"
   ]
  },
  {
   "cell_type": "code",
   "execution_count": 18,
   "id": "d3bcd40a",
   "metadata": {},
   "outputs": [
    {
     "data": {
      "text/html": [
       "<div>\n",
       "<style scoped>\n",
       "    .dataframe tbody tr th:only-of-type {\n",
       "        vertical-align: middle;\n",
       "    }\n",
       "\n",
       "    .dataframe tbody tr th {\n",
       "        vertical-align: top;\n",
       "    }\n",
       "\n",
       "    .dataframe thead th {\n",
       "        text-align: right;\n",
       "    }\n",
       "</style>\n",
       "<table border=\"1\" class=\"dataframe\">\n",
       "  <thead>\n",
       "    <tr style=\"text-align: right;\">\n",
       "      <th></th>\n",
       "      <th>발생년</th>\n",
       "      <th>2017</th>\n",
       "      <th>Unnamed: 2</th>\n",
       "      <th>Unnamed: 3</th>\n",
       "      <th>2018</th>\n",
       "      <th>Unnamed: 5</th>\n",
       "      <th>Unnamed: 6</th>\n",
       "      <th>2019</th>\n",
       "      <th>Unnamed: 8</th>\n",
       "      <th>Unnamed: 9</th>\n",
       "      <th>2020</th>\n",
       "      <th>Unnamed: 11</th>\n",
       "      <th>Unnamed: 12</th>\n",
       "      <th>2021</th>\n",
       "      <th>Unnamed: 14</th>\n",
       "      <th>Unnamed: 15</th>\n",
       "      <th>2022</th>\n",
       "      <th>Unnamed: 17</th>\n",
       "      <th>Unnamed: 18</th>\n",
       "    </tr>\n",
       "  </thead>\n",
       "  <tbody>\n",
       "    <tr>\n",
       "      <th>0</th>\n",
       "      <td>발생월</td>\n",
       "      <td>사고건수</td>\n",
       "      <td>사망자수</td>\n",
       "      <td>부상자수</td>\n",
       "      <td>사고건수</td>\n",
       "      <td>사망자수</td>\n",
       "      <td>부상자수</td>\n",
       "      <td>사고건수</td>\n",
       "      <td>사망자수</td>\n",
       "      <td>부상자수</td>\n",
       "      <td>사고건수</td>\n",
       "      <td>사망자수</td>\n",
       "      <td>부상자수</td>\n",
       "      <td>사고건수</td>\n",
       "      <td>사망자수</td>\n",
       "      <td>부상자수</td>\n",
       "      <td>사고건수</td>\n",
       "      <td>사망자수</td>\n",
       "      <td>부상자수</td>\n",
       "    </tr>\n",
       "    <tr>\n",
       "      <th>1</th>\n",
       "      <td>01</td>\n",
       "      <td>NaN</td>\n",
       "      <td>NaN</td>\n",
       "      <td>NaN</td>\n",
       "      <td>8</td>\n",
       "      <td>0</td>\n",
       "      <td>8</td>\n",
       "      <td>10</td>\n",
       "      <td>0</td>\n",
       "      <td>10</td>\n",
       "      <td>22</td>\n",
       "      <td>0</td>\n",
       "      <td>27</td>\n",
       "      <td>55</td>\n",
       "      <td>1</td>\n",
       "      <td>60</td>\n",
       "      <td>74</td>\n",
       "      <td>0</td>\n",
       "      <td>83</td>\n",
       "    </tr>\n",
       "    <tr>\n",
       "      <th>2</th>\n",
       "      <td>02</td>\n",
       "      <td>2</td>\n",
       "      <td>0</td>\n",
       "      <td>2</td>\n",
       "      <td>8</td>\n",
       "      <td>0</td>\n",
       "      <td>8</td>\n",
       "      <td>13</td>\n",
       "      <td>1</td>\n",
       "      <td>13</td>\n",
       "      <td>36</td>\n",
       "      <td>1</td>\n",
       "      <td>36</td>\n",
       "      <td>51</td>\n",
       "      <td>2</td>\n",
       "      <td>56</td>\n",
       "      <td>52</td>\n",
       "      <td>0</td>\n",
       "      <td>56</td>\n",
       "    </tr>\n",
       "    <tr>\n",
       "      <th>3</th>\n",
       "      <td>03</td>\n",
       "      <td>4</td>\n",
       "      <td>0</td>\n",
       "      <td>4</td>\n",
       "      <td>3</td>\n",
       "      <td>0</td>\n",
       "      <td>3</td>\n",
       "      <td>14</td>\n",
       "      <td>0</td>\n",
       "      <td>15</td>\n",
       "      <td>31</td>\n",
       "      <td>0</td>\n",
       "      <td>36</td>\n",
       "      <td>133</td>\n",
       "      <td>1</td>\n",
       "      <td>143</td>\n",
       "      <td>103</td>\n",
       "      <td>2</td>\n",
       "      <td>114</td>\n",
       "    </tr>\n",
       "    <tr>\n",
       "      <th>4</th>\n",
       "      <td>04</td>\n",
       "      <td>4</td>\n",
       "      <td>0</td>\n",
       "      <td>5</td>\n",
       "      <td>16</td>\n",
       "      <td>0</td>\n",
       "      <td>20</td>\n",
       "      <td>19</td>\n",
       "      <td>0</td>\n",
       "      <td>19</td>\n",
       "      <td>56</td>\n",
       "      <td>1</td>\n",
       "      <td>63</td>\n",
       "      <td>173</td>\n",
       "      <td>0</td>\n",
       "      <td>201</td>\n",
       "      <td>195</td>\n",
       "      <td>0</td>\n",
       "      <td>229</td>\n",
       "    </tr>\n",
       "    <tr>\n",
       "      <th>5</th>\n",
       "      <td>05</td>\n",
       "      <td>15</td>\n",
       "      <td>0</td>\n",
       "      <td>16</td>\n",
       "      <td>15</td>\n",
       "      <td>0</td>\n",
       "      <td>15</td>\n",
       "      <td>48</td>\n",
       "      <td>1</td>\n",
       "      <td>49</td>\n",
       "      <td>67</td>\n",
       "      <td>0</td>\n",
       "      <td>77</td>\n",
       "      <td>166</td>\n",
       "      <td>0</td>\n",
       "      <td>186</td>\n",
       "      <td>244</td>\n",
       "      <td>6</td>\n",
       "      <td>273</td>\n",
       "    </tr>\n",
       "    <tr>\n",
       "      <th>6</th>\n",
       "      <td>06</td>\n",
       "      <td>7</td>\n",
       "      <td>1</td>\n",
       "      <td>8</td>\n",
       "      <td>17</td>\n",
       "      <td>0</td>\n",
       "      <td>18</td>\n",
       "      <td>40</td>\n",
       "      <td>0</td>\n",
       "      <td>44</td>\n",
       "      <td>63</td>\n",
       "      <td>1</td>\n",
       "      <td>68</td>\n",
       "      <td>167</td>\n",
       "      <td>2</td>\n",
       "      <td>179</td>\n",
       "      <td>301</td>\n",
       "      <td>4</td>\n",
       "      <td>349</td>\n",
       "    </tr>\n",
       "    <tr>\n",
       "      <th>7</th>\n",
       "      <td>07</td>\n",
       "      <td>13</td>\n",
       "      <td>1</td>\n",
       "      <td>14</td>\n",
       "      <td>33</td>\n",
       "      <td>0</td>\n",
       "      <td>33</td>\n",
       "      <td>47</td>\n",
       "      <td>2</td>\n",
       "      <td>48</td>\n",
       "      <td>98</td>\n",
       "      <td>1</td>\n",
       "      <td>103</td>\n",
       "      <td>186</td>\n",
       "      <td>2</td>\n",
       "      <td>199</td>\n",
       "      <td>318</td>\n",
       "      <td>4</td>\n",
       "      <td>361</td>\n",
       "    </tr>\n",
       "    <tr>\n",
       "      <th>8</th>\n",
       "      <td>08</td>\n",
       "      <td>17</td>\n",
       "      <td>1</td>\n",
       "      <td>17</td>\n",
       "      <td>28</td>\n",
       "      <td>2</td>\n",
       "      <td>28</td>\n",
       "      <td>61</td>\n",
       "      <td>0</td>\n",
       "      <td>67</td>\n",
       "      <td>86</td>\n",
       "      <td>0</td>\n",
       "      <td>96</td>\n",
       "      <td>181</td>\n",
       "      <td>1</td>\n",
       "      <td>197</td>\n",
       "      <td>256</td>\n",
       "      <td>4</td>\n",
       "      <td>279</td>\n",
       "    </tr>\n",
       "    <tr>\n",
       "      <th>9</th>\n",
       "      <td>09</td>\n",
       "      <td>15</td>\n",
       "      <td>0</td>\n",
       "      <td>16</td>\n",
       "      <td>34</td>\n",
       "      <td>2</td>\n",
       "      <td>33</td>\n",
       "      <td>44</td>\n",
       "      <td>2</td>\n",
       "      <td>50</td>\n",
       "      <td>109</td>\n",
       "      <td>0</td>\n",
       "      <td>120</td>\n",
       "      <td>184</td>\n",
       "      <td>2</td>\n",
       "      <td>206</td>\n",
       "      <td>262</td>\n",
       "      <td>2</td>\n",
       "      <td>296</td>\n",
       "    </tr>\n",
       "    <tr>\n",
       "      <th>10</th>\n",
       "      <td>10</td>\n",
       "      <td>18</td>\n",
       "      <td>0</td>\n",
       "      <td>20</td>\n",
       "      <td>23</td>\n",
       "      <td>0</td>\n",
       "      <td>27</td>\n",
       "      <td>60</td>\n",
       "      <td>1</td>\n",
       "      <td>65</td>\n",
       "      <td>163</td>\n",
       "      <td>4</td>\n",
       "      <td>184</td>\n",
       "      <td>174</td>\n",
       "      <td>4</td>\n",
       "      <td>189</td>\n",
       "      <td>269</td>\n",
       "      <td>1</td>\n",
       "      <td>298</td>\n",
       "    </tr>\n",
       "    <tr>\n",
       "      <th>11</th>\n",
       "      <td>11</td>\n",
       "      <td>18</td>\n",
       "      <td>1</td>\n",
       "      <td>18</td>\n",
       "      <td>19</td>\n",
       "      <td>0</td>\n",
       "      <td>19</td>\n",
       "      <td>51</td>\n",
       "      <td>0</td>\n",
       "      <td>54</td>\n",
       "      <td>110</td>\n",
       "      <td>2</td>\n",
       "      <td>116</td>\n",
       "      <td>152</td>\n",
       "      <td>2</td>\n",
       "      <td>164</td>\n",
       "      <td>215</td>\n",
       "      <td>2</td>\n",
       "      <td>240</td>\n",
       "    </tr>\n",
       "    <tr>\n",
       "      <th>12</th>\n",
       "      <td>12</td>\n",
       "      <td>4</td>\n",
       "      <td>0</td>\n",
       "      <td>4</td>\n",
       "      <td>21</td>\n",
       "      <td>0</td>\n",
       "      <td>26</td>\n",
       "      <td>40</td>\n",
       "      <td>1</td>\n",
       "      <td>39</td>\n",
       "      <td>56</td>\n",
       "      <td>0</td>\n",
       "      <td>59</td>\n",
       "      <td>113</td>\n",
       "      <td>2</td>\n",
       "      <td>121</td>\n",
       "      <td>97</td>\n",
       "      <td>1</td>\n",
       "      <td>106</td>\n",
       "    </tr>\n",
       "    <tr>\n",
       "      <th>13</th>\n",
       "      <td>합계:</td>\n",
       "      <td>117</td>\n",
       "      <td>4</td>\n",
       "      <td>124</td>\n",
       "      <td>225</td>\n",
       "      <td>4</td>\n",
       "      <td>238</td>\n",
       "      <td>447</td>\n",
       "      <td>8</td>\n",
       "      <td>473</td>\n",
       "      <td>897</td>\n",
       "      <td>10</td>\n",
       "      <td>985</td>\n",
       "      <td>1,735</td>\n",
       "      <td>19</td>\n",
       "      <td>1,901</td>\n",
       "      <td>2,386</td>\n",
       "      <td>26</td>\n",
       "      <td>2,684</td>\n",
       "    </tr>\n",
       "  </tbody>\n",
       "</table>\n",
       "</div>"
      ],
      "text/plain": [
       "    발생년  2017 Unnamed: 2 Unnamed: 3  2018 Unnamed: 5 Unnamed: 6  2019  \\\n",
       "0   발생월  사고건수       사망자수       부상자수  사고건수       사망자수       부상자수  사고건수   \n",
       "1    01   NaN        NaN        NaN     8          0          8    10   \n",
       "2    02     2          0          2     8          0          8    13   \n",
       "3    03     4          0          4     3          0          3    14   \n",
       "4    04     4          0          5    16          0         20    19   \n",
       "5    05    15          0         16    15          0         15    48   \n",
       "6    06     7          1          8    17          0         18    40   \n",
       "7    07    13          1         14    33          0         33    47   \n",
       "8    08    17          1         17    28          2         28    61   \n",
       "9    09    15          0         16    34          2         33    44   \n",
       "10   10    18          0         20    23          0         27    60   \n",
       "11   11    18          1         18    19          0         19    51   \n",
       "12   12     4          0          4    21          0         26    40   \n",
       "13  합계:   117          4        124   225          4        238   447   \n",
       "\n",
       "   Unnamed: 8 Unnamed: 9  2020 Unnamed: 11 Unnamed: 12   2021 Unnamed: 14  \\\n",
       "0        사망자수       부상자수  사고건수        사망자수        부상자수   사고건수        사망자수   \n",
       "1           0         10    22           0          27     55           1   \n",
       "2           1         13    36           1          36     51           2   \n",
       "3           0         15    31           0          36    133           1   \n",
       "4           0         19    56           1          63    173           0   \n",
       "5           1         49    67           0          77    166           0   \n",
       "6           0         44    63           1          68    167           2   \n",
       "7           2         48    98           1         103    186           2   \n",
       "8           0         67    86           0          96    181           1   \n",
       "9           2         50   109           0         120    184           2   \n",
       "10          1         65   163           4         184    174           4   \n",
       "11          0         54   110           2         116    152           2   \n",
       "12          1         39    56           0          59    113           2   \n",
       "13          8        473   897          10         985  1,735          19   \n",
       "\n",
       "   Unnamed: 15   2022 Unnamed: 17 Unnamed: 18  \n",
       "0         부상자수   사고건수        사망자수        부상자수  \n",
       "1           60     74           0          83  \n",
       "2           56     52           0          56  \n",
       "3          143    103           2         114  \n",
       "4          201    195           0         229  \n",
       "5          186    244           6         273  \n",
       "6          179    301           4         349  \n",
       "7          199    318           4         361  \n",
       "8          197    256           4         279  \n",
       "9          206    262           2         296  \n",
       "10         189    269           1         298  \n",
       "11         164    215           2         240  \n",
       "12         121     97           1         106  \n",
       "13       1,901  2,386          26       2,684  "
      ]
     },
     "execution_count": 18,
     "metadata": {},
     "output_type": "execute_result"
    }
   ],
   "source": [
    "\n",
    "\n",
    "pm_accident_monthly = pd.read_csv('data\\프로젝트\\발생월별 킥보드 교통사고 현황.csv',  encoding = \"cp949\")\n",
    "pm_accident_monthly"
   ]
  },
  {
   "cell_type": "code",
   "execution_count": 19,
   "id": "966b0c43",
   "metadata": {},
   "outputs": [],
   "source": [
    "pm_acc_month = pm_accident_monthly.iloc[1:]"
   ]
  },
  {
   "cell_type": "code",
   "execution_count": 22,
   "id": "152f4e0d",
   "metadata": {},
   "outputs": [],
   "source": [
    "pm_acc_month.columns = pm_accident_monthly.iloc[0]"
   ]
  },
  {
   "cell_type": "code",
   "execution_count": 23,
   "id": "c44c256e",
   "metadata": {},
   "outputs": [
    {
     "data": {
      "text/html": [
       "<div>\n",
       "<style scoped>\n",
       "    .dataframe tbody tr th:only-of-type {\n",
       "        vertical-align: middle;\n",
       "    }\n",
       "\n",
       "    .dataframe tbody tr th {\n",
       "        vertical-align: top;\n",
       "    }\n",
       "\n",
       "    .dataframe thead th {\n",
       "        text-align: right;\n",
       "    }\n",
       "</style>\n",
       "<table border=\"1\" class=\"dataframe\">\n",
       "  <thead>\n",
       "    <tr style=\"text-align: right;\">\n",
       "      <th></th>\n",
       "      <th>발생월</th>\n",
       "      <th>사고건수</th>\n",
       "      <th>사망자수</th>\n",
       "      <th>부상자수</th>\n",
       "      <th>사고건수</th>\n",
       "      <th>사망자수</th>\n",
       "      <th>부상자수</th>\n",
       "      <th>사고건수</th>\n",
       "      <th>사망자수</th>\n",
       "      <th>부상자수</th>\n",
       "      <th>사고건수</th>\n",
       "      <th>사망자수</th>\n",
       "      <th>부상자수</th>\n",
       "      <th>사고건수</th>\n",
       "      <th>사망자수</th>\n",
       "      <th>부상자수</th>\n",
       "      <th>사고건수</th>\n",
       "      <th>사망자수</th>\n",
       "      <th>부상자수</th>\n",
       "    </tr>\n",
       "  </thead>\n",
       "  <tbody>\n",
       "    <tr>\n",
       "      <th>1</th>\n",
       "      <td>01</td>\n",
       "      <td>NaN</td>\n",
       "      <td>NaN</td>\n",
       "      <td>NaN</td>\n",
       "      <td>8</td>\n",
       "      <td>0</td>\n",
       "      <td>8</td>\n",
       "      <td>10</td>\n",
       "      <td>0</td>\n",
       "      <td>10</td>\n",
       "      <td>22</td>\n",
       "      <td>0</td>\n",
       "      <td>27</td>\n",
       "      <td>55</td>\n",
       "      <td>1</td>\n",
       "      <td>60</td>\n",
       "      <td>74</td>\n",
       "      <td>0</td>\n",
       "      <td>83</td>\n",
       "    </tr>\n",
       "    <tr>\n",
       "      <th>2</th>\n",
       "      <td>02</td>\n",
       "      <td>2</td>\n",
       "      <td>0</td>\n",
       "      <td>2</td>\n",
       "      <td>8</td>\n",
       "      <td>0</td>\n",
       "      <td>8</td>\n",
       "      <td>13</td>\n",
       "      <td>1</td>\n",
       "      <td>13</td>\n",
       "      <td>36</td>\n",
       "      <td>1</td>\n",
       "      <td>36</td>\n",
       "      <td>51</td>\n",
       "      <td>2</td>\n",
       "      <td>56</td>\n",
       "      <td>52</td>\n",
       "      <td>0</td>\n",
       "      <td>56</td>\n",
       "    </tr>\n",
       "    <tr>\n",
       "      <th>3</th>\n",
       "      <td>03</td>\n",
       "      <td>4</td>\n",
       "      <td>0</td>\n",
       "      <td>4</td>\n",
       "      <td>3</td>\n",
       "      <td>0</td>\n",
       "      <td>3</td>\n",
       "      <td>14</td>\n",
       "      <td>0</td>\n",
       "      <td>15</td>\n",
       "      <td>31</td>\n",
       "      <td>0</td>\n",
       "      <td>36</td>\n",
       "      <td>133</td>\n",
       "      <td>1</td>\n",
       "      <td>143</td>\n",
       "      <td>103</td>\n",
       "      <td>2</td>\n",
       "      <td>114</td>\n",
       "    </tr>\n",
       "    <tr>\n",
       "      <th>4</th>\n",
       "      <td>04</td>\n",
       "      <td>4</td>\n",
       "      <td>0</td>\n",
       "      <td>5</td>\n",
       "      <td>16</td>\n",
       "      <td>0</td>\n",
       "      <td>20</td>\n",
       "      <td>19</td>\n",
       "      <td>0</td>\n",
       "      <td>19</td>\n",
       "      <td>56</td>\n",
       "      <td>1</td>\n",
       "      <td>63</td>\n",
       "      <td>173</td>\n",
       "      <td>0</td>\n",
       "      <td>201</td>\n",
       "      <td>195</td>\n",
       "      <td>0</td>\n",
       "      <td>229</td>\n",
       "    </tr>\n",
       "    <tr>\n",
       "      <th>5</th>\n",
       "      <td>05</td>\n",
       "      <td>15</td>\n",
       "      <td>0</td>\n",
       "      <td>16</td>\n",
       "      <td>15</td>\n",
       "      <td>0</td>\n",
       "      <td>15</td>\n",
       "      <td>48</td>\n",
       "      <td>1</td>\n",
       "      <td>49</td>\n",
       "      <td>67</td>\n",
       "      <td>0</td>\n",
       "      <td>77</td>\n",
       "      <td>166</td>\n",
       "      <td>0</td>\n",
       "      <td>186</td>\n",
       "      <td>244</td>\n",
       "      <td>6</td>\n",
       "      <td>273</td>\n",
       "    </tr>\n",
       "    <tr>\n",
       "      <th>6</th>\n",
       "      <td>06</td>\n",
       "      <td>7</td>\n",
       "      <td>1</td>\n",
       "      <td>8</td>\n",
       "      <td>17</td>\n",
       "      <td>0</td>\n",
       "      <td>18</td>\n",
       "      <td>40</td>\n",
       "      <td>0</td>\n",
       "      <td>44</td>\n",
       "      <td>63</td>\n",
       "      <td>1</td>\n",
       "      <td>68</td>\n",
       "      <td>167</td>\n",
       "      <td>2</td>\n",
       "      <td>179</td>\n",
       "      <td>301</td>\n",
       "      <td>4</td>\n",
       "      <td>349</td>\n",
       "    </tr>\n",
       "    <tr>\n",
       "      <th>7</th>\n",
       "      <td>07</td>\n",
       "      <td>13</td>\n",
       "      <td>1</td>\n",
       "      <td>14</td>\n",
       "      <td>33</td>\n",
       "      <td>0</td>\n",
       "      <td>33</td>\n",
       "      <td>47</td>\n",
       "      <td>2</td>\n",
       "      <td>48</td>\n",
       "      <td>98</td>\n",
       "      <td>1</td>\n",
       "      <td>103</td>\n",
       "      <td>186</td>\n",
       "      <td>2</td>\n",
       "      <td>199</td>\n",
       "      <td>318</td>\n",
       "      <td>4</td>\n",
       "      <td>361</td>\n",
       "    </tr>\n",
       "    <tr>\n",
       "      <th>8</th>\n",
       "      <td>08</td>\n",
       "      <td>17</td>\n",
       "      <td>1</td>\n",
       "      <td>17</td>\n",
       "      <td>28</td>\n",
       "      <td>2</td>\n",
       "      <td>28</td>\n",
       "      <td>61</td>\n",
       "      <td>0</td>\n",
       "      <td>67</td>\n",
       "      <td>86</td>\n",
       "      <td>0</td>\n",
       "      <td>96</td>\n",
       "      <td>181</td>\n",
       "      <td>1</td>\n",
       "      <td>197</td>\n",
       "      <td>256</td>\n",
       "      <td>4</td>\n",
       "      <td>279</td>\n",
       "    </tr>\n",
       "    <tr>\n",
       "      <th>9</th>\n",
       "      <td>09</td>\n",
       "      <td>15</td>\n",
       "      <td>0</td>\n",
       "      <td>16</td>\n",
       "      <td>34</td>\n",
       "      <td>2</td>\n",
       "      <td>33</td>\n",
       "      <td>44</td>\n",
       "      <td>2</td>\n",
       "      <td>50</td>\n",
       "      <td>109</td>\n",
       "      <td>0</td>\n",
       "      <td>120</td>\n",
       "      <td>184</td>\n",
       "      <td>2</td>\n",
       "      <td>206</td>\n",
       "      <td>262</td>\n",
       "      <td>2</td>\n",
       "      <td>296</td>\n",
       "    </tr>\n",
       "    <tr>\n",
       "      <th>10</th>\n",
       "      <td>10</td>\n",
       "      <td>18</td>\n",
       "      <td>0</td>\n",
       "      <td>20</td>\n",
       "      <td>23</td>\n",
       "      <td>0</td>\n",
       "      <td>27</td>\n",
       "      <td>60</td>\n",
       "      <td>1</td>\n",
       "      <td>65</td>\n",
       "      <td>163</td>\n",
       "      <td>4</td>\n",
       "      <td>184</td>\n",
       "      <td>174</td>\n",
       "      <td>4</td>\n",
       "      <td>189</td>\n",
       "      <td>269</td>\n",
       "      <td>1</td>\n",
       "      <td>298</td>\n",
       "    </tr>\n",
       "    <tr>\n",
       "      <th>11</th>\n",
       "      <td>11</td>\n",
       "      <td>18</td>\n",
       "      <td>1</td>\n",
       "      <td>18</td>\n",
       "      <td>19</td>\n",
       "      <td>0</td>\n",
       "      <td>19</td>\n",
       "      <td>51</td>\n",
       "      <td>0</td>\n",
       "      <td>54</td>\n",
       "      <td>110</td>\n",
       "      <td>2</td>\n",
       "      <td>116</td>\n",
       "      <td>152</td>\n",
       "      <td>2</td>\n",
       "      <td>164</td>\n",
       "      <td>215</td>\n",
       "      <td>2</td>\n",
       "      <td>240</td>\n",
       "    </tr>\n",
       "    <tr>\n",
       "      <th>12</th>\n",
       "      <td>12</td>\n",
       "      <td>4</td>\n",
       "      <td>0</td>\n",
       "      <td>4</td>\n",
       "      <td>21</td>\n",
       "      <td>0</td>\n",
       "      <td>26</td>\n",
       "      <td>40</td>\n",
       "      <td>1</td>\n",
       "      <td>39</td>\n",
       "      <td>56</td>\n",
       "      <td>0</td>\n",
       "      <td>59</td>\n",
       "      <td>113</td>\n",
       "      <td>2</td>\n",
       "      <td>121</td>\n",
       "      <td>97</td>\n",
       "      <td>1</td>\n",
       "      <td>106</td>\n",
       "    </tr>\n",
       "    <tr>\n",
       "      <th>13</th>\n",
       "      <td>합계:</td>\n",
       "      <td>117</td>\n",
       "      <td>4</td>\n",
       "      <td>124</td>\n",
       "      <td>225</td>\n",
       "      <td>4</td>\n",
       "      <td>238</td>\n",
       "      <td>447</td>\n",
       "      <td>8</td>\n",
       "      <td>473</td>\n",
       "      <td>897</td>\n",
       "      <td>10</td>\n",
       "      <td>985</td>\n",
       "      <td>1,735</td>\n",
       "      <td>19</td>\n",
       "      <td>1,901</td>\n",
       "      <td>2,386</td>\n",
       "      <td>26</td>\n",
       "      <td>2,684</td>\n",
       "    </tr>\n",
       "  </tbody>\n",
       "</table>\n",
       "</div>"
      ],
      "text/plain": [
       "0   발생월 사고건수 사망자수 부상자수 사고건수 사망자수 부상자수 사고건수 사망자수 부상자수 사고건수 사망자수 부상자수   사고건수  \\\n",
       "1    01  NaN  NaN  NaN    8    0    8   10    0   10   22    0   27     55   \n",
       "2    02    2    0    2    8    0    8   13    1   13   36    1   36     51   \n",
       "3    03    4    0    4    3    0    3   14    0   15   31    0   36    133   \n",
       "4    04    4    0    5   16    0   20   19    0   19   56    1   63    173   \n",
       "5    05   15    0   16   15    0   15   48    1   49   67    0   77    166   \n",
       "6    06    7    1    8   17    0   18   40    0   44   63    1   68    167   \n",
       "7    07   13    1   14   33    0   33   47    2   48   98    1  103    186   \n",
       "8    08   17    1   17   28    2   28   61    0   67   86    0   96    181   \n",
       "9    09   15    0   16   34    2   33   44    2   50  109    0  120    184   \n",
       "10   10   18    0   20   23    0   27   60    1   65  163    4  184    174   \n",
       "11   11   18    1   18   19    0   19   51    0   54  110    2  116    152   \n",
       "12   12    4    0    4   21    0   26   40    1   39   56    0   59    113   \n",
       "13  합계:  117    4  124  225    4  238  447    8  473  897   10  985  1,735   \n",
       "\n",
       "0  사망자수   부상자수   사고건수 사망자수   부상자수  \n",
       "1     1     60     74    0     83  \n",
       "2     2     56     52    0     56  \n",
       "3     1    143    103    2    114  \n",
       "4     0    201    195    0    229  \n",
       "5     0    186    244    6    273  \n",
       "6     2    179    301    4    349  \n",
       "7     2    199    318    4    361  \n",
       "8     1    197    256    4    279  \n",
       "9     2    206    262    2    296  \n",
       "10    4    189    269    1    298  \n",
       "11    2    164    215    2    240  \n",
       "12    2    121     97    1    106  \n",
       "13   19  1,901  2,386   26  2,684  "
      ]
     },
     "execution_count": 23,
     "metadata": {},
     "output_type": "execute_result"
    }
   ],
   "source": [
    "pm_acc_month"
   ]
  },
  {
   "cell_type": "code",
   "execution_count": 34,
   "id": "14d9dfc3",
   "metadata": {},
   "outputs": [
    {
     "data": {
      "text/html": [
       "<div>\n",
       "<style scoped>\n",
       "    .dataframe tbody tr th:only-of-type {\n",
       "        vertical-align: middle;\n",
       "    }\n",
       "\n",
       "    .dataframe tbody tr th {\n",
       "        vertical-align: top;\n",
       "    }\n",
       "\n",
       "    .dataframe thead th {\n",
       "        text-align: right;\n",
       "    }\n",
       "</style>\n",
       "<table border=\"1\" class=\"dataframe\">\n",
       "  <thead>\n",
       "    <tr style=\"text-align: right;\">\n",
       "      <th></th>\n",
       "      <th>사고건수</th>\n",
       "      <th>사망자수</th>\n",
       "      <th>부상자수</th>\n",
       "      <th>사고건수</th>\n",
       "      <th>사망자수</th>\n",
       "      <th>부상자수</th>\n",
       "      <th>사고건수</th>\n",
       "      <th>사망자수</th>\n",
       "      <th>부상자수</th>\n",
       "      <th>사고건수</th>\n",
       "      <th>사망자수</th>\n",
       "      <th>부상자수</th>\n",
       "      <th>사고건수</th>\n",
       "      <th>사망자수</th>\n",
       "      <th>부상자수</th>\n",
       "      <th>사고건수</th>\n",
       "      <th>사망자수</th>\n",
       "      <th>부상자수</th>\n",
       "    </tr>\n",
       "    <tr>\n",
       "      <th>발생월</th>\n",
       "      <th></th>\n",
       "      <th></th>\n",
       "      <th></th>\n",
       "      <th></th>\n",
       "      <th></th>\n",
       "      <th></th>\n",
       "      <th></th>\n",
       "      <th></th>\n",
       "      <th></th>\n",
       "      <th></th>\n",
       "      <th></th>\n",
       "      <th></th>\n",
       "      <th></th>\n",
       "      <th></th>\n",
       "      <th></th>\n",
       "      <th></th>\n",
       "      <th></th>\n",
       "      <th></th>\n",
       "    </tr>\n",
       "  </thead>\n",
       "  <tbody>\n",
       "    <tr>\n",
       "      <th>01</th>\n",
       "      <td>NaN</td>\n",
       "      <td>NaN</td>\n",
       "      <td>NaN</td>\n",
       "      <td>8</td>\n",
       "      <td>0</td>\n",
       "      <td>8</td>\n",
       "      <td>10</td>\n",
       "      <td>0</td>\n",
       "      <td>10</td>\n",
       "      <td>22</td>\n",
       "      <td>0</td>\n",
       "      <td>27</td>\n",
       "      <td>55</td>\n",
       "      <td>1</td>\n",
       "      <td>60</td>\n",
       "      <td>74</td>\n",
       "      <td>0</td>\n",
       "      <td>83</td>\n",
       "    </tr>\n",
       "    <tr>\n",
       "      <th>02</th>\n",
       "      <td>2</td>\n",
       "      <td>0</td>\n",
       "      <td>2</td>\n",
       "      <td>8</td>\n",
       "      <td>0</td>\n",
       "      <td>8</td>\n",
       "      <td>13</td>\n",
       "      <td>1</td>\n",
       "      <td>13</td>\n",
       "      <td>36</td>\n",
       "      <td>1</td>\n",
       "      <td>36</td>\n",
       "      <td>51</td>\n",
       "      <td>2</td>\n",
       "      <td>56</td>\n",
       "      <td>52</td>\n",
       "      <td>0</td>\n",
       "      <td>56</td>\n",
       "    </tr>\n",
       "    <tr>\n",
       "      <th>03</th>\n",
       "      <td>4</td>\n",
       "      <td>0</td>\n",
       "      <td>4</td>\n",
       "      <td>3</td>\n",
       "      <td>0</td>\n",
       "      <td>3</td>\n",
       "      <td>14</td>\n",
       "      <td>0</td>\n",
       "      <td>15</td>\n",
       "      <td>31</td>\n",
       "      <td>0</td>\n",
       "      <td>36</td>\n",
       "      <td>133</td>\n",
       "      <td>1</td>\n",
       "      <td>143</td>\n",
       "      <td>103</td>\n",
       "      <td>2</td>\n",
       "      <td>114</td>\n",
       "    </tr>\n",
       "    <tr>\n",
       "      <th>04</th>\n",
       "      <td>4</td>\n",
       "      <td>0</td>\n",
       "      <td>5</td>\n",
       "      <td>16</td>\n",
       "      <td>0</td>\n",
       "      <td>20</td>\n",
       "      <td>19</td>\n",
       "      <td>0</td>\n",
       "      <td>19</td>\n",
       "      <td>56</td>\n",
       "      <td>1</td>\n",
       "      <td>63</td>\n",
       "      <td>173</td>\n",
       "      <td>0</td>\n",
       "      <td>201</td>\n",
       "      <td>195</td>\n",
       "      <td>0</td>\n",
       "      <td>229</td>\n",
       "    </tr>\n",
       "    <tr>\n",
       "      <th>05</th>\n",
       "      <td>15</td>\n",
       "      <td>0</td>\n",
       "      <td>16</td>\n",
       "      <td>15</td>\n",
       "      <td>0</td>\n",
       "      <td>15</td>\n",
       "      <td>48</td>\n",
       "      <td>1</td>\n",
       "      <td>49</td>\n",
       "      <td>67</td>\n",
       "      <td>0</td>\n",
       "      <td>77</td>\n",
       "      <td>166</td>\n",
       "      <td>0</td>\n",
       "      <td>186</td>\n",
       "      <td>244</td>\n",
       "      <td>6</td>\n",
       "      <td>273</td>\n",
       "    </tr>\n",
       "    <tr>\n",
       "      <th>06</th>\n",
       "      <td>7</td>\n",
       "      <td>1</td>\n",
       "      <td>8</td>\n",
       "      <td>17</td>\n",
       "      <td>0</td>\n",
       "      <td>18</td>\n",
       "      <td>40</td>\n",
       "      <td>0</td>\n",
       "      <td>44</td>\n",
       "      <td>63</td>\n",
       "      <td>1</td>\n",
       "      <td>68</td>\n",
       "      <td>167</td>\n",
       "      <td>2</td>\n",
       "      <td>179</td>\n",
       "      <td>301</td>\n",
       "      <td>4</td>\n",
       "      <td>349</td>\n",
       "    </tr>\n",
       "    <tr>\n",
       "      <th>07</th>\n",
       "      <td>13</td>\n",
       "      <td>1</td>\n",
       "      <td>14</td>\n",
       "      <td>33</td>\n",
       "      <td>0</td>\n",
       "      <td>33</td>\n",
       "      <td>47</td>\n",
       "      <td>2</td>\n",
       "      <td>48</td>\n",
       "      <td>98</td>\n",
       "      <td>1</td>\n",
       "      <td>103</td>\n",
       "      <td>186</td>\n",
       "      <td>2</td>\n",
       "      <td>199</td>\n",
       "      <td>318</td>\n",
       "      <td>4</td>\n",
       "      <td>361</td>\n",
       "    </tr>\n",
       "    <tr>\n",
       "      <th>08</th>\n",
       "      <td>17</td>\n",
       "      <td>1</td>\n",
       "      <td>17</td>\n",
       "      <td>28</td>\n",
       "      <td>2</td>\n",
       "      <td>28</td>\n",
       "      <td>61</td>\n",
       "      <td>0</td>\n",
       "      <td>67</td>\n",
       "      <td>86</td>\n",
       "      <td>0</td>\n",
       "      <td>96</td>\n",
       "      <td>181</td>\n",
       "      <td>1</td>\n",
       "      <td>197</td>\n",
       "      <td>256</td>\n",
       "      <td>4</td>\n",
       "      <td>279</td>\n",
       "    </tr>\n",
       "    <tr>\n",
       "      <th>09</th>\n",
       "      <td>15</td>\n",
       "      <td>0</td>\n",
       "      <td>16</td>\n",
       "      <td>34</td>\n",
       "      <td>2</td>\n",
       "      <td>33</td>\n",
       "      <td>44</td>\n",
       "      <td>2</td>\n",
       "      <td>50</td>\n",
       "      <td>109</td>\n",
       "      <td>0</td>\n",
       "      <td>120</td>\n",
       "      <td>184</td>\n",
       "      <td>2</td>\n",
       "      <td>206</td>\n",
       "      <td>262</td>\n",
       "      <td>2</td>\n",
       "      <td>296</td>\n",
       "    </tr>\n",
       "    <tr>\n",
       "      <th>10</th>\n",
       "      <td>18</td>\n",
       "      <td>0</td>\n",
       "      <td>20</td>\n",
       "      <td>23</td>\n",
       "      <td>0</td>\n",
       "      <td>27</td>\n",
       "      <td>60</td>\n",
       "      <td>1</td>\n",
       "      <td>65</td>\n",
       "      <td>163</td>\n",
       "      <td>4</td>\n",
       "      <td>184</td>\n",
       "      <td>174</td>\n",
       "      <td>4</td>\n",
       "      <td>189</td>\n",
       "      <td>269</td>\n",
       "      <td>1</td>\n",
       "      <td>298</td>\n",
       "    </tr>\n",
       "    <tr>\n",
       "      <th>11</th>\n",
       "      <td>18</td>\n",
       "      <td>1</td>\n",
       "      <td>18</td>\n",
       "      <td>19</td>\n",
       "      <td>0</td>\n",
       "      <td>19</td>\n",
       "      <td>51</td>\n",
       "      <td>0</td>\n",
       "      <td>54</td>\n",
       "      <td>110</td>\n",
       "      <td>2</td>\n",
       "      <td>116</td>\n",
       "      <td>152</td>\n",
       "      <td>2</td>\n",
       "      <td>164</td>\n",
       "      <td>215</td>\n",
       "      <td>2</td>\n",
       "      <td>240</td>\n",
       "    </tr>\n",
       "    <tr>\n",
       "      <th>12</th>\n",
       "      <td>4</td>\n",
       "      <td>0</td>\n",
       "      <td>4</td>\n",
       "      <td>21</td>\n",
       "      <td>0</td>\n",
       "      <td>26</td>\n",
       "      <td>40</td>\n",
       "      <td>1</td>\n",
       "      <td>39</td>\n",
       "      <td>56</td>\n",
       "      <td>0</td>\n",
       "      <td>59</td>\n",
       "      <td>113</td>\n",
       "      <td>2</td>\n",
       "      <td>121</td>\n",
       "      <td>97</td>\n",
       "      <td>1</td>\n",
       "      <td>106</td>\n",
       "    </tr>\n",
       "    <tr>\n",
       "      <th>합계:</th>\n",
       "      <td>117</td>\n",
       "      <td>4</td>\n",
       "      <td>124</td>\n",
       "      <td>225</td>\n",
       "      <td>4</td>\n",
       "      <td>238</td>\n",
       "      <td>447</td>\n",
       "      <td>8</td>\n",
       "      <td>473</td>\n",
       "      <td>897</td>\n",
       "      <td>10</td>\n",
       "      <td>985</td>\n",
       "      <td>1,735</td>\n",
       "      <td>19</td>\n",
       "      <td>1,901</td>\n",
       "      <td>2,386</td>\n",
       "      <td>26</td>\n",
       "      <td>2,684</td>\n",
       "    </tr>\n",
       "  </tbody>\n",
       "</table>\n",
       "</div>"
      ],
      "text/plain": [
       "0   사고건수 사망자수 부상자수 사고건수 사망자수 부상자수 사고건수 사망자수 부상자수 사고건수 사망자수 부상자수   사고건수 사망자수  \\\n",
       "발생월                                                                           \n",
       "01   NaN  NaN  NaN    8    0    8   10    0   10   22    0   27     55    1   \n",
       "02     2    0    2    8    0    8   13    1   13   36    1   36     51    2   \n",
       "03     4    0    4    3    0    3   14    0   15   31    0   36    133    1   \n",
       "04     4    0    5   16    0   20   19    0   19   56    1   63    173    0   \n",
       "05    15    0   16   15    0   15   48    1   49   67    0   77    166    0   \n",
       "06     7    1    8   17    0   18   40    0   44   63    1   68    167    2   \n",
       "07    13    1   14   33    0   33   47    2   48   98    1  103    186    2   \n",
       "08    17    1   17   28    2   28   61    0   67   86    0   96    181    1   \n",
       "09    15    0   16   34    2   33   44    2   50  109    0  120    184    2   \n",
       "10    18    0   20   23    0   27   60    1   65  163    4  184    174    4   \n",
       "11    18    1   18   19    0   19   51    0   54  110    2  116    152    2   \n",
       "12     4    0    4   21    0   26   40    1   39   56    0   59    113    2   \n",
       "합계:  117    4  124  225    4  238  447    8  473  897   10  985  1,735   19   \n",
       "\n",
       "0     부상자수   사고건수 사망자수   부상자수  \n",
       "발생월                            \n",
       "01      60     74    0     83  \n",
       "02      56     52    0     56  \n",
       "03     143    103    2    114  \n",
       "04     201    195    0    229  \n",
       "05     186    244    6    273  \n",
       "06     179    301    4    349  \n",
       "07     199    318    4    361  \n",
       "08     197    256    4    279  \n",
       "09     206    262    2    296  \n",
       "10     189    269    1    298  \n",
       "11     164    215    2    240  \n",
       "12     121     97    1    106  \n",
       "합계:  1,901  2,386   26  2,684  "
      ]
     },
     "execution_count": 34,
     "metadata": {},
     "output_type": "execute_result"
    }
   ],
   "source": [
    "pm_acc_month.index = pm_acc_month['발생월']\n",
    "del pm_acc_month['발생월']\n",
    "pm_acc_month"
   ]
  },
  {
   "cell_type": "code",
   "execution_count": 41,
   "id": "1f228271",
   "metadata": {},
   "outputs": [
    {
     "data": {
      "text/html": [
       "<div>\n",
       "<style scoped>\n",
       "    .dataframe tbody tr th:only-of-type {\n",
       "        vertical-align: middle;\n",
       "    }\n",
       "\n",
       "    .dataframe tbody tr th {\n",
       "        vertical-align: top;\n",
       "    }\n",
       "\n",
       "    .dataframe thead th {\n",
       "        text-align: right;\n",
       "    }\n",
       "</style>\n",
       "<table border=\"1\" class=\"dataframe\">\n",
       "  <thead>\n",
       "    <tr style=\"text-align: right;\">\n",
       "      <th></th>\n",
       "      <th>사고건수</th>\n",
       "      <th>사망자수</th>\n",
       "      <th>부상자수</th>\n",
       "    </tr>\n",
       "    <tr>\n",
       "      <th>발생월</th>\n",
       "      <th></th>\n",
       "      <th></th>\n",
       "      <th></th>\n",
       "    </tr>\n",
       "  </thead>\n",
       "  <tbody>\n",
       "    <tr>\n",
       "      <th>01</th>\n",
       "      <td>NaN</td>\n",
       "      <td>NaN</td>\n",
       "      <td>NaN</td>\n",
       "    </tr>\n",
       "    <tr>\n",
       "      <th>02</th>\n",
       "      <td>2</td>\n",
       "      <td>0</td>\n",
       "      <td>2</td>\n",
       "    </tr>\n",
       "    <tr>\n",
       "      <th>03</th>\n",
       "      <td>4</td>\n",
       "      <td>0</td>\n",
       "      <td>4</td>\n",
       "    </tr>\n",
       "    <tr>\n",
       "      <th>04</th>\n",
       "      <td>4</td>\n",
       "      <td>0</td>\n",
       "      <td>5</td>\n",
       "    </tr>\n",
       "    <tr>\n",
       "      <th>05</th>\n",
       "      <td>15</td>\n",
       "      <td>0</td>\n",
       "      <td>16</td>\n",
       "    </tr>\n",
       "    <tr>\n",
       "      <th>06</th>\n",
       "      <td>7</td>\n",
       "      <td>1</td>\n",
       "      <td>8</td>\n",
       "    </tr>\n",
       "    <tr>\n",
       "      <th>07</th>\n",
       "      <td>13</td>\n",
       "      <td>1</td>\n",
       "      <td>14</td>\n",
       "    </tr>\n",
       "    <tr>\n",
       "      <th>08</th>\n",
       "      <td>17</td>\n",
       "      <td>1</td>\n",
       "      <td>17</td>\n",
       "    </tr>\n",
       "    <tr>\n",
       "      <th>09</th>\n",
       "      <td>15</td>\n",
       "      <td>0</td>\n",
       "      <td>16</td>\n",
       "    </tr>\n",
       "    <tr>\n",
       "      <th>10</th>\n",
       "      <td>18</td>\n",
       "      <td>0</td>\n",
       "      <td>20</td>\n",
       "    </tr>\n",
       "    <tr>\n",
       "      <th>11</th>\n",
       "      <td>18</td>\n",
       "      <td>1</td>\n",
       "      <td>18</td>\n",
       "    </tr>\n",
       "    <tr>\n",
       "      <th>12</th>\n",
       "      <td>4</td>\n",
       "      <td>0</td>\n",
       "      <td>4</td>\n",
       "    </tr>\n",
       "    <tr>\n",
       "      <th>합계:</th>\n",
       "      <td>117</td>\n",
       "      <td>4</td>\n",
       "      <td>124</td>\n",
       "    </tr>\n",
       "  </tbody>\n",
       "</table>\n",
       "</div>"
      ],
      "text/plain": [
       "0   사고건수 사망자수 부상자수\n",
       "발생월               \n",
       "01   NaN  NaN  NaN\n",
       "02     2    0    2\n",
       "03     4    0    4\n",
       "04     4    0    5\n",
       "05    15    0   16\n",
       "06     7    1    8\n",
       "07    13    1   14\n",
       "08    17    1   17\n",
       "09    15    0   16\n",
       "10    18    0   20\n",
       "11    18    1   18\n",
       "12     4    0    4\n",
       "합계:  117    4  124"
      ]
     },
     "execution_count": 41,
     "metadata": {},
     "output_type": "execute_result"
    }
   ],
   "source": [
    "pm_acc_month2017 = pm_acc_month.iloc[0:,0:3]\n",
    "pm_acc_month2017"
   ]
  },
  {
   "cell_type": "code",
   "execution_count": 42,
   "id": "2c775586",
   "metadata": {},
   "outputs": [
    {
     "data": {
      "text/html": [
       "<div>\n",
       "<style scoped>\n",
       "    .dataframe tbody tr th:only-of-type {\n",
       "        vertical-align: middle;\n",
       "    }\n",
       "\n",
       "    .dataframe tbody tr th {\n",
       "        vertical-align: top;\n",
       "    }\n",
       "\n",
       "    .dataframe thead th {\n",
       "        text-align: right;\n",
       "    }\n",
       "</style>\n",
       "<table border=\"1\" class=\"dataframe\">\n",
       "  <thead>\n",
       "    <tr style=\"text-align: right;\">\n",
       "      <th></th>\n",
       "      <th>사고건수</th>\n",
       "      <th>사망자수</th>\n",
       "      <th>부상자수</th>\n",
       "    </tr>\n",
       "    <tr>\n",
       "      <th>발생월</th>\n",
       "      <th></th>\n",
       "      <th></th>\n",
       "      <th></th>\n",
       "    </tr>\n",
       "  </thead>\n",
       "  <tbody>\n",
       "    <tr>\n",
       "      <th>01</th>\n",
       "      <td>8</td>\n",
       "      <td>0</td>\n",
       "      <td>8</td>\n",
       "    </tr>\n",
       "    <tr>\n",
       "      <th>02</th>\n",
       "      <td>8</td>\n",
       "      <td>0</td>\n",
       "      <td>8</td>\n",
       "    </tr>\n",
       "    <tr>\n",
       "      <th>03</th>\n",
       "      <td>3</td>\n",
       "      <td>0</td>\n",
       "      <td>3</td>\n",
       "    </tr>\n",
       "    <tr>\n",
       "      <th>04</th>\n",
       "      <td>16</td>\n",
       "      <td>0</td>\n",
       "      <td>20</td>\n",
       "    </tr>\n",
       "    <tr>\n",
       "      <th>05</th>\n",
       "      <td>15</td>\n",
       "      <td>0</td>\n",
       "      <td>15</td>\n",
       "    </tr>\n",
       "    <tr>\n",
       "      <th>06</th>\n",
       "      <td>17</td>\n",
       "      <td>0</td>\n",
       "      <td>18</td>\n",
       "    </tr>\n",
       "    <tr>\n",
       "      <th>07</th>\n",
       "      <td>33</td>\n",
       "      <td>0</td>\n",
       "      <td>33</td>\n",
       "    </tr>\n",
       "    <tr>\n",
       "      <th>08</th>\n",
       "      <td>28</td>\n",
       "      <td>2</td>\n",
       "      <td>28</td>\n",
       "    </tr>\n",
       "    <tr>\n",
       "      <th>09</th>\n",
       "      <td>34</td>\n",
       "      <td>2</td>\n",
       "      <td>33</td>\n",
       "    </tr>\n",
       "    <tr>\n",
       "      <th>10</th>\n",
       "      <td>23</td>\n",
       "      <td>0</td>\n",
       "      <td>27</td>\n",
       "    </tr>\n",
       "    <tr>\n",
       "      <th>11</th>\n",
       "      <td>19</td>\n",
       "      <td>0</td>\n",
       "      <td>19</td>\n",
       "    </tr>\n",
       "    <tr>\n",
       "      <th>12</th>\n",
       "      <td>21</td>\n",
       "      <td>0</td>\n",
       "      <td>26</td>\n",
       "    </tr>\n",
       "    <tr>\n",
       "      <th>합계:</th>\n",
       "      <td>225</td>\n",
       "      <td>4</td>\n",
       "      <td>238</td>\n",
       "    </tr>\n",
       "  </tbody>\n",
       "</table>\n",
       "</div>"
      ],
      "text/plain": [
       "0   사고건수 사망자수 부상자수\n",
       "발생월               \n",
       "01     8    0    8\n",
       "02     8    0    8\n",
       "03     3    0    3\n",
       "04    16    0   20\n",
       "05    15    0   15\n",
       "06    17    0   18\n",
       "07    33    0   33\n",
       "08    28    2   28\n",
       "09    34    2   33\n",
       "10    23    0   27\n",
       "11    19    0   19\n",
       "12    21    0   26\n",
       "합계:  225    4  238"
      ]
     },
     "execution_count": 42,
     "metadata": {},
     "output_type": "execute_result"
    }
   ],
   "source": [
    "pm_acc_month2018 = pm_acc_month.iloc[0:,[3,4, 5]]\n",
    "pm_acc_month2018"
   ]
  },
  {
   "cell_type": "code",
   "execution_count": 37,
   "id": "941183a6",
   "metadata": {},
   "outputs": [
    {
     "data": {
      "text/html": [
       "<div>\n",
       "<style scoped>\n",
       "    .dataframe tbody tr th:only-of-type {\n",
       "        vertical-align: middle;\n",
       "    }\n",
       "\n",
       "    .dataframe tbody tr th {\n",
       "        vertical-align: top;\n",
       "    }\n",
       "\n",
       "    .dataframe thead th {\n",
       "        text-align: right;\n",
       "    }\n",
       "</style>\n",
       "<table border=\"1\" class=\"dataframe\">\n",
       "  <thead>\n",
       "    <tr style=\"text-align: right;\">\n",
       "      <th></th>\n",
       "      <th>사고건수</th>\n",
       "      <th>사망자수</th>\n",
       "      <th>부상자수</th>\n",
       "      <th>사고건수</th>\n",
       "    </tr>\n",
       "    <tr>\n",
       "      <th>발생월</th>\n",
       "      <th></th>\n",
       "      <th></th>\n",
       "      <th></th>\n",
       "      <th></th>\n",
       "    </tr>\n",
       "  </thead>\n",
       "  <tbody>\n",
       "    <tr>\n",
       "      <th>01</th>\n",
       "      <td>NaN</td>\n",
       "      <td>0</td>\n",
       "      <td>10</td>\n",
       "      <td>22</td>\n",
       "    </tr>\n",
       "    <tr>\n",
       "      <th>02</th>\n",
       "      <td>2</td>\n",
       "      <td>1</td>\n",
       "      <td>13</td>\n",
       "      <td>36</td>\n",
       "    </tr>\n",
       "    <tr>\n",
       "      <th>03</th>\n",
       "      <td>4</td>\n",
       "      <td>0</td>\n",
       "      <td>15</td>\n",
       "      <td>31</td>\n",
       "    </tr>\n",
       "    <tr>\n",
       "      <th>04</th>\n",
       "      <td>4</td>\n",
       "      <td>0</td>\n",
       "      <td>19</td>\n",
       "      <td>56</td>\n",
       "    </tr>\n",
       "    <tr>\n",
       "      <th>05</th>\n",
       "      <td>15</td>\n",
       "      <td>1</td>\n",
       "      <td>49</td>\n",
       "      <td>67</td>\n",
       "    </tr>\n",
       "    <tr>\n",
       "      <th>06</th>\n",
       "      <td>7</td>\n",
       "      <td>0</td>\n",
       "      <td>44</td>\n",
       "      <td>63</td>\n",
       "    </tr>\n",
       "    <tr>\n",
       "      <th>07</th>\n",
       "      <td>13</td>\n",
       "      <td>2</td>\n",
       "      <td>48</td>\n",
       "      <td>98</td>\n",
       "    </tr>\n",
       "    <tr>\n",
       "      <th>08</th>\n",
       "      <td>17</td>\n",
       "      <td>0</td>\n",
       "      <td>67</td>\n",
       "      <td>86</td>\n",
       "    </tr>\n",
       "    <tr>\n",
       "      <th>09</th>\n",
       "      <td>15</td>\n",
       "      <td>2</td>\n",
       "      <td>50</td>\n",
       "      <td>109</td>\n",
       "    </tr>\n",
       "    <tr>\n",
       "      <th>10</th>\n",
       "      <td>18</td>\n",
       "      <td>1</td>\n",
       "      <td>65</td>\n",
       "      <td>163</td>\n",
       "    </tr>\n",
       "    <tr>\n",
       "      <th>11</th>\n",
       "      <td>18</td>\n",
       "      <td>0</td>\n",
       "      <td>54</td>\n",
       "      <td>110</td>\n",
       "    </tr>\n",
       "    <tr>\n",
       "      <th>12</th>\n",
       "      <td>4</td>\n",
       "      <td>1</td>\n",
       "      <td>39</td>\n",
       "      <td>56</td>\n",
       "    </tr>\n",
       "    <tr>\n",
       "      <th>합계:</th>\n",
       "      <td>117</td>\n",
       "      <td>8</td>\n",
       "      <td>473</td>\n",
       "      <td>897</td>\n",
       "    </tr>\n",
       "  </tbody>\n",
       "</table>\n",
       "</div>"
      ],
      "text/plain": [
       "0   사고건수 사망자수 부상자수 사고건수\n",
       "발생월                    \n",
       "01   NaN    0   10   22\n",
       "02     2    1   13   36\n",
       "03     4    0   15   31\n",
       "04     4    0   19   56\n",
       "05    15    1   49   67\n",
       "06     7    0   44   63\n",
       "07    13    2   48   98\n",
       "08    17    0   67   86\n",
       "09    15    2   50  109\n",
       "10    18    1   65  163\n",
       "11    18    0   54  110\n",
       "12     4    1   39   56\n",
       "합계:  117    8  473  897"
      ]
     },
     "execution_count": 37,
     "metadata": {},
     "output_type": "execute_result"
    }
   ],
   "source": [
    "pm_acc_month2019 = pm_acc_month.iloc[0:,[6,7,8]]\n",
    "pm_acc_month2019"
   ]
  },
  {
   "cell_type": "code",
   "execution_count": 43,
   "id": "766a0a0c",
   "metadata": {},
   "outputs": [
    {
     "data": {
      "text/html": [
       "<div>\n",
       "<style scoped>\n",
       "    .dataframe tbody tr th:only-of-type {\n",
       "        vertical-align: middle;\n",
       "    }\n",
       "\n",
       "    .dataframe tbody tr th {\n",
       "        vertical-align: top;\n",
       "    }\n",
       "\n",
       "    .dataframe thead th {\n",
       "        text-align: right;\n",
       "    }\n",
       "</style>\n",
       "<table border=\"1\" class=\"dataframe\">\n",
       "  <thead>\n",
       "    <tr style=\"text-align: right;\">\n",
       "      <th></th>\n",
       "      <th>사고건수</th>\n",
       "      <th>사망자수</th>\n",
       "      <th>부상자수</th>\n",
       "    </tr>\n",
       "    <tr>\n",
       "      <th>발생월</th>\n",
       "      <th></th>\n",
       "      <th></th>\n",
       "      <th></th>\n",
       "    </tr>\n",
       "  </thead>\n",
       "  <tbody>\n",
       "    <tr>\n",
       "      <th>01</th>\n",
       "      <td>22</td>\n",
       "      <td>0</td>\n",
       "      <td>27</td>\n",
       "    </tr>\n",
       "    <tr>\n",
       "      <th>02</th>\n",
       "      <td>36</td>\n",
       "      <td>1</td>\n",
       "      <td>36</td>\n",
       "    </tr>\n",
       "    <tr>\n",
       "      <th>03</th>\n",
       "      <td>31</td>\n",
       "      <td>0</td>\n",
       "      <td>36</td>\n",
       "    </tr>\n",
       "    <tr>\n",
       "      <th>04</th>\n",
       "      <td>56</td>\n",
       "      <td>1</td>\n",
       "      <td>63</td>\n",
       "    </tr>\n",
       "    <tr>\n",
       "      <th>05</th>\n",
       "      <td>67</td>\n",
       "      <td>0</td>\n",
       "      <td>77</td>\n",
       "    </tr>\n",
       "    <tr>\n",
       "      <th>06</th>\n",
       "      <td>63</td>\n",
       "      <td>1</td>\n",
       "      <td>68</td>\n",
       "    </tr>\n",
       "    <tr>\n",
       "      <th>07</th>\n",
       "      <td>98</td>\n",
       "      <td>1</td>\n",
       "      <td>103</td>\n",
       "    </tr>\n",
       "    <tr>\n",
       "      <th>08</th>\n",
       "      <td>86</td>\n",
       "      <td>0</td>\n",
       "      <td>96</td>\n",
       "    </tr>\n",
       "    <tr>\n",
       "      <th>09</th>\n",
       "      <td>109</td>\n",
       "      <td>0</td>\n",
       "      <td>120</td>\n",
       "    </tr>\n",
       "    <tr>\n",
       "      <th>10</th>\n",
       "      <td>163</td>\n",
       "      <td>4</td>\n",
       "      <td>184</td>\n",
       "    </tr>\n",
       "    <tr>\n",
       "      <th>11</th>\n",
       "      <td>110</td>\n",
       "      <td>2</td>\n",
       "      <td>116</td>\n",
       "    </tr>\n",
       "    <tr>\n",
       "      <th>12</th>\n",
       "      <td>56</td>\n",
       "      <td>0</td>\n",
       "      <td>59</td>\n",
       "    </tr>\n",
       "    <tr>\n",
       "      <th>합계:</th>\n",
       "      <td>897</td>\n",
       "      <td>10</td>\n",
       "      <td>985</td>\n",
       "    </tr>\n",
       "  </tbody>\n",
       "</table>\n",
       "</div>"
      ],
      "text/plain": [
       "0   사고건수 사망자수 부상자수\n",
       "발생월               \n",
       "01    22    0   27\n",
       "02    36    1   36\n",
       "03    31    0   36\n",
       "04    56    1   63\n",
       "05    67    0   77\n",
       "06    63    1   68\n",
       "07    98    1  103\n",
       "08    86    0   96\n",
       "09   109    0  120\n",
       "10   163    4  184\n",
       "11   110    2  116\n",
       "12    56    0   59\n",
       "합계:  897   10  985"
      ]
     },
     "execution_count": 43,
     "metadata": {},
     "output_type": "execute_result"
    }
   ],
   "source": [
    "pm_acc_month2020 = pm_acc_month.iloc[0:,[9,10,11]]\n",
    "pm_acc_month2020"
   ]
  },
  {
   "cell_type": "code",
   "execution_count": 44,
   "id": "fee2c570",
   "metadata": {},
   "outputs": [
    {
     "data": {
      "text/html": [
       "<div>\n",
       "<style scoped>\n",
       "    .dataframe tbody tr th:only-of-type {\n",
       "        vertical-align: middle;\n",
       "    }\n",
       "\n",
       "    .dataframe tbody tr th {\n",
       "        vertical-align: top;\n",
       "    }\n",
       "\n",
       "    .dataframe thead th {\n",
       "        text-align: right;\n",
       "    }\n",
       "</style>\n",
       "<table border=\"1\" class=\"dataframe\">\n",
       "  <thead>\n",
       "    <tr style=\"text-align: right;\">\n",
       "      <th></th>\n",
       "      <th>사고건수</th>\n",
       "      <th>사망자수</th>\n",
       "      <th>부상자수</th>\n",
       "    </tr>\n",
       "    <tr>\n",
       "      <th>발생월</th>\n",
       "      <th></th>\n",
       "      <th></th>\n",
       "      <th></th>\n",
       "    </tr>\n",
       "  </thead>\n",
       "  <tbody>\n",
       "    <tr>\n",
       "      <th>01</th>\n",
       "      <td>55</td>\n",
       "      <td>1</td>\n",
       "      <td>60</td>\n",
       "    </tr>\n",
       "    <tr>\n",
       "      <th>02</th>\n",
       "      <td>51</td>\n",
       "      <td>2</td>\n",
       "      <td>56</td>\n",
       "    </tr>\n",
       "    <tr>\n",
       "      <th>03</th>\n",
       "      <td>133</td>\n",
       "      <td>1</td>\n",
       "      <td>143</td>\n",
       "    </tr>\n",
       "    <tr>\n",
       "      <th>04</th>\n",
       "      <td>173</td>\n",
       "      <td>0</td>\n",
       "      <td>201</td>\n",
       "    </tr>\n",
       "    <tr>\n",
       "      <th>05</th>\n",
       "      <td>166</td>\n",
       "      <td>0</td>\n",
       "      <td>186</td>\n",
       "    </tr>\n",
       "    <tr>\n",
       "      <th>06</th>\n",
       "      <td>167</td>\n",
       "      <td>2</td>\n",
       "      <td>179</td>\n",
       "    </tr>\n",
       "    <tr>\n",
       "      <th>07</th>\n",
       "      <td>186</td>\n",
       "      <td>2</td>\n",
       "      <td>199</td>\n",
       "    </tr>\n",
       "    <tr>\n",
       "      <th>08</th>\n",
       "      <td>181</td>\n",
       "      <td>1</td>\n",
       "      <td>197</td>\n",
       "    </tr>\n",
       "    <tr>\n",
       "      <th>09</th>\n",
       "      <td>184</td>\n",
       "      <td>2</td>\n",
       "      <td>206</td>\n",
       "    </tr>\n",
       "    <tr>\n",
       "      <th>10</th>\n",
       "      <td>174</td>\n",
       "      <td>4</td>\n",
       "      <td>189</td>\n",
       "    </tr>\n",
       "    <tr>\n",
       "      <th>11</th>\n",
       "      <td>152</td>\n",
       "      <td>2</td>\n",
       "      <td>164</td>\n",
       "    </tr>\n",
       "    <tr>\n",
       "      <th>12</th>\n",
       "      <td>113</td>\n",
       "      <td>2</td>\n",
       "      <td>121</td>\n",
       "    </tr>\n",
       "    <tr>\n",
       "      <th>합계:</th>\n",
       "      <td>1,735</td>\n",
       "      <td>19</td>\n",
       "      <td>1,901</td>\n",
       "    </tr>\n",
       "  </tbody>\n",
       "</table>\n",
       "</div>"
      ],
      "text/plain": [
       "0     사고건수 사망자수   부상자수\n",
       "발생월                   \n",
       "01      55    1     60\n",
       "02      51    2     56\n",
       "03     133    1    143\n",
       "04     173    0    201\n",
       "05     166    0    186\n",
       "06     167    2    179\n",
       "07     186    2    199\n",
       "08     181    1    197\n",
       "09     184    2    206\n",
       "10     174    4    189\n",
       "11     152    2    164\n",
       "12     113    2    121\n",
       "합계:  1,735   19  1,901"
      ]
     },
     "execution_count": 44,
     "metadata": {},
     "output_type": "execute_result"
    }
   ],
   "source": [
    "pm_acc_month2021 = pm_acc_month.iloc[0:,[12,13,14]]\n",
    "pm_acc_month2021"
   ]
  },
  {
   "cell_type": "code",
   "execution_count": 45,
   "id": "0b515a9c",
   "metadata": {},
   "outputs": [
    {
     "data": {
      "text/html": [
       "<div>\n",
       "<style scoped>\n",
       "    .dataframe tbody tr th:only-of-type {\n",
       "        vertical-align: middle;\n",
       "    }\n",
       "\n",
       "    .dataframe tbody tr th {\n",
       "        vertical-align: top;\n",
       "    }\n",
       "\n",
       "    .dataframe thead th {\n",
       "        text-align: right;\n",
       "    }\n",
       "</style>\n",
       "<table border=\"1\" class=\"dataframe\">\n",
       "  <thead>\n",
       "    <tr style=\"text-align: right;\">\n",
       "      <th></th>\n",
       "      <th>사고건수</th>\n",
       "      <th>사망자수</th>\n",
       "      <th>부상자수</th>\n",
       "    </tr>\n",
       "    <tr>\n",
       "      <th>발생월</th>\n",
       "      <th></th>\n",
       "      <th></th>\n",
       "      <th></th>\n",
       "    </tr>\n",
       "  </thead>\n",
       "  <tbody>\n",
       "    <tr>\n",
       "      <th>01</th>\n",
       "      <td>74</td>\n",
       "      <td>0</td>\n",
       "      <td>83</td>\n",
       "    </tr>\n",
       "    <tr>\n",
       "      <th>02</th>\n",
       "      <td>52</td>\n",
       "      <td>0</td>\n",
       "      <td>56</td>\n",
       "    </tr>\n",
       "    <tr>\n",
       "      <th>03</th>\n",
       "      <td>103</td>\n",
       "      <td>2</td>\n",
       "      <td>114</td>\n",
       "    </tr>\n",
       "    <tr>\n",
       "      <th>04</th>\n",
       "      <td>195</td>\n",
       "      <td>0</td>\n",
       "      <td>229</td>\n",
       "    </tr>\n",
       "    <tr>\n",
       "      <th>05</th>\n",
       "      <td>244</td>\n",
       "      <td>6</td>\n",
       "      <td>273</td>\n",
       "    </tr>\n",
       "    <tr>\n",
       "      <th>06</th>\n",
       "      <td>301</td>\n",
       "      <td>4</td>\n",
       "      <td>349</td>\n",
       "    </tr>\n",
       "    <tr>\n",
       "      <th>07</th>\n",
       "      <td>318</td>\n",
       "      <td>4</td>\n",
       "      <td>361</td>\n",
       "    </tr>\n",
       "    <tr>\n",
       "      <th>08</th>\n",
       "      <td>256</td>\n",
       "      <td>4</td>\n",
       "      <td>279</td>\n",
       "    </tr>\n",
       "    <tr>\n",
       "      <th>09</th>\n",
       "      <td>262</td>\n",
       "      <td>2</td>\n",
       "      <td>296</td>\n",
       "    </tr>\n",
       "    <tr>\n",
       "      <th>10</th>\n",
       "      <td>269</td>\n",
       "      <td>1</td>\n",
       "      <td>298</td>\n",
       "    </tr>\n",
       "    <tr>\n",
       "      <th>11</th>\n",
       "      <td>215</td>\n",
       "      <td>2</td>\n",
       "      <td>240</td>\n",
       "    </tr>\n",
       "    <tr>\n",
       "      <th>12</th>\n",
       "      <td>97</td>\n",
       "      <td>1</td>\n",
       "      <td>106</td>\n",
       "    </tr>\n",
       "    <tr>\n",
       "      <th>합계:</th>\n",
       "      <td>2,386</td>\n",
       "      <td>26</td>\n",
       "      <td>2,684</td>\n",
       "    </tr>\n",
       "  </tbody>\n",
       "</table>\n",
       "</div>"
      ],
      "text/plain": [
       "0     사고건수 사망자수   부상자수\n",
       "발생월                   \n",
       "01      74    0     83\n",
       "02      52    0     56\n",
       "03     103    2    114\n",
       "04     195    0    229\n",
       "05     244    6    273\n",
       "06     301    4    349\n",
       "07     318    4    361\n",
       "08     256    4    279\n",
       "09     262    2    296\n",
       "10     269    1    298\n",
       "11     215    2    240\n",
       "12      97    1    106\n",
       "합계:  2,386   26  2,684"
      ]
     },
     "execution_count": 45,
     "metadata": {},
     "output_type": "execute_result"
    }
   ],
   "source": [
    "pm_acc_month2022 = pm_acc_month.iloc[0:,[15,16,17]]\n",
    "pm_acc_month2022"
   ]
  },
  {
   "cell_type": "code",
   "execution_count": 61,
   "id": "8e73d6f4",
   "metadata": {},
   "outputs": [
    {
     "data": {
      "text/html": [
       "<div>\n",
       "<style scoped>\n",
       "    .dataframe tbody tr th:only-of-type {\n",
       "        vertical-align: middle;\n",
       "    }\n",
       "\n",
       "    .dataframe tbody tr th {\n",
       "        vertical-align: top;\n",
       "    }\n",
       "\n",
       "    .dataframe thead th {\n",
       "        text-align: right;\n",
       "    }\n",
       "</style>\n",
       "<table border=\"1\" class=\"dataframe\">\n",
       "  <thead>\n",
       "    <tr style=\"text-align: right;\">\n",
       "      <th></th>\n",
       "      <th>2017</th>\n",
       "      <th>2018</th>\n",
       "      <th>2019</th>\n",
       "      <th>2020</th>\n",
       "      <th>2021</th>\n",
       "      <th>2022</th>\n",
       "    </tr>\n",
       "    <tr>\n",
       "      <th>발생월</th>\n",
       "      <th></th>\n",
       "      <th></th>\n",
       "      <th></th>\n",
       "      <th></th>\n",
       "      <th></th>\n",
       "      <th></th>\n",
       "    </tr>\n",
       "  </thead>\n",
       "  <tbody>\n",
       "    <tr>\n",
       "      <th>01</th>\n",
       "      <td>NaN</td>\n",
       "      <td>8</td>\n",
       "      <td>10</td>\n",
       "      <td>22</td>\n",
       "      <td>55</td>\n",
       "      <td>74</td>\n",
       "    </tr>\n",
       "    <tr>\n",
       "      <th>02</th>\n",
       "      <td>2</td>\n",
       "      <td>8</td>\n",
       "      <td>13</td>\n",
       "      <td>36</td>\n",
       "      <td>51</td>\n",
       "      <td>52</td>\n",
       "    </tr>\n",
       "    <tr>\n",
       "      <th>03</th>\n",
       "      <td>4</td>\n",
       "      <td>3</td>\n",
       "      <td>14</td>\n",
       "      <td>31</td>\n",
       "      <td>133</td>\n",
       "      <td>103</td>\n",
       "    </tr>\n",
       "    <tr>\n",
       "      <th>04</th>\n",
       "      <td>4</td>\n",
       "      <td>16</td>\n",
       "      <td>19</td>\n",
       "      <td>56</td>\n",
       "      <td>173</td>\n",
       "      <td>195</td>\n",
       "    </tr>\n",
       "    <tr>\n",
       "      <th>05</th>\n",
       "      <td>15</td>\n",
       "      <td>15</td>\n",
       "      <td>48</td>\n",
       "      <td>67</td>\n",
       "      <td>166</td>\n",
       "      <td>244</td>\n",
       "    </tr>\n",
       "    <tr>\n",
       "      <th>06</th>\n",
       "      <td>7</td>\n",
       "      <td>17</td>\n",
       "      <td>40</td>\n",
       "      <td>63</td>\n",
       "      <td>167</td>\n",
       "      <td>301</td>\n",
       "    </tr>\n",
       "    <tr>\n",
       "      <th>07</th>\n",
       "      <td>13</td>\n",
       "      <td>33</td>\n",
       "      <td>47</td>\n",
       "      <td>98</td>\n",
       "      <td>186</td>\n",
       "      <td>318</td>\n",
       "    </tr>\n",
       "    <tr>\n",
       "      <th>08</th>\n",
       "      <td>17</td>\n",
       "      <td>28</td>\n",
       "      <td>61</td>\n",
       "      <td>86</td>\n",
       "      <td>181</td>\n",
       "      <td>256</td>\n",
       "    </tr>\n",
       "    <tr>\n",
       "      <th>09</th>\n",
       "      <td>15</td>\n",
       "      <td>34</td>\n",
       "      <td>44</td>\n",
       "      <td>109</td>\n",
       "      <td>184</td>\n",
       "      <td>262</td>\n",
       "    </tr>\n",
       "    <tr>\n",
       "      <th>10</th>\n",
       "      <td>18</td>\n",
       "      <td>23</td>\n",
       "      <td>60</td>\n",
       "      <td>163</td>\n",
       "      <td>174</td>\n",
       "      <td>269</td>\n",
       "    </tr>\n",
       "    <tr>\n",
       "      <th>11</th>\n",
       "      <td>18</td>\n",
       "      <td>19</td>\n",
       "      <td>51</td>\n",
       "      <td>110</td>\n",
       "      <td>152</td>\n",
       "      <td>215</td>\n",
       "    </tr>\n",
       "    <tr>\n",
       "      <th>12</th>\n",
       "      <td>4</td>\n",
       "      <td>21</td>\n",
       "      <td>40</td>\n",
       "      <td>56</td>\n",
       "      <td>113</td>\n",
       "      <td>97</td>\n",
       "    </tr>\n",
       "  </tbody>\n",
       "</table>\n",
       "</div>"
      ],
      "text/plain": [
       "    2017 2018 2019 2020 2021 2022\n",
       "발생월                              \n",
       "01   NaN    8   10   22   55   74\n",
       "02     2    8   13   36   51   52\n",
       "03     4    3   14   31  133  103\n",
       "04     4   16   19   56  173  195\n",
       "05    15   15   48   67  166  244\n",
       "06     7   17   40   63  167  301\n",
       "07    13   33   47   98  186  318\n",
       "08    17   28   61   86  181  256\n",
       "09    15   34   44  109  184  262\n",
       "10    18   23   60  163  174  269\n",
       "11    18   19   51  110  152  215\n",
       "12     4   21   40   56  113   97"
      ]
     },
     "execution_count": 61,
     "metadata": {},
     "output_type": "execute_result"
    }
   ],
   "source": [
    "pm_acc_1722 = pm_acc_month.iloc[0:12,[0,3,6,9,12,15]]\n",
    "pm_acc_1722.columns = ['2017','2018','2019','2020','2021','2022']\n",
    "pm_acc_1722"
   ]
  },
  {
   "cell_type": "code",
   "execution_count": 56,
   "id": "853e994b",
   "metadata": {},
   "outputs": [
    {
     "name": "stdout",
     "output_type": "stream",
     "text": [
      "<class 'pandas.core.frame.DataFrame'>\n",
      "Index: 13 entries, 01 to 합계:\n",
      "Data columns (total 6 columns):\n",
      " #   Column  Non-Null Count  Dtype \n",
      "---  ------  --------------  ----- \n",
      " 0   2017    12 non-null     object\n",
      " 1   2018    13 non-null     object\n",
      " 2   2019    13 non-null     object\n",
      " 3   2020    13 non-null     object\n",
      " 4   2021    13 non-null     object\n",
      " 5   2022    13 non-null     object\n",
      "dtypes: object(6)\n",
      "memory usage: 728.0+ bytes\n"
     ]
    }
   ],
   "source": [
    "pm_acc_1722.info()"
   ]
  },
  {
   "cell_type": "code",
   "execution_count": 62,
   "id": "54c26461",
   "metadata": {},
   "outputs": [],
   "source": [
    "pm_acc_1722.fillna(0, inplace=True)"
   ]
  },
  {
   "cell_type": "code",
   "execution_count": 63,
   "id": "efa96598",
   "metadata": {},
   "outputs": [],
   "source": [
    "for column in pm_acc_1722.columns:\n",
    "    if pm_acc_1722[column].dtype == 'object':\n",
    "        pm_acc_1722[column] = pm_acc_1722[column].astype('int64')"
   ]
  },
  {
   "cell_type": "code",
   "execution_count": 76,
   "id": "927eafa3",
   "metadata": {},
   "outputs": [
    {
     "data": {
      "application/vnd.plotly.v1+json": {
       "config": {
        "plotlyServerURL": "https://plot.ly"
       },
       "data": [
        {
         "hovertemplate": "발생월=%{x}<br>2022=%{text}<extra></extra>",
         "legendgroup": "",
         "line": {
          "color": "#636efa",
          "dash": "solid"
         },
         "marker": {
          "symbol": "circle"
         },
         "mode": "lines+text+markers",
         "name": "",
         "orientation": "v",
         "showlegend": false,
         "text": [
          74,
          52,
          103,
          195,
          244,
          301,
          318,
          256,
          262,
          269,
          215,
          97
         ],
         "textposition": "top center",
         "type": "scatter",
         "x": [
          "01",
          "02",
          "03",
          "04",
          "05",
          "06",
          "07",
          "08",
          "09",
          "10",
          "11",
          "12"
         ],
         "xaxis": "x",
         "y": [
          74,
          52,
          103,
          195,
          244,
          301,
          318,
          256,
          262,
          269,
          215,
          97
         ],
         "yaxis": "y"
        }
       ],
       "layout": {
        "legend": {
         "tracegroupgap": 0
        },
        "plot_bgcolor": "#ffffff",
        "template": {
         "data": {
          "bar": [
           {
            "error_x": {
             "color": "#2a3f5f"
            },
            "error_y": {
             "color": "#2a3f5f"
            },
            "marker": {
             "line": {
              "color": "#E5ECF6",
              "width": 0.5
             },
             "pattern": {
              "fillmode": "overlay",
              "size": 10,
              "solidity": 0.2
             }
            },
            "type": "bar"
           }
          ],
          "barpolar": [
           {
            "marker": {
             "line": {
              "color": "#E5ECF6",
              "width": 0.5
             },
             "pattern": {
              "fillmode": "overlay",
              "size": 10,
              "solidity": 0.2
             }
            },
            "type": "barpolar"
           }
          ],
          "carpet": [
           {
            "aaxis": {
             "endlinecolor": "#2a3f5f",
             "gridcolor": "white",
             "linecolor": "white",
             "minorgridcolor": "white",
             "startlinecolor": "#2a3f5f"
            },
            "baxis": {
             "endlinecolor": "#2a3f5f",
             "gridcolor": "white",
             "linecolor": "white",
             "minorgridcolor": "white",
             "startlinecolor": "#2a3f5f"
            },
            "type": "carpet"
           }
          ],
          "choropleth": [
           {
            "colorbar": {
             "outlinewidth": 0,
             "ticks": ""
            },
            "type": "choropleth"
           }
          ],
          "contour": [
           {
            "colorbar": {
             "outlinewidth": 0,
             "ticks": ""
            },
            "colorscale": [
             [
              0,
              "#0d0887"
             ],
             [
              0.1111111111111111,
              "#46039f"
             ],
             [
              0.2222222222222222,
              "#7201a8"
             ],
             [
              0.3333333333333333,
              "#9c179e"
             ],
             [
              0.4444444444444444,
              "#bd3786"
             ],
             [
              0.5555555555555556,
              "#d8576b"
             ],
             [
              0.6666666666666666,
              "#ed7953"
             ],
             [
              0.7777777777777778,
              "#fb9f3a"
             ],
             [
              0.8888888888888888,
              "#fdca26"
             ],
             [
              1,
              "#f0f921"
             ]
            ],
            "type": "contour"
           }
          ],
          "contourcarpet": [
           {
            "colorbar": {
             "outlinewidth": 0,
             "ticks": ""
            },
            "type": "contourcarpet"
           }
          ],
          "heatmap": [
           {
            "colorbar": {
             "outlinewidth": 0,
             "ticks": ""
            },
            "colorscale": [
             [
              0,
              "#0d0887"
             ],
             [
              0.1111111111111111,
              "#46039f"
             ],
             [
              0.2222222222222222,
              "#7201a8"
             ],
             [
              0.3333333333333333,
              "#9c179e"
             ],
             [
              0.4444444444444444,
              "#bd3786"
             ],
             [
              0.5555555555555556,
              "#d8576b"
             ],
             [
              0.6666666666666666,
              "#ed7953"
             ],
             [
              0.7777777777777778,
              "#fb9f3a"
             ],
             [
              0.8888888888888888,
              "#fdca26"
             ],
             [
              1,
              "#f0f921"
             ]
            ],
            "type": "heatmap"
           }
          ],
          "heatmapgl": [
           {
            "colorbar": {
             "outlinewidth": 0,
             "ticks": ""
            },
            "colorscale": [
             [
              0,
              "#0d0887"
             ],
             [
              0.1111111111111111,
              "#46039f"
             ],
             [
              0.2222222222222222,
              "#7201a8"
             ],
             [
              0.3333333333333333,
              "#9c179e"
             ],
             [
              0.4444444444444444,
              "#bd3786"
             ],
             [
              0.5555555555555556,
              "#d8576b"
             ],
             [
              0.6666666666666666,
              "#ed7953"
             ],
             [
              0.7777777777777778,
              "#fb9f3a"
             ],
             [
              0.8888888888888888,
              "#fdca26"
             ],
             [
              1,
              "#f0f921"
             ]
            ],
            "type": "heatmapgl"
           }
          ],
          "histogram": [
           {
            "marker": {
             "pattern": {
              "fillmode": "overlay",
              "size": 10,
              "solidity": 0.2
             }
            },
            "type": "histogram"
           }
          ],
          "histogram2d": [
           {
            "colorbar": {
             "outlinewidth": 0,
             "ticks": ""
            },
            "colorscale": [
             [
              0,
              "#0d0887"
             ],
             [
              0.1111111111111111,
              "#46039f"
             ],
             [
              0.2222222222222222,
              "#7201a8"
             ],
             [
              0.3333333333333333,
              "#9c179e"
             ],
             [
              0.4444444444444444,
              "#bd3786"
             ],
             [
              0.5555555555555556,
              "#d8576b"
             ],
             [
              0.6666666666666666,
              "#ed7953"
             ],
             [
              0.7777777777777778,
              "#fb9f3a"
             ],
             [
              0.8888888888888888,
              "#fdca26"
             ],
             [
              1,
              "#f0f921"
             ]
            ],
            "type": "histogram2d"
           }
          ],
          "histogram2dcontour": [
           {
            "colorbar": {
             "outlinewidth": 0,
             "ticks": ""
            },
            "colorscale": [
             [
              0,
              "#0d0887"
             ],
             [
              0.1111111111111111,
              "#46039f"
             ],
             [
              0.2222222222222222,
              "#7201a8"
             ],
             [
              0.3333333333333333,
              "#9c179e"
             ],
             [
              0.4444444444444444,
              "#bd3786"
             ],
             [
              0.5555555555555556,
              "#d8576b"
             ],
             [
              0.6666666666666666,
              "#ed7953"
             ],
             [
              0.7777777777777778,
              "#fb9f3a"
             ],
             [
              0.8888888888888888,
              "#fdca26"
             ],
             [
              1,
              "#f0f921"
             ]
            ],
            "type": "histogram2dcontour"
           }
          ],
          "mesh3d": [
           {
            "colorbar": {
             "outlinewidth": 0,
             "ticks": ""
            },
            "type": "mesh3d"
           }
          ],
          "parcoords": [
           {
            "line": {
             "colorbar": {
              "outlinewidth": 0,
              "ticks": ""
             }
            },
            "type": "parcoords"
           }
          ],
          "pie": [
           {
            "automargin": true,
            "type": "pie"
           }
          ],
          "scatter": [
           {
            "fillpattern": {
             "fillmode": "overlay",
             "size": 10,
             "solidity": 0.2
            },
            "type": "scatter"
           }
          ],
          "scatter3d": [
           {
            "line": {
             "colorbar": {
              "outlinewidth": 0,
              "ticks": ""
             }
            },
            "marker": {
             "colorbar": {
              "outlinewidth": 0,
              "ticks": ""
             }
            },
            "type": "scatter3d"
           }
          ],
          "scattercarpet": [
           {
            "marker": {
             "colorbar": {
              "outlinewidth": 0,
              "ticks": ""
             }
            },
            "type": "scattercarpet"
           }
          ],
          "scattergeo": [
           {
            "marker": {
             "colorbar": {
              "outlinewidth": 0,
              "ticks": ""
             }
            },
            "type": "scattergeo"
           }
          ],
          "scattergl": [
           {
            "marker": {
             "colorbar": {
              "outlinewidth": 0,
              "ticks": ""
             }
            },
            "type": "scattergl"
           }
          ],
          "scattermapbox": [
           {
            "marker": {
             "colorbar": {
              "outlinewidth": 0,
              "ticks": ""
             }
            },
            "type": "scattermapbox"
           }
          ],
          "scatterpolar": [
           {
            "marker": {
             "colorbar": {
              "outlinewidth": 0,
              "ticks": ""
             }
            },
            "type": "scatterpolar"
           }
          ],
          "scatterpolargl": [
           {
            "marker": {
             "colorbar": {
              "outlinewidth": 0,
              "ticks": ""
             }
            },
            "type": "scatterpolargl"
           }
          ],
          "scatterternary": [
           {
            "marker": {
             "colorbar": {
              "outlinewidth": 0,
              "ticks": ""
             }
            },
            "type": "scatterternary"
           }
          ],
          "surface": [
           {
            "colorbar": {
             "outlinewidth": 0,
             "ticks": ""
            },
            "colorscale": [
             [
              0,
              "#0d0887"
             ],
             [
              0.1111111111111111,
              "#46039f"
             ],
             [
              0.2222222222222222,
              "#7201a8"
             ],
             [
              0.3333333333333333,
              "#9c179e"
             ],
             [
              0.4444444444444444,
              "#bd3786"
             ],
             [
              0.5555555555555556,
              "#d8576b"
             ],
             [
              0.6666666666666666,
              "#ed7953"
             ],
             [
              0.7777777777777778,
              "#fb9f3a"
             ],
             [
              0.8888888888888888,
              "#fdca26"
             ],
             [
              1,
              "#f0f921"
             ]
            ],
            "type": "surface"
           }
          ],
          "table": [
           {
            "cells": {
             "fill": {
              "color": "#EBF0F8"
             },
             "line": {
              "color": "white"
             }
            },
            "header": {
             "fill": {
              "color": "#C8D4E3"
             },
             "line": {
              "color": "white"
             }
            },
            "type": "table"
           }
          ]
         },
         "layout": {
          "annotationdefaults": {
           "arrowcolor": "#2a3f5f",
           "arrowhead": 0,
           "arrowwidth": 1
          },
          "autotypenumbers": "strict",
          "coloraxis": {
           "colorbar": {
            "outlinewidth": 0,
            "ticks": ""
           }
          },
          "colorscale": {
           "diverging": [
            [
             0,
             "#8e0152"
            ],
            [
             0.1,
             "#c51b7d"
            ],
            [
             0.2,
             "#de77ae"
            ],
            [
             0.3,
             "#f1b6da"
            ],
            [
             0.4,
             "#fde0ef"
            ],
            [
             0.5,
             "#f7f7f7"
            ],
            [
             0.6,
             "#e6f5d0"
            ],
            [
             0.7,
             "#b8e186"
            ],
            [
             0.8,
             "#7fbc41"
            ],
            [
             0.9,
             "#4d9221"
            ],
            [
             1,
             "#276419"
            ]
           ],
           "sequential": [
            [
             0,
             "#0d0887"
            ],
            [
             0.1111111111111111,
             "#46039f"
            ],
            [
             0.2222222222222222,
             "#7201a8"
            ],
            [
             0.3333333333333333,
             "#9c179e"
            ],
            [
             0.4444444444444444,
             "#bd3786"
            ],
            [
             0.5555555555555556,
             "#d8576b"
            ],
            [
             0.6666666666666666,
             "#ed7953"
            ],
            [
             0.7777777777777778,
             "#fb9f3a"
            ],
            [
             0.8888888888888888,
             "#fdca26"
            ],
            [
             1,
             "#f0f921"
            ]
           ],
           "sequentialminus": [
            [
             0,
             "#0d0887"
            ],
            [
             0.1111111111111111,
             "#46039f"
            ],
            [
             0.2222222222222222,
             "#7201a8"
            ],
            [
             0.3333333333333333,
             "#9c179e"
            ],
            [
             0.4444444444444444,
             "#bd3786"
            ],
            [
             0.5555555555555556,
             "#d8576b"
            ],
            [
             0.6666666666666666,
             "#ed7953"
            ],
            [
             0.7777777777777778,
             "#fb9f3a"
            ],
            [
             0.8888888888888888,
             "#fdca26"
            ],
            [
             1,
             "#f0f921"
            ]
           ]
          },
          "colorway": [
           "#636efa",
           "#EF553B",
           "#00cc96",
           "#ab63fa",
           "#FFA15A",
           "#19d3f3",
           "#FF6692",
           "#B6E880",
           "#FF97FF",
           "#FECB52"
          ],
          "font": {
           "color": "#2a3f5f"
          },
          "geo": {
           "bgcolor": "white",
           "lakecolor": "white",
           "landcolor": "#E5ECF6",
           "showlakes": true,
           "showland": true,
           "subunitcolor": "white"
          },
          "hoverlabel": {
           "align": "left"
          },
          "hovermode": "closest",
          "mapbox": {
           "style": "light"
          },
          "paper_bgcolor": "white",
          "plot_bgcolor": "#E5ECF6",
          "polar": {
           "angularaxis": {
            "gridcolor": "white",
            "linecolor": "white",
            "ticks": ""
           },
           "bgcolor": "#E5ECF6",
           "radialaxis": {
            "gridcolor": "white",
            "linecolor": "white",
            "ticks": ""
           }
          },
          "scene": {
           "xaxis": {
            "backgroundcolor": "#E5ECF6",
            "gridcolor": "white",
            "gridwidth": 2,
            "linecolor": "white",
            "showbackground": true,
            "ticks": "",
            "zerolinecolor": "white"
           },
           "yaxis": {
            "backgroundcolor": "#E5ECF6",
            "gridcolor": "white",
            "gridwidth": 2,
            "linecolor": "white",
            "showbackground": true,
            "ticks": "",
            "zerolinecolor": "white"
           },
           "zaxis": {
            "backgroundcolor": "#E5ECF6",
            "gridcolor": "white",
            "gridwidth": 2,
            "linecolor": "white",
            "showbackground": true,
            "ticks": "",
            "zerolinecolor": "white"
           }
          },
          "shapedefaults": {
           "line": {
            "color": "#2a3f5f"
           }
          },
          "ternary": {
           "aaxis": {
            "gridcolor": "white",
            "linecolor": "white",
            "ticks": ""
           },
           "baxis": {
            "gridcolor": "white",
            "linecolor": "white",
            "ticks": ""
           },
           "bgcolor": "#E5ECF6",
           "caxis": {
            "gridcolor": "white",
            "linecolor": "white",
            "ticks": ""
           }
          },
          "title": {
           "x": 0.05
          },
          "xaxis": {
           "automargin": true,
           "gridcolor": "white",
           "linecolor": "white",
           "ticks": "",
           "title": {
            "standoff": 15
           },
           "zerolinecolor": "white",
           "zerolinewidth": 2
          },
          "yaxis": {
           "automargin": true,
           "gridcolor": "white",
           "linecolor": "white",
           "ticks": "",
           "title": {
            "standoff": 15
           },
           "zerolinecolor": "white",
           "zerolinewidth": 2
          }
         }
        },
        "title": {
         "text": "2022년도 킥보드 월별 교통사고 현황"
        },
        "xaxis": {
         "anchor": "y",
         "domain": [
          0,
          1
         ],
         "title": {
          "text": "발생월"
         }
        },
        "yaxis": {
         "anchor": "x",
         "domain": [
          0,
          1
         ],
         "gridcolor": "silver",
         "griddash": "solid",
         "gridwidth": 1,
         "showgrid": true,
         "title": {
          "text": "사고건수"
         },
         "zeroline": true,
         "zerolinecolor": "black",
         "zerolinewidth": 2
        }
       }
      },
      "text/html": [
       "<div>                            <div id=\"5b3a6712-9d66-4bf2-888c-0717ed04d3d3\" class=\"plotly-graph-div\" style=\"height:525px; width:100%;\"></div>            <script type=\"text/javascript\">                require([\"plotly\"], function(Plotly) {                    window.PLOTLYENV=window.PLOTLYENV || {};                                    if (document.getElementById(\"5b3a6712-9d66-4bf2-888c-0717ed04d3d3\")) {                    Plotly.newPlot(                        \"5b3a6712-9d66-4bf2-888c-0717ed04d3d3\",                        [{\"hovertemplate\":\"\\ubc1c\\uc0dd\\uc6d4=%{x}\\u003cbr\\u003e2022=%{text}\\u003cextra\\u003e\\u003c\\u002fextra\\u003e\",\"legendgroup\":\"\",\"line\":{\"color\":\"#636efa\",\"dash\":\"solid\"},\"marker\":{\"symbol\":\"circle\"},\"mode\":\"lines+text+markers\",\"name\":\"\",\"orientation\":\"v\",\"showlegend\":false,\"text\":[74.0,52.0,103.0,195.0,244.0,301.0,318.0,256.0,262.0,269.0,215.0,97.0],\"x\":[\"01\",\"02\",\"03\",\"04\",\"05\",\"06\",\"07\",\"08\",\"09\",\"10\",\"11\",\"12\"],\"xaxis\":\"x\",\"y\":[74,52,103,195,244,301,318,256,262,269,215,97],\"yaxis\":\"y\",\"type\":\"scatter\",\"textposition\":\"top center\"}],                        {\"template\":{\"data\":{\"histogram2dcontour\":[{\"type\":\"histogram2dcontour\",\"colorbar\":{\"outlinewidth\":0,\"ticks\":\"\"},\"colorscale\":[[0.0,\"#0d0887\"],[0.1111111111111111,\"#46039f\"],[0.2222222222222222,\"#7201a8\"],[0.3333333333333333,\"#9c179e\"],[0.4444444444444444,\"#bd3786\"],[0.5555555555555556,\"#d8576b\"],[0.6666666666666666,\"#ed7953\"],[0.7777777777777778,\"#fb9f3a\"],[0.8888888888888888,\"#fdca26\"],[1.0,\"#f0f921\"]]}],\"choropleth\":[{\"type\":\"choropleth\",\"colorbar\":{\"outlinewidth\":0,\"ticks\":\"\"}}],\"histogram2d\":[{\"type\":\"histogram2d\",\"colorbar\":{\"outlinewidth\":0,\"ticks\":\"\"},\"colorscale\":[[0.0,\"#0d0887\"],[0.1111111111111111,\"#46039f\"],[0.2222222222222222,\"#7201a8\"],[0.3333333333333333,\"#9c179e\"],[0.4444444444444444,\"#bd3786\"],[0.5555555555555556,\"#d8576b\"],[0.6666666666666666,\"#ed7953\"],[0.7777777777777778,\"#fb9f3a\"],[0.8888888888888888,\"#fdca26\"],[1.0,\"#f0f921\"]]}],\"heatmap\":[{\"type\":\"heatmap\",\"colorbar\":{\"outlinewidth\":0,\"ticks\":\"\"},\"colorscale\":[[0.0,\"#0d0887\"],[0.1111111111111111,\"#46039f\"],[0.2222222222222222,\"#7201a8\"],[0.3333333333333333,\"#9c179e\"],[0.4444444444444444,\"#bd3786\"],[0.5555555555555556,\"#d8576b\"],[0.6666666666666666,\"#ed7953\"],[0.7777777777777778,\"#fb9f3a\"],[0.8888888888888888,\"#fdca26\"],[1.0,\"#f0f921\"]]}],\"heatmapgl\":[{\"type\":\"heatmapgl\",\"colorbar\":{\"outlinewidth\":0,\"ticks\":\"\"},\"colorscale\":[[0.0,\"#0d0887\"],[0.1111111111111111,\"#46039f\"],[0.2222222222222222,\"#7201a8\"],[0.3333333333333333,\"#9c179e\"],[0.4444444444444444,\"#bd3786\"],[0.5555555555555556,\"#d8576b\"],[0.6666666666666666,\"#ed7953\"],[0.7777777777777778,\"#fb9f3a\"],[0.8888888888888888,\"#fdca26\"],[1.0,\"#f0f921\"]]}],\"contourcarpet\":[{\"type\":\"contourcarpet\",\"colorbar\":{\"outlinewidth\":0,\"ticks\":\"\"}}],\"contour\":[{\"type\":\"contour\",\"colorbar\":{\"outlinewidth\":0,\"ticks\":\"\"},\"colorscale\":[[0.0,\"#0d0887\"],[0.1111111111111111,\"#46039f\"],[0.2222222222222222,\"#7201a8\"],[0.3333333333333333,\"#9c179e\"],[0.4444444444444444,\"#bd3786\"],[0.5555555555555556,\"#d8576b\"],[0.6666666666666666,\"#ed7953\"],[0.7777777777777778,\"#fb9f3a\"],[0.8888888888888888,\"#fdca26\"],[1.0,\"#f0f921\"]]}],\"surface\":[{\"type\":\"surface\",\"colorbar\":{\"outlinewidth\":0,\"ticks\":\"\"},\"colorscale\":[[0.0,\"#0d0887\"],[0.1111111111111111,\"#46039f\"],[0.2222222222222222,\"#7201a8\"],[0.3333333333333333,\"#9c179e\"],[0.4444444444444444,\"#bd3786\"],[0.5555555555555556,\"#d8576b\"],[0.6666666666666666,\"#ed7953\"],[0.7777777777777778,\"#fb9f3a\"],[0.8888888888888888,\"#fdca26\"],[1.0,\"#f0f921\"]]}],\"mesh3d\":[{\"type\":\"mesh3d\",\"colorbar\":{\"outlinewidth\":0,\"ticks\":\"\"}}],\"scatter\":[{\"fillpattern\":{\"fillmode\":\"overlay\",\"size\":10,\"solidity\":0.2},\"type\":\"scatter\"}],\"parcoords\":[{\"type\":\"parcoords\",\"line\":{\"colorbar\":{\"outlinewidth\":0,\"ticks\":\"\"}}}],\"scatterpolargl\":[{\"type\":\"scatterpolargl\",\"marker\":{\"colorbar\":{\"outlinewidth\":0,\"ticks\":\"\"}}}],\"bar\":[{\"error_x\":{\"color\":\"#2a3f5f\"},\"error_y\":{\"color\":\"#2a3f5f\"},\"marker\":{\"line\":{\"color\":\"#E5ECF6\",\"width\":0.5},\"pattern\":{\"fillmode\":\"overlay\",\"size\":10,\"solidity\":0.2}},\"type\":\"bar\"}],\"scattergeo\":[{\"type\":\"scattergeo\",\"marker\":{\"colorbar\":{\"outlinewidth\":0,\"ticks\":\"\"}}}],\"scatterpolar\":[{\"type\":\"scatterpolar\",\"marker\":{\"colorbar\":{\"outlinewidth\":0,\"ticks\":\"\"}}}],\"histogram\":[{\"marker\":{\"pattern\":{\"fillmode\":\"overlay\",\"size\":10,\"solidity\":0.2}},\"type\":\"histogram\"}],\"scattergl\":[{\"type\":\"scattergl\",\"marker\":{\"colorbar\":{\"outlinewidth\":0,\"ticks\":\"\"}}}],\"scatter3d\":[{\"type\":\"scatter3d\",\"line\":{\"colorbar\":{\"outlinewidth\":0,\"ticks\":\"\"}},\"marker\":{\"colorbar\":{\"outlinewidth\":0,\"ticks\":\"\"}}}],\"scattermapbox\":[{\"type\":\"scattermapbox\",\"marker\":{\"colorbar\":{\"outlinewidth\":0,\"ticks\":\"\"}}}],\"scatterternary\":[{\"type\":\"scatterternary\",\"marker\":{\"colorbar\":{\"outlinewidth\":0,\"ticks\":\"\"}}}],\"scattercarpet\":[{\"type\":\"scattercarpet\",\"marker\":{\"colorbar\":{\"outlinewidth\":0,\"ticks\":\"\"}}}],\"carpet\":[{\"aaxis\":{\"endlinecolor\":\"#2a3f5f\",\"gridcolor\":\"white\",\"linecolor\":\"white\",\"minorgridcolor\":\"white\",\"startlinecolor\":\"#2a3f5f\"},\"baxis\":{\"endlinecolor\":\"#2a3f5f\",\"gridcolor\":\"white\",\"linecolor\":\"white\",\"minorgridcolor\":\"white\",\"startlinecolor\":\"#2a3f5f\"},\"type\":\"carpet\"}],\"table\":[{\"cells\":{\"fill\":{\"color\":\"#EBF0F8\"},\"line\":{\"color\":\"white\"}},\"header\":{\"fill\":{\"color\":\"#C8D4E3\"},\"line\":{\"color\":\"white\"}},\"type\":\"table\"}],\"barpolar\":[{\"marker\":{\"line\":{\"color\":\"#E5ECF6\",\"width\":0.5},\"pattern\":{\"fillmode\":\"overlay\",\"size\":10,\"solidity\":0.2}},\"type\":\"barpolar\"}],\"pie\":[{\"automargin\":true,\"type\":\"pie\"}]},\"layout\":{\"autotypenumbers\":\"strict\",\"colorway\":[\"#636efa\",\"#EF553B\",\"#00cc96\",\"#ab63fa\",\"#FFA15A\",\"#19d3f3\",\"#FF6692\",\"#B6E880\",\"#FF97FF\",\"#FECB52\"],\"font\":{\"color\":\"#2a3f5f\"},\"hovermode\":\"closest\",\"hoverlabel\":{\"align\":\"left\"},\"paper_bgcolor\":\"white\",\"plot_bgcolor\":\"#E5ECF6\",\"polar\":{\"bgcolor\":\"#E5ECF6\",\"angularaxis\":{\"gridcolor\":\"white\",\"linecolor\":\"white\",\"ticks\":\"\"},\"radialaxis\":{\"gridcolor\":\"white\",\"linecolor\":\"white\",\"ticks\":\"\"}},\"ternary\":{\"bgcolor\":\"#E5ECF6\",\"aaxis\":{\"gridcolor\":\"white\",\"linecolor\":\"white\",\"ticks\":\"\"},\"baxis\":{\"gridcolor\":\"white\",\"linecolor\":\"white\",\"ticks\":\"\"},\"caxis\":{\"gridcolor\":\"white\",\"linecolor\":\"white\",\"ticks\":\"\"}},\"coloraxis\":{\"colorbar\":{\"outlinewidth\":0,\"ticks\":\"\"}},\"colorscale\":{\"sequential\":[[0.0,\"#0d0887\"],[0.1111111111111111,\"#46039f\"],[0.2222222222222222,\"#7201a8\"],[0.3333333333333333,\"#9c179e\"],[0.4444444444444444,\"#bd3786\"],[0.5555555555555556,\"#d8576b\"],[0.6666666666666666,\"#ed7953\"],[0.7777777777777778,\"#fb9f3a\"],[0.8888888888888888,\"#fdca26\"],[1.0,\"#f0f921\"]],\"sequentialminus\":[[0.0,\"#0d0887\"],[0.1111111111111111,\"#46039f\"],[0.2222222222222222,\"#7201a8\"],[0.3333333333333333,\"#9c179e\"],[0.4444444444444444,\"#bd3786\"],[0.5555555555555556,\"#d8576b\"],[0.6666666666666666,\"#ed7953\"],[0.7777777777777778,\"#fb9f3a\"],[0.8888888888888888,\"#fdca26\"],[1.0,\"#f0f921\"]],\"diverging\":[[0,\"#8e0152\"],[0.1,\"#c51b7d\"],[0.2,\"#de77ae\"],[0.3,\"#f1b6da\"],[0.4,\"#fde0ef\"],[0.5,\"#f7f7f7\"],[0.6,\"#e6f5d0\"],[0.7,\"#b8e186\"],[0.8,\"#7fbc41\"],[0.9,\"#4d9221\"],[1,\"#276419\"]]},\"xaxis\":{\"gridcolor\":\"white\",\"linecolor\":\"white\",\"ticks\":\"\",\"title\":{\"standoff\":15},\"zerolinecolor\":\"white\",\"automargin\":true,\"zerolinewidth\":2},\"yaxis\":{\"gridcolor\":\"white\",\"linecolor\":\"white\",\"ticks\":\"\",\"title\":{\"standoff\":15},\"zerolinecolor\":\"white\",\"automargin\":true,\"zerolinewidth\":2},\"scene\":{\"xaxis\":{\"backgroundcolor\":\"#E5ECF6\",\"gridcolor\":\"white\",\"linecolor\":\"white\",\"showbackground\":true,\"ticks\":\"\",\"zerolinecolor\":\"white\",\"gridwidth\":2},\"yaxis\":{\"backgroundcolor\":\"#E5ECF6\",\"gridcolor\":\"white\",\"linecolor\":\"white\",\"showbackground\":true,\"ticks\":\"\",\"zerolinecolor\":\"white\",\"gridwidth\":2},\"zaxis\":{\"backgroundcolor\":\"#E5ECF6\",\"gridcolor\":\"white\",\"linecolor\":\"white\",\"showbackground\":true,\"ticks\":\"\",\"zerolinecolor\":\"white\",\"gridwidth\":2}},\"shapedefaults\":{\"line\":{\"color\":\"#2a3f5f\"}},\"annotationdefaults\":{\"arrowcolor\":\"#2a3f5f\",\"arrowhead\":0,\"arrowwidth\":1},\"geo\":{\"bgcolor\":\"white\",\"landcolor\":\"#E5ECF6\",\"subunitcolor\":\"white\",\"showland\":true,\"showlakes\":true,\"lakecolor\":\"white\"},\"title\":{\"x\":0.05},\"mapbox\":{\"style\":\"light\"}}},\"xaxis\":{\"anchor\":\"y\",\"domain\":[0.0,1.0],\"title\":{\"text\":\"\\ubc1c\\uc0dd\\uc6d4\"}},\"yaxis\":{\"anchor\":\"x\",\"domain\":[0.0,1.0],\"title\":{\"text\":\"\\uc0ac\\uace0\\uac74\\uc218\"},\"showgrid\":true,\"gridwidth\":1,\"gridcolor\":\"silver\",\"griddash\":\"solid\",\"zeroline\":true,\"zerolinewidth\":2,\"zerolinecolor\":\"black\"},\"legend\":{\"tracegroupgap\":0},\"title\":{\"text\":\"2022\\ub144\\ub3c4 \\ud0a5\\ubcf4\\ub4dc \\uc6d4\\ubcc4 \\uad50\\ud1b5\\uc0ac\\uace0 \\ud604\\ud669\"},\"plot_bgcolor\":\"#ffffff\"},                        {\"responsive\": true}                    ).then(function(){\n",
       "                            \n",
       "var gd = document.getElementById('5b3a6712-9d66-4bf2-888c-0717ed04d3d3');\n",
       "var x = new MutationObserver(function (mutations, observer) {{\n",
       "        var display = window.getComputedStyle(gd).display;\n",
       "        if (!display || display === 'none') {{\n",
       "            console.log([gd, 'removed!']);\n",
       "            Plotly.purge(gd);\n",
       "            observer.disconnect();\n",
       "        }}\n",
       "}});\n",
       "\n",
       "// Listen for the removal of the full notebook cells\n",
       "var notebookContainer = gd.closest('#notebook-container');\n",
       "if (notebookContainer) {{\n",
       "    x.observe(notebookContainer, {childList: true});\n",
       "}}\n",
       "\n",
       "// Listen for the clearing of the current output cell\n",
       "var outputEl = gd.closest('.output');\n",
       "if (outputEl) {{\n",
       "    x.observe(outputEl, {childList: true});\n",
       "}}\n",
       "\n",
       "                        })                };                });            </script>        </div>"
      ]
     },
     "metadata": {},
     "output_type": "display_data"
    }
   ],
   "source": [
    "\n",
    "fig = px.line(pm_acc_1722, x=pm_acc_1722.index, y='2022', title = '2022년도 킥보드 월별 교통사고 현황', text='2022')\n",
    "fig.update_traces(textposition=\"top center\")\n",
    "fig.update_layout(plot_bgcolor=\"#ffffff\", \n",
    "                  xaxis_title=\"발생월\", \n",
    "                  yaxis_title=\"사고건수\")\n",
    "fig.update_yaxes(showgrid=True, gridwidth=1, gridcolor='silver', griddash='solid')\n",
    "fig.update_yaxes(zeroline=True, zerolinewidth=2, zerolinecolor='black')\n",
    "fig.show()"
   ]
  },
  {
   "cell_type": "code",
   "execution_count": 77,
   "id": "e8855e9a",
   "metadata": {},
   "outputs": [
    {
     "data": {
      "text/plain": [
       "2017     117\n",
       "2018     225\n",
       "2019     447\n",
       "2020     897\n",
       "2021    1735\n",
       "2022    2386\n",
       "dtype: int64"
      ]
     },
     "execution_count": 77,
     "metadata": {},
     "output_type": "execute_result"
    }
   ],
   "source": [
    "pm_acc_1722_sum = pm_acc_1722.sum()\n",
    "pm_acc_1722_sum"
   ]
  },
  {
   "cell_type": "code",
   "execution_count": 80,
   "id": "de4fc27a",
   "metadata": {},
   "outputs": [
    {
     "data": {
      "text/plain": [
       "array([ 117,  225,  447,  897, 1735, 2386], dtype=int64)"
      ]
     },
     "execution_count": 80,
     "metadata": {},
     "output_type": "execute_result"
    }
   ],
   "source": [
    "pm_acc_1722_sum.values"
   ]
  },
  {
   "cell_type": "code",
   "execution_count": 86,
   "id": "31f5a182",
   "metadata": {},
   "outputs": [
    {
     "data": {
      "application/vnd.plotly.v1+json": {
       "config": {
        "plotlyServerURL": "https://plot.ly"
       },
       "data": [
        {
         "hovertemplate": "index=%{x}<br>y=%{y}<br>text=%{text}<extra></extra>",
         "legendgroup": "",
         "line": {
          "color": "red",
          "dash": "solid"
         },
         "marker": {
          "symbol": "circle"
         },
         "mode": "lines+text+markers",
         "name": "",
         "orientation": "v",
         "showlegend": false,
         "text": [
          117,
          225,
          447,
          897,
          1735,
          2386
         ],
         "textposition": "top center",
         "type": "scatter",
         "x": [
          "2017",
          "2018",
          "2019",
          "2020",
          "2021",
          "2022"
         ],
         "xaxis": "x",
         "y": [
          117,
          225,
          447,
          897,
          1735,
          2386
         ],
         "yaxis": "y"
        }
       ],
       "layout": {
        "legend": {
         "tracegroupgap": 0
        },
        "plot_bgcolor": "#ffffff",
        "template": {
         "data": {
          "bar": [
           {
            "error_x": {
             "color": "#2a3f5f"
            },
            "error_y": {
             "color": "#2a3f5f"
            },
            "marker": {
             "line": {
              "color": "#E5ECF6",
              "width": 0.5
             },
             "pattern": {
              "fillmode": "overlay",
              "size": 10,
              "solidity": 0.2
             }
            },
            "type": "bar"
           }
          ],
          "barpolar": [
           {
            "marker": {
             "line": {
              "color": "#E5ECF6",
              "width": 0.5
             },
             "pattern": {
              "fillmode": "overlay",
              "size": 10,
              "solidity": 0.2
             }
            },
            "type": "barpolar"
           }
          ],
          "carpet": [
           {
            "aaxis": {
             "endlinecolor": "#2a3f5f",
             "gridcolor": "white",
             "linecolor": "white",
             "minorgridcolor": "white",
             "startlinecolor": "#2a3f5f"
            },
            "baxis": {
             "endlinecolor": "#2a3f5f",
             "gridcolor": "white",
             "linecolor": "white",
             "minorgridcolor": "white",
             "startlinecolor": "#2a3f5f"
            },
            "type": "carpet"
           }
          ],
          "choropleth": [
           {
            "colorbar": {
             "outlinewidth": 0,
             "ticks": ""
            },
            "type": "choropleth"
           }
          ],
          "contour": [
           {
            "colorbar": {
             "outlinewidth": 0,
             "ticks": ""
            },
            "colorscale": [
             [
              0,
              "#0d0887"
             ],
             [
              0.1111111111111111,
              "#46039f"
             ],
             [
              0.2222222222222222,
              "#7201a8"
             ],
             [
              0.3333333333333333,
              "#9c179e"
             ],
             [
              0.4444444444444444,
              "#bd3786"
             ],
             [
              0.5555555555555556,
              "#d8576b"
             ],
             [
              0.6666666666666666,
              "#ed7953"
             ],
             [
              0.7777777777777778,
              "#fb9f3a"
             ],
             [
              0.8888888888888888,
              "#fdca26"
             ],
             [
              1,
              "#f0f921"
             ]
            ],
            "type": "contour"
           }
          ],
          "contourcarpet": [
           {
            "colorbar": {
             "outlinewidth": 0,
             "ticks": ""
            },
            "type": "contourcarpet"
           }
          ],
          "heatmap": [
           {
            "colorbar": {
             "outlinewidth": 0,
             "ticks": ""
            },
            "colorscale": [
             [
              0,
              "#0d0887"
             ],
             [
              0.1111111111111111,
              "#46039f"
             ],
             [
              0.2222222222222222,
              "#7201a8"
             ],
             [
              0.3333333333333333,
              "#9c179e"
             ],
             [
              0.4444444444444444,
              "#bd3786"
             ],
             [
              0.5555555555555556,
              "#d8576b"
             ],
             [
              0.6666666666666666,
              "#ed7953"
             ],
             [
              0.7777777777777778,
              "#fb9f3a"
             ],
             [
              0.8888888888888888,
              "#fdca26"
             ],
             [
              1,
              "#f0f921"
             ]
            ],
            "type": "heatmap"
           }
          ],
          "heatmapgl": [
           {
            "colorbar": {
             "outlinewidth": 0,
             "ticks": ""
            },
            "colorscale": [
             [
              0,
              "#0d0887"
             ],
             [
              0.1111111111111111,
              "#46039f"
             ],
             [
              0.2222222222222222,
              "#7201a8"
             ],
             [
              0.3333333333333333,
              "#9c179e"
             ],
             [
              0.4444444444444444,
              "#bd3786"
             ],
             [
              0.5555555555555556,
              "#d8576b"
             ],
             [
              0.6666666666666666,
              "#ed7953"
             ],
             [
              0.7777777777777778,
              "#fb9f3a"
             ],
             [
              0.8888888888888888,
              "#fdca26"
             ],
             [
              1,
              "#f0f921"
             ]
            ],
            "type": "heatmapgl"
           }
          ],
          "histogram": [
           {
            "marker": {
             "pattern": {
              "fillmode": "overlay",
              "size": 10,
              "solidity": 0.2
             }
            },
            "type": "histogram"
           }
          ],
          "histogram2d": [
           {
            "colorbar": {
             "outlinewidth": 0,
             "ticks": ""
            },
            "colorscale": [
             [
              0,
              "#0d0887"
             ],
             [
              0.1111111111111111,
              "#46039f"
             ],
             [
              0.2222222222222222,
              "#7201a8"
             ],
             [
              0.3333333333333333,
              "#9c179e"
             ],
             [
              0.4444444444444444,
              "#bd3786"
             ],
             [
              0.5555555555555556,
              "#d8576b"
             ],
             [
              0.6666666666666666,
              "#ed7953"
             ],
             [
              0.7777777777777778,
              "#fb9f3a"
             ],
             [
              0.8888888888888888,
              "#fdca26"
             ],
             [
              1,
              "#f0f921"
             ]
            ],
            "type": "histogram2d"
           }
          ],
          "histogram2dcontour": [
           {
            "colorbar": {
             "outlinewidth": 0,
             "ticks": ""
            },
            "colorscale": [
             [
              0,
              "#0d0887"
             ],
             [
              0.1111111111111111,
              "#46039f"
             ],
             [
              0.2222222222222222,
              "#7201a8"
             ],
             [
              0.3333333333333333,
              "#9c179e"
             ],
             [
              0.4444444444444444,
              "#bd3786"
             ],
             [
              0.5555555555555556,
              "#d8576b"
             ],
             [
              0.6666666666666666,
              "#ed7953"
             ],
             [
              0.7777777777777778,
              "#fb9f3a"
             ],
             [
              0.8888888888888888,
              "#fdca26"
             ],
             [
              1,
              "#f0f921"
             ]
            ],
            "type": "histogram2dcontour"
           }
          ],
          "mesh3d": [
           {
            "colorbar": {
             "outlinewidth": 0,
             "ticks": ""
            },
            "type": "mesh3d"
           }
          ],
          "parcoords": [
           {
            "line": {
             "colorbar": {
              "outlinewidth": 0,
              "ticks": ""
             }
            },
            "type": "parcoords"
           }
          ],
          "pie": [
           {
            "automargin": true,
            "type": "pie"
           }
          ],
          "scatter": [
           {
            "fillpattern": {
             "fillmode": "overlay",
             "size": 10,
             "solidity": 0.2
            },
            "type": "scatter"
           }
          ],
          "scatter3d": [
           {
            "line": {
             "colorbar": {
              "outlinewidth": 0,
              "ticks": ""
             }
            },
            "marker": {
             "colorbar": {
              "outlinewidth": 0,
              "ticks": ""
             }
            },
            "type": "scatter3d"
           }
          ],
          "scattercarpet": [
           {
            "marker": {
             "colorbar": {
              "outlinewidth": 0,
              "ticks": ""
             }
            },
            "type": "scattercarpet"
           }
          ],
          "scattergeo": [
           {
            "marker": {
             "colorbar": {
              "outlinewidth": 0,
              "ticks": ""
             }
            },
            "type": "scattergeo"
           }
          ],
          "scattergl": [
           {
            "marker": {
             "colorbar": {
              "outlinewidth": 0,
              "ticks": ""
             }
            },
            "type": "scattergl"
           }
          ],
          "scattermapbox": [
           {
            "marker": {
             "colorbar": {
              "outlinewidth": 0,
              "ticks": ""
             }
            },
            "type": "scattermapbox"
           }
          ],
          "scatterpolar": [
           {
            "marker": {
             "colorbar": {
              "outlinewidth": 0,
              "ticks": ""
             }
            },
            "type": "scatterpolar"
           }
          ],
          "scatterpolargl": [
           {
            "marker": {
             "colorbar": {
              "outlinewidth": 0,
              "ticks": ""
             }
            },
            "type": "scatterpolargl"
           }
          ],
          "scatterternary": [
           {
            "marker": {
             "colorbar": {
              "outlinewidth": 0,
              "ticks": ""
             }
            },
            "type": "scatterternary"
           }
          ],
          "surface": [
           {
            "colorbar": {
             "outlinewidth": 0,
             "ticks": ""
            },
            "colorscale": [
             [
              0,
              "#0d0887"
             ],
             [
              0.1111111111111111,
              "#46039f"
             ],
             [
              0.2222222222222222,
              "#7201a8"
             ],
             [
              0.3333333333333333,
              "#9c179e"
             ],
             [
              0.4444444444444444,
              "#bd3786"
             ],
             [
              0.5555555555555556,
              "#d8576b"
             ],
             [
              0.6666666666666666,
              "#ed7953"
             ],
             [
              0.7777777777777778,
              "#fb9f3a"
             ],
             [
              0.8888888888888888,
              "#fdca26"
             ],
             [
              1,
              "#f0f921"
             ]
            ],
            "type": "surface"
           }
          ],
          "table": [
           {
            "cells": {
             "fill": {
              "color": "#EBF0F8"
             },
             "line": {
              "color": "white"
             }
            },
            "header": {
             "fill": {
              "color": "#C8D4E3"
             },
             "line": {
              "color": "white"
             }
            },
            "type": "table"
           }
          ]
         },
         "layout": {
          "annotationdefaults": {
           "arrowcolor": "#2a3f5f",
           "arrowhead": 0,
           "arrowwidth": 1
          },
          "autotypenumbers": "strict",
          "coloraxis": {
           "colorbar": {
            "outlinewidth": 0,
            "ticks": ""
           }
          },
          "colorscale": {
           "diverging": [
            [
             0,
             "#8e0152"
            ],
            [
             0.1,
             "#c51b7d"
            ],
            [
             0.2,
             "#de77ae"
            ],
            [
             0.3,
             "#f1b6da"
            ],
            [
             0.4,
             "#fde0ef"
            ],
            [
             0.5,
             "#f7f7f7"
            ],
            [
             0.6,
             "#e6f5d0"
            ],
            [
             0.7,
             "#b8e186"
            ],
            [
             0.8,
             "#7fbc41"
            ],
            [
             0.9,
             "#4d9221"
            ],
            [
             1,
             "#276419"
            ]
           ],
           "sequential": [
            [
             0,
             "#0d0887"
            ],
            [
             0.1111111111111111,
             "#46039f"
            ],
            [
             0.2222222222222222,
             "#7201a8"
            ],
            [
             0.3333333333333333,
             "#9c179e"
            ],
            [
             0.4444444444444444,
             "#bd3786"
            ],
            [
             0.5555555555555556,
             "#d8576b"
            ],
            [
             0.6666666666666666,
             "#ed7953"
            ],
            [
             0.7777777777777778,
             "#fb9f3a"
            ],
            [
             0.8888888888888888,
             "#fdca26"
            ],
            [
             1,
             "#f0f921"
            ]
           ],
           "sequentialminus": [
            [
             0,
             "#0d0887"
            ],
            [
             0.1111111111111111,
             "#46039f"
            ],
            [
             0.2222222222222222,
             "#7201a8"
            ],
            [
             0.3333333333333333,
             "#9c179e"
            ],
            [
             0.4444444444444444,
             "#bd3786"
            ],
            [
             0.5555555555555556,
             "#d8576b"
            ],
            [
             0.6666666666666666,
             "#ed7953"
            ],
            [
             0.7777777777777778,
             "#fb9f3a"
            ],
            [
             0.8888888888888888,
             "#fdca26"
            ],
            [
             1,
             "#f0f921"
            ]
           ]
          },
          "colorway": [
           "#636efa",
           "#EF553B",
           "#00cc96",
           "#ab63fa",
           "#FFA15A",
           "#19d3f3",
           "#FF6692",
           "#B6E880",
           "#FF97FF",
           "#FECB52"
          ],
          "font": {
           "color": "#2a3f5f"
          },
          "geo": {
           "bgcolor": "white",
           "lakecolor": "white",
           "landcolor": "#E5ECF6",
           "showlakes": true,
           "showland": true,
           "subunitcolor": "white"
          },
          "hoverlabel": {
           "align": "left"
          },
          "hovermode": "closest",
          "mapbox": {
           "style": "light"
          },
          "paper_bgcolor": "white",
          "plot_bgcolor": "#E5ECF6",
          "polar": {
           "angularaxis": {
            "gridcolor": "white",
            "linecolor": "white",
            "ticks": ""
           },
           "bgcolor": "#E5ECF6",
           "radialaxis": {
            "gridcolor": "white",
            "linecolor": "white",
            "ticks": ""
           }
          },
          "scene": {
           "xaxis": {
            "backgroundcolor": "#E5ECF6",
            "gridcolor": "white",
            "gridwidth": 2,
            "linecolor": "white",
            "showbackground": true,
            "ticks": "",
            "zerolinecolor": "white"
           },
           "yaxis": {
            "backgroundcolor": "#E5ECF6",
            "gridcolor": "white",
            "gridwidth": 2,
            "linecolor": "white",
            "showbackground": true,
            "ticks": "",
            "zerolinecolor": "white"
           },
           "zaxis": {
            "backgroundcolor": "#E5ECF6",
            "gridcolor": "white",
            "gridwidth": 2,
            "linecolor": "white",
            "showbackground": true,
            "ticks": "",
            "zerolinecolor": "white"
           }
          },
          "shapedefaults": {
           "line": {
            "color": "#2a3f5f"
           }
          },
          "ternary": {
           "aaxis": {
            "gridcolor": "white",
            "linecolor": "white",
            "ticks": ""
           },
           "baxis": {
            "gridcolor": "white",
            "linecolor": "white",
            "ticks": ""
           },
           "bgcolor": "#E5ECF6",
           "caxis": {
            "gridcolor": "white",
            "linecolor": "white",
            "ticks": ""
           }
          },
          "title": {
           "x": 0.05
          },
          "xaxis": {
           "automargin": true,
           "gridcolor": "white",
           "linecolor": "white",
           "ticks": "",
           "title": {
            "standoff": 15
           },
           "zerolinecolor": "white",
           "zerolinewidth": 2
          },
          "yaxis": {
           "automargin": true,
           "gridcolor": "white",
           "linecolor": "white",
           "ticks": "",
           "title": {
            "standoff": 15
           },
           "zerolinecolor": "white",
           "zerolinewidth": 2
          }
         }
        },
        "title": {
         "text": "2017 - 2022년도 킥보드 교통사고 발생 건수"
        },
        "xaxis": {
         "anchor": "y",
         "domain": [
          0,
          1
         ],
         "title": {
          "text": "발생연도"
         }
        },
        "yaxis": {
         "anchor": "x",
         "domain": [
          0,
          1
         ],
         "gridcolor": "silver",
         "griddash": "solid",
         "gridwidth": 1,
         "showgrid": true,
         "title": {
          "text": "사고건수"
         },
         "zeroline": true,
         "zerolinecolor": "black",
         "zerolinewidth": 2
        }
       }
      },
      "text/html": [
       "<div>                            <div id=\"22ab0f3b-0a7a-405d-9e23-8ece67454e4f\" class=\"plotly-graph-div\" style=\"height:525px; width:100%;\"></div>            <script type=\"text/javascript\">                require([\"plotly\"], function(Plotly) {                    window.PLOTLYENV=window.PLOTLYENV || {};                                    if (document.getElementById(\"22ab0f3b-0a7a-405d-9e23-8ece67454e4f\")) {                    Plotly.newPlot(                        \"22ab0f3b-0a7a-405d-9e23-8ece67454e4f\",                        [{\"hovertemplate\":\"index=%{x}\\u003cbr\\u003ey=%{y}\\u003cbr\\u003etext=%{text}\\u003cextra\\u003e\\u003c\\u002fextra\\u003e\",\"legendgroup\":\"\",\"line\":{\"color\":\"red\",\"dash\":\"solid\"},\"marker\":{\"symbol\":\"circle\"},\"mode\":\"lines+text+markers\",\"name\":\"\",\"orientation\":\"v\",\"showlegend\":false,\"text\":[117.0,225.0,447.0,897.0,1735.0,2386.0],\"x\":[\"2017\",\"2018\",\"2019\",\"2020\",\"2021\",\"2022\"],\"xaxis\":\"x\",\"y\":[117,225,447,897,1735,2386],\"yaxis\":\"y\",\"type\":\"scatter\",\"textposition\":\"top center\"}],                        {\"template\":{\"data\":{\"histogram2dcontour\":[{\"type\":\"histogram2dcontour\",\"colorbar\":{\"outlinewidth\":0,\"ticks\":\"\"},\"colorscale\":[[0.0,\"#0d0887\"],[0.1111111111111111,\"#46039f\"],[0.2222222222222222,\"#7201a8\"],[0.3333333333333333,\"#9c179e\"],[0.4444444444444444,\"#bd3786\"],[0.5555555555555556,\"#d8576b\"],[0.6666666666666666,\"#ed7953\"],[0.7777777777777778,\"#fb9f3a\"],[0.8888888888888888,\"#fdca26\"],[1.0,\"#f0f921\"]]}],\"choropleth\":[{\"type\":\"choropleth\",\"colorbar\":{\"outlinewidth\":0,\"ticks\":\"\"}}],\"histogram2d\":[{\"type\":\"histogram2d\",\"colorbar\":{\"outlinewidth\":0,\"ticks\":\"\"},\"colorscale\":[[0.0,\"#0d0887\"],[0.1111111111111111,\"#46039f\"],[0.2222222222222222,\"#7201a8\"],[0.3333333333333333,\"#9c179e\"],[0.4444444444444444,\"#bd3786\"],[0.5555555555555556,\"#d8576b\"],[0.6666666666666666,\"#ed7953\"],[0.7777777777777778,\"#fb9f3a\"],[0.8888888888888888,\"#fdca26\"],[1.0,\"#f0f921\"]]}],\"heatmap\":[{\"type\":\"heatmap\",\"colorbar\":{\"outlinewidth\":0,\"ticks\":\"\"},\"colorscale\":[[0.0,\"#0d0887\"],[0.1111111111111111,\"#46039f\"],[0.2222222222222222,\"#7201a8\"],[0.3333333333333333,\"#9c179e\"],[0.4444444444444444,\"#bd3786\"],[0.5555555555555556,\"#d8576b\"],[0.6666666666666666,\"#ed7953\"],[0.7777777777777778,\"#fb9f3a\"],[0.8888888888888888,\"#fdca26\"],[1.0,\"#f0f921\"]]}],\"heatmapgl\":[{\"type\":\"heatmapgl\",\"colorbar\":{\"outlinewidth\":0,\"ticks\":\"\"},\"colorscale\":[[0.0,\"#0d0887\"],[0.1111111111111111,\"#46039f\"],[0.2222222222222222,\"#7201a8\"],[0.3333333333333333,\"#9c179e\"],[0.4444444444444444,\"#bd3786\"],[0.5555555555555556,\"#d8576b\"],[0.6666666666666666,\"#ed7953\"],[0.7777777777777778,\"#fb9f3a\"],[0.8888888888888888,\"#fdca26\"],[1.0,\"#f0f921\"]]}],\"contourcarpet\":[{\"type\":\"contourcarpet\",\"colorbar\":{\"outlinewidth\":0,\"ticks\":\"\"}}],\"contour\":[{\"type\":\"contour\",\"colorbar\":{\"outlinewidth\":0,\"ticks\":\"\"},\"colorscale\":[[0.0,\"#0d0887\"],[0.1111111111111111,\"#46039f\"],[0.2222222222222222,\"#7201a8\"],[0.3333333333333333,\"#9c179e\"],[0.4444444444444444,\"#bd3786\"],[0.5555555555555556,\"#d8576b\"],[0.6666666666666666,\"#ed7953\"],[0.7777777777777778,\"#fb9f3a\"],[0.8888888888888888,\"#fdca26\"],[1.0,\"#f0f921\"]]}],\"surface\":[{\"type\":\"surface\",\"colorbar\":{\"outlinewidth\":0,\"ticks\":\"\"},\"colorscale\":[[0.0,\"#0d0887\"],[0.1111111111111111,\"#46039f\"],[0.2222222222222222,\"#7201a8\"],[0.3333333333333333,\"#9c179e\"],[0.4444444444444444,\"#bd3786\"],[0.5555555555555556,\"#d8576b\"],[0.6666666666666666,\"#ed7953\"],[0.7777777777777778,\"#fb9f3a\"],[0.8888888888888888,\"#fdca26\"],[1.0,\"#f0f921\"]]}],\"mesh3d\":[{\"type\":\"mesh3d\",\"colorbar\":{\"outlinewidth\":0,\"ticks\":\"\"}}],\"scatter\":[{\"fillpattern\":{\"fillmode\":\"overlay\",\"size\":10,\"solidity\":0.2},\"type\":\"scatter\"}],\"parcoords\":[{\"type\":\"parcoords\",\"line\":{\"colorbar\":{\"outlinewidth\":0,\"ticks\":\"\"}}}],\"scatterpolargl\":[{\"type\":\"scatterpolargl\",\"marker\":{\"colorbar\":{\"outlinewidth\":0,\"ticks\":\"\"}}}],\"bar\":[{\"error_x\":{\"color\":\"#2a3f5f\"},\"error_y\":{\"color\":\"#2a3f5f\"},\"marker\":{\"line\":{\"color\":\"#E5ECF6\",\"width\":0.5},\"pattern\":{\"fillmode\":\"overlay\",\"size\":10,\"solidity\":0.2}},\"type\":\"bar\"}],\"scattergeo\":[{\"type\":\"scattergeo\",\"marker\":{\"colorbar\":{\"outlinewidth\":0,\"ticks\":\"\"}}}],\"scatterpolar\":[{\"type\":\"scatterpolar\",\"marker\":{\"colorbar\":{\"outlinewidth\":0,\"ticks\":\"\"}}}],\"histogram\":[{\"marker\":{\"pattern\":{\"fillmode\":\"overlay\",\"size\":10,\"solidity\":0.2}},\"type\":\"histogram\"}],\"scattergl\":[{\"type\":\"scattergl\",\"marker\":{\"colorbar\":{\"outlinewidth\":0,\"ticks\":\"\"}}}],\"scatter3d\":[{\"type\":\"scatter3d\",\"line\":{\"colorbar\":{\"outlinewidth\":0,\"ticks\":\"\"}},\"marker\":{\"colorbar\":{\"outlinewidth\":0,\"ticks\":\"\"}}}],\"scattermapbox\":[{\"type\":\"scattermapbox\",\"marker\":{\"colorbar\":{\"outlinewidth\":0,\"ticks\":\"\"}}}],\"scatterternary\":[{\"type\":\"scatterternary\",\"marker\":{\"colorbar\":{\"outlinewidth\":0,\"ticks\":\"\"}}}],\"scattercarpet\":[{\"type\":\"scattercarpet\",\"marker\":{\"colorbar\":{\"outlinewidth\":0,\"ticks\":\"\"}}}],\"carpet\":[{\"aaxis\":{\"endlinecolor\":\"#2a3f5f\",\"gridcolor\":\"white\",\"linecolor\":\"white\",\"minorgridcolor\":\"white\",\"startlinecolor\":\"#2a3f5f\"},\"baxis\":{\"endlinecolor\":\"#2a3f5f\",\"gridcolor\":\"white\",\"linecolor\":\"white\",\"minorgridcolor\":\"white\",\"startlinecolor\":\"#2a3f5f\"},\"type\":\"carpet\"}],\"table\":[{\"cells\":{\"fill\":{\"color\":\"#EBF0F8\"},\"line\":{\"color\":\"white\"}},\"header\":{\"fill\":{\"color\":\"#C8D4E3\"},\"line\":{\"color\":\"white\"}},\"type\":\"table\"}],\"barpolar\":[{\"marker\":{\"line\":{\"color\":\"#E5ECF6\",\"width\":0.5},\"pattern\":{\"fillmode\":\"overlay\",\"size\":10,\"solidity\":0.2}},\"type\":\"barpolar\"}],\"pie\":[{\"automargin\":true,\"type\":\"pie\"}]},\"layout\":{\"autotypenumbers\":\"strict\",\"colorway\":[\"#636efa\",\"#EF553B\",\"#00cc96\",\"#ab63fa\",\"#FFA15A\",\"#19d3f3\",\"#FF6692\",\"#B6E880\",\"#FF97FF\",\"#FECB52\"],\"font\":{\"color\":\"#2a3f5f\"},\"hovermode\":\"closest\",\"hoverlabel\":{\"align\":\"left\"},\"paper_bgcolor\":\"white\",\"plot_bgcolor\":\"#E5ECF6\",\"polar\":{\"bgcolor\":\"#E5ECF6\",\"angularaxis\":{\"gridcolor\":\"white\",\"linecolor\":\"white\",\"ticks\":\"\"},\"radialaxis\":{\"gridcolor\":\"white\",\"linecolor\":\"white\",\"ticks\":\"\"}},\"ternary\":{\"bgcolor\":\"#E5ECF6\",\"aaxis\":{\"gridcolor\":\"white\",\"linecolor\":\"white\",\"ticks\":\"\"},\"baxis\":{\"gridcolor\":\"white\",\"linecolor\":\"white\",\"ticks\":\"\"},\"caxis\":{\"gridcolor\":\"white\",\"linecolor\":\"white\",\"ticks\":\"\"}},\"coloraxis\":{\"colorbar\":{\"outlinewidth\":0,\"ticks\":\"\"}},\"colorscale\":{\"sequential\":[[0.0,\"#0d0887\"],[0.1111111111111111,\"#46039f\"],[0.2222222222222222,\"#7201a8\"],[0.3333333333333333,\"#9c179e\"],[0.4444444444444444,\"#bd3786\"],[0.5555555555555556,\"#d8576b\"],[0.6666666666666666,\"#ed7953\"],[0.7777777777777778,\"#fb9f3a\"],[0.8888888888888888,\"#fdca26\"],[1.0,\"#f0f921\"]],\"sequentialminus\":[[0.0,\"#0d0887\"],[0.1111111111111111,\"#46039f\"],[0.2222222222222222,\"#7201a8\"],[0.3333333333333333,\"#9c179e\"],[0.4444444444444444,\"#bd3786\"],[0.5555555555555556,\"#d8576b\"],[0.6666666666666666,\"#ed7953\"],[0.7777777777777778,\"#fb9f3a\"],[0.8888888888888888,\"#fdca26\"],[1.0,\"#f0f921\"]],\"diverging\":[[0,\"#8e0152\"],[0.1,\"#c51b7d\"],[0.2,\"#de77ae\"],[0.3,\"#f1b6da\"],[0.4,\"#fde0ef\"],[0.5,\"#f7f7f7\"],[0.6,\"#e6f5d0\"],[0.7,\"#b8e186\"],[0.8,\"#7fbc41\"],[0.9,\"#4d9221\"],[1,\"#276419\"]]},\"xaxis\":{\"gridcolor\":\"white\",\"linecolor\":\"white\",\"ticks\":\"\",\"title\":{\"standoff\":15},\"zerolinecolor\":\"white\",\"automargin\":true,\"zerolinewidth\":2},\"yaxis\":{\"gridcolor\":\"white\",\"linecolor\":\"white\",\"ticks\":\"\",\"title\":{\"standoff\":15},\"zerolinecolor\":\"white\",\"automargin\":true,\"zerolinewidth\":2},\"scene\":{\"xaxis\":{\"backgroundcolor\":\"#E5ECF6\",\"gridcolor\":\"white\",\"linecolor\":\"white\",\"showbackground\":true,\"ticks\":\"\",\"zerolinecolor\":\"white\",\"gridwidth\":2},\"yaxis\":{\"backgroundcolor\":\"#E5ECF6\",\"gridcolor\":\"white\",\"linecolor\":\"white\",\"showbackground\":true,\"ticks\":\"\",\"zerolinecolor\":\"white\",\"gridwidth\":2},\"zaxis\":{\"backgroundcolor\":\"#E5ECF6\",\"gridcolor\":\"white\",\"linecolor\":\"white\",\"showbackground\":true,\"ticks\":\"\",\"zerolinecolor\":\"white\",\"gridwidth\":2}},\"shapedefaults\":{\"line\":{\"color\":\"#2a3f5f\"}},\"annotationdefaults\":{\"arrowcolor\":\"#2a3f5f\",\"arrowhead\":0,\"arrowwidth\":1},\"geo\":{\"bgcolor\":\"white\",\"landcolor\":\"#E5ECF6\",\"subunitcolor\":\"white\",\"showland\":true,\"showlakes\":true,\"lakecolor\":\"white\"},\"title\":{\"x\":0.05},\"mapbox\":{\"style\":\"light\"}}},\"xaxis\":{\"anchor\":\"y\",\"domain\":[0.0,1.0],\"title\":{\"text\":\"\\ubc1c\\uc0dd\\uc5f0\\ub3c4\"}},\"yaxis\":{\"anchor\":\"x\",\"domain\":[0.0,1.0],\"title\":{\"text\":\"\\uc0ac\\uace0\\uac74\\uc218\"},\"showgrid\":true,\"gridwidth\":1,\"gridcolor\":\"silver\",\"griddash\":\"solid\",\"zeroline\":true,\"zerolinewidth\":2,\"zerolinecolor\":\"black\"},\"legend\":{\"tracegroupgap\":0},\"title\":{\"text\":\"2017 - 2022\\ub144\\ub3c4 \\ud0a5\\ubcf4\\ub4dc \\uad50\\ud1b5\\uc0ac\\uace0 \\ubc1c\\uc0dd \\uac74\\uc218\"},\"plot_bgcolor\":\"#ffffff\"},                        {\"responsive\": true}                    ).then(function(){\n",
       "                            \n",
       "var gd = document.getElementById('22ab0f3b-0a7a-405d-9e23-8ece67454e4f');\n",
       "var x = new MutationObserver(function (mutations, observer) {{\n",
       "        var display = window.getComputedStyle(gd).display;\n",
       "        if (!display || display === 'none') {{\n",
       "            console.log([gd, 'removed!']);\n",
       "            Plotly.purge(gd);\n",
       "            observer.disconnect();\n",
       "        }}\n",
       "}});\n",
       "\n",
       "// Listen for the removal of the full notebook cells\n",
       "var notebookContainer = gd.closest('#notebook-container');\n",
       "if (notebookContainer) {{\n",
       "    x.observe(notebookContainer, {childList: true});\n",
       "}}\n",
       "\n",
       "// Listen for the clearing of the current output cell\n",
       "var outputEl = gd.closest('.output');\n",
       "if (outputEl) {{\n",
       "    x.observe(outputEl, {childList: true});\n",
       "}}\n",
       "\n",
       "                        })                };                });            </script>        </div>"
      ]
     },
     "metadata": {},
     "output_type": "display_data"
    }
   ],
   "source": [
    "fig_sum = px.line(pm_acc_1722_sum, x=pm_acc_1722_sum.index, y=pm_acc_1722_sum.values, title = '2017 - 2022년도 킥보드 교통사고 발생 건수', text=pm_acc_1722_sum.values)\n",
    "fig_sum.update_traces(textposition=\"top center\", line_color = 'red')\n",
    "fig_sum.update_layout(plot_bgcolor=\"#ffffff\", \n",
    "                  xaxis_title=\"발생연도\", \n",
    "                  yaxis_title=\"사고건수\")\n",
    "fig_sum.update_yaxes(showgrid=True, gridwidth=1, gridcolor='silver', griddash='solid')\n",
    "fig_sum.update_yaxes(zeroline=True, zerolinewidth=2, zerolinecolor='black')\n",
    "fig_sum.show()"
   ]
  },
  {
   "cell_type": "code",
   "execution_count": 88,
   "id": "d57887bc",
   "metadata": {},
   "outputs": [],
   "source": [
    "fig_sum.write_html('17-22 킥보드 교통사고 발생 건수.html')\n",
    "fig.write_html('22년도 킥보드 교통사고 월별 발생 건수.html')"
   ]
  },
  {
   "cell_type": "code",
   "execution_count": 103,
   "id": "c9a73490",
   "metadata": {},
   "outputs": [
    {
     "data": {
      "text/html": [
       "<div>\n",
       "<style scoped>\n",
       "    .dataframe tbody tr th:only-of-type {\n",
       "        vertical-align: middle;\n",
       "    }\n",
       "\n",
       "    .dataframe tbody tr th {\n",
       "        vertical-align: top;\n",
       "    }\n",
       "\n",
       "    .dataframe thead th {\n",
       "        text-align: right;\n",
       "    }\n",
       "</style>\n",
       "<table border=\"1\" class=\"dataframe\">\n",
       "  <thead>\n",
       "    <tr style=\"text-align: right;\">\n",
       "      <th></th>\n",
       "      <th>접수번호</th>\n",
       "      <th>접수일</th>\n",
       "      <th>위해자연령</th>\n",
       "      <th>위해자성별</th>\n",
       "      <th>발생일자</th>\n",
       "      <th>치료기간</th>\n",
       "      <th>품목대분류</th>\n",
       "      <th>품목중분류</th>\n",
       "      <th>품목소분류</th>\n",
       "      <th>위험및위해원인 소분류</th>\n",
       "      <th>위해부위 소분류</th>\n",
       "      <th>위해증상 소분류</th>\n",
       "      <th>발생장소</th>\n",
       "    </tr>\n",
       "  </thead>\n",
       "  <tbody>\n",
       "    <tr>\n",
       "      <th>0</th>\n",
       "      <td>2023000001</td>\n",
       "      <td>2023-01-02</td>\n",
       "      <td>69.0</td>\n",
       "      <td>남자</td>\n",
       "      <td>2022-12-21</td>\n",
       "      <td>해당없음</td>\n",
       "      <td>스포츠 및 취미용품</td>\n",
       "      <td>자전거</td>\n",
       "      <td>일반자전거</td>\n",
       "      <td>추락</td>\n",
       "      <td>어깨(쇄골 포함)</td>\n",
       "      <td>탈구</td>\n",
       "      <td>상세불명의 장소</td>\n",
       "    </tr>\n",
       "    <tr>\n",
       "      <th>1</th>\n",
       "      <td>2023000002</td>\n",
       "      <td>2023-01-02</td>\n",
       "      <td>12.0</td>\n",
       "      <td>남자</td>\n",
       "      <td>2022-12-21</td>\n",
       "      <td>해당없음</td>\n",
       "      <td>스포츠 및 취미용품</td>\n",
       "      <td>자전거</td>\n",
       "      <td>어린이자전거</td>\n",
       "      <td>미끄러짐·넘어짐</td>\n",
       "      <td>발목</td>\n",
       "      <td>염좌</td>\n",
       "      <td>상세불명의 도로 및 인도</td>\n",
       "    </tr>\n",
       "    <tr>\n",
       "      <th>2</th>\n",
       "      <td>2023000005</td>\n",
       "      <td>2023-01-02</td>\n",
       "      <td>59.0</td>\n",
       "      <td>여자</td>\n",
       "      <td>2022-12-13</td>\n",
       "      <td>해당없음</td>\n",
       "      <td>스포츠 및 취미용품</td>\n",
       "      <td>자전거</td>\n",
       "      <td>일반자전거</td>\n",
       "      <td>미끄러짐·넘어짐</td>\n",
       "      <td>발목</td>\n",
       "      <td>타박상</td>\n",
       "      <td>상세불명의 도로 및 인도</td>\n",
       "    </tr>\n",
       "    <tr>\n",
       "      <th>3</th>\n",
       "      <td>2023000006</td>\n",
       "      <td>2023-01-02</td>\n",
       "      <td>11.0</td>\n",
       "      <td>남자</td>\n",
       "      <td>2022-12-12</td>\n",
       "      <td>해당없음</td>\n",
       "      <td>스포츠 및 취미용품</td>\n",
       "      <td>자전거</td>\n",
       "      <td>어린이자전거</td>\n",
       "      <td>미끄러짐·넘어짐</td>\n",
       "      <td>무릎</td>\n",
       "      <td>열상(찢어짐)</td>\n",
       "      <td>상세불명의 장소</td>\n",
       "    </tr>\n",
       "    <tr>\n",
       "      <th>4</th>\n",
       "      <td>2023000007</td>\n",
       "      <td>2023-01-02</td>\n",
       "      <td>74.0</td>\n",
       "      <td>여자</td>\n",
       "      <td>2022-12-12</td>\n",
       "      <td>해당없음</td>\n",
       "      <td>스포츠 및 취미용품</td>\n",
       "      <td>자전거</td>\n",
       "      <td>기타 자전거</td>\n",
       "      <td>미끄러짐·넘어짐</td>\n",
       "      <td>눈 및 눈주변(눈썹 및 눈꺼풀)</td>\n",
       "      <td>열상(찢어짐)</td>\n",
       "      <td>상세불명의 도로 및 인도</td>\n",
       "    </tr>\n",
       "    <tr>\n",
       "      <th>...</th>\n",
       "      <td>...</td>\n",
       "      <td>...</td>\n",
       "      <td>...</td>\n",
       "      <td>...</td>\n",
       "      <td>...</td>\n",
       "      <td>...</td>\n",
       "      <td>...</td>\n",
       "      <td>...</td>\n",
       "      <td>...</td>\n",
       "      <td>...</td>\n",
       "      <td>...</td>\n",
       "      <td>...</td>\n",
       "      <td>...</td>\n",
       "    </tr>\n",
       "    <tr>\n",
       "      <th>24121</th>\n",
       "      <td>2023025998</td>\n",
       "      <td>2023-03-31</td>\n",
       "      <td>1.0</td>\n",
       "      <td>남자</td>\n",
       "      <td>2023-03-25</td>\n",
       "      <td>해당없음</td>\n",
       "      <td>가전제품 및 정보통신기기</td>\n",
       "      <td>음향 및 영상가전</td>\n",
       "      <td>이어폰</td>\n",
       "      <td>이물질(플라스틱)</td>\n",
       "      <td>신체내부-소화계통(식도,위장,대장 등)</td>\n",
       "      <td>체내 위험 이물질</td>\n",
       "      <td>아파트</td>\n",
       "    </tr>\n",
       "    <tr>\n",
       "      <th>24122</th>\n",
       "      <td>2023025999</td>\n",
       "      <td>2023-03-31</td>\n",
       "      <td>22.0</td>\n",
       "      <td>여자</td>\n",
       "      <td>2023-03-29</td>\n",
       "      <td>해당없음</td>\n",
       "      <td>의류, 신발, 가방, 보석 및 시계</td>\n",
       "      <td>조끼</td>\n",
       "      <td>남성용 조끼</td>\n",
       "      <td>과열</td>\n",
       "      <td>해당없음</td>\n",
       "      <td>해당없음</td>\n",
       "      <td>상세불명의 장소</td>\n",
       "    </tr>\n",
       "    <tr>\n",
       "      <th>24123</th>\n",
       "      <td>2023026000</td>\n",
       "      <td>2023-03-31</td>\n",
       "      <td>39.0</td>\n",
       "      <td>남자</td>\n",
       "      <td>2021-05-01</td>\n",
       "      <td>해당없음</td>\n",
       "      <td>스포츠 및 취미용품</td>\n",
       "      <td>골프용품 및 장비</td>\n",
       "      <td>골프채</td>\n",
       "      <td>파열·파손·꺾여짐</td>\n",
       "      <td>해당없음</td>\n",
       "      <td>해당없음</td>\n",
       "      <td>상세불명의 장소</td>\n",
       "    </tr>\n",
       "    <tr>\n",
       "      <th>24124</th>\n",
       "      <td>2023026001</td>\n",
       "      <td>2023-03-31</td>\n",
       "      <td>55.0</td>\n",
       "      <td>여자</td>\n",
       "      <td>2023-03-25</td>\n",
       "      <td>해당없음</td>\n",
       "      <td>가공식품</td>\n",
       "      <td>외식-한식</td>\n",
       "      <td>기타 한식류</td>\n",
       "      <td>식품 섭취에 의한 위험 및 위해</td>\n",
       "      <td>신체내부-소화계통(식도,위장,대장 등)</td>\n",
       "      <td>소화기계통 장기손상 및 통증</td>\n",
       "      <td>카페 및 음식점</td>\n",
       "    </tr>\n",
       "    <tr>\n",
       "      <th>24125</th>\n",
       "      <td>2023026002</td>\n",
       "      <td>2023-03-31</td>\n",
       "      <td>49.0</td>\n",
       "      <td>여자</td>\n",
       "      <td>2023-02-01</td>\n",
       "      <td>해당없음</td>\n",
       "      <td>건물, 시설 및 서비스</td>\n",
       "      <td>주거시설 및 서비스</td>\n",
       "      <td>냉난방장치 설치, 보수 또는 유지 서비스</td>\n",
       "      <td>조작·사용성 불량</td>\n",
       "      <td>해당없음</td>\n",
       "      <td>해당없음</td>\n",
       "      <td>상세불명의 주택</td>\n",
       "    </tr>\n",
       "  </tbody>\n",
       "</table>\n",
       "<p>24126 rows × 13 columns</p>\n",
       "</div>"
      ],
      "text/plain": [
       "             접수번호         접수일  위해자연령 위해자성별        발생일자  치료기간  \\\n",
       "0      2023000001  2023-01-02   69.0    남자  2022-12-21  해당없음   \n",
       "1      2023000002  2023-01-02   12.0    남자  2022-12-21  해당없음   \n",
       "2      2023000005  2023-01-02   59.0    여자  2022-12-13  해당없음   \n",
       "3      2023000006  2023-01-02   11.0    남자  2022-12-12  해당없음   \n",
       "4      2023000007  2023-01-02   74.0    여자  2022-12-12  해당없음   \n",
       "...           ...         ...    ...   ...         ...   ...   \n",
       "24121  2023025998  2023-03-31    1.0    남자  2023-03-25  해당없음   \n",
       "24122  2023025999  2023-03-31   22.0    여자  2023-03-29  해당없음   \n",
       "24123  2023026000  2023-03-31   39.0    남자  2021-05-01  해당없음   \n",
       "24124  2023026001  2023-03-31   55.0    여자  2023-03-25  해당없음   \n",
       "24125  2023026002  2023-03-31   49.0    여자  2023-02-01  해당없음   \n",
       "\n",
       "                     품목대분류       품목중분류                   품목소분류  \\\n",
       "0               스포츠 및 취미용품         자전거                   일반자전거   \n",
       "1               스포츠 및 취미용품         자전거                  어린이자전거   \n",
       "2               스포츠 및 취미용품         자전거                   일반자전거   \n",
       "3               스포츠 및 취미용품         자전거                  어린이자전거   \n",
       "4               스포츠 및 취미용품         자전거                  기타 자전거   \n",
       "...                    ...         ...                     ...   \n",
       "24121        가전제품 및 정보통신기기   음향 및 영상가전                     이어폰   \n",
       "24122  의류, 신발, 가방, 보석 및 시계          조끼                  남성용 조끼   \n",
       "24123           스포츠 및 취미용품   골프용품 및 장비                     골프채   \n",
       "24124                 가공식품       외식-한식                  기타 한식류   \n",
       "24125         건물, 시설 및 서비스  주거시설 및 서비스  냉난방장치 설치, 보수 또는 유지 서비스   \n",
       "\n",
       "             위험및위해원인 소분류               위해부위 소분류         위해증상 소분류  \\\n",
       "0                     추락              어깨(쇄골 포함)               탈구   \n",
       "1               미끄러짐·넘어짐                     발목               염좌   \n",
       "2               미끄러짐·넘어짐                     발목              타박상   \n",
       "3               미끄러짐·넘어짐                     무릎          열상(찢어짐)   \n",
       "4               미끄러짐·넘어짐      눈 및 눈주변(눈썹 및 눈꺼풀)          열상(찢어짐)   \n",
       "...                  ...                    ...              ...   \n",
       "24121          이물질(플라스틱)  신체내부-소화계통(식도,위장,대장 등)        체내 위험 이물질   \n",
       "24122                 과열                   해당없음             해당없음   \n",
       "24123          파열·파손·꺾여짐                   해당없음             해당없음   \n",
       "24124  식품 섭취에 의한 위험 및 위해  신체내부-소화계통(식도,위장,대장 등)  소화기계통 장기손상 및 통증   \n",
       "24125          조작·사용성 불량                   해당없음             해당없음   \n",
       "\n",
       "                발생장소  \n",
       "0           상세불명의 장소  \n",
       "1      상세불명의 도로 및 인도  \n",
       "2      상세불명의 도로 및 인도  \n",
       "3           상세불명의 장소  \n",
       "4      상세불명의 도로 및 인도  \n",
       "...              ...  \n",
       "24121            아파트  \n",
       "24122       상세불명의 장소  \n",
       "24123       상세불명의 장소  \n",
       "24124      카페 및 음식점   \n",
       "24125       상세불명의 주택  \n",
       "\n",
       "[24126 rows x 13 columns]"
      ]
     },
     "execution_count": 103,
     "metadata": {},
     "output_type": "execute_result"
    }
   ],
   "source": [
    "data_consumer = pd.read_csv('한국소비자원 소비자 위해 정보_20230424.csv', encoding = 'cp949')\n",
    "data_consumer"
   ]
  },
  {
   "cell_type": "code",
   "execution_count": 108,
   "id": "bcc0bcc8",
   "metadata": {},
   "outputs": [
    {
     "data": {
      "text/html": [
       "<div>\n",
       "<style scoped>\n",
       "    .dataframe tbody tr th:only-of-type {\n",
       "        vertical-align: middle;\n",
       "    }\n",
       "\n",
       "    .dataframe tbody tr th {\n",
       "        vertical-align: top;\n",
       "    }\n",
       "\n",
       "    .dataframe thead th {\n",
       "        text-align: right;\n",
       "    }\n",
       "</style>\n",
       "<table border=\"1\" class=\"dataframe\">\n",
       "  <thead>\n",
       "    <tr style=\"text-align: right;\">\n",
       "      <th></th>\n",
       "      <th>접수번호</th>\n",
       "      <th>접수일</th>\n",
       "      <th>위해자연령</th>\n",
       "      <th>위해자성별</th>\n",
       "      <th>발생일자</th>\n",
       "      <th>치료기간</th>\n",
       "      <th>품목대분류</th>\n",
       "      <th>품목중분류</th>\n",
       "      <th>품목소분류</th>\n",
       "      <th>위험및위해원인 소분류</th>\n",
       "      <th>위해부위 소분류</th>\n",
       "      <th>위해증상 소분류</th>\n",
       "      <th>발생장소</th>\n",
       "    </tr>\n",
       "  </thead>\n",
       "  <tbody>\n",
       "    <tr>\n",
       "      <th>182</th>\n",
       "      <td>2023000567</td>\n",
       "      <td>2023-01-03</td>\n",
       "      <td>11.0</td>\n",
       "      <td>남자</td>\n",
       "      <td>2022-12-01</td>\n",
       "      <td>해당없음</td>\n",
       "      <td>완구 및 게임용품</td>\n",
       "      <td>놀이장비 및 액세서리</td>\n",
       "      <td>킥보드</td>\n",
       "      <td>미끄러짐·넘어짐</td>\n",
       "      <td>무릎</td>\n",
       "      <td>열상(찢어짐)</td>\n",
       "      <td>자전거도로</td>\n",
       "    </tr>\n",
       "    <tr>\n",
       "      <th>214</th>\n",
       "      <td>2023000161</td>\n",
       "      <td>2023-01-03</td>\n",
       "      <td>8.0</td>\n",
       "      <td>남자</td>\n",
       "      <td>2022-11-26</td>\n",
       "      <td>해당없음</td>\n",
       "      <td>완구 및 게임용품</td>\n",
       "      <td>놀이장비 및 액세서리</td>\n",
       "      <td>킥보드</td>\n",
       "      <td>미끄러짐·넘어짐</td>\n",
       "      <td>다리(무릎 위)</td>\n",
       "      <td>골절</td>\n",
       "      <td>상세불명의 도로 및 인도</td>\n",
       "    </tr>\n",
       "    <tr>\n",
       "      <th>292</th>\n",
       "      <td>2023000353</td>\n",
       "      <td>2023-01-03</td>\n",
       "      <td>8.0</td>\n",
       "      <td>남자</td>\n",
       "      <td>2022-12-01</td>\n",
       "      <td>해당없음</td>\n",
       "      <td>완구 및 게임용품</td>\n",
       "      <td>놀이장비 및 액세서리</td>\n",
       "      <td>킥보드</td>\n",
       "      <td>미끄러짐·넘어짐</td>\n",
       "      <td>볼</td>\n",
       "      <td>찰과상</td>\n",
       "      <td>상세불명의 도로 및 인도</td>\n",
       "    </tr>\n",
       "    <tr>\n",
       "      <th>641</th>\n",
       "      <td>2023000811</td>\n",
       "      <td>2023-01-04</td>\n",
       "      <td>3.0</td>\n",
       "      <td>여자</td>\n",
       "      <td>2022-12-02</td>\n",
       "      <td>해당없음</td>\n",
       "      <td>완구 및 게임용품</td>\n",
       "      <td>놀이장비 및 액세서리</td>\n",
       "      <td>킥보드</td>\n",
       "      <td>미끄러짐·넘어짐</td>\n",
       "      <td>입술, 혀</td>\n",
       "      <td>열상(찢어짐)</td>\n",
       "      <td>아파트</td>\n",
       "    </tr>\n",
       "    <tr>\n",
       "      <th>768</th>\n",
       "      <td>2023001016</td>\n",
       "      <td>2023-01-04</td>\n",
       "      <td>2.0</td>\n",
       "      <td>남자</td>\n",
       "      <td>2022-12-08</td>\n",
       "      <td>해당없음</td>\n",
       "      <td>완구 및 게임용품</td>\n",
       "      <td>놀이장비 및 액세서리</td>\n",
       "      <td>킥보드</td>\n",
       "      <td>미끄러짐·넘어짐</td>\n",
       "      <td>머리 및 뇌(뇌막)</td>\n",
       "      <td>뇌진탕</td>\n",
       "      <td>상세불명의 도로 및 인도</td>\n",
       "    </tr>\n",
       "    <tr>\n",
       "      <th>...</th>\n",
       "      <td>...</td>\n",
       "      <td>...</td>\n",
       "      <td>...</td>\n",
       "      <td>...</td>\n",
       "      <td>...</td>\n",
       "      <td>...</td>\n",
       "      <td>...</td>\n",
       "      <td>...</td>\n",
       "      <td>...</td>\n",
       "      <td>...</td>\n",
       "      <td>...</td>\n",
       "      <td>...</td>\n",
       "      <td>...</td>\n",
       "    </tr>\n",
       "    <tr>\n",
       "      <th>23985</th>\n",
       "      <td>2023025794</td>\n",
       "      <td>2023-03-31</td>\n",
       "      <td>8.0</td>\n",
       "      <td>남자</td>\n",
       "      <td>2023-03-18</td>\n",
       "      <td>해당없음</td>\n",
       "      <td>완구 및 게임용품</td>\n",
       "      <td>놀이장비 및 액세서리</td>\n",
       "      <td>킥보드</td>\n",
       "      <td>미끄러짐·넘어짐</td>\n",
       "      <td>팔(윗부분)</td>\n",
       "      <td>골절</td>\n",
       "      <td>상세불명의 장소</td>\n",
       "    </tr>\n",
       "    <tr>\n",
       "      <th>23993</th>\n",
       "      <td>2023025978</td>\n",
       "      <td>2023-03-31</td>\n",
       "      <td>2.0</td>\n",
       "      <td>남자</td>\n",
       "      <td>2023-02-28</td>\n",
       "      <td>해당없음</td>\n",
       "      <td>완구 및 게임용품</td>\n",
       "      <td>놀이장비 및 액세서리</td>\n",
       "      <td>킥보드</td>\n",
       "      <td>미끄러짐·넘어짐</td>\n",
       "      <td>기타 얼굴부위</td>\n",
       "      <td>타박상</td>\n",
       "      <td>상세불명의 장소</td>\n",
       "    </tr>\n",
       "    <tr>\n",
       "      <th>24046</th>\n",
       "      <td>2023025958</td>\n",
       "      <td>2023-03-31</td>\n",
       "      <td>5.0</td>\n",
       "      <td>여자</td>\n",
       "      <td>2023-02-22</td>\n",
       "      <td>해당없음</td>\n",
       "      <td>완구 및 게임용품</td>\n",
       "      <td>놀이장비 및 액세서리</td>\n",
       "      <td>킥보드</td>\n",
       "      <td>미끄러짐·넘어짐</td>\n",
       "      <td>기타 얼굴부위</td>\n",
       "      <td>열상(찢어짐)</td>\n",
       "      <td>상세불명의 장소</td>\n",
       "    </tr>\n",
       "    <tr>\n",
       "      <th>24086</th>\n",
       "      <td>2023025778</td>\n",
       "      <td>2023-03-31</td>\n",
       "      <td>9.0</td>\n",
       "      <td>여자</td>\n",
       "      <td>2023-03-25</td>\n",
       "      <td>해당없음</td>\n",
       "      <td>완구 및 게임용품</td>\n",
       "      <td>놀이장비 및 액세서리</td>\n",
       "      <td>킥보드</td>\n",
       "      <td>미끄러짐·넘어짐</td>\n",
       "      <td>팔(아래부분, 팔꿈치 및 손목 제외)</td>\n",
       "      <td>골절</td>\n",
       "      <td>상세불명의 장소</td>\n",
       "    </tr>\n",
       "    <tr>\n",
       "      <th>24100</th>\n",
       "      <td>2023025943</td>\n",
       "      <td>2023-03-31</td>\n",
       "      <td>4.0</td>\n",
       "      <td>남자</td>\n",
       "      <td>2023-02-19</td>\n",
       "      <td>해당없음</td>\n",
       "      <td>완구 및 게임용품</td>\n",
       "      <td>놀이장비 및 액세서리</td>\n",
       "      <td>킥보드</td>\n",
       "      <td>미끄러짐·넘어짐</td>\n",
       "      <td>기타 얼굴부위</td>\n",
       "      <td>타박상</td>\n",
       "      <td>상세불명의 장소</td>\n",
       "    </tr>\n",
       "  </tbody>\n",
       "</table>\n",
       "<p>159 rows × 13 columns</p>\n",
       "</div>"
      ],
      "text/plain": [
       "             접수번호         접수일  위해자연령 위해자성별        발생일자  치료기간      품목대분류  \\\n",
       "182    2023000567  2023-01-03   11.0    남자  2022-12-01  해당없음  완구 및 게임용품   \n",
       "214    2023000161  2023-01-03    8.0    남자  2022-11-26  해당없음  완구 및 게임용품   \n",
       "292    2023000353  2023-01-03    8.0    남자  2022-12-01  해당없음  완구 및 게임용품   \n",
       "641    2023000811  2023-01-04    3.0    여자  2022-12-02  해당없음  완구 및 게임용품   \n",
       "768    2023001016  2023-01-04    2.0    남자  2022-12-08  해당없음  완구 및 게임용품   \n",
       "...           ...         ...    ...   ...         ...   ...        ...   \n",
       "23985  2023025794  2023-03-31    8.0    남자  2023-03-18  해당없음  완구 및 게임용품   \n",
       "23993  2023025978  2023-03-31    2.0    남자  2023-02-28  해당없음  완구 및 게임용품   \n",
       "24046  2023025958  2023-03-31    5.0    여자  2023-02-22  해당없음  완구 및 게임용품   \n",
       "24086  2023025778  2023-03-31    9.0    여자  2023-03-25  해당없음  완구 및 게임용품   \n",
       "24100  2023025943  2023-03-31    4.0    남자  2023-02-19  해당없음  완구 및 게임용품   \n",
       "\n",
       "             품목중분류 품목소분류 위험및위해원인 소분류              위해부위 소분류 위해증상 소분류  \\\n",
       "182    놀이장비 및 액세서리   킥보드    미끄러짐·넘어짐                    무릎  열상(찢어짐)   \n",
       "214    놀이장비 및 액세서리   킥보드    미끄러짐·넘어짐              다리(무릎 위)       골절   \n",
       "292    놀이장비 및 액세서리   킥보드    미끄러짐·넘어짐                     볼      찰과상   \n",
       "641    놀이장비 및 액세서리   킥보드    미끄러짐·넘어짐                 입술, 혀  열상(찢어짐)   \n",
       "768    놀이장비 및 액세서리   킥보드    미끄러짐·넘어짐            머리 및 뇌(뇌막)      뇌진탕   \n",
       "...            ...   ...         ...                   ...      ...   \n",
       "23985  놀이장비 및 액세서리   킥보드    미끄러짐·넘어짐                팔(윗부분)       골절   \n",
       "23993  놀이장비 및 액세서리   킥보드    미끄러짐·넘어짐               기타 얼굴부위      타박상   \n",
       "24046  놀이장비 및 액세서리   킥보드    미끄러짐·넘어짐               기타 얼굴부위  열상(찢어짐)   \n",
       "24086  놀이장비 및 액세서리   킥보드    미끄러짐·넘어짐  팔(아래부분, 팔꿈치 및 손목 제외)       골절   \n",
       "24100  놀이장비 및 액세서리   킥보드    미끄러짐·넘어짐               기타 얼굴부위      타박상   \n",
       "\n",
       "                발생장소  \n",
       "182            자전거도로  \n",
       "214    상세불명의 도로 및 인도  \n",
       "292    상세불명의 도로 및 인도  \n",
       "641              아파트  \n",
       "768    상세불명의 도로 및 인도  \n",
       "...              ...  \n",
       "23985       상세불명의 장소  \n",
       "23993       상세불명의 장소  \n",
       "24046       상세불명의 장소  \n",
       "24086       상세불명의 장소  \n",
       "24100       상세불명의 장소  \n",
       "\n",
       "[159 rows x 13 columns]"
      ]
     },
     "execution_count": 108,
     "metadata": {},
     "output_type": "execute_result"
    }
   ],
   "source": [
    "data_consumer_PM = data_consumer.loc[data_consumer['품목소분류']=='킥보드', :]\n",
    "data_consumer_PM"
   ]
  },
  {
   "cell_type": "code",
   "execution_count": 111,
   "id": "cba27cb8",
   "metadata": {},
   "outputs": [
    {
     "data": {
      "text/plain": [
       "array(['미끄러짐·넘어짐', '부딪힘', '눌림·끼임', '파열·파손·꺾여짐'], dtype=object)"
      ]
     },
     "execution_count": 111,
     "metadata": {},
     "output_type": "execute_result"
    }
   ],
   "source": [
    "data_consumer_PM['위험및위해원인 소분류'].unique()"
   ]
  },
  {
   "cell_type": "code",
   "execution_count": 112,
   "id": "7078a0a6",
   "metadata": {},
   "outputs": [
    {
     "data": {
      "text/plain": [
       "array(['자전거도로', '상세불명의 도로 및 인도', '아파트', '공원', '상세불명의 장소', '광장', '인도',\n",
       "       '상세불명의 여가, 문화 및 놀이시설', '유원지', '교회 ', '일반도로'], dtype=object)"
      ]
     },
     "execution_count": 112,
     "metadata": {},
     "output_type": "execute_result"
    }
   ],
   "source": [
    "data_consumer_PM['발생장소'].unique()"
   ]
  },
  {
   "cell_type": "code",
   "execution_count": 113,
   "id": "bdba4c68",
   "metadata": {},
   "outputs": [
    {
     "data": {
      "text/plain": [
       "array([11.,  8.,  3.,  2.,  6.,  9.,  4.,  7., 35., 45.,  5.,  1., 20.,\n",
       "       12., 13., 10., 14.])"
      ]
     },
     "execution_count": 113,
     "metadata": {},
     "output_type": "execute_result"
    }
   ],
   "source": [
    "data_consumer_PM['위해자연령'].unique()"
   ]
  },
  {
   "cell_type": "code",
   "execution_count": 119,
   "id": "c72ce14b",
   "metadata": {},
   "outputs": [
    {
     "data": {
      "text/html": [
       "<div>\n",
       "<style scoped>\n",
       "    .dataframe tbody tr th:only-of-type {\n",
       "        vertical-align: middle;\n",
       "    }\n",
       "\n",
       "    .dataframe tbody tr th {\n",
       "        vertical-align: top;\n",
       "    }\n",
       "\n",
       "    .dataframe thead th {\n",
       "        text-align: right;\n",
       "    }\n",
       "</style>\n",
       "<table border=\"1\" class=\"dataframe\">\n",
       "  <thead>\n",
       "    <tr style=\"text-align: right;\">\n",
       "      <th></th>\n",
       "      <th>발생장소</th>\n",
       "      <th>발생 횟수</th>\n",
       "    </tr>\n",
       "  </thead>\n",
       "  <tbody>\n",
       "    <tr>\n",
       "      <th>0</th>\n",
       "      <td>자전거도로</td>\n",
       "      <td>5</td>\n",
       "    </tr>\n",
       "    <tr>\n",
       "      <th>1</th>\n",
       "      <td>상세불명의 도로 및 인도</td>\n",
       "      <td>58</td>\n",
       "    </tr>\n",
       "    <tr>\n",
       "      <th>2</th>\n",
       "      <td>아파트</td>\n",
       "      <td>28</td>\n",
       "    </tr>\n",
       "    <tr>\n",
       "      <th>3</th>\n",
       "      <td>공원</td>\n",
       "      <td>7</td>\n",
       "    </tr>\n",
       "    <tr>\n",
       "      <th>4</th>\n",
       "      <td>상세불명의 장소</td>\n",
       "      <td>46</td>\n",
       "    </tr>\n",
       "    <tr>\n",
       "      <th>5</th>\n",
       "      <td>광장</td>\n",
       "      <td>1</td>\n",
       "    </tr>\n",
       "    <tr>\n",
       "      <th>6</th>\n",
       "      <td>인도</td>\n",
       "      <td>10</td>\n",
       "    </tr>\n",
       "    <tr>\n",
       "      <th>7</th>\n",
       "      <td>상세불명의 여가, 문화 및 놀이시설</td>\n",
       "      <td>1</td>\n",
       "    </tr>\n",
       "    <tr>\n",
       "      <th>8</th>\n",
       "      <td>유원지</td>\n",
       "      <td>1</td>\n",
       "    </tr>\n",
       "    <tr>\n",
       "      <th>9</th>\n",
       "      <td>교회</td>\n",
       "      <td>0</td>\n",
       "    </tr>\n",
       "    <tr>\n",
       "      <th>10</th>\n",
       "      <td>일반도로</td>\n",
       "      <td>1</td>\n",
       "    </tr>\n",
       "  </tbody>\n",
       "</table>\n",
       "</div>"
      ],
      "text/plain": [
       "                   발생장소  발생 횟수\n",
       "0                 자전거도로      5\n",
       "1         상세불명의 도로 및 인도     58\n",
       "2                   아파트     28\n",
       "3                    공원      7\n",
       "4              상세불명의 장소     46\n",
       "5                    광장      1\n",
       "6                    인도     10\n",
       "7   상세불명의 여가, 문화 및 놀이시설      1\n",
       "8                   유원지      1\n",
       "9                   교회       0\n",
       "10                 일반도로      1"
      ]
     },
     "execution_count": 119,
     "metadata": {},
     "output_type": "execute_result"
    }
   ],
   "source": [
    "loc1 = 0\n",
    "loc2 = 0\n",
    "loc3 = 0\n",
    "loc4 = 0\n",
    "loc5 = 0\n",
    "loc6 = 0\n",
    "loc7 = 0\n",
    "loc8 = 0\n",
    "loc9 = 0\n",
    "loc10 = 0\n",
    "loc11 = 0\n",
    "\n",
    "for location in data_consumer_PM['발생장소']:\n",
    "    if location=='자전거도로':\n",
    "        loc1 = loc1+1\n",
    "    elif location == '상세불명의 도로 및 인도':\n",
    "        loc2 = loc2+1\n",
    "    elif location == '아파트':\n",
    "        loc3 = loc3+1\n",
    "    elif location == '공원':\n",
    "        loc4 = loc4+1\n",
    "    elif location == '상세불명의 장소':\n",
    "        loc5 = loc5+1\n",
    "    elif location == '광장':\n",
    "        loc6 = loc6+1\n",
    "    elif location == '인도':\n",
    "        loc7 = loc7+1\n",
    "    elif location == '상세불명의 여가, 문화 및 놀이시설':\n",
    "        loc8 = loc8+1\n",
    "    elif location == '유원지':\n",
    "        loc9 = loc9+1\n",
    "    elif location == '교회':\n",
    "        loc10 = loc10+1\n",
    "    elif location == '일반도로':\n",
    "        loc11 = loc11+1\n",
    "\n",
    "acc_location = {\n",
    "    '발생장소': data_consumer_PM['발생장소'].unique(),\n",
    "    '발생 횟수' : [loc1, loc2, loc3, loc4, loc5, loc6, loc7, loc8, loc9, loc10, loc11]\n",
    "}\n",
    "\n",
    "df_acc_location = pd.DataFrame(acc_location)\n",
    "df_acc_location"
   ]
  },
  {
   "cell_type": "code",
   "execution_count": null,
   "id": "37306eb7",
   "metadata": {},
   "outputs": [],
   "source": []
  }
 ],
 "metadata": {
  "kernelspec": {
   "display_name": "data",
   "language": "python",
   "name": "data"
  },
  "language_info": {
   "codemirror_mode": {
    "name": "ipython",
    "version": 3
   },
   "file_extension": ".py",
   "mimetype": "text/x-python",
   "name": "python",
   "nbconvert_exporter": "python",
   "pygments_lexer": "ipython3",
   "version": "3.8.17"
  }
 },
 "nbformat": 4,
 "nbformat_minor": 5
}
